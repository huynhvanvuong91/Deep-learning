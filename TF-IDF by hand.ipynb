{
 "cells": [
  {
   "cell_type": "code",
   "execution_count": 1,
   "metadata": {
    "collapsed": true
   },
   "outputs": [],
   "source": [
    "docA = \"The best Monty Python sketch is the one about the dead parrot, I laughed so hard\"\n",
    "docB = \"I laugh when I think about Python's Ministry of Silly Walks sketch, it is funny, funny, funny, the best\"\n",
    "docC = \"Chocolate is the best ice cream dessert topping, with a great taste\""
   ]
  },
  {
   "cell_type": "code",
   "execution_count": 2,
   "metadata": {
    "collapsed": true
   },
   "outputs": [],
   "source": [
    "bowA = docA.split(\" \")\n",
    "bowB = docB.split(\" \")\n",
    "bowC = docC.split(\" \")"
   ]
  },
  {
   "cell_type": "code",
   "execution_count": 33,
   "metadata": {
    "collapsed": false
   },
   "outputs": [
    {
     "data": {
      "text/plain": [
       "['The',\n",
       " 'best',\n",
       " 'Monty',\n",
       " 'Python',\n",
       " 'sketch',\n",
       " 'is',\n",
       " 'the',\n",
       " 'one',\n",
       " 'about',\n",
       " 'the',\n",
       " 'dead',\n",
       " 'parrot,',\n",
       " 'I',\n",
       " 'laughed',\n",
       " 'so',\n",
       " 'hard']"
      ]
     },
     "execution_count": 33,
     "metadata": {},
     "output_type": "execute_result"
    }
   ],
   "source": [
    "bowA"
   ]
  },
  {
   "cell_type": "code",
   "execution_count": 3,
   "metadata": {
    "collapsed": true
   },
   "outputs": [],
   "source": [
    "word_dict = set(bowA).union(set(bowB)).union(set(bowC))"
   ]
  },
  {
   "cell_type": "code",
   "execution_count": 4,
   "metadata": {
    "collapsed": false
   },
   "outputs": [
    {
     "data": {
      "text/plain": [
       "{'Chocolate',\n",
       " 'I',\n",
       " 'Ministry',\n",
       " 'Monty',\n",
       " 'Python',\n",
       " \"Python's\",\n",
       " 'Silly',\n",
       " 'The',\n",
       " 'Walks',\n",
       " 'a',\n",
       " 'about',\n",
       " 'best',\n",
       " 'cream',\n",
       " 'dead',\n",
       " 'dessert',\n",
       " 'funny,',\n",
       " 'great',\n",
       " 'hard',\n",
       " 'ice',\n",
       " 'is',\n",
       " 'it',\n",
       " 'laugh',\n",
       " 'laughed',\n",
       " 'of',\n",
       " 'one',\n",
       " 'parrot,',\n",
       " 'sketch',\n",
       " 'sketch,',\n",
       " 'so',\n",
       " 'taste',\n",
       " 'the',\n",
       " 'think',\n",
       " 'topping,',\n",
       " 'when',\n",
       " 'with'}"
      ]
     },
     "execution_count": 4,
     "metadata": {},
     "output_type": "execute_result"
    }
   ],
   "source": [
    "word_dict"
   ]
  },
  {
   "cell_type": "code",
   "execution_count": 5,
   "metadata": {
    "collapsed": true
   },
   "outputs": [],
   "source": [
    "wordDictA = dict.fromkeys(word_dict, 0)\n",
    "wordDictB = dict.fromkeys(word_dict, 0)\n",
    "wordDictC = dict.fromkeys(word_dict, 0)"
   ]
  },
  {
   "cell_type": "code",
   "execution_count": 6,
   "metadata": {
    "collapsed": true
   },
   "outputs": [],
   "source": [
    "#Đếm số lượng từ\n",
    "for word in bowA:\n",
    "    wordDictA[word]+=1\n",
    "for word in bowB:\n",
    "    wordDictB[word]+=1\n",
    "for word in bowC:\n",
    "    wordDictC[word]+=1"
   ]
  },
  {
   "cell_type": "code",
   "execution_count": 7,
   "metadata": {
    "collapsed": false
   },
   "outputs": [
    {
     "data": {
      "text/plain": [
       "{'Chocolate': 0,\n",
       " 'I': 1,\n",
       " 'Ministry': 0,\n",
       " 'Monty': 1,\n",
       " 'Python': 1,\n",
       " \"Python's\": 0,\n",
       " 'Silly': 0,\n",
       " 'The': 1,\n",
       " 'Walks': 0,\n",
       " 'a': 0,\n",
       " 'about': 1,\n",
       " 'best': 1,\n",
       " 'cream': 0,\n",
       " 'dead': 1,\n",
       " 'dessert': 0,\n",
       " 'funny,': 0,\n",
       " 'great': 0,\n",
       " 'hard': 1,\n",
       " 'ice': 0,\n",
       " 'is': 1,\n",
       " 'it': 0,\n",
       " 'laugh': 0,\n",
       " 'laughed': 1,\n",
       " 'of': 0,\n",
       " 'one': 1,\n",
       " 'parrot,': 1,\n",
       " 'sketch': 1,\n",
       " 'sketch,': 0,\n",
       " 'so': 1,\n",
       " 'taste': 0,\n",
       " 'the': 2,\n",
       " 'think': 0,\n",
       " 'topping,': 0,\n",
       " 'when': 0,\n",
       " 'with': 0}"
      ]
     },
     "execution_count": 7,
     "metadata": {},
     "output_type": "execute_result"
    }
   ],
   "source": [
    "wordDictA"
   ]
  },
  {
   "cell_type": "code",
   "execution_count": 14,
   "metadata": {
    "collapsed": false
   },
   "outputs": [
    {
     "data": {
      "text/plain": [
       "{'Chocolate': 1,\n",
       " 'I': 0,\n",
       " 'Ministry': 0,\n",
       " 'Monty': 0,\n",
       " 'Python': 0,\n",
       " \"Python's\": 0,\n",
       " 'Silly': 0,\n",
       " 'The': 0,\n",
       " 'Walks': 0,\n",
       " 'a': 1,\n",
       " 'about': 0,\n",
       " 'best': 1,\n",
       " 'cream': 1,\n",
       " 'dead': 0,\n",
       " 'dessert': 1,\n",
       " 'funny,': 0,\n",
       " 'great': 1,\n",
       " 'hard': 0,\n",
       " 'ice': 1,\n",
       " 'is': 1,\n",
       " 'it': 0,\n",
       " 'laugh': 0,\n",
       " 'laughed': 0,\n",
       " 'of': 0,\n",
       " 'one': 0,\n",
       " 'parrot,': 0,\n",
       " 'sketch': 0,\n",
       " 'sketch,': 0,\n",
       " 'so': 0,\n",
       " 'taste': 1,\n",
       " 'the': 1,\n",
       " 'think': 0,\n",
       " 'topping,': 1,\n",
       " 'when': 0,\n",
       " 'with': 1}"
      ]
     },
     "execution_count": 14,
     "metadata": {},
     "output_type": "execute_result"
    }
   ],
   "source": [
    "wordDictC"
   ]
  },
  {
   "cell_type": "code",
   "execution_count": 15,
   "metadata": {
    "collapsed": true
   },
   "outputs": [],
   "source": [
    "#calculate TF\n",
    "def compute_TF(word_dict, bow):\n",
    "    tf_dict = {}\n",
    "    bow_count = len(bow)\n",
    "    for word, count in word_dict.items():\n",
    "        tf_dict[word] = count/float(bow_count)\n",
    "    \n",
    "    return tf_dict   "
   ]
  },
  {
   "cell_type": "code",
   "execution_count": 16,
   "metadata": {
    "collapsed": true
   },
   "outputs": [],
   "source": [
    "tf_bowA = compute_TF(wordDictA, bowA)\n",
    "tf_bowB = compute_TF(wordDictB, bowB)\n",
    "tf_bowc = compute_TF(wordDictC, bowC)"
   ]
  },
  {
   "cell_type": "code",
   "execution_count": 17,
   "metadata": {
    "collapsed": false
   },
   "outputs": [
    {
     "data": {
      "text/plain": [
       "{'Chocolate': 0.0,\n",
       " 'I': 0.0625,\n",
       " 'Ministry': 0.0,\n",
       " 'Monty': 0.0625,\n",
       " 'Python': 0.0625,\n",
       " \"Python's\": 0.0,\n",
       " 'Silly': 0.0,\n",
       " 'The': 0.0625,\n",
       " 'Walks': 0.0,\n",
       " 'a': 0.0,\n",
       " 'about': 0.0625,\n",
       " 'best': 0.0625,\n",
       " 'cream': 0.0,\n",
       " 'dead': 0.0625,\n",
       " 'dessert': 0.0,\n",
       " 'funny,': 0.0,\n",
       " 'great': 0.0,\n",
       " 'hard': 0.0625,\n",
       " 'ice': 0.0,\n",
       " 'is': 0.0625,\n",
       " 'it': 0.0,\n",
       " 'laugh': 0.0,\n",
       " 'laughed': 0.0625,\n",
       " 'of': 0.0,\n",
       " 'one': 0.0625,\n",
       " 'parrot,': 0.0625,\n",
       " 'sketch': 0.0625,\n",
       " 'sketch,': 0.0,\n",
       " 'so': 0.0625,\n",
       " 'taste': 0.0,\n",
       " 'the': 0.125,\n",
       " 'think': 0.0,\n",
       " 'topping,': 0.0,\n",
       " 'when': 0.0,\n",
       " 'with': 0.0}"
      ]
     },
     "execution_count": 17,
     "metadata": {},
     "output_type": "execute_result"
    }
   ],
   "source": [
    "tf_bowA"
   ]
  },
  {
   "cell_type": "code",
   "execution_count": 18,
   "metadata": {
    "collapsed": false
   },
   "outputs": [
    {
     "data": {
      "text/plain": [
       "{'Chocolate': 0.0,\n",
       " 'I': 0.10526315789473684,\n",
       " 'Ministry': 0.05263157894736842,\n",
       " 'Monty': 0.0,\n",
       " 'Python': 0.0,\n",
       " \"Python's\": 0.05263157894736842,\n",
       " 'Silly': 0.05263157894736842,\n",
       " 'The': 0.0,\n",
       " 'Walks': 0.05263157894736842,\n",
       " 'a': 0.0,\n",
       " 'about': 0.05263157894736842,\n",
       " 'best': 0.05263157894736842,\n",
       " 'cream': 0.0,\n",
       " 'dead': 0.0,\n",
       " 'dessert': 0.0,\n",
       " 'funny,': 0.15789473684210525,\n",
       " 'great': 0.0,\n",
       " 'hard': 0.0,\n",
       " 'ice': 0.0,\n",
       " 'is': 0.05263157894736842,\n",
       " 'it': 0.05263157894736842,\n",
       " 'laugh': 0.05263157894736842,\n",
       " 'laughed': 0.0,\n",
       " 'of': 0.05263157894736842,\n",
       " 'one': 0.0,\n",
       " 'parrot,': 0.0,\n",
       " 'sketch': 0.0,\n",
       " 'sketch,': 0.05263157894736842,\n",
       " 'so': 0.0,\n",
       " 'taste': 0.0,\n",
       " 'the': 0.05263157894736842,\n",
       " 'think': 0.05263157894736842,\n",
       " 'topping,': 0.0,\n",
       " 'when': 0.05263157894736842,\n",
       " 'with': 0.0}"
      ]
     },
     "execution_count": 18,
     "metadata": {},
     "output_type": "execute_result"
    }
   ],
   "source": [
    "tf_bowB"
   ]
  },
  {
   "cell_type": "code",
   "execution_count": 20,
   "metadata": {
    "collapsed": false
   },
   "outputs": [
    {
     "data": {
      "text/plain": [
       "{'Chocolate': 0.08333333333333333,\n",
       " 'I': 0.0,\n",
       " 'Ministry': 0.0,\n",
       " 'Monty': 0.0,\n",
       " 'Python': 0.0,\n",
       " \"Python's\": 0.0,\n",
       " 'Silly': 0.0,\n",
       " 'The': 0.0,\n",
       " 'Walks': 0.0,\n",
       " 'a': 0.08333333333333333,\n",
       " 'about': 0.0,\n",
       " 'best': 0.08333333333333333,\n",
       " 'cream': 0.08333333333333333,\n",
       " 'dead': 0.0,\n",
       " 'dessert': 0.08333333333333333,\n",
       " 'funny,': 0.0,\n",
       " 'great': 0.08333333333333333,\n",
       " 'hard': 0.0,\n",
       " 'ice': 0.08333333333333333,\n",
       " 'is': 0.08333333333333333,\n",
       " 'it': 0.0,\n",
       " 'laugh': 0.0,\n",
       " 'laughed': 0.0,\n",
       " 'of': 0.0,\n",
       " 'one': 0.0,\n",
       " 'parrot,': 0.0,\n",
       " 'sketch': 0.0,\n",
       " 'sketch,': 0.0,\n",
       " 'so': 0.0,\n",
       " 'taste': 0.08333333333333333,\n",
       " 'the': 0.08333333333333333,\n",
       " 'think': 0.0,\n",
       " 'topping,': 0.08333333333333333,\n",
       " 'when': 0.0,\n",
       " 'with': 0.08333333333333333}"
      ]
     },
     "execution_count": 20,
     "metadata": {},
     "output_type": "execute_result"
    }
   ],
   "source": [
    "tf_bowc"
   ]
  },
  {
   "cell_type": "code",
   "execution_count": 21,
   "metadata": {
    "collapsed": true
   },
   "outputs": [],
   "source": [
    "def compute_IDF(doc_list):\n",
    "    import math\n",
    "    idf_dict = {}\n",
    "    N = len(doc_list)\n",
    "    \n",
    "    #count number of documents that contain this word\n",
    "    idf_dict = dict.fromkeys(doc_list[0].keys(), 0)\n",
    "    for doc in doc_list:\n",
    "        for word, count in doc.items():\n",
    "            if count > 0:\n",
    "                idf_dict[word] += 1\n",
    "                \n",
    "    for word, count in idf_dict.items():\n",
    "        idf_dict[word] = math.log(N/float(count))\n",
    "        \n",
    "    return idf_dict"
   ]
  },
  {
   "cell_type": "code",
   "execution_count": 22,
   "metadata": {
    "collapsed": false
   },
   "outputs": [
    {
     "data": {
      "text/plain": [
       "{'Chocolate': 1.0986122886681098,\n",
       " 'I': 0.4054651081081644,\n",
       " 'Ministry': 1.0986122886681098,\n",
       " 'Monty': 1.0986122886681098,\n",
       " 'Python': 1.0986122886681098,\n",
       " \"Python's\": 1.0986122886681098,\n",
       " 'Silly': 1.0986122886681098,\n",
       " 'The': 1.0986122886681098,\n",
       " 'Walks': 1.0986122886681098,\n",
       " 'a': 1.0986122886681098,\n",
       " 'about': 0.4054651081081644,\n",
       " 'best': 0.0,\n",
       " 'cream': 1.0986122886681098,\n",
       " 'dead': 1.0986122886681098,\n",
       " 'dessert': 1.0986122886681098,\n",
       " 'funny,': 1.0986122886681098,\n",
       " 'great': 1.0986122886681098,\n",
       " 'hard': 1.0986122886681098,\n",
       " 'ice': 1.0986122886681098,\n",
       " 'is': 0.0,\n",
       " 'it': 1.0986122886681098,\n",
       " 'laugh': 1.0986122886681098,\n",
       " 'laughed': 1.0986122886681098,\n",
       " 'of': 1.0986122886681098,\n",
       " 'one': 1.0986122886681098,\n",
       " 'parrot,': 1.0986122886681098,\n",
       " 'sketch': 1.0986122886681098,\n",
       " 'sketch,': 1.0986122886681098,\n",
       " 'so': 1.0986122886681098,\n",
       " 'taste': 1.0986122886681098,\n",
       " 'the': 0.0,\n",
       " 'think': 1.0986122886681098,\n",
       " 'topping,': 1.0986122886681098,\n",
       " 'when': 1.0986122886681098,\n",
       " 'with': 1.0986122886681098}"
      ]
     },
     "execution_count": 22,
     "metadata": {},
     "output_type": "execute_result"
    }
   ],
   "source": [
    "idfs = compute_IDF([wordDictA, wordDictB,wordDictC])\n",
    "idfs"
   ]
  },
  {
   "cell_type": "code",
   "execution_count": 23,
   "metadata": {
    "collapsed": true
   },
   "outputs": [],
   "source": [
    "def compute_TFIDF(tf_bow, idfs):\n",
    "    tfidf = {}\n",
    "    for word, val in tf_bow.items():\n",
    "        tfidf[word] = val*idfs[word]\n",
    "    return tfidf"
   ]
  },
  {
   "cell_type": "code",
   "execution_count": 24,
   "metadata": {
    "collapsed": true
   },
   "outputs": [],
   "source": [
    "tfidf_bowA = compute_TFIDF(tf_bowA, idfs)"
   ]
  },
  {
   "cell_type": "code",
   "execution_count": 25,
   "metadata": {
    "collapsed": false
   },
   "outputs": [
    {
     "data": {
      "text/plain": [
       "{'Chocolate': 0.0,\n",
       " 'I': 0.025341569256760274,\n",
       " 'Ministry': 0.0,\n",
       " 'Monty': 0.06866326804175686,\n",
       " 'Python': 0.06866326804175686,\n",
       " \"Python's\": 0.0,\n",
       " 'Silly': 0.0,\n",
       " 'The': 0.06866326804175686,\n",
       " 'Walks': 0.0,\n",
       " 'a': 0.0,\n",
       " 'about': 0.025341569256760274,\n",
       " 'best': 0.0,\n",
       " 'cream': 0.0,\n",
       " 'dead': 0.06866326804175686,\n",
       " 'dessert': 0.0,\n",
       " 'funny,': 0.0,\n",
       " 'great': 0.0,\n",
       " 'hard': 0.06866326804175686,\n",
       " 'ice': 0.0,\n",
       " 'is': 0.0,\n",
       " 'it': 0.0,\n",
       " 'laugh': 0.0,\n",
       " 'laughed': 0.06866326804175686,\n",
       " 'of': 0.0,\n",
       " 'one': 0.06866326804175686,\n",
       " 'parrot,': 0.06866326804175686,\n",
       " 'sketch': 0.06866326804175686,\n",
       " 'sketch,': 0.0,\n",
       " 'so': 0.06866326804175686,\n",
       " 'taste': 0.0,\n",
       " 'the': 0.0,\n",
       " 'think': 0.0,\n",
       " 'topping,': 0.0,\n",
       " 'when': 0.0,\n",
       " 'with': 0.0}"
      ]
     },
     "execution_count": 25,
     "metadata": {},
     "output_type": "execute_result"
    }
   ],
   "source": [
    "tfidf_bowA"
   ]
  },
  {
   "cell_type": "code",
   "execution_count": 26,
   "metadata": {
    "collapsed": true
   },
   "outputs": [],
   "source": [
    "tfidf_bowB = compute_TFIDF(tf_bowB, idfs)"
   ]
  },
  {
   "cell_type": "code",
   "execution_count": 27,
   "metadata": {
    "collapsed": false
   },
   "outputs": [
    {
     "data": {
      "text/plain": [
       "{'Chocolate': 0.0,\n",
       " 'I': 0.04268053769559625,\n",
       " 'Ministry': 0.057821699403584725,\n",
       " 'Monty': 0.0,\n",
       " 'Python': 0.0,\n",
       " \"Python's\": 0.057821699403584725,\n",
       " 'Silly': 0.057821699403584725,\n",
       " 'The': 0.0,\n",
       " 'Walks': 0.057821699403584725,\n",
       " 'a': 0.0,\n",
       " 'about': 0.021340268847798126,\n",
       " 'best': 0.0,\n",
       " 'cream': 0.0,\n",
       " 'dead': 0.0,\n",
       " 'dessert': 0.0,\n",
       " 'funny,': 0.17346509821075418,\n",
       " 'great': 0.0,\n",
       " 'hard': 0.0,\n",
       " 'ice': 0.0,\n",
       " 'is': 0.0,\n",
       " 'it': 0.057821699403584725,\n",
       " 'laugh': 0.057821699403584725,\n",
       " 'laughed': 0.0,\n",
       " 'of': 0.057821699403584725,\n",
       " 'one': 0.0,\n",
       " 'parrot,': 0.0,\n",
       " 'sketch': 0.0,\n",
       " 'sketch,': 0.057821699403584725,\n",
       " 'so': 0.0,\n",
       " 'taste': 0.0,\n",
       " 'the': 0.0,\n",
       " 'think': 0.057821699403584725,\n",
       " 'topping,': 0.0,\n",
       " 'when': 0.057821699403584725,\n",
       " 'with': 0.0}"
      ]
     },
     "execution_count": 27,
     "metadata": {},
     "output_type": "execute_result"
    }
   ],
   "source": [
    "tfidf_bowB"
   ]
  },
  {
   "cell_type": "code",
   "execution_count": 28,
   "metadata": {
    "collapsed": true
   },
   "outputs": [],
   "source": [
    "tfidf_bowC = compute_TFIDF(tf_bowc, idfs)"
   ]
  },
  {
   "cell_type": "code",
   "execution_count": 29,
   "metadata": {
    "collapsed": false
   },
   "outputs": [
    {
     "data": {
      "text/plain": [
       "{'Chocolate': 0.0915510240556758,\n",
       " 'I': 0.0,\n",
       " 'Ministry': 0.0,\n",
       " 'Monty': 0.0,\n",
       " 'Python': 0.0,\n",
       " \"Python's\": 0.0,\n",
       " 'Silly': 0.0,\n",
       " 'The': 0.0,\n",
       " 'Walks': 0.0,\n",
       " 'a': 0.0915510240556758,\n",
       " 'about': 0.0,\n",
       " 'best': 0.0,\n",
       " 'cream': 0.0915510240556758,\n",
       " 'dead': 0.0,\n",
       " 'dessert': 0.0915510240556758,\n",
       " 'funny,': 0.0,\n",
       " 'great': 0.0915510240556758,\n",
       " 'hard': 0.0,\n",
       " 'ice': 0.0915510240556758,\n",
       " 'is': 0.0,\n",
       " 'it': 0.0,\n",
       " 'laugh': 0.0,\n",
       " 'laughed': 0.0,\n",
       " 'of': 0.0,\n",
       " 'one': 0.0,\n",
       " 'parrot,': 0.0,\n",
       " 'sketch': 0.0,\n",
       " 'sketch,': 0.0,\n",
       " 'so': 0.0,\n",
       " 'taste': 0.0915510240556758,\n",
       " 'the': 0.0,\n",
       " 'think': 0.0,\n",
       " 'topping,': 0.0915510240556758,\n",
       " 'when': 0.0,\n",
       " 'with': 0.0915510240556758}"
      ]
     },
     "execution_count": 29,
     "metadata": {},
     "output_type": "execute_result"
    }
   ],
   "source": [
    "tfidf_bowC"
   ]
  },
  {
   "cell_type": "code",
   "execution_count": 31,
   "metadata": {
    "collapsed": true
   },
   "outputs": [],
   "source": [
    "import pandas as pd"
   ]
  },
  {
   "cell_type": "code",
   "execution_count": 32,
   "metadata": {
    "collapsed": false
   },
   "outputs": [
    {
     "data": {
      "text/html": [
       "<div>\n",
       "<table border=\"1\" class=\"dataframe\">\n",
       "  <thead>\n",
       "    <tr style=\"text-align: right;\">\n",
       "      <th></th>\n",
       "      <th>Chocolate</th>\n",
       "      <th>I</th>\n",
       "      <th>Ministry</th>\n",
       "      <th>Monty</th>\n",
       "      <th>Python</th>\n",
       "      <th>Python's</th>\n",
       "      <th>Silly</th>\n",
       "      <th>The</th>\n",
       "      <th>Walks</th>\n",
       "      <th>a</th>\n",
       "      <th>...</th>\n",
       "      <th>parrot,</th>\n",
       "      <th>sketch</th>\n",
       "      <th>sketch,</th>\n",
       "      <th>so</th>\n",
       "      <th>taste</th>\n",
       "      <th>the</th>\n",
       "      <th>think</th>\n",
       "      <th>topping,</th>\n",
       "      <th>when</th>\n",
       "      <th>with</th>\n",
       "    </tr>\n",
       "  </thead>\n",
       "  <tbody>\n",
       "    <tr>\n",
       "      <th>0</th>\n",
       "      <td>0.000000</td>\n",
       "      <td>0.025342</td>\n",
       "      <td>0.000000</td>\n",
       "      <td>0.068663</td>\n",
       "      <td>0.068663</td>\n",
       "      <td>0.000000</td>\n",
       "      <td>0.000000</td>\n",
       "      <td>0.068663</td>\n",
       "      <td>0.000000</td>\n",
       "      <td>0.000000</td>\n",
       "      <td>...</td>\n",
       "      <td>0.068663</td>\n",
       "      <td>0.068663</td>\n",
       "      <td>0.000000</td>\n",
       "      <td>0.068663</td>\n",
       "      <td>0.000000</td>\n",
       "      <td>0.0</td>\n",
       "      <td>0.000000</td>\n",
       "      <td>0.000000</td>\n",
       "      <td>0.000000</td>\n",
       "      <td>0.000000</td>\n",
       "    </tr>\n",
       "    <tr>\n",
       "      <th>1</th>\n",
       "      <td>0.000000</td>\n",
       "      <td>0.042681</td>\n",
       "      <td>0.057822</td>\n",
       "      <td>0.000000</td>\n",
       "      <td>0.000000</td>\n",
       "      <td>0.057822</td>\n",
       "      <td>0.057822</td>\n",
       "      <td>0.000000</td>\n",
       "      <td>0.057822</td>\n",
       "      <td>0.000000</td>\n",
       "      <td>...</td>\n",
       "      <td>0.000000</td>\n",
       "      <td>0.000000</td>\n",
       "      <td>0.057822</td>\n",
       "      <td>0.000000</td>\n",
       "      <td>0.000000</td>\n",
       "      <td>0.0</td>\n",
       "      <td>0.057822</td>\n",
       "      <td>0.000000</td>\n",
       "      <td>0.057822</td>\n",
       "      <td>0.000000</td>\n",
       "    </tr>\n",
       "    <tr>\n",
       "      <th>2</th>\n",
       "      <td>0.091551</td>\n",
       "      <td>0.000000</td>\n",
       "      <td>0.000000</td>\n",
       "      <td>0.000000</td>\n",
       "      <td>0.000000</td>\n",
       "      <td>0.000000</td>\n",
       "      <td>0.000000</td>\n",
       "      <td>0.000000</td>\n",
       "      <td>0.000000</td>\n",
       "      <td>0.091551</td>\n",
       "      <td>...</td>\n",
       "      <td>0.000000</td>\n",
       "      <td>0.000000</td>\n",
       "      <td>0.000000</td>\n",
       "      <td>0.000000</td>\n",
       "      <td>0.091551</td>\n",
       "      <td>0.0</td>\n",
       "      <td>0.000000</td>\n",
       "      <td>0.091551</td>\n",
       "      <td>0.000000</td>\n",
       "      <td>0.091551</td>\n",
       "    </tr>\n",
       "  </tbody>\n",
       "</table>\n",
       "<p>3 rows × 35 columns</p>\n",
       "</div>"
      ],
      "text/plain": [
       "   Chocolate         I  Ministry     Monty    Python  Python's     Silly  \\\n",
       "0   0.000000  0.025342  0.000000  0.068663  0.068663  0.000000  0.000000   \n",
       "1   0.000000  0.042681  0.057822  0.000000  0.000000  0.057822  0.057822   \n",
       "2   0.091551  0.000000  0.000000  0.000000  0.000000  0.000000  0.000000   \n",
       "\n",
       "        The     Walks         a    ...      parrot,    sketch   sketch,  \\\n",
       "0  0.068663  0.000000  0.000000    ...     0.068663  0.068663  0.000000   \n",
       "1  0.000000  0.057822  0.000000    ...     0.000000  0.000000  0.057822   \n",
       "2  0.000000  0.000000  0.091551    ...     0.000000  0.000000  0.000000   \n",
       "\n",
       "         so     taste  the     think  topping,      when      with  \n",
       "0  0.068663  0.000000  0.0  0.000000  0.000000  0.000000  0.000000  \n",
       "1  0.000000  0.000000  0.0  0.057822  0.000000  0.057822  0.000000  \n",
       "2  0.000000  0.091551  0.0  0.000000  0.091551  0.000000  0.091551  \n",
       "\n",
       "[3 rows x 35 columns]"
      ]
     },
     "execution_count": 32,
     "metadata": {},
     "output_type": "execute_result"
    }
   ],
   "source": [
    "df = pd.DataFrame([tfidf_bowA, tfidf_bowB, tfidf_bowC])\n",
    "df"
   ]
  },
  {
   "cell_type": "code",
   "execution_count": null,
   "metadata": {
    "collapsed": true
   },
   "outputs": [],
   "source": []
  }
 ],
 "metadata": {
  "kernelspec": {
   "display_name": "Python [Root]",
   "language": "python",
   "name": "Python [Root]"
  },
  "language_info": {
   "codemirror_mode": {
    "name": "ipython",
    "version": 3
   },
   "file_extension": ".py",
   "mimetype": "text/x-python",
   "name": "python",
   "nbconvert_exporter": "python",
   "pygments_lexer": "ipython3",
   "version": "3.5.2"
  }
 },
 "nbformat": 4,
 "nbformat_minor": 0
}
