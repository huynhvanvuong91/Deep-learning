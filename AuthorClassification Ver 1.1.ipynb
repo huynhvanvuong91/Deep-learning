{
 "cells": [
  {
   "cell_type": "markdown",
   "metadata": {},
   "source": [
    "# I. Lấy thông tin Books"
   ]
  },
  {
   "cell_type": "markdown",
   "metadata": {},
   "source": [
    "## 1. Khai báo thư viện "
   ]
  },
  {
   "cell_type": "code",
   "execution_count": 1,
   "metadata": {},
   "outputs": [],
   "source": [
    "import os\n",
    "import pandas as pd\n",
    "import numpy as np\n",
    "import matplotlib.pyplot as plt\n",
    "import glob\n",
    "import math\n",
    "# Nhúng hình ảnh, đồ thị trong notebook\n",
    "%matplotlib inline"
   ]
  },
  {
   "cell_type": "code",
   "execution_count": 2,
   "metadata": {},
   "outputs": [],
   "source": [
    "import pickle\n",
    "from pathlib import Path\n",
    "import numpy as np"
   ]
  },
  {
   "cell_type": "markdown",
   "metadata": {},
   "source": [
    "## 2. Lấy tên tác giả và nội dung của quyển sách"
   ]
  },
  {
   "cell_type": "code",
   "execution_count": 3,
   "metadata": {},
   "outputs": [],
   "source": [
    "def GetAuthor(searchfile):\n",
    "    tg1=\"\"\n",
    "    NumLine = 0\n",
    "    for line in searchfile:\n",
    "        NumLine = NumLine+1\n",
    "        if NumLine<100:\n",
    "            if \"author:\" in line.lower(): \n",
    "                tg = line.split(' ')\n",
    "                tg1=\"\"\n",
    "                for i in range(1,len(tg)):\n",
    "                    if i<len(tg)-1:\n",
    "                        tg1 +=tg[i]+\" \"\n",
    "                    else:\n",
    "                        tg1 +=tg[i]\n",
    "                return tg1.strip()       \n",
    "            else:\n",
    "                if \"edited by\" in line.lower():\n",
    "                    tg = line.split(' ')\n",
    "                    bien=0;\n",
    "                    for n in range(len(tg)-1):\n",
    "                        if tg[n].lower()==\"edited\"and tg[n+1].lower()==\"by\":\n",
    "                            bien=n+1\n",
    "                    tg1=\"\"\n",
    "                    if tg[bien].lower() == \"by\" and len(tg)<8:\n",
    "                        for i in range(bien+1,len(tg)):\n",
    "                            if i<len(tg)-1:\n",
    "                                tg1 +=tg[i]+\" \"\n",
    "                            else:\n",
    "                                tg1 +=tg[i]\n",
    "                        return tg1.strip()\n",
    "                else:\n",
    "                    if \"by\" in line.lower():\n",
    "                        tg = line.split(' ')\n",
    "                   \n",
    "                        tg1=\"\"\n",
    "                        if tg[0].lower() == \"by\" and len(tg)<8:\n",
    "                            for i in range(1,len(tg)):\n",
    "                                if i<len(tg)-1:\n",
    "                                    tg1 +=tg[i]+\" \"\n",
    "                                else:\n",
    "                                    tg1 +=tg[i]\n",
    "                            return tg1.strip()"
   ]
  },
  {
   "cell_type": "code",
   "execution_count": 4,
   "metadata": {},
   "outputs": [],
   "source": [
    "def load_FileTxt(folder):\n",
    "    sequence_folder = glob.glob(os.path.join(folder, '*/*.txt'))\n",
    "    Text = []\n",
    "    TenFile = []\n",
    "    NumFile = 0\n",
    "    DiaChi = []\n",
    "    TacGia = []\n",
    "    #FileError =[]\n",
    "    for sq in sequence_folder:\n",
    "        sq = sq.replace('\\\\', '/')\n",
    "        TenFile1 = sq.split('/')[-1]\n",
    "        NoiDung=\"\"\n",
    "        try:\n",
    "            file = open(sq, 'r')\n",
    "            tg = GetAuthor(file)\n",
    "            NoiDung = file.read()\n",
    "            file.close()\n",
    "        except UnicodeDecodeError:\n",
    "            #FileError.append(sq)\n",
    "            #os.remove(sq)\n",
    "            print(TenFile1)\n",
    "        Text.append(NoiDung)\n",
    "        #print(headers)\n",
    "        DiaChi.append(sq)\n",
    "        TenFile.append(TenFile1)\n",
    "        TacGia.append(tg)\n",
    "        NumFile = NumFile + 1\n",
    "    return TenFile,TacGia,NumFile,DiaChi,Text"
   ]
  },
  {
   "cell_type": "code",
   "execution_count": 5,
   "metadata": {},
   "outputs": [],
   "source": [
    "DiaChiFolder = \"F:/8_Machine Learning/Bai tap Deeplearning/3_AuthorClassification/Books/\""
   ]
  },
  {
   "cell_type": "code",
   "execution_count": 6,
   "metadata": {},
   "outputs": [],
   "source": [
    "TenFile,TacGia,NumFile,DiaChi,Text = load_FileTxt(DiaChiFolder)"
   ]
  },
  {
   "cell_type": "code",
   "execution_count": 7,
   "metadata": {},
   "outputs": [],
   "source": [
    "DataF = pd.DataFrame(TenFile, columns=[\"TenFile\"])"
   ]
  },
  {
   "cell_type": "code",
   "execution_count": 8,
   "metadata": {},
   "outputs": [],
   "source": [
    "DataF[\"TacGia\"]=pd.DataFrame(TacGia, columns=[\"TacGia\"])"
   ]
  },
  {
   "cell_type": "code",
   "execution_count": 9,
   "metadata": {},
   "outputs": [],
   "source": [
    "DataF[\"NoiDung\"]=pd.DataFrame(Text, columns=[\"NoiDung\"])"
   ]
  },
  {
   "cell_type": "code",
   "execution_count": 10,
   "metadata": {},
   "outputs": [],
   "source": [
    "DataF[\"DiaChiFile\"]=pd.DataFrame(DiaChi, columns=[\"DiaChiFile\"])"
   ]
  },
  {
   "cell_type": "code",
   "execution_count": 11,
   "metadata": {},
   "outputs": [
    {
     "data": {
      "text/html": [
       "<div>\n",
       "<style scoped>\n",
       "    .dataframe tbody tr th:only-of-type {\n",
       "        vertical-align: middle;\n",
       "    }\n",
       "\n",
       "    .dataframe tbody tr th {\n",
       "        vertical-align: top;\n",
       "    }\n",
       "\n",
       "    .dataframe thead th {\n",
       "        text-align: right;\n",
       "    }\n",
       "</style>\n",
       "<table border=\"1\" class=\"dataframe\">\n",
       "  <thead>\n",
       "    <tr style=\"text-align: right;\">\n",
       "      <th></th>\n",
       "      <th>TenFile</th>\n",
       "      <th>TacGia</th>\n",
       "      <th>NoiDung</th>\n",
       "      <th>DiaChiFile</th>\n",
       "    </tr>\n",
       "  </thead>\n",
       "  <tbody>\n",
       "    <tr>\n",
       "      <th>0</th>\n",
       "      <td>01frd10.txt</td>\n",
       "      <td>Thomas Carlyle</td>\n",
       "      <td>\\nMarch, 2000  [Etext #2101]\\n[Date last updat...</td>\n",
       "      <td>F:/8_Machine Learning/Bai tap Deeplearning/3_A...</td>\n",
       "    </tr>\n",
       "    <tr>\n",
       "      <th>1</th>\n",
       "      <td>02frd10.txt</td>\n",
       "      <td>Thomas Carlyle</td>\n",
       "      <td>\\nMarch, 2000  [Etext #2102]\\n\\n\\nProject Gute...</td>\n",
       "      <td>F:/8_Machine Learning/Bai tap Deeplearning/3_A...</td>\n",
       "    </tr>\n",
       "    <tr>\n",
       "      <th>2</th>\n",
       "      <td>02tom10.txt</td>\n",
       "      <td>Victor Appleton</td>\n",
       "      <td>\\nAugust, 2000  [Etext #2273]\\n\\n\\n**The Proje...</td>\n",
       "      <td>F:/8_Machine Learning/Bai tap Deeplearning/3_A...</td>\n",
       "    </tr>\n",
       "    <tr>\n",
       "      <th>3</th>\n",
       "      <td>03frd10.txt</td>\n",
       "      <td>Thomas Carlyle</td>\n",
       "      <td>\\nMarch, 2000  [Etext #2103]\\n\\n\\nProject Gute...</td>\n",
       "      <td>F:/8_Machine Learning/Bai tap Deeplearning/3_A...</td>\n",
       "    </tr>\n",
       "    <tr>\n",
       "      <th>4</th>\n",
       "      <td>04frd10.txt</td>\n",
       "      <td>Thomas Carlyle</td>\n",
       "      <td>\\nMarch, 2000  [Etext #2104]\\n\\n\\nProject Gute...</td>\n",
       "      <td>F:/8_Machine Learning/Bai tap Deeplearning/3_A...</td>\n",
       "    </tr>\n",
       "    <tr>\n",
       "      <th>5</th>\n",
       "      <td>05frd10.txt</td>\n",
       "      <td>Thomas Carlyle</td>\n",
       "      <td>\\nMarch, 2000  [Etext #2105]\\n\\n\\nProject Gute...</td>\n",
       "      <td>F:/8_Machine Learning/Bai tap Deeplearning/3_A...</td>\n",
       "    </tr>\n",
       "    <tr>\n",
       "      <th>6</th>\n",
       "      <td>06frd10.txt</td>\n",
       "      <td>Thomas Carlyle</td>\n",
       "      <td>\\nMarch, 2000  [Etext #2106]\\n\\n\\nProject Gute...</td>\n",
       "      <td>F:/8_Machine Learning/Bai tap Deeplearning/3_A...</td>\n",
       "    </tr>\n",
       "    <tr>\n",
       "      <th>7</th>\n",
       "      <td>07frd10.txt</td>\n",
       "      <td>Thomas Carlyle</td>\n",
       "      <td>\\nMarch, 2000  [Etext #2107]\\n\\n\\nProject Gute...</td>\n",
       "      <td>F:/8_Machine Learning/Bai tap Deeplearning/3_A...</td>\n",
       "    </tr>\n",
       "    <tr>\n",
       "      <th>8</th>\n",
       "      <td>08frd10.txt</td>\n",
       "      <td>Thomas Carlyle</td>\n",
       "      <td>\\nMarch, 2000  [Etext #2108]\\n\\n\\nProject Gute...</td>\n",
       "      <td>F:/8_Machine Learning/Bai tap Deeplearning/3_A...</td>\n",
       "    </tr>\n",
       "    <tr>\n",
       "      <th>9</th>\n",
       "      <td>09frd10.txt</td>\n",
       "      <td>Thomas Carlyle</td>\n",
       "      <td>\\nMarch, 2000  [Etext #2109]\\n\\n\\nProject Gute...</td>\n",
       "      <td>F:/8_Machine Learning/Bai tap Deeplearning/3_A...</td>\n",
       "    </tr>\n",
       "    <tr>\n",
       "      <th>10</th>\n",
       "      <td>0ws0110.txt</td>\n",
       "      <td>William Shakespeare</td>\n",
       "      <td>\\nJuly, 2000  [Etext #2254]\\n\\n\\n***The Projec...</td>\n",
       "      <td>F:/8_Machine Learning/Bai tap Deeplearning/3_A...</td>\n",
       "    </tr>\n",
       "    <tr>\n",
       "      <th>11</th>\n",
       "      <td>0ws0210.txt</td>\n",
       "      <td>William Shakespeare</td>\n",
       "      <td>\\nJuly, 2000  [Etext #2255]\\n\\n\\n***The Projec...</td>\n",
       "      <td>F:/8_Machine Learning/Bai tap Deeplearning/3_A...</td>\n",
       "    </tr>\n",
       "    <tr>\n",
       "      <th>12</th>\n",
       "      <td>0ws0310.txt</td>\n",
       "      <td>William Shakespeare</td>\n",
       "      <td>\\nJuly, 2000  [Etext #2256]\\n\\n\\n***The Projec...</td>\n",
       "      <td>F:/8_Machine Learning/Bai tap Deeplearning/3_A...</td>\n",
       "    </tr>\n",
       "    <tr>\n",
       "      <th>13</th>\n",
       "      <td>0ws0410.txt</td>\n",
       "      <td>William Shakespeare</td>\n",
       "      <td>\\nJuly, 2000  [Etext #2257]\\n\\n\\n***The Projec...</td>\n",
       "      <td>F:/8_Machine Learning/Bai tap Deeplearning/3_A...</td>\n",
       "    </tr>\n",
       "    <tr>\n",
       "      <th>14</th>\n",
       "      <td>0ws0610.txt</td>\n",
       "      <td>William Shakespeare</td>\n",
       "      <td>\\nJuly, 2000  [Etext #2239]\\n\\n\\n***The Projec...</td>\n",
       "      <td>F:/8_Machine Learning/Bai tap Deeplearning/3_A...</td>\n",
       "    </tr>\n",
       "    <tr>\n",
       "      <th>15</th>\n",
       "      <td>0ws0910.txt</td>\n",
       "      <td>William Shakespeare</td>\n",
       "      <td>\\nJuly, 2000  [Etext #2260]\\n\\n\\n***The Projec...</td>\n",
       "      <td>F:/8_Machine Learning/Bai tap Deeplearning/3_A...</td>\n",
       "    </tr>\n",
       "    <tr>\n",
       "      <th>16</th>\n",
       "      <td>0ws1010.txt</td>\n",
       "      <td>William Shakespeare</td>\n",
       "      <td>\\nJuly, 2000  [Etext #2245]\\n\\n\\n***The Projec...</td>\n",
       "      <td>F:/8_Machine Learning/Bai tap Deeplearning/3_A...</td>\n",
       "    </tr>\n",
       "    <tr>\n",
       "      <th>17</th>\n",
       "      <td>0ws1110.txt</td>\n",
       "      <td>William Shakespeare</td>\n",
       "      <td>\\nJuly, 2000  [Etext #2236]\\n\\n\\n***The Projec...</td>\n",
       "      <td>F:/8_Machine Learning/Bai tap Deeplearning/3_A...</td>\n",
       "    </tr>\n",
       "    <tr>\n",
       "      <th>18</th>\n",
       "      <td>0ws1210.txt</td>\n",
       "      <td>William Shakespeare</td>\n",
       "      <td>\\nJuly, 2000  [Etext #2241]\\n\\n\\n***The Projec...</td>\n",
       "      <td>F:/8_Machine Learning/Bai tap Deeplearning/3_A...</td>\n",
       "    </tr>\n",
       "    <tr>\n",
       "      <th>19</th>\n",
       "      <td>0ws1410.txt</td>\n",
       "      <td>William Shakespeare</td>\n",
       "      <td>\\nJuly, 2000  [Etext #2249]\\n\\n\\n***The Projec...</td>\n",
       "      <td>F:/8_Machine Learning/Bai tap Deeplearning/3_A...</td>\n",
       "    </tr>\n",
       "  </tbody>\n",
       "</table>\n",
       "</div>"
      ],
      "text/plain": [
       "        TenFile               TacGia  \\\n",
       "0   01frd10.txt       Thomas Carlyle   \n",
       "1   02frd10.txt       Thomas Carlyle   \n",
       "2   02tom10.txt      Victor Appleton   \n",
       "3   03frd10.txt       Thomas Carlyle   \n",
       "4   04frd10.txt       Thomas Carlyle   \n",
       "5   05frd10.txt       Thomas Carlyle   \n",
       "6   06frd10.txt       Thomas Carlyle   \n",
       "7   07frd10.txt       Thomas Carlyle   \n",
       "8   08frd10.txt       Thomas Carlyle   \n",
       "9   09frd10.txt       Thomas Carlyle   \n",
       "10  0ws0110.txt  William Shakespeare   \n",
       "11  0ws0210.txt  William Shakespeare   \n",
       "12  0ws0310.txt  William Shakespeare   \n",
       "13  0ws0410.txt  William Shakespeare   \n",
       "14  0ws0610.txt  William Shakespeare   \n",
       "15  0ws0910.txt  William Shakespeare   \n",
       "16  0ws1010.txt  William Shakespeare   \n",
       "17  0ws1110.txt  William Shakespeare   \n",
       "18  0ws1210.txt  William Shakespeare   \n",
       "19  0ws1410.txt  William Shakespeare   \n",
       "\n",
       "                                              NoiDung  \\\n",
       "0   \\nMarch, 2000  [Etext #2101]\\n[Date last updat...   \n",
       "1   \\nMarch, 2000  [Etext #2102]\\n\\n\\nProject Gute...   \n",
       "2   \\nAugust, 2000  [Etext #2273]\\n\\n\\n**The Proje...   \n",
       "3   \\nMarch, 2000  [Etext #2103]\\n\\n\\nProject Gute...   \n",
       "4   \\nMarch, 2000  [Etext #2104]\\n\\n\\nProject Gute...   \n",
       "5   \\nMarch, 2000  [Etext #2105]\\n\\n\\nProject Gute...   \n",
       "6   \\nMarch, 2000  [Etext #2106]\\n\\n\\nProject Gute...   \n",
       "7   \\nMarch, 2000  [Etext #2107]\\n\\n\\nProject Gute...   \n",
       "8   \\nMarch, 2000  [Etext #2108]\\n\\n\\nProject Gute...   \n",
       "9   \\nMarch, 2000  [Etext #2109]\\n\\n\\nProject Gute...   \n",
       "10  \\nJuly, 2000  [Etext #2254]\\n\\n\\n***The Projec...   \n",
       "11  \\nJuly, 2000  [Etext #2255]\\n\\n\\n***The Projec...   \n",
       "12  \\nJuly, 2000  [Etext #2256]\\n\\n\\n***The Projec...   \n",
       "13  \\nJuly, 2000  [Etext #2257]\\n\\n\\n***The Projec...   \n",
       "14  \\nJuly, 2000  [Etext #2239]\\n\\n\\n***The Projec...   \n",
       "15  \\nJuly, 2000  [Etext #2260]\\n\\n\\n***The Projec...   \n",
       "16  \\nJuly, 2000  [Etext #2245]\\n\\n\\n***The Projec...   \n",
       "17  \\nJuly, 2000  [Etext #2236]\\n\\n\\n***The Projec...   \n",
       "18  \\nJuly, 2000  [Etext #2241]\\n\\n\\n***The Projec...   \n",
       "19  \\nJuly, 2000  [Etext #2249]\\n\\n\\n***The Projec...   \n",
       "\n",
       "                                           DiaChiFile  \n",
       "0   F:/8_Machine Learning/Bai tap Deeplearning/3_A...  \n",
       "1   F:/8_Machine Learning/Bai tap Deeplearning/3_A...  \n",
       "2   F:/8_Machine Learning/Bai tap Deeplearning/3_A...  \n",
       "3   F:/8_Machine Learning/Bai tap Deeplearning/3_A...  \n",
       "4   F:/8_Machine Learning/Bai tap Deeplearning/3_A...  \n",
       "5   F:/8_Machine Learning/Bai tap Deeplearning/3_A...  \n",
       "6   F:/8_Machine Learning/Bai tap Deeplearning/3_A...  \n",
       "7   F:/8_Machine Learning/Bai tap Deeplearning/3_A...  \n",
       "8   F:/8_Machine Learning/Bai tap Deeplearning/3_A...  \n",
       "9   F:/8_Machine Learning/Bai tap Deeplearning/3_A...  \n",
       "10  F:/8_Machine Learning/Bai tap Deeplearning/3_A...  \n",
       "11  F:/8_Machine Learning/Bai tap Deeplearning/3_A...  \n",
       "12  F:/8_Machine Learning/Bai tap Deeplearning/3_A...  \n",
       "13  F:/8_Machine Learning/Bai tap Deeplearning/3_A...  \n",
       "14  F:/8_Machine Learning/Bai tap Deeplearning/3_A...  \n",
       "15  F:/8_Machine Learning/Bai tap Deeplearning/3_A...  \n",
       "16  F:/8_Machine Learning/Bai tap Deeplearning/3_A...  \n",
       "17  F:/8_Machine Learning/Bai tap Deeplearning/3_A...  \n",
       "18  F:/8_Machine Learning/Bai tap Deeplearning/3_A...  \n",
       "19  F:/8_Machine Learning/Bai tap Deeplearning/3_A...  "
      ]
     },
     "execution_count": 11,
     "metadata": {},
     "output_type": "execute_result"
    }
   ],
   "source": [
    "DataF.head(20)"
   ]
  },
  {
   "cell_type": "code",
   "execution_count": 12,
   "metadata": {},
   "outputs": [
    {
     "data": {
      "text/plain": [
       "(8936, 4)"
      ]
     },
     "execution_count": 12,
     "metadata": {},
     "output_type": "execute_result"
    }
   ],
   "source": [
    "DataF.shape"
   ]
  },
  {
   "cell_type": "code",
   "execution_count": 13,
   "metadata": {},
   "outputs": [],
   "source": [
    "#Kiểm tra có bao nhiêu Rows không lấy được tác giả"
   ]
  },
  {
   "cell_type": "code",
   "execution_count": 14,
   "metadata": {},
   "outputs": [
    {
     "data": {
      "text/plain": [
       "TenFile         0\n",
       "TacGia        443\n",
       "NoiDung         0\n",
       "DiaChiFile      0\n",
       "dtype: int64"
      ]
     },
     "execution_count": 14,
     "metadata": {},
     "output_type": "execute_result"
    }
   ],
   "source": [
    "pd.isnull(DataF).sum()"
   ]
  },
  {
   "cell_type": "code",
   "execution_count": 15,
   "metadata": {},
   "outputs": [],
   "source": [
    "#Xóa các dòng có giá trị Null"
   ]
  },
  {
   "cell_type": "code",
   "execution_count": 16,
   "metadata": {},
   "outputs": [],
   "source": [
    "DataF1=DataF.dropna()"
   ]
  },
  {
   "cell_type": "code",
   "execution_count": 17,
   "metadata": {},
   "outputs": [
    {
     "data": {
      "text/plain": [
       "(8493, 4)"
      ]
     },
     "execution_count": 17,
     "metadata": {},
     "output_type": "execute_result"
    }
   ],
   "source": [
    "DataF1.shape"
   ]
  },
  {
   "cell_type": "code",
   "execution_count": 18,
   "metadata": {},
   "outputs": [],
   "source": [
    "DataProcess = DataF1"
   ]
  },
  {
   "cell_type": "code",
   "execution_count": 19,
   "metadata": {},
   "outputs": [
    {
     "name": "stderr",
     "output_type": "stream",
     "text": [
      "C:\\Users\\vuong.huynh\\Anaconda3\\lib\\site-packages\\ipykernel_launcher.py:1: SettingWithCopyWarning: \n",
      "A value is trying to be set on a copy of a slice from a DataFrame\n",
      "\n",
      "See the caveats in the documentation: http://pandas.pydata.org/pandas-docs/stable/indexing.html#indexing-view-versus-copy\n",
      "  \"\"\"Entry point for launching an IPython kernel.\n"
     ]
    }
   ],
   "source": [
    "DataProcess.drop(columns=['TenFile','DiaChiFile'], inplace=True)"
   ]
  },
  {
   "cell_type": "code",
   "execution_count": 20,
   "metadata": {},
   "outputs": [],
   "source": [
    "#DataProcess.drop(columns=['Count'], inplace=True)"
   ]
  },
  {
   "cell_type": "code",
   "execution_count": 21,
   "metadata": {},
   "outputs": [],
   "source": [
    "#Tạo DataFrame chỉ có tác giả và nội dung ==> Để Classification tác giả"
   ]
  },
  {
   "cell_type": "code",
   "execution_count": 22,
   "metadata": {},
   "outputs": [
    {
     "data": {
      "text/html": [
       "<div>\n",
       "<style scoped>\n",
       "    .dataframe tbody tr th:only-of-type {\n",
       "        vertical-align: middle;\n",
       "    }\n",
       "\n",
       "    .dataframe tbody tr th {\n",
       "        vertical-align: top;\n",
       "    }\n",
       "\n",
       "    .dataframe thead th {\n",
       "        text-align: right;\n",
       "    }\n",
       "</style>\n",
       "<table border=\"1\" class=\"dataframe\">\n",
       "  <thead>\n",
       "    <tr style=\"text-align: right;\">\n",
       "      <th></th>\n",
       "      <th>TacGia</th>\n",
       "      <th>NoiDung</th>\n",
       "    </tr>\n",
       "  </thead>\n",
       "  <tbody>\n",
       "    <tr>\n",
       "      <th>0</th>\n",
       "      <td>Thomas Carlyle</td>\n",
       "      <td>\\nMarch, 2000  [Etext #2101]\\n[Date last updat...</td>\n",
       "    </tr>\n",
       "    <tr>\n",
       "      <th>1</th>\n",
       "      <td>Thomas Carlyle</td>\n",
       "      <td>\\nMarch, 2000  [Etext #2102]\\n\\n\\nProject Gute...</td>\n",
       "    </tr>\n",
       "    <tr>\n",
       "      <th>2</th>\n",
       "      <td>Victor Appleton</td>\n",
       "      <td>\\nAugust, 2000  [Etext #2273]\\n\\n\\n**The Proje...</td>\n",
       "    </tr>\n",
       "    <tr>\n",
       "      <th>3</th>\n",
       "      <td>Thomas Carlyle</td>\n",
       "      <td>\\nMarch, 2000  [Etext #2103]\\n\\n\\nProject Gute...</td>\n",
       "    </tr>\n",
       "    <tr>\n",
       "      <th>4</th>\n",
       "      <td>Thomas Carlyle</td>\n",
       "      <td>\\nMarch, 2000  [Etext #2104]\\n\\n\\nProject Gute...</td>\n",
       "    </tr>\n",
       "  </tbody>\n",
       "</table>\n",
       "</div>"
      ],
      "text/plain": [
       "            TacGia                                            NoiDung\n",
       "0   Thomas Carlyle  \\nMarch, 2000  [Etext #2101]\\n[Date last updat...\n",
       "1   Thomas Carlyle  \\nMarch, 2000  [Etext #2102]\\n\\n\\nProject Gute...\n",
       "2  Victor Appleton  \\nAugust, 2000  [Etext #2273]\\n\\n\\n**The Proje...\n",
       "3   Thomas Carlyle  \\nMarch, 2000  [Etext #2103]\\n\\n\\nProject Gute...\n",
       "4   Thomas Carlyle  \\nMarch, 2000  [Etext #2104]\\n\\n\\nProject Gute..."
      ]
     },
     "execution_count": 22,
     "metadata": {},
     "output_type": "execute_result"
    }
   ],
   "source": [
    "DataProcess.head()"
   ]
  },
  {
   "cell_type": "code",
   "execution_count": 23,
   "metadata": {},
   "outputs": [],
   "source": [
    "DataProcess1=DataProcess"
   ]
  },
  {
   "cell_type": "code",
   "execution_count": 24,
   "metadata": {},
   "outputs": [
    {
     "data": {
      "text/plain": [
       "(8493, 2)"
      ]
     },
     "execution_count": 24,
     "metadata": {},
     "output_type": "execute_result"
    }
   ],
   "source": [
    "DataProcess1.shape"
   ]
  },
  {
   "cell_type": "code",
   "execution_count": 25,
   "metadata": {},
   "outputs": [],
   "source": [
    "tga=DataProcess1['TacGia'].value_counts()"
   ]
  },
  {
   "cell_type": "code",
   "execution_count": 26,
   "metadata": {},
   "outputs": [
    {
     "data": {
      "text/plain": [
       "<matplotlib.axes._subplots.AxesSubplot at 0x198525fdf60>"
      ]
     },
     "execution_count": 26,
     "metadata": {},
     "output_type": "execute_result"
    },
    {
     "data": {
      "image/png": "[encoded data removed]",
      "text/plain": [
       "<matplotlib.figure.Figure at 0x198525fd6d8>"
      ]
     },
     "metadata": {},
     "output_type": "display_data"
    }
   ],
   "source": [
    "tga.plot.bar()"
   ]
  },
  {
   "cell_type": "code",
   "execution_count": 27,
   "metadata": {},
   "outputs": [
    {
     "data": {
      "text/html": [
       "<div>\n",
       "<style scoped>\n",
       "    .dataframe tbody tr th:only-of-type {\n",
       "        vertical-align: middle;\n",
       "    }\n",
       "\n",
       "    .dataframe tbody tr th {\n",
       "        vertical-align: top;\n",
       "    }\n",
       "\n",
       "    .dataframe thead th {\n",
       "        text-align: right;\n",
       "    }\n",
       "</style>\n",
       "<table border=\"1\" class=\"dataframe\">\n",
       "  <thead>\n",
       "    <tr style=\"text-align: right;\">\n",
       "      <th></th>\n",
       "      <th>TacGia</th>\n",
       "      <th>NoiDung</th>\n",
       "    </tr>\n",
       "  </thead>\n",
       "  <tbody>\n",
       "    <tr>\n",
       "      <th>0</th>\n",
       "      <td>Thomas Carlyle</td>\n",
       "      <td>\\nMarch, 2000  [Etext #2101]\\n[Date last updat...</td>\n",
       "    </tr>\n",
       "    <tr>\n",
       "      <th>1</th>\n",
       "      <td>Thomas Carlyle</td>\n",
       "      <td>\\nMarch, 2000  [Etext #2102]\\n\\n\\nProject Gute...</td>\n",
       "    </tr>\n",
       "    <tr>\n",
       "      <th>2</th>\n",
       "      <td>Victor Appleton</td>\n",
       "      <td>\\nAugust, 2000  [Etext #2273]\\n\\n\\n**The Proje...</td>\n",
       "    </tr>\n",
       "    <tr>\n",
       "      <th>3</th>\n",
       "      <td>Thomas Carlyle</td>\n",
       "      <td>\\nMarch, 2000  [Etext #2103]\\n\\n\\nProject Gute...</td>\n",
       "    </tr>\n",
       "    <tr>\n",
       "      <th>4</th>\n",
       "      <td>Thomas Carlyle</td>\n",
       "      <td>\\nMarch, 2000  [Etext #2104]\\n\\n\\nProject Gute...</td>\n",
       "    </tr>\n",
       "  </tbody>\n",
       "</table>\n",
       "</div>"
      ],
      "text/plain": [
       "            TacGia                                            NoiDung\n",
       "0   Thomas Carlyle  \\nMarch, 2000  [Etext #2101]\\n[Date last updat...\n",
       "1   Thomas Carlyle  \\nMarch, 2000  [Etext #2102]\\n\\n\\nProject Gute...\n",
       "2  Victor Appleton  \\nAugust, 2000  [Etext #2273]\\n\\n\\n**The Proje...\n",
       "3   Thomas Carlyle  \\nMarch, 2000  [Etext #2103]\\n\\n\\nProject Gute...\n",
       "4   Thomas Carlyle  \\nMarch, 2000  [Etext #2104]\\n\\n\\nProject Gute..."
      ]
     },
     "execution_count": 27,
     "metadata": {},
     "output_type": "execute_result"
    }
   ],
   "source": [
    "DataProcess1.head()"
   ]
  },
  {
   "cell_type": "code",
   "execution_count": 28,
   "metadata": {},
   "outputs": [],
   "source": [
    "#Cách vừa Groupby vừa lọc dữ liệu\n",
    "counts = DataProcess1['TacGia'].value_counts()\n",
    "DataProcess2 = DataProcess1[DataProcess1['TacGia'].isin(counts[counts>20].index)]"
   ]
  },
  {
   "cell_type": "code",
   "execution_count": 29,
   "metadata": {},
   "outputs": [],
   "source": [
    "counts2 = DataProcess2['TacGia'].value_counts()\n",
    "DataProcess2 = DataProcess2[DataProcess2['TacGia'].isin(counts2[counts2<25].index)]"
   ]
  },
  {
   "cell_type": "code",
   "execution_count": 30,
   "metadata": {},
   "outputs": [],
   "source": [
    "#Cách vừa Groupby vừa lọc dữ liệu\n",
    "#DataProcess2 = DataProcess1.groupby('TacGia').filter(lambda x: len(x)>2)"
   ]
  },
  {
   "cell_type": "code",
   "execution_count": 31,
   "metadata": {},
   "outputs": [
    {
     "data": {
      "text/html": [
       "<div>\n",
       "<style scoped>\n",
       "    .dataframe tbody tr th:only-of-type {\n",
       "        vertical-align: middle;\n",
       "    }\n",
       "\n",
       "    .dataframe tbody tr th {\n",
       "        vertical-align: top;\n",
       "    }\n",
       "\n",
       "    .dataframe thead th {\n",
       "        text-align: right;\n",
       "    }\n",
       "</style>\n",
       "<table border=\"1\" class=\"dataframe\">\n",
       "  <thead>\n",
       "    <tr style=\"text-align: right;\">\n",
       "      <th></th>\n",
       "      <th>TacGia</th>\n",
       "      <th>NoiDung</th>\n",
       "    </tr>\n",
       "  </thead>\n",
       "  <tbody>\n",
       "    <tr>\n",
       "      <th>2</th>\n",
       "      <td>Victor Appleton</td>\n",
       "      <td>\\nAugust, 2000  [Etext #2273]\\n\\n\\n**The Proje...</td>\n",
       "    </tr>\n",
       "    <tr>\n",
       "      <th>351</th>\n",
       "      <td>Edgar Rice Burroughs</td>\n",
       "      <td>(#8 in The Tarzan Tales by Edgar Rice Burrough...</td>\n",
       "    </tr>\n",
       "    <tr>\n",
       "      <th>364</th>\n",
       "      <td>Oscar Wilde</td>\n",
       "      <td>\\nFebruary, 2000 [Etext #2061]\\n\\n\\nProject Gu...</td>\n",
       "    </tr>\n",
       "    <tr>\n",
       "      <th>497</th>\n",
       "      <td>E. Phillips Oppenheim</td>\n",
       "      <td>\\nAugust, 2001  [Etext #2767]\\n[Date last upda...</td>\n",
       "    </tr>\n",
       "    <tr>\n",
       "      <th>523</th>\n",
       "      <td>Sir Walter Scott</td>\n",
       "      <td>\\nApril, 2001  [Etext #2590]\\n\\n\\nThe Project ...</td>\n",
       "    </tr>\n",
       "  </tbody>\n",
       "</table>\n",
       "</div>"
      ],
      "text/plain": [
       "                    TacGia                                            NoiDung\n",
       "2          Victor Appleton  \\nAugust, 2000  [Etext #2273]\\n\\n\\n**The Proje...\n",
       "351   Edgar Rice Burroughs  (#8 in The Tarzan Tales by Edgar Rice Burrough...\n",
       "364            Oscar Wilde  \\nFebruary, 2000 [Etext #2061]\\n\\n\\nProject Gu...\n",
       "497  E. Phillips Oppenheim  \\nAugust, 2001  [Etext #2767]\\n[Date last upda...\n",
       "523       Sir Walter Scott  \\nApril, 2001  [Etext #2590]\\n\\n\\nThe Project ..."
      ]
     },
     "execution_count": 31,
     "metadata": {},
     "output_type": "execute_result"
    }
   ],
   "source": [
    "DataProcess2.head()"
   ]
  },
  {
   "cell_type": "code",
   "execution_count": 32,
   "metadata": {},
   "outputs": [
    {
     "data": {
      "text/plain": [
       "(401, 2)"
      ]
     },
     "execution_count": 32,
     "metadata": {},
     "output_type": "execute_result"
    }
   ],
   "source": [
    "DataProcess2.shape"
   ]
  },
  {
   "cell_type": "code",
   "execution_count": 33,
   "metadata": {},
   "outputs": [],
   "source": [
    "tga2=DataProcess2['TacGia'].value_counts()"
   ]
  },
  {
   "cell_type": "code",
   "execution_count": 34,
   "metadata": {},
   "outputs": [
    {
     "data": {
      "text/plain": [
       "Sir Walter Scott         24\n",
       "Wilkie Collins           24\n",
       "Victor Appleton          24\n",
       "Anonymous                23\n",
       "E. Phillips Oppenheim    23\n",
       "Victor Hugo              23\n",
       "Mrs. Humphry Ward        23\n",
       "Upton Sinclair           23\n",
       "Thomas H. Huxley         22\n",
       "Theodor Storm            22\n",
       "Edward Bulwer Lytton     22\n",
       "Huguette Bertrand        22\n",
       "Edgar Rice Burroughs     21\n",
       "Paul Heyse               21\n",
       "L. Frank Baum            21\n",
       "Oscar Wilde              21\n",
       "Walter Horatio Pater     21\n",
       "David Widger             21\n",
       "Name: TacGia, dtype: int64"
      ]
     },
     "execution_count": 34,
     "metadata": {},
     "output_type": "execute_result"
    }
   ],
   "source": [
    "tga2"
   ]
  },
  {
   "cell_type": "code",
   "execution_count": 35,
   "metadata": {},
   "outputs": [
    {
     "data": {
      "text/plain": [
       "<matplotlib.axes._subplots.AxesSubplot at 0x198196c3780>"
      ]
     },
     "execution_count": 35,
     "metadata": {},
     "output_type": "execute_result"
    },
    {
     "data": {
      "image/png": "[encoded data removed]",
      "text/plain": [
       "<matplotlib.figure.Figure at 0x19812e8c208>"
      ]
     },
     "metadata": {},
     "output_type": "display_data"
    }
   ],
   "source": [
    "plt.figure(figsize =(20,5))\n",
    "tga2.plot.bar()\n",
    "#plt.show()"
   ]
  },
  {
   "cell_type": "markdown",
   "metadata": {},
   "source": [
    "# II. Xử lý nội dung quyển sách"
   ]
  },
  {
   "cell_type": "markdown",
   "metadata": {},
   "source": [
    "## 1. Xử lý nội dung"
   ]
  },
  {
   "cell_type": "code",
   "execution_count": 36,
   "metadata": {},
   "outputs": [],
   "source": [
    "DataProcess2['NoiDung'] = DataProcess2['NoiDung'].str.lower()"
   ]
  },
  {
   "cell_type": "code",
   "execution_count": 37,
   "metadata": {},
   "outputs": [
    {
     "data": {
      "text/html": [
       "<div>\n",
       "<style scoped>\n",
       "    .dataframe tbody tr th:only-of-type {\n",
       "        vertical-align: middle;\n",
       "    }\n",
       "\n",
       "    .dataframe tbody tr th {\n",
       "        vertical-align: top;\n",
       "    }\n",
       "\n",
       "    .dataframe thead th {\n",
       "        text-align: right;\n",
       "    }\n",
       "</style>\n",
       "<table border=\"1\" class=\"dataframe\">\n",
       "  <thead>\n",
       "    <tr style=\"text-align: right;\">\n",
       "      <th></th>\n",
       "      <th>TacGia</th>\n",
       "      <th>NoiDung</th>\n",
       "    </tr>\n",
       "  </thead>\n",
       "  <tbody>\n",
       "    <tr>\n",
       "      <th>2</th>\n",
       "      <td>Victor Appleton</td>\n",
       "      <td>\\naugust, 2000  [etext #2273]\\n\\n\\n**the proje...</td>\n",
       "    </tr>\n",
       "    <tr>\n",
       "      <th>351</th>\n",
       "      <td>Edgar Rice Burroughs</td>\n",
       "      <td>(#8 in the tarzan tales by edgar rice burrough...</td>\n",
       "    </tr>\n",
       "    <tr>\n",
       "      <th>364</th>\n",
       "      <td>Oscar Wilde</td>\n",
       "      <td>\\nfebruary, 2000 [etext #2061]\\n\\n\\nproject gu...</td>\n",
       "    </tr>\n",
       "    <tr>\n",
       "      <th>497</th>\n",
       "      <td>E. Phillips Oppenheim</td>\n",
       "      <td>\\naugust, 2001  [etext #2767]\\n[date last upda...</td>\n",
       "    </tr>\n",
       "    <tr>\n",
       "      <th>523</th>\n",
       "      <td>Sir Walter Scott</td>\n",
       "      <td>\\napril, 2001  [etext #2590]\\n\\n\\nthe project ...</td>\n",
       "    </tr>\n",
       "  </tbody>\n",
       "</table>\n",
       "</div>"
      ],
      "text/plain": [
       "                    TacGia                                            NoiDung\n",
       "2          Victor Appleton  \\naugust, 2000  [etext #2273]\\n\\n\\n**the proje...\n",
       "351   Edgar Rice Burroughs  (#8 in the tarzan tales by edgar rice burrough...\n",
       "364            Oscar Wilde  \\nfebruary, 2000 [etext #2061]\\n\\n\\nproject gu...\n",
       "497  E. Phillips Oppenheim  \\naugust, 2001  [etext #2767]\\n[date last upda...\n",
       "523       Sir Walter Scott  \\napril, 2001  [etext #2590]\\n\\n\\nthe project ..."
      ]
     },
     "execution_count": 37,
     "metadata": {},
     "output_type": "execute_result"
    }
   ],
   "source": [
    "DataProcess2.head()"
   ]
  },
  {
   "cell_type": "code",
   "execution_count": 38,
   "metadata": {},
   "outputs": [
    {
     "data": {
      "text/plain": [
       "(401, 2)"
      ]
     },
     "execution_count": 38,
     "metadata": {},
     "output_type": "execute_result"
    }
   ],
   "source": [
    "DataProcess2.shape"
   ]
  },
  {
   "cell_type": "code",
   "execution_count": 39,
   "metadata": {},
   "outputs": [],
   "source": [
    "#Code bị lỗi không sử dụng được\n",
    "#Loại bỏ các ký tự ngoài A-Z, a-z, 0-9 (Regular expression operation)\n",
    "#import re\n",
    "#DataProcess2['NoiDung'] = re.sub('[^A-Za-z]', '', DataProcess2['NoiDung'])"
   ]
  },
  {
   "cell_type": "code",
   "execution_count": 40,
   "metadata": {},
   "outputs": [],
   "source": [
    "def preprocess_text(sent):\n",
    "    sent = str(sent)\n",
    "    sent = sent.lower()\n",
    "    sent = re.sub(r\"what's\", \"what is \", sent)\n",
    "    sent = re.sub(r\"\\'s\", \" \", sent)\n",
    "    sent = re.sub(r\"\\'ve\", \" have \", sent)\n",
    "    sent = re.sub(r\"can't\", \"cannot \", sent)\n",
    "    sent = re.sub(r\"n't\", \" not \", sent)\n",
    "    sent = re.sub(r\"i'm\", \"i am \", sent)\n",
    "    sent = re.sub(r\"\\'re\", \" are \", sent)\n",
    "    sent = re.sub(r\"\\'d\", \" would \", sent)\n",
    "    sent = re.sub(r\"\\'ll\", \" will \", sent)\n",
    "    sent = re.sub(r\",\", \" \", sent)\n",
    "    sent = re.sub(r\"\\.\", \" \", sent)\n",
    "    sent = re.sub(r\"!\", \" ! \", sent)\n",
    "    sent = re.sub(r\"\\/\", \" \", sent)\n",
    "    sent = re.sub(r\"\\^\", \" ^ \", sent)\n",
    "    sent = re.sub(r\"\\+\", \" + \", sent)\n",
    "    sent = re.sub(r\"\\-\", \" - \", sent)\n",
    "    sent = re.sub(r\"\\=\", \" = \", sent)\n",
    "    sent = re.sub(r\"'\", \" \", sent)\n",
    "    sent = sent.split()\n",
    "    return sent"
   ]
  },
  {
   "cell_type": "code",
   "execution_count": 46,
   "metadata": {
    "scrolled": true
   },
   "outputs": [],
   "source": [
    "# Bỏ ký tự đặt biệt\n",
    "DataProcess2['NoiDung'] = DataProcess2['NoiDung'].str.replace('\\@', '')\n",
    "DataProcess2['NoiDung'] = DataProcess2['NoiDung'].str.replace('\\*', '')\n",
    "DataProcess2['NoiDung'] = DataProcess2['NoiDung'].str.replace('\\#', '')"
   ]
  },
  {
   "cell_type": "code",
   "execution_count": 47,
   "metadata": {},
   "outputs": [
    {
     "data": {
      "text/html": [
       "<div>\n",
       "<style scoped>\n",
       "    .dataframe tbody tr th:only-of-type {\n",
       "        vertical-align: middle;\n",
       "    }\n",
       "\n",
       "    .dataframe tbody tr th {\n",
       "        vertical-align: top;\n",
       "    }\n",
       "\n",
       "    .dataframe thead th {\n",
       "        text-align: right;\n",
       "    }\n",
       "</style>\n",
       "<table border=\"1\" class=\"dataframe\">\n",
       "  <thead>\n",
       "    <tr style=\"text-align: right;\">\n",
       "      <th></th>\n",
       "      <th>TacGia</th>\n",
       "      <th>NoiDung</th>\n",
       "    </tr>\n",
       "  </thead>\n",
       "  <tbody>\n",
       "    <tr>\n",
       "      <th>2</th>\n",
       "      <td>Victor Appleton</td>\n",
       "      <td>\\naugust, 2000  [etext 2273]\\n\\n\\nthe project ...</td>\n",
       "    </tr>\n",
       "    <tr>\n",
       "      <th>351</th>\n",
       "      <td>Edgar Rice Burroughs</td>\n",
       "      <td>(8 in the tarzan tales by edgar rice burroughs...</td>\n",
       "    </tr>\n",
       "    <tr>\n",
       "      <th>364</th>\n",
       "      <td>Oscar Wilde</td>\n",
       "      <td>\\nfebruary, 2000 [etext 2061]\\n\\n\\nproject gut...</td>\n",
       "    </tr>\n",
       "    <tr>\n",
       "      <th>497</th>\n",
       "      <td>E. Phillips Oppenheim</td>\n",
       "      <td>\\naugust, 2001  [etext 2767]\\n[date last updat...</td>\n",
       "    </tr>\n",
       "    <tr>\n",
       "      <th>523</th>\n",
       "      <td>Sir Walter Scott</td>\n",
       "      <td>\\napril, 2001  [etext 2590]\\n\\n\\nthe project g...</td>\n",
       "    </tr>\n",
       "  </tbody>\n",
       "</table>\n",
       "</div>"
      ],
      "text/plain": [
       "                    TacGia                                            NoiDung\n",
       "2          Victor Appleton  \\naugust, 2000  [etext 2273]\\n\\n\\nthe project ...\n",
       "351   Edgar Rice Burroughs  (8 in the tarzan tales by edgar rice burroughs...\n",
       "364            Oscar Wilde  \\nfebruary, 2000 [etext 2061]\\n\\n\\nproject gut...\n",
       "497  E. Phillips Oppenheim  \\naugust, 2001  [etext 2767]\\n[date last updat...\n",
       "523       Sir Walter Scott  \\napril, 2001  [etext 2590]\\n\\n\\nthe project g..."
      ]
     },
     "execution_count": 47,
     "metadata": {},
     "output_type": "execute_result"
    }
   ],
   "source": [
    "DataProcess2.head()"
   ]
  },
  {
   "cell_type": "code",
   "execution_count": 48,
   "metadata": {},
   "outputs": [],
   "source": [
    "DataProcess2['NoiDung1']=DataProcess2['NoiDung']"
   ]
  },
  {
   "cell_type": "code",
   "execution_count": 49,
   "metadata": {},
   "outputs": [],
   "source": [
    "# Bỏ ký tự xuống dòng, về đầu dòng\n",
    "DataProcess2['NoiDung'] = DataProcess2['NoiDung'].str.replace('\\r', '')\n",
    "DataProcess2['NoiDung'] = DataProcess2['NoiDung'].str.replace('\\n', ' ')"
   ]
  },
  {
   "cell_type": "code",
   "execution_count": 50,
   "metadata": {},
   "outputs": [
    {
     "data": {
      "text/html": [
       "<div>\n",
       "<style scoped>\n",
       "    .dataframe tbody tr th:only-of-type {\n",
       "        vertical-align: middle;\n",
       "    }\n",
       "\n",
       "    .dataframe tbody tr th {\n",
       "        vertical-align: top;\n",
       "    }\n",
       "\n",
       "    .dataframe thead th {\n",
       "        text-align: right;\n",
       "    }\n",
       "</style>\n",
       "<table border=\"1\" class=\"dataframe\">\n",
       "  <thead>\n",
       "    <tr style=\"text-align: right;\">\n",
       "      <th></th>\n",
       "      <th>TacGia</th>\n",
       "      <th>NoiDung</th>\n",
       "      <th>NoiDung1</th>\n",
       "    </tr>\n",
       "  </thead>\n",
       "  <tbody>\n",
       "    <tr>\n",
       "      <th>2</th>\n",
       "      <td>Victor Appleton</td>\n",
       "      <td>august, 2000  [etext 2273]   the project gute...</td>\n",
       "      <td>\\naugust, 2000  [etext 2273]\\n\\n\\nthe project ...</td>\n",
       "    </tr>\n",
       "    <tr>\n",
       "      <th>351</th>\n",
       "      <td>Edgar Rice Burroughs</td>\n",
       "      <td>(8 in the tarzan tales by edgar rice burroughs...</td>\n",
       "      <td>(8 in the tarzan tales by edgar rice burroughs...</td>\n",
       "    </tr>\n",
       "    <tr>\n",
       "      <th>364</th>\n",
       "      <td>Oscar Wilde</td>\n",
       "      <td>february, 2000 [etext 2061]   project gutenbe...</td>\n",
       "      <td>\\nfebruary, 2000 [etext 2061]\\n\\n\\nproject gut...</td>\n",
       "    </tr>\n",
       "    <tr>\n",
       "      <th>497</th>\n",
       "      <td>E. Phillips Oppenheim</td>\n",
       "      <td>august, 2001  [etext 2767] [date last updated...</td>\n",
       "      <td>\\naugust, 2001  [etext 2767]\\n[date last updat...</td>\n",
       "    </tr>\n",
       "    <tr>\n",
       "      <th>523</th>\n",
       "      <td>Sir Walter Scott</td>\n",
       "      <td>april, 2001  [etext 2590]   the project guten...</td>\n",
       "      <td>\\napril, 2001  [etext 2590]\\n\\n\\nthe project g...</td>\n",
       "    </tr>\n",
       "  </tbody>\n",
       "</table>\n",
       "</div>"
      ],
      "text/plain": [
       "                    TacGia                                            NoiDung  \\\n",
       "2          Victor Appleton   august, 2000  [etext 2273]   the project gute...   \n",
       "351   Edgar Rice Burroughs  (8 in the tarzan tales by edgar rice burroughs...   \n",
       "364            Oscar Wilde   february, 2000 [etext 2061]   project gutenbe...   \n",
       "497  E. Phillips Oppenheim   august, 2001  [etext 2767] [date last updated...   \n",
       "523       Sir Walter Scott   april, 2001  [etext 2590]   the project guten...   \n",
       "\n",
       "                                              NoiDung1  \n",
       "2    \\naugust, 2000  [etext 2273]\\n\\n\\nthe project ...  \n",
       "351  (8 in the tarzan tales by edgar rice burroughs...  \n",
       "364  \\nfebruary, 2000 [etext 2061]\\n\\n\\nproject gut...  \n",
       "497  \\naugust, 2001  [etext 2767]\\n[date last updat...  \n",
       "523  \\napril, 2001  [etext 2590]\\n\\n\\nthe project g...  "
      ]
     },
     "execution_count": 50,
     "metadata": {},
     "output_type": "execute_result"
    }
   ],
   "source": [
    "DataProcess2.head()"
   ]
  },
  {
   "cell_type": "code",
   "execution_count": 51,
   "metadata": {},
   "outputs": [],
   "source": [
    "#Bỏ ký tự có 's,chuyển đổi chữ phủ định, ký tự\n",
    "DataProcess2['NoiDung'] = DataProcess2['NoiDung'].str.replace(\"what's\", \"what is \")\n",
    "DataProcess2['NoiDung'] = DataProcess2['NoiDung'].str.replace(\"\\'ve\", \" have \")\n",
    "DataProcess2['NoiDung'] = DataProcess2['NoiDung'].str.replace(\"can't\", \"cannot \")\n",
    "DataProcess2['NoiDung'] = DataProcess2['NoiDung'].str.replace(\"n't\", \" not \")\n",
    "DataProcess2['NoiDung'] = DataProcess2['NoiDung'].str.replace(\"i'm\", \"i am \")\n",
    "DataProcess2['NoiDung'] = DataProcess2['NoiDung'].str.replace(\"\\'re\", \" are \")\n",
    "\n",
    "DataProcess2['NoiDung'] = DataProcess2['NoiDung'].str.replace(\"\\'d\", \" would \")\n",
    "DataProcess2['NoiDung'] = DataProcess2['NoiDung'].str.replace(\"\\'ll\", \" will \")"
   ]
  },
  {
   "cell_type": "code",
   "execution_count": 52,
   "metadata": {},
   "outputs": [
    {
     "data": {
      "text/html": [
       "<div>\n",
       "<style scoped>\n",
       "    .dataframe tbody tr th:only-of-type {\n",
       "        vertical-align: middle;\n",
       "    }\n",
       "\n",
       "    .dataframe tbody tr th {\n",
       "        vertical-align: top;\n",
       "    }\n",
       "\n",
       "    .dataframe thead th {\n",
       "        text-align: right;\n",
       "    }\n",
       "</style>\n",
       "<table border=\"1\" class=\"dataframe\">\n",
       "  <thead>\n",
       "    <tr style=\"text-align: right;\">\n",
       "      <th></th>\n",
       "      <th>TacGia</th>\n",
       "      <th>NoiDung</th>\n",
       "      <th>NoiDung1</th>\n",
       "    </tr>\n",
       "  </thead>\n",
       "  <tbody>\n",
       "    <tr>\n",
       "      <th>2</th>\n",
       "      <td>Victor Appleton</td>\n",
       "      <td>august, 2000  [etext 2273]   the project gute...</td>\n",
       "      <td>\\naugust, 2000  [etext 2273]\\n\\n\\nthe project ...</td>\n",
       "    </tr>\n",
       "    <tr>\n",
       "      <th>351</th>\n",
       "      <td>Edgar Rice Burroughs</td>\n",
       "      <td>(8 in the tarzan tales by edgar rice burroughs...</td>\n",
       "      <td>(8 in the tarzan tales by edgar rice burroughs...</td>\n",
       "    </tr>\n",
       "    <tr>\n",
       "      <th>364</th>\n",
       "      <td>Oscar Wilde</td>\n",
       "      <td>february, 2000 [etext 2061]   project gutenbe...</td>\n",
       "      <td>\\nfebruary, 2000 [etext 2061]\\n\\n\\nproject gut...</td>\n",
       "    </tr>\n",
       "    <tr>\n",
       "      <th>497</th>\n",
       "      <td>E. Phillips Oppenheim</td>\n",
       "      <td>august, 2001  [etext 2767] [date last updated...</td>\n",
       "      <td>\\naugust, 2001  [etext 2767]\\n[date last updat...</td>\n",
       "    </tr>\n",
       "    <tr>\n",
       "      <th>523</th>\n",
       "      <td>Sir Walter Scott</td>\n",
       "      <td>april, 2001  [etext 2590]   the project guten...</td>\n",
       "      <td>\\napril, 2001  [etext 2590]\\n\\n\\nthe project g...</td>\n",
       "    </tr>\n",
       "  </tbody>\n",
       "</table>\n",
       "</div>"
      ],
      "text/plain": [
       "                    TacGia                                            NoiDung  \\\n",
       "2          Victor Appleton   august, 2000  [etext 2273]   the project gute...   \n",
       "351   Edgar Rice Burroughs  (8 in the tarzan tales by edgar rice burroughs...   \n",
       "364            Oscar Wilde   february, 2000 [etext 2061]   project gutenbe...   \n",
       "497  E. Phillips Oppenheim   august, 2001  [etext 2767] [date last updated...   \n",
       "523       Sir Walter Scott   april, 2001  [etext 2590]   the project guten...   \n",
       "\n",
       "                                              NoiDung1  \n",
       "2    \\naugust, 2000  [etext 2273]\\n\\n\\nthe project ...  \n",
       "351  (8 in the tarzan tales by edgar rice burroughs...  \n",
       "364  \\nfebruary, 2000 [etext 2061]\\n\\n\\nproject gut...  \n",
       "497  \\naugust, 2001  [etext 2767]\\n[date last updat...  \n",
       "523  \\napril, 2001  [etext 2590]\\n\\n\\nthe project g...  "
      ]
     },
     "execution_count": 52,
     "metadata": {},
     "output_type": "execute_result"
    }
   ],
   "source": [
    "DataProcess2.head()"
   ]
  },
  {
   "cell_type": "code",
   "execution_count": 53,
   "metadata": {},
   "outputs": [],
   "source": [
    "DataProcess2['NoiDung'] = DataProcess2['NoiDung'].str.replace(\"\\\"\", \" \")\n",
    "DataProcess2['NoiDung'] = DataProcess2['NoiDung'].str.replace(\"\\.\",\" . \")\n",
    "DataProcess2['NoiDung'] = DataProcess2['NoiDung'].str.replace(\"\\,\",\" \")\n",
    "DataProcess2['NoiDung'] = DataProcess2['NoiDung'].str.replace(\"!\", \" ! \")\n",
    "DataProcess2['NoiDung'] = DataProcess2['NoiDung'].str.replace(\"\\/\", \"  \")\n",
    "DataProcess2['NoiDung'] = DataProcess2['NoiDung'].str.replace(\"\\^\", \" ^ \")\n",
    "DataProcess2['NoiDung'] = DataProcess2['NoiDung'].str.replace(\"\\+\", \" + \")\n",
    "\n",
    "DataProcess2['NoiDung'] = DataProcess2['NoiDung'].str.replace(\"\\'\", '')\n",
    "DataProcess2['NoiDung'] = DataProcess2['NoiDung'].str.replace(\"\\-\", \" - \")\n",
    "DataProcess2['NoiDung'] = DataProcess2['NoiDung'].str.replace(\"\\=\", \" = \")\n",
    "DataProcess2['NoiDung'] = DataProcess2['NoiDung'].str.replace(\"'\", \" \")"
   ]
  },
  {
   "cell_type": "code",
   "execution_count": 54,
   "metadata": {},
   "outputs": [
    {
     "data": {
      "text/html": [
       "<div>\n",
       "<style scoped>\n",
       "    .dataframe tbody tr th:only-of-type {\n",
       "        vertical-align: middle;\n",
       "    }\n",
       "\n",
       "    .dataframe tbody tr th {\n",
       "        vertical-align: top;\n",
       "    }\n",
       "\n",
       "    .dataframe thead th {\n",
       "        text-align: right;\n",
       "    }\n",
       "</style>\n",
       "<table border=\"1\" class=\"dataframe\">\n",
       "  <thead>\n",
       "    <tr style=\"text-align: right;\">\n",
       "      <th></th>\n",
       "      <th>TacGia</th>\n",
       "      <th>NoiDung</th>\n",
       "      <th>NoiDung1</th>\n",
       "    </tr>\n",
       "  </thead>\n",
       "  <tbody>\n",
       "    <tr>\n",
       "      <th>2</th>\n",
       "      <td>Victor Appleton</td>\n",
       "      <td>august  2000  [etext 2273]   the project gute...</td>\n",
       "      <td>\\naugust, 2000  [etext 2273]\\n\\n\\nthe project ...</td>\n",
       "    </tr>\n",
       "    <tr>\n",
       "      <th>351</th>\n",
       "      <td>Edgar Rice Burroughs</td>\n",
       "      <td>(8 in the tarzan tales by edgar rice burroughs...</td>\n",
       "      <td>(8 in the tarzan tales by edgar rice burroughs...</td>\n",
       "    </tr>\n",
       "    <tr>\n",
       "      <th>364</th>\n",
       "      <td>Oscar Wilde</td>\n",
       "      <td>february  2000 [etext 2061]   project gutenbe...</td>\n",
       "      <td>\\nfebruary, 2000 [etext 2061]\\n\\n\\nproject gut...</td>\n",
       "    </tr>\n",
       "    <tr>\n",
       "      <th>497</th>\n",
       "      <td>E. Phillips Oppenheim</td>\n",
       "      <td>august  2001  [etext 2767] [date last updated...</td>\n",
       "      <td>\\naugust, 2001  [etext 2767]\\n[date last updat...</td>\n",
       "    </tr>\n",
       "    <tr>\n",
       "      <th>523</th>\n",
       "      <td>Sir Walter Scott</td>\n",
       "      <td>april  2001  [etext 2590]   the project guten...</td>\n",
       "      <td>\\napril, 2001  [etext 2590]\\n\\n\\nthe project g...</td>\n",
       "    </tr>\n",
       "  </tbody>\n",
       "</table>\n",
       "</div>"
      ],
      "text/plain": [
       "                    TacGia                                            NoiDung  \\\n",
       "2          Victor Appleton   august  2000  [etext 2273]   the project gute...   \n",
       "351   Edgar Rice Burroughs  (8 in the tarzan tales by edgar rice burroughs...   \n",
       "364            Oscar Wilde   february  2000 [etext 2061]   project gutenbe...   \n",
       "497  E. Phillips Oppenheim   august  2001  [etext 2767] [date last updated...   \n",
       "523       Sir Walter Scott   april  2001  [etext 2590]   the project guten...   \n",
       "\n",
       "                                              NoiDung1  \n",
       "2    \\naugust, 2000  [etext 2273]\\n\\n\\nthe project ...  \n",
       "351  (8 in the tarzan tales by edgar rice burroughs...  \n",
       "364  \\nfebruary, 2000 [etext 2061]\\n\\n\\nproject gut...  \n",
       "497  \\naugust, 2001  [etext 2767]\\n[date last updat...  \n",
       "523  \\napril, 2001  [etext 2590]\\n\\n\\nthe project g...  "
      ]
     },
     "execution_count": 54,
     "metadata": {},
     "output_type": "execute_result"
    }
   ],
   "source": [
    "DataProcess2.head()"
   ]
  },
  {
   "cell_type": "code",
   "execution_count": 55,
   "metadata": {},
   "outputs": [],
   "source": [
    "#Save DataFrame để lần sau sử dụng"
   ]
  },
  {
   "cell_type": "code",
   "execution_count": 56,
   "metadata": {},
   "outputs": [],
   "source": [
    "#DataProcess2.to_csv('F:/8_Machine Learning/Bai tap Deeplearning/3_AuthorClassification/DataProcess.csv',sep='\\t',encoding ='utf-8')"
   ]
  },
  {
   "cell_type": "code",
   "execution_count": 57,
   "metadata": {},
   "outputs": [],
   "source": [
    "#Remove the stop words"
   ]
  },
  {
   "cell_type": "code",
   "execution_count": 58,
   "metadata": {},
   "outputs": [],
   "source": [
    "#import nltk\n",
    "#nltk.download('punkt')"
   ]
  },
  {
   "cell_type": "code",
   "execution_count": 59,
   "metadata": {},
   "outputs": [],
   "source": [
    "#from nltk.tokenize import word_tokenize\n",
    "#NoiDungTokenize= word_tokenize(DataProcess2['NoiDung'])"
   ]
  },
  {
   "cell_type": "markdown",
   "metadata": {},
   "source": [
    "nltk.download('punkt') : There are number of datasets available in nltk, such as movie review data, names data and etc. The punkt dataset is one of the them and it's required to train the tokenizers in nltk.\n",
    "word_tokenize: This tokenizer will tokenize the text, and create a list of words.\n",
    "\n",
    "Since we got the list of words, it's time to remove the stop words in the list words"
   ]
  },
  {
   "cell_type": "code",
   "execution_count": 60,
   "metadata": {},
   "outputs": [],
   "source": [
    "#nltk.download('stopwords')\n",
    "#from nltk.corpus import stopwords \n",
    "#for word in NoiDungTokenize:\n",
    "#    if word in stopwords.words('english'):\n",
    "#        NoiDungTokenize.remove(word)"
   ]
  },
  {
   "cell_type": "code",
   "execution_count": 61,
   "metadata": {},
   "outputs": [
    {
     "name": "stdout",
     "output_type": "stream",
     "text": [
      "[nltk_data] Downloading package stopwords to\n",
      "[nltk_data]     C:\\Users\\vuong.huynh\\AppData\\Roaming\\nltk_data...\n",
      "[nltk_data]   Package stopwords is already up-to-date!\n"
     ]
    },
    {
     "data": {
      "text/plain": [
       "True"
      ]
     },
     "execution_count": 61,
     "metadata": {},
     "output_type": "execute_result"
    }
   ],
   "source": [
    "import nltk\n",
    "nltk.download('stopwords')"
   ]
  },
  {
   "cell_type": "code",
   "execution_count": 62,
   "metadata": {},
   "outputs": [],
   "source": [
    "#Stopword của Sklearn\n",
    "#from sklearn.feature_extraction import text\n",
    "#stop = text.ENGLISH_STOP_WORDS"
   ]
  },
  {
   "cell_type": "code",
   "execution_count": 63,
   "metadata": {},
   "outputs": [],
   "source": [
    "from nltk.corpus import stopwords\n",
    "stop = stopwords.words('english')"
   ]
  },
  {
   "cell_type": "code",
   "execution_count": 64,
   "metadata": {},
   "outputs": [],
   "source": [
    "DataProcess2['NoiDungTokenize']=DataProcess2['NoiDung'].apply(lambda x: ' '.join([word for word in x.split() if word not in (stop)]))"
   ]
  },
  {
   "cell_type": "code",
   "execution_count": 65,
   "metadata": {},
   "outputs": [
    {
     "data": {
      "text/html": [
       "<div>\n",
       "<style scoped>\n",
       "    .dataframe tbody tr th:only-of-type {\n",
       "        vertical-align: middle;\n",
       "    }\n",
       "\n",
       "    .dataframe tbody tr th {\n",
       "        vertical-align: top;\n",
       "    }\n",
       "\n",
       "    .dataframe thead th {\n",
       "        text-align: right;\n",
       "    }\n",
       "</style>\n",
       "<table border=\"1\" class=\"dataframe\">\n",
       "  <thead>\n",
       "    <tr style=\"text-align: right;\">\n",
       "      <th></th>\n",
       "      <th>TacGia</th>\n",
       "      <th>NoiDung</th>\n",
       "      <th>NoiDung1</th>\n",
       "      <th>NoiDungTokenize</th>\n",
       "    </tr>\n",
       "  </thead>\n",
       "  <tbody>\n",
       "    <tr>\n",
       "      <th>2</th>\n",
       "      <td>Victor Appleton</td>\n",
       "      <td>august  2000  [etext 2273]   the project gute...</td>\n",
       "      <td>\\naugust, 2000  [etext 2273]\\n\\n\\nthe project ...</td>\n",
       "      <td>august 2000 [etext 2273] project gutenberg ete...</td>\n",
       "    </tr>\n",
       "    <tr>\n",
       "      <th>351</th>\n",
       "      <td>Edgar Rice Burroughs</td>\n",
       "      <td>(8 in the tarzan tales by edgar rice burroughs...</td>\n",
       "      <td>(8 in the tarzan tales by edgar rice burroughs...</td>\n",
       "      <td>(8 tarzan tales edgar rice burroughs) copyrigh...</td>\n",
       "    </tr>\n",
       "    <tr>\n",
       "      <th>364</th>\n",
       "      <td>Oscar Wilde</td>\n",
       "      <td>february  2000 [etext 2061]   project gutenbe...</td>\n",
       "      <td>\\nfebruary, 2000 [etext 2061]\\n\\n\\nproject gut...</td>\n",
       "      <td>february 2000 [etext 2061] project gutenbergs ...</td>\n",
       "    </tr>\n",
       "    <tr>\n",
       "      <th>497</th>\n",
       "      <td>E. Phillips Oppenheim</td>\n",
       "      <td>august  2001  [etext 2767] [date last updated...</td>\n",
       "      <td>\\naugust, 2001  [etext 2767]\\n[date last updat...</td>\n",
       "      <td>august 2001 [etext 2767] [date last updated: f...</td>\n",
       "    </tr>\n",
       "    <tr>\n",
       "      <th>523</th>\n",
       "      <td>Sir Walter Scott</td>\n",
       "      <td>april  2001  [etext 2590]   the project guten...</td>\n",
       "      <td>\\napril, 2001  [etext 2590]\\n\\n\\nthe project g...</td>\n",
       "      <td>april 2001 [etext 2590] project gutenberg etex...</td>\n",
       "    </tr>\n",
       "    <tr>\n",
       "      <th>526</th>\n",
       "      <td>Victor Hugo</td>\n",
       "      <td>april  2001  [etext 2610]   the project guten...</td>\n",
       "      <td>\\napril, 2001  [etext 2610]\\n\\n\\nthe project g...</td>\n",
       "      <td>april 2001 [etext 2610] project gutenberg etex...</td>\n",
       "    </tr>\n",
       "    <tr>\n",
       "      <th>549</th>\n",
       "      <td>Edward Bulwer Lytton</td>\n",
       "      <td>january  2001  [etext 2461]   project gutenbe...</td>\n",
       "      <td>\\njanuary, 2001  [etext 2461]\\n\\n\\nproject gut...</td>\n",
       "      <td>january 2001 [etext 2461] project gutenberg et...</td>\n",
       "    </tr>\n",
       "    <tr>\n",
       "      <th>610</th>\n",
       "      <td>Sir Walter Scott</td>\n",
       "      <td>february  2000  [etext 2516]   the project gu...</td>\n",
       "      <td>\\nfebruary, 2000  [etext 2516]\\n\\n\\nthe projec...</td>\n",
       "      <td>february 2000 [etext 2516] project gutenberg e...</td>\n",
       "    </tr>\n",
       "    <tr>\n",
       "      <th>645</th>\n",
       "      <td>Thomas H. Huxley</td>\n",
       "      <td>release date:  november  2001  [etext 2921] [...</td>\n",
       "      <td>\\nrelease date:  november, 2001  [etext 2921]\\...</td>\n",
       "      <td>release date: november 2001 [etext 2921] [yes ...</td>\n",
       "    </tr>\n",
       "    <tr>\n",
       "      <th>646</th>\n",
       "      <td>Thomas H. Huxley</td>\n",
       "      <td>release date:  november  2001  [etext 2922] [...</td>\n",
       "      <td>\\nrelease date:  november, 2001  [etext 2922]\\...</td>\n",
       "      <td>release date: november 2001 [etext 2922] [yes ...</td>\n",
       "    </tr>\n",
       "  </tbody>\n",
       "</table>\n",
       "</div>"
      ],
      "text/plain": [
       "                    TacGia                                            NoiDung  \\\n",
       "2          Victor Appleton   august  2000  [etext 2273]   the project gute...   \n",
       "351   Edgar Rice Burroughs  (8 in the tarzan tales by edgar rice burroughs...   \n",
       "364            Oscar Wilde   february  2000 [etext 2061]   project gutenbe...   \n",
       "497  E. Phillips Oppenheim   august  2001  [etext 2767] [date last updated...   \n",
       "523       Sir Walter Scott   april  2001  [etext 2590]   the project guten...   \n",
       "526            Victor Hugo   april  2001  [etext 2610]   the project guten...   \n",
       "549   Edward Bulwer Lytton   january  2001  [etext 2461]   project gutenbe...   \n",
       "610       Sir Walter Scott   february  2000  [etext 2516]   the project gu...   \n",
       "645       Thomas H. Huxley   release date:  november  2001  [etext 2921] [...   \n",
       "646       Thomas H. Huxley   release date:  november  2001  [etext 2922] [...   \n",
       "\n",
       "                                              NoiDung1  \\\n",
       "2    \\naugust, 2000  [etext 2273]\\n\\n\\nthe project ...   \n",
       "351  (8 in the tarzan tales by edgar rice burroughs...   \n",
       "364  \\nfebruary, 2000 [etext 2061]\\n\\n\\nproject gut...   \n",
       "497  \\naugust, 2001  [etext 2767]\\n[date last updat...   \n",
       "523  \\napril, 2001  [etext 2590]\\n\\n\\nthe project g...   \n",
       "526  \\napril, 2001  [etext 2610]\\n\\n\\nthe project g...   \n",
       "549  \\njanuary, 2001  [etext 2461]\\n\\n\\nproject gut...   \n",
       "610  \\nfebruary, 2000  [etext 2516]\\n\\n\\nthe projec...   \n",
       "645  \\nrelease date:  november, 2001  [etext 2921]\\...   \n",
       "646  \\nrelease date:  november, 2001  [etext 2922]\\...   \n",
       "\n",
       "                                       NoiDungTokenize  \n",
       "2    august 2000 [etext 2273] project gutenberg ete...  \n",
       "351  (8 tarzan tales edgar rice burroughs) copyrigh...  \n",
       "364  february 2000 [etext 2061] project gutenbergs ...  \n",
       "497  august 2001 [etext 2767] [date last updated: f...  \n",
       "523  april 2001 [etext 2590] project gutenberg etex...  \n",
       "526  april 2001 [etext 2610] project gutenberg etex...  \n",
       "549  january 2001 [etext 2461] project gutenberg et...  \n",
       "610  february 2000 [etext 2516] project gutenberg e...  \n",
       "645  release date: november 2001 [etext 2921] [yes ...  \n",
       "646  release date: november 2001 [etext 2922] [yes ...  "
      ]
     },
     "execution_count": 65,
     "metadata": {},
     "output_type": "execute_result"
    }
   ],
   "source": [
    "DataProcess2.head(10)"
   ]
  },
  {
   "cell_type": "code",
   "execution_count": 66,
   "metadata": {},
   "outputs": [],
   "source": [
    "DataTrain = DataProcess2"
   ]
  },
  {
   "cell_type": "code",
   "execution_count": null,
   "metadata": {},
   "outputs": [],
   "source": [
    "#DataTrain.to_csv('F:/8_Machine Learning/Bai tap Deeplearning/3_AuthorClassification/DataTrainNew.csv',sep='\\t',encoding ='utf-8')"
   ]
  },
  {
   "cell_type": "code",
   "execution_count": 67,
   "metadata": {},
   "outputs": [],
   "source": [
    "DataTrain.to_csv('F:/8_Machine Learning/Bai tap Deeplearning/3_AuthorClassification/DataTrainNew1.csv',encoding ='utf-8')"
   ]
  },
  {
   "cell_type": "code",
   "execution_count": 3,
   "metadata": {},
   "outputs": [],
   "source": [
    "DataTrain = pd.read_csv('F:/8_Machine Learning/Bai tap Deeplearning/3_AuthorClassification/DataTrainNew1.csv')"
   ]
  },
  {
   "cell_type": "code",
   "execution_count": 68,
   "metadata": {},
   "outputs": [
    {
     "data": {
      "text/html": [
       "<div>\n",
       "<style scoped>\n",
       "    .dataframe tbody tr th:only-of-type {\n",
       "        vertical-align: middle;\n",
       "    }\n",
       "\n",
       "    .dataframe tbody tr th {\n",
       "        vertical-align: top;\n",
       "    }\n",
       "\n",
       "    .dataframe thead th {\n",
       "        text-align: right;\n",
       "    }\n",
       "</style>\n",
       "<table border=\"1\" class=\"dataframe\">\n",
       "  <thead>\n",
       "    <tr style=\"text-align: right;\">\n",
       "      <th></th>\n",
       "      <th>TacGia</th>\n",
       "      <th>NoiDung</th>\n",
       "      <th>NoiDung1</th>\n",
       "      <th>NoiDungTokenize</th>\n",
       "    </tr>\n",
       "  </thead>\n",
       "  <tbody>\n",
       "    <tr>\n",
       "      <th>2</th>\n",
       "      <td>Victor Appleton</td>\n",
       "      <td>august  2000  [etext 2273]   the project gute...</td>\n",
       "      <td>\\naugust, 2000  [etext 2273]\\n\\n\\nthe project ...</td>\n",
       "      <td>august 2000 [etext 2273] project gutenberg ete...</td>\n",
       "    </tr>\n",
       "    <tr>\n",
       "      <th>351</th>\n",
       "      <td>Edgar Rice Burroughs</td>\n",
       "      <td>(8 in the tarzan tales by edgar rice burroughs...</td>\n",
       "      <td>(8 in the tarzan tales by edgar rice burroughs...</td>\n",
       "      <td>(8 tarzan tales edgar rice burroughs) copyrigh...</td>\n",
       "    </tr>\n",
       "    <tr>\n",
       "      <th>364</th>\n",
       "      <td>Oscar Wilde</td>\n",
       "      <td>february  2000 [etext 2061]   project gutenbe...</td>\n",
       "      <td>\\nfebruary, 2000 [etext 2061]\\n\\n\\nproject gut...</td>\n",
       "      <td>february 2000 [etext 2061] project gutenbergs ...</td>\n",
       "    </tr>\n",
       "    <tr>\n",
       "      <th>497</th>\n",
       "      <td>E. Phillips Oppenheim</td>\n",
       "      <td>august  2001  [etext 2767] [date last updated...</td>\n",
       "      <td>\\naugust, 2001  [etext 2767]\\n[date last updat...</td>\n",
       "      <td>august 2001 [etext 2767] [date last updated: f...</td>\n",
       "    </tr>\n",
       "    <tr>\n",
       "      <th>523</th>\n",
       "      <td>Sir Walter Scott</td>\n",
       "      <td>april  2001  [etext 2590]   the project guten...</td>\n",
       "      <td>\\napril, 2001  [etext 2590]\\n\\n\\nthe project g...</td>\n",
       "      <td>april 2001 [etext 2590] project gutenberg etex...</td>\n",
       "    </tr>\n",
       "  </tbody>\n",
       "</table>\n",
       "</div>"
      ],
      "text/plain": [
       "                    TacGia                                            NoiDung  \\\n",
       "2          Victor Appleton   august  2000  [etext 2273]   the project gute...   \n",
       "351   Edgar Rice Burroughs  (8 in the tarzan tales by edgar rice burroughs...   \n",
       "364            Oscar Wilde   february  2000 [etext 2061]   project gutenbe...   \n",
       "497  E. Phillips Oppenheim   august  2001  [etext 2767] [date last updated...   \n",
       "523       Sir Walter Scott   april  2001  [etext 2590]   the project guten...   \n",
       "\n",
       "                                              NoiDung1  \\\n",
       "2    \\naugust, 2000  [etext 2273]\\n\\n\\nthe project ...   \n",
       "351  (8 in the tarzan tales by edgar rice burroughs...   \n",
       "364  \\nfebruary, 2000 [etext 2061]\\n\\n\\nproject gut...   \n",
       "497  \\naugust, 2001  [etext 2767]\\n[date last updat...   \n",
       "523  \\napril, 2001  [etext 2590]\\n\\n\\nthe project g...   \n",
       "\n",
       "                                       NoiDungTokenize  \n",
       "2    august 2000 [etext 2273] project gutenberg ete...  \n",
       "351  (8 tarzan tales edgar rice burroughs) copyrigh...  \n",
       "364  february 2000 [etext 2061] project gutenbergs ...  \n",
       "497  august 2001 [etext 2767] [date last updated: f...  \n",
       "523  april 2001 [etext 2590] project gutenberg etex...  "
      ]
     },
     "execution_count": 68,
     "metadata": {},
     "output_type": "execute_result"
    }
   ],
   "source": [
    "DataTrain.head()"
   ]
  },
  {
   "cell_type": "code",
   "execution_count": 42,
   "metadata": {},
   "outputs": [
    {
     "data": {
      "text/plain": [
       "(401, 5)"
      ]
     },
     "execution_count": 42,
     "metadata": {},
     "output_type": "execute_result"
    }
   ],
   "source": [
    "DataTrain.shape"
   ]
  },
  {
   "cell_type": "code",
   "execution_count": 69,
   "metadata": {},
   "outputs": [],
   "source": [
    "countsTG = DataTrain['TacGia'].value_counts()"
   ]
  },
  {
   "cell_type": "code",
   "execution_count": 70,
   "metadata": {},
   "outputs": [
    {
     "data": {
      "text/plain": [
       "(18,)"
      ]
     },
     "execution_count": 70,
     "metadata": {},
     "output_type": "execute_result"
    }
   ],
   "source": [
    "countsTG.shape"
   ]
  },
  {
   "cell_type": "markdown",
   "metadata": {},
   "source": [
    "# III. Training "
   ]
  },
  {
   "cell_type": "markdown",
   "metadata": {},
   "source": [
    "## 1. Bag of word "
   ]
  },
  {
   "cell_type": "code",
   "execution_count": 6,
   "metadata": {},
   "outputs": [],
   "source": [
    "from sklearn.model_selection import train_test_split\n",
    "# Chia tập dữ liệu thành 2 tập (train, test) theo tỉ lệ 80% cho tập train 20% cho tập test\n",
    "X_trainBOW, X_testBOW, y_trainBOW, y_testBOW = train_test_split(DataTrain.NoiDungTokenize, DataTrain.TacGia, test_size=0.2, random_state=12)"
   ]
  },
  {
   "cell_type": "code",
   "execution_count": 7,
   "metadata": {},
   "outputs": [],
   "source": [
    "from sklearn.feature_extraction.text import CountVectorizer\n",
    "count_vect = CountVectorizer()"
   ]
  },
  {
   "cell_type": "code",
   "execution_count": 8,
   "metadata": {},
   "outputs": [
    {
     "data": {
      "text/plain": [
       "CountVectorizer(analyzer='word', binary=False, decode_error='strict',\n",
       "        dtype=<class 'numpy.int64'>, encoding='utf-8', input='content',\n",
       "        lowercase=True, max_df=1.0, max_features=None, min_df=1,\n",
       "        ngram_range=(1, 1), preprocessor=None, stop_words=None,\n",
       "        strip_accents=None, token_pattern='(?u)\\\\b\\\\w\\\\w+\\\\b',\n",
       "        tokenizer=None, vocabulary=None)"
      ]
     },
     "execution_count": 8,
     "metadata": {},
     "output_type": "execute_result"
    }
   ],
   "source": [
    "count_vect.fit(X_trainBOW)"
   ]
  },
  {
   "cell_type": "code",
   "execution_count": 9,
   "metadata": {},
   "outputs": [],
   "source": [
    "X_train_BOW = count_vect.transform(X_trainBOW)"
   ]
  },
  {
   "cell_type": "code",
   "execution_count": 10,
   "metadata": {},
   "outputs": [
    {
     "data": {
      "text/plain": [
       "<320x178405 sparse matrix of type '<class 'numpy.int64'>'\n",
       "\twith 1904107 stored elements in Compressed Sparse Row format>"
      ]
     },
     "execution_count": 10,
     "metadata": {},
     "output_type": "execute_result"
    }
   ],
   "source": [
    "X_train_BOW"
   ]
  },
  {
   "cell_type": "code",
   "execution_count": 11,
   "metadata": {},
   "outputs": [],
   "source": [
    "#X_train_BOW = count_vect.fit_transform(X_trainBOW)"
   ]
  },
  {
   "cell_type": "code",
   "execution_count": 12,
   "metadata": {},
   "outputs": [],
   "source": [
    "X_test_BOW = count_vect.transform(X_testBOW)"
   ]
  },
  {
   "cell_type": "code",
   "execution_count": 13,
   "metadata": {},
   "outputs": [
    {
     "data": {
      "text/plain": [
       "<81x178405 sparse matrix of type '<class 'numpy.int64'>'\n",
       "\twith 468247 stored elements in Compressed Sparse Row format>"
      ]
     },
     "execution_count": 13,
     "metadata": {},
     "output_type": "execute_result"
    }
   ],
   "source": [
    "X_test_BOW"
   ]
  },
  {
   "cell_type": "code",
   "execution_count": 78,
   "metadata": {},
   "outputs": [],
   "source": [
    "#from sklearn.feature_extraction.text import CountVectorizer\n",
    "#count_vect = CountVectorizer()\n",
    "#count_vect.fit(DataTrain.NoiDungTokenize)"
   ]
  },
  {
   "cell_type": "code",
   "execution_count": 79,
   "metadata": {},
   "outputs": [
    {
     "name": "stdout",
     "output_type": "stream",
     "text": [
      "X_train_BOW: (320, 178405) X_test_BOW: (81, 178405)\n"
     ]
    }
   ],
   "source": [
    "#X_train_BOW = count_vect.transform(X_trainBOW)\n",
    "#X_test_BOW = count_vect.transform(X_testBOW)\n",
    "print(\"X_train_BOW:\",X_train_BOW.shape,\"X_test_BOW:\",X_test_BOW.shape)"
   ]
  },
  {
   "cell_type": "markdown",
   "metadata": {},
   "source": [
    "### 1.1 Naive baye"
   ]
  },
  {
   "cell_type": "code",
   "execution_count": 12,
   "metadata": {},
   "outputs": [],
   "source": [
    "from sklearn.naive_bayes import MultinomialNB\n",
    "MulNB_BOW = MultinomialNB()"
   ]
  },
  {
   "cell_type": "code",
   "execution_count": 81,
   "metadata": {},
   "outputs": [
    {
     "data": {
      "text/plain": [
       "MultinomialNB(alpha=1.0, class_prior=None, fit_prior=True)"
      ]
     },
     "execution_count": 81,
     "metadata": {},
     "output_type": "execute_result"
    }
   ],
   "source": [
    "MulNB_BOW.fit(X_train_BOW, y_trainBOW)"
   ]
  },
  {
   "cell_type": "code",
   "execution_count": 82,
   "metadata": {},
   "outputs": [],
   "source": [
    "#PreMulNB_BOW = MulNB_BOW.predict(X_test_BOW.toarray())"
   ]
  },
  {
   "cell_type": "code",
   "execution_count": 83,
   "metadata": {},
   "outputs": [],
   "source": [
    "PreMulNB_BOW = MulNB_BOW.predict(X_test_BOW)"
   ]
  },
  {
   "cell_type": "code",
   "execution_count": 84,
   "metadata": {
    "scrolled": true
   },
   "outputs": [
    {
     "name": "stdout",
     "output_type": "stream",
     "text": [
      "                       precision    recall  f1-score   support\n",
      "\n",
      "            Anonymous       1.00      1.00      1.00         1\n",
      "         David Widger       1.00      0.33      0.50         3\n",
      "E. Phillips Oppenheim       1.00      1.00      1.00         3\n",
      " Edgar Rice Burroughs       1.00      1.00      1.00         4\n",
      " Edward Bulwer Lytton       1.00      0.60      0.75         5\n",
      "    Huguette Bertrand       1.00      0.83      0.91         6\n",
      "        L. Frank Baum       1.00      1.00      1.00         7\n",
      "    Mrs. Humphry Ward       0.75      1.00      0.86         3\n",
      "          Oscar Wilde       1.00      0.33      0.50         3\n",
      "           Paul Heyse       1.00      1.00      1.00         5\n",
      "     Sir Walter Scott       0.86      1.00      0.92         6\n",
      "        Theodor Storm       1.00      1.00      1.00         7\n",
      "     Thomas H. Huxley       1.00      0.40      0.57         5\n",
      "       Upton Sinclair       0.83      0.83      0.83         6\n",
      "      Victor Appleton       1.00      1.00      1.00         6\n",
      "          Victor Hugo       0.80      1.00      0.89         4\n",
      " Walter Horatio Pater       0.43      1.00      0.60         3\n",
      "       Wilkie Collins       0.57      1.00      0.73         4\n",
      "\n",
      "          avg / total       0.92      0.86      0.86        81\n",
      "\n"
     ]
    }
   ],
   "source": [
    "from sklearn.metrics import classification_report\n",
    "print(classification_report(y_testBOW, PreMulNB_BOW))"
   ]
  },
  {
   "cell_type": "code",
   "execution_count": 13,
   "metadata": {},
   "outputs": [],
   "source": [
    "from sklearn.naive_bayes import MultinomialNB\n",
    "from sklearn.pipeline import Pipeline\n",
    "from sklearn.multiclass import OneVsRestClassifier\n",
    "from sklearn.model_selection import GridSearchCV"
   ]
  },
  {
   "cell_type": "code",
   "execution_count": 86,
   "metadata": {},
   "outputs": [],
   "source": [
    "from sklearn.feature_extraction.text import CountVectorizer\n",
    "count_vect1 = CountVectorizer(stop_words=\"english\", analyzer='word',ngram_range=(1, 1))\n",
    "count_vect1.fit(X_trainBOW)\n",
    "X_train_BOW1 = count_vect1.transform(X_trainBOW)\n",
    "X_test_BOW1 = count_vect1.transform(X_testBOW)"
   ]
  },
  {
   "cell_type": "code",
   "execution_count": 87,
   "metadata": {},
   "outputs": [],
   "source": [
    "pipelineMulBOW1 = Pipeline([('clf1', OneVsRestClassifier(MultinomialNB(fit_prior=True, class_prior=None))),])\n",
    "parametersMulBOW1 = {'clf1__estimator__alpha': (1e-2, 1e-3)}"
   ]
  },
  {
   "cell_type": "code",
   "execution_count": 88,
   "metadata": {},
   "outputs": [],
   "source": [
    "grid_search_tuneMulBOW1 = GridSearchCV(pipelineMulBOW1, parametersMulBOW1, cv=2, n_jobs=2, verbose=3)"
   ]
  },
  {
   "cell_type": "code",
   "execution_count": 89,
   "metadata": {},
   "outputs": [
    {
     "name": "stdout",
     "output_type": "stream",
     "text": [
      "Fitting 2 folds for each of 2 candidates, totalling 4 fits\n"
     ]
    },
    {
     "name": "stderr",
     "output_type": "stream",
     "text": [
      "[Parallel(n_jobs=2)]: Done   4 out of   4 | elapsed:    6.2s finished\n"
     ]
    },
    {
     "data": {
      "text/plain": [
       "GridSearchCV(cv=2, error_score='raise',\n",
       "       estimator=Pipeline(memory=None,\n",
       "     steps=[('clf1', OneVsRestClassifier(estimator=MultinomialNB(alpha=1.0, class_prior=None, fit_prior=True),\n",
       "          n_jobs=1))]),\n",
       "       fit_params=None, iid=True, n_jobs=2,\n",
       "       param_grid={'clf1__estimator__alpha': (0.01, 0.001)},\n",
       "       pre_dispatch='2*n_jobs', refit=True, return_train_score='warn',\n",
       "       scoring=None, verbose=3)"
      ]
     },
     "execution_count": 89,
     "metadata": {},
     "output_type": "execute_result"
    }
   ],
   "source": [
    "grid_search_tuneMulBOW1.fit(X_train_BOW1, y_trainBOW)"
   ]
  },
  {
   "cell_type": "code",
   "execution_count": 90,
   "metadata": {},
   "outputs": [
    {
     "name": "stdout",
     "output_type": "stream",
     "text": [
      "Best parameters: [('clf1', OneVsRestClassifier(estimator=MultinomialNB(alpha=0.001, class_prior=None, fit_prior=True),\n",
      "          n_jobs=1))]\n",
      "                       precision    recall  f1-score   support\n",
      "\n",
      "            Anonymous       1.00      1.00      1.00         1\n",
      "         David Widger       1.00      0.67      0.80         3\n",
      "E. Phillips Oppenheim       1.00      1.00      1.00         3\n",
      " Edgar Rice Burroughs       1.00      1.00      1.00         4\n",
      " Edward Bulwer Lytton       1.00      0.80      0.89         5\n",
      "    Huguette Bertrand       0.00      0.00      0.00         6\n",
      "        L. Frank Baum       1.00      0.86      0.92         7\n",
      "    Mrs. Humphry Ward       1.00      1.00      1.00         3\n",
      "          Oscar Wilde       1.00      0.67      0.80         3\n",
      "           Paul Heyse       0.00      0.00      0.00         5\n",
      "     Sir Walter Scott       1.00      1.00      1.00         6\n",
      "        Theodor Storm       0.58      1.00      0.74         7\n",
      "     Thomas H. Huxley       1.00      1.00      1.00         5\n",
      "       Upton Sinclair       1.00      0.67      0.80         6\n",
      "      Victor Appleton       1.00      1.00      1.00         6\n",
      "          Victor Hugo       0.40      1.00      0.57         4\n",
      " Walter Horatio Pater       0.75      1.00      0.86         3\n",
      "       Wilkie Collins       0.44      1.00      0.62         4\n",
      "\n",
      "          avg / total       0.76      0.79      0.75        81\n",
      "\n"
     ]
    },
    {
     "name": "stderr",
     "output_type": "stream",
     "text": [
      "C:\\Users\\vuong.huynh\\Anaconda3\\lib\\site-packages\\sklearn\\metrics\\classification.py:1135: UndefinedMetricWarning: Precision and F-score are ill-defined and being set to 0.0 in labels with no predicted samples.\n",
      "  'precision', 'predicted', average, warn_for)\n"
     ]
    }
   ],
   "source": [
    "print(\"Best parameters:\",grid_search_tuneMulBOW1.best_estimator_.steps)\n",
    "best_clfMulBOW1 = grid_search_tuneMulBOW1.best_estimator_\n",
    "predictionsMulBOW1 = best_clfMulBOW1.predict(X_test_BOW1)\n",
    "from sklearn.metrics import classification_report\n",
    "print(classification_report(y_testBOW, predictionsMulBOW1))"
   ]
  },
  {
   "cell_type": "code",
   "execution_count": 91,
   "metadata": {},
   "outputs": [],
   "source": [
    "from sklearn.feature_extraction.text import CountVectorizer\n",
    "count_vect2 = CountVectorizer(stop_words=\"english\", analyzer='word',ngram_range=(1, 2))\n",
    "count_vect2.fit(X_trainBOW)\n",
    "X_train_BOW2 = count_vect2.transform(X_trainBOW)\n",
    "X_test_BOW2 = count_vect2.transform(X_testBOW)"
   ]
  },
  {
   "cell_type": "code",
   "execution_count": 92,
   "metadata": {},
   "outputs": [],
   "source": [
    "pipelineMulBOW2 = Pipeline([('clf2', OneVsRestClassifier(MultinomialNB(fit_prior=True, class_prior=None))),])\n",
    "parametersMulBOW2 = {'clf2__estimator__alpha': (1e-2, 1e-3)}\n",
    "grid_search_tuneMulBOW2 = GridSearchCV(pipelineMulBOW2, parametersMulBOW2, cv=2, n_jobs=2, verbose=3)"
   ]
  },
  {
   "cell_type": "code",
   "execution_count": null,
   "metadata": {},
   "outputs": [
    {
     "name": "stdout",
     "output_type": "stream",
     "text": [
      "Fitting 2 folds for each of 2 candidates, totalling 4 fits\n"
     ]
    }
   ],
   "source": [
    "grid_search_tuneMulBOW2.fit(X_train_BOW2, y_trainBOW)"
   ]
  },
  {
   "cell_type": "code",
   "execution_count": null,
   "metadata": {},
   "outputs": [],
   "source": [
    "print(\"Best parameters:\",grid_search_tuneMulBOW2.best_estimator_.steps)\n",
    "best_clfMulBOW2 = grid_search_tuneMulBOW2.best_estimator_\n",
    "predictionsMulBOW2 = best_clfMulBOW2.predict(X_test_BOW2)\n",
    "from sklearn.metrics import classification_report\n",
    "print(classification_report(y_testBOW, predictionsMulBOW2))"
   ]
  },
  {
   "cell_type": "code",
   "execution_count": null,
   "metadata": {},
   "outputs": [],
   "source": [
    "from sklearn.feature_extraction.text import CountVectorizer\n",
    "count_vect3 = CountVectorizer(stop_words=\"english\", analyzer='word',ngram_range=(1, 3))\n",
    "count_vect3.fit(X_trainBOW)\n",
    "X_train_BOW3 = count_vect3.transform(X_trainBOW)\n",
    "X_test_BOW3 = count_vect3.transform(X_testBOW)"
   ]
  },
  {
   "cell_type": "code",
   "execution_count": null,
   "metadata": {},
   "outputs": [],
   "source": [
    "pipelineMulBOW3 = Pipeline([('clf3', OneVsRestClassifier(MultinomialNB(fit_prior=True, class_prior=None))),])\n",
    "parametersMulBOW3 = {'clf3__estimator__alpha': (1e-2, 1e-3)}\n",
    "grid_search_tuneMulBOW3 = GridSearchCV(pipelineMulBOW3, parametersMulBOW3, cv=2, n_jobs=2, verbose=3)"
   ]
  },
  {
   "cell_type": "code",
   "execution_count": null,
   "metadata": {},
   "outputs": [],
   "source": [
    "grid_search_tuneMulBOW3.fit(X_train_BOW3, y_trainBOW)"
   ]
  },
  {
   "cell_type": "code",
   "execution_count": null,
   "metadata": {},
   "outputs": [],
   "source": [
    "print(\"Best parameters:\",grid_search_tuneMulBOW3.best_estimator_.steps)\n",
    "best_clfMulBOW3 = grid_search_tuneMulBOW3.best_estimator_\n",
    "predictionsMulBOW3 = best_clfMulBOW3.predict(X_test_BOW3)\n",
    "from sklearn.metrics import classification_report\n",
    "print(classification_report(y_testBOW, predictionsMulBOW3))"
   ]
  },
  {
   "cell_type": "code",
   "execution_count": 14,
   "metadata": {},
   "outputs": [],
   "source": [
    "#pipelineMulBOW = Pipeline([('count_vec', CountVectorizer(stop_words=\"english\", analyzer='word')),('clf', OneVsRestClassifier(MultinomialNB(fit_prior=True, class_prior=None))),])\n",
    "#parametersMulBOW = {'count_vec__max_df': (0.25, 0.5, 1),'count_vec__ngram_range': [(1, 1), (1, 2), (1, 3)],'clf__estimator__alpha': (1e-2, 1e-3)}"
   ]
  },
  {
   "cell_type": "code",
   "execution_count": 15,
   "metadata": {},
   "outputs": [],
   "source": [
    "#grid_search_tuneMulBOW = GridSearchCV(pipelineMulBOW, parametersMulBOW, cv=2, n_jobs=2, verbose=3)"
   ]
  },
  {
   "cell_type": "code",
   "execution_count": null,
   "metadata": {},
   "outputs": [
    {
     "name": "stdout",
     "output_type": "stream",
     "text": [
      "Fitting 2 folds for each of 18 candidates, totalling 36 fits\n"
     ]
    }
   ],
   "source": [
    "#grid_search_tuneMulBOW.fit(X_trainBOW, y_trainBOW)"
   ]
  },
  {
   "cell_type": "code",
   "execution_count": null,
   "metadata": {},
   "outputs": [],
   "source": [
    "#print(\"Best parameters:\",grid_search_tune.best_estimator_.steps)"
   ]
  },
  {
   "cell_type": "code",
   "execution_count": null,
   "metadata": {},
   "outputs": [],
   "source": [
    "#best_clfMulBOW = grid_search_tuneMulBOW.best_estimator_\n",
    "#predictionsMulBOW = best_clfMulBOW.predict(X_testBOW)"
   ]
  },
  {
   "cell_type": "code",
   "execution_count": null,
   "metadata": {},
   "outputs": [],
   "source": [
    "#from sklearn.metrics import classification_report\n",
    "#print(classification_report(y_testBOW, predictionsMulBOW))"
   ]
  },
  {
   "cell_type": "markdown",
   "metadata": {},
   "source": [
    "### 1.2 Decision Tree "
   ]
  },
  {
   "cell_type": "code",
   "execution_count": null,
   "metadata": {},
   "outputs": [],
   "source": []
  },
  {
   "cell_type": "code",
   "execution_count": 14,
   "metadata": {},
   "outputs": [],
   "source": [
    "from sklearn import tree"
   ]
  },
  {
   "cell_type": "code",
   "execution_count": 15,
   "metadata": {},
   "outputs": [
    {
     "data": {
      "text/plain": [
       "DecisionTreeClassifier(class_weight=None, criterion='gini', max_depth=None,\n",
       "            max_features=None, max_leaf_nodes=None,\n",
       "            min_impurity_decrease=0.0, min_impurity_split=None,\n",
       "            min_samples_leaf=1, min_samples_split=2,\n",
       "            min_weight_fraction_leaf=0.0, presort=False, random_state=None,\n",
       "            splitter='best')"
      ]
     },
     "execution_count": 15,
     "metadata": {},
     "output_type": "execute_result"
    }
   ],
   "source": [
    "clf_tree_BOW = tree.DecisionTreeClassifier()\n",
    "clf_tree_BOW.fit(X_train_BOW,y_trainBOW)"
   ]
  },
  {
   "cell_type": "code",
   "execution_count": 16,
   "metadata": {},
   "outputs": [],
   "source": [
    "Pre_tree_BOW = clf_tree_BOW.predict(X_test_BOW)"
   ]
  },
  {
   "cell_type": "code",
   "execution_count": 18,
   "metadata": {},
   "outputs": [
    {
     "name": "stdout",
     "output_type": "stream",
     "text": [
      "                       precision    recall  f1-score   support\n",
      "\n",
      "            Anonymous       0.20      1.00      0.33         1\n",
      "         David Widger       1.00      1.00      1.00         3\n",
      "E. Phillips Oppenheim       1.00      1.00      1.00         3\n",
      " Edgar Rice Burroughs       1.00      1.00      1.00         4\n",
      " Edward Bulwer Lytton       1.00      0.80      0.89         5\n",
      "    Huguette Bertrand       1.00      1.00      1.00         6\n",
      "        L. Frank Baum       1.00      0.86      0.92         7\n",
      "    Mrs. Humphry Ward       1.00      1.00      1.00         3\n",
      "          Oscar Wilde       1.00      0.67      0.80         3\n",
      "           Paul Heyse       1.00      1.00      1.00         5\n",
      "     Sir Walter Scott       1.00      1.00      1.00         6\n",
      "        Theodor Storm       1.00      1.00      1.00         7\n",
      "     Thomas H. Huxley       1.00      0.60      0.75         5\n",
      "       Upton Sinclair       1.00      1.00      1.00         6\n",
      "      Victor Appleton       1.00      1.00      1.00         6\n",
      "          Victor Hugo       1.00      1.00      1.00         4\n",
      " Walter Horatio Pater       0.75      1.00      0.86         3\n",
      "       Wilkie Collins       1.00      1.00      1.00         4\n",
      "\n",
      "          avg / total       0.98      0.94      0.95        81\n",
      "\n"
     ]
    }
   ],
   "source": [
    "from sklearn.metrics import classification_report\n",
    "print(classification_report(y_testBOW, Pre_tree_BOW))"
   ]
  },
  {
   "cell_type": "markdown",
   "metadata": {},
   "source": [
    "### 1.3 RandomForest "
   ]
  },
  {
   "cell_type": "code",
   "execution_count": 19,
   "metadata": {},
   "outputs": [],
   "source": [
    "from sklearn.metrics import classification_report\n",
    "from sklearn.ensemble import RandomForestClassifier"
   ]
  },
  {
   "cell_type": "code",
   "execution_count": 20,
   "metadata": {},
   "outputs": [
    {
     "data": {
      "text/plain": [
       "RandomForestClassifier(bootstrap=True, class_weight=None, criterion='gini',\n",
       "            max_depth=None, max_features='auto', max_leaf_nodes=None,\n",
       "            min_impurity_decrease=0.0, min_impurity_split=None,\n",
       "            min_samples_leaf=1, min_samples_split=2,\n",
       "            min_weight_fraction_leaf=0.0, n_estimators=100, n_jobs=1,\n",
       "            oob_score=False, random_state=100, verbose=0, warm_start=False)"
      ]
     },
     "execution_count": 20,
     "metadata": {},
     "output_type": "execute_result"
    }
   ],
   "source": [
    "RanForest_BOW = RandomForestClassifier(n_estimators=100, random_state=100)\n",
    "RanForest_BOW.fit(X_train_BOW,y_trainBOW)"
   ]
  },
  {
   "cell_type": "code",
   "execution_count": 21,
   "metadata": {},
   "outputs": [
    {
     "name": "stdout",
     "output_type": "stream",
     "text": [
      "                       precision    recall  f1-score   support\n",
      "\n",
      "            Anonymous       0.33      1.00      0.50         1\n",
      "         David Widger       1.00      1.00      1.00         3\n",
      "E. Phillips Oppenheim       1.00      1.00      1.00         3\n",
      " Edgar Rice Burroughs       1.00      1.00      1.00         4\n",
      " Edward Bulwer Lytton       1.00      0.80      0.89         5\n",
      "    Huguette Bertrand       1.00      1.00      1.00         6\n",
      "        L. Frank Baum       0.88      1.00      0.93         7\n",
      "    Mrs. Humphry Ward       1.00      1.00      1.00         3\n",
      "          Oscar Wilde       0.60      1.00      0.75         3\n",
      "           Paul Heyse       1.00      1.00      1.00         5\n",
      "     Sir Walter Scott       1.00      1.00      1.00         6\n",
      "        Theodor Storm       1.00      1.00      1.00         7\n",
      "     Thomas H. Huxley       1.00      0.60      0.75         5\n",
      "       Upton Sinclair       1.00      0.83      0.91         6\n",
      "      Victor Appleton       1.00      1.00      1.00         6\n",
      "          Victor Hugo       1.00      1.00      1.00         4\n",
      " Walter Horatio Pater       1.00      1.00      1.00         3\n",
      "       Wilkie Collins       1.00      0.75      0.86         4\n",
      "\n",
      "          avg / total       0.97      0.94      0.94        81\n",
      "\n"
     ]
    }
   ],
   "source": [
    "PreRanForest_BOW = RanForest_BOW.predict(X_test_BOW)\n",
    "print(classification_report(y_testBOW, PreRanForest_BOW))"
   ]
  },
  {
   "cell_type": "code",
   "execution_count": null,
   "metadata": {},
   "outputs": [],
   "source": [
    "pipelineRanFores_BOWF = Pipeline([('tfidf', TfidfVectorizer(stop_words=stop_words)),('clf', OneVsRestClassifier(RandomForestClassifier(random_state=100))),])\n",
    "parametersRanFores_BOW = {'tfidf__max_df': (0.25, 0.5, 1),'tfidf__ngram_range': [(1, 1), (1, 2), (1, 3)],\n",
    "                            'clf__n_estimators': [50, 100,500],'clf__max_features': ['auto', 'sqrt'],'clf__min_samples_split': [2, 5, 10],\n",
    "                            'clf__min_samples_leaf': [1, 2, 4],'clf__bootstrap': [True, False],'clf__max_depth': [10,50,100,None]\n",
    "                           }"
   ]
  },
  {
   "cell_type": "code",
   "execution_count": null,
   "metadata": {},
   "outputs": [],
   "source": [
    "from sklearn.model_selection import GridSearchCV\n",
    "grid_search_tuneRanFores_BOW = GridSearchCV(pipelineRanFores_BOW, parametersRanFores_BOW, cv=2, n_jobs=2, verbose=3)\n",
    "grid_search_tuneRanFores_BOW.fit(X_trainBOW, y_trainBOW)"
   ]
  },
  {
   "cell_type": "code",
   "execution_count": null,
   "metadata": {},
   "outputs": [],
   "source": [
    "best_clfRanFores_BOW = grid_search_tuneRanFores_BOW.best_estimator_\n",
    "predictionsRanFores_BOW = best_clfRanFores_BOW.predict(X_testBOW)\n",
    "print(classification_report(y_testBOW, predictionsRanFores_BOW))"
   ]
  },
  {
   "cell_type": "markdown",
   "metadata": {},
   "source": [
    "#### 1.4 Support vector machine "
   ]
  },
  {
   "cell_type": "code",
   "execution_count": null,
   "metadata": {},
   "outputs": [],
   "source": []
  },
  {
   "cell_type": "code",
   "execution_count": 22,
   "metadata": {},
   "outputs": [
    {
     "data": {
      "text/plain": [
       "SVC(C=1.0, cache_size=200, class_weight=None, coef0=0.0,\n",
       "  decision_function_shape='ovr', degree=3, gamma='auto', kernel='rbf',\n",
       "  max_iter=-1, probability=False, random_state=None, shrinking=True,\n",
       "  tol=0.001, verbose=False)"
      ]
     },
     "execution_count": 22,
     "metadata": {},
     "output_type": "execute_result"
    }
   ],
   "source": [
    "from sklearn.svm import SVC\n",
    "clf_SVM_BOW = SVC()\n",
    "clf_SVM_BOW.fit(X_train_BOW,y_trainBOW)"
   ]
  },
  {
   "cell_type": "code",
   "execution_count": 23,
   "metadata": {},
   "outputs": [
    {
     "name": "stdout",
     "output_type": "stream",
     "text": [
      "                       precision    recall  f1-score   support\n",
      "\n",
      "            Anonymous       0.50      1.00      0.67         1\n",
      "         David Widger       1.00      0.67      0.80         3\n",
      "E. Phillips Oppenheim       1.00      0.67      0.80         3\n",
      " Edgar Rice Burroughs       1.00      0.25      0.40         4\n",
      " Edward Bulwer Lytton       1.00      0.80      0.89         5\n",
      "    Huguette Bertrand       1.00      1.00      1.00         6\n",
      "        L. Frank Baum       1.00      0.29      0.44         7\n",
      "    Mrs. Humphry Ward       1.00      1.00      1.00         3\n",
      "          Oscar Wilde       0.50      0.67      0.57         3\n",
      "           Paul Heyse       1.00      0.80      0.89         5\n",
      "     Sir Walter Scott       1.00      0.33      0.50         6\n",
      "        Theodor Storm       1.00      0.86      0.92         7\n",
      "     Thomas H. Huxley       0.75      0.60      0.67         5\n",
      "       Upton Sinclair       1.00      0.17      0.29         6\n",
      "      Victor Appleton       1.00      1.00      1.00         6\n",
      "          Victor Hugo       0.00      0.00      0.00         4\n",
      " Walter Horatio Pater       1.00      1.00      1.00         3\n",
      "       Wilkie Collins       0.14      1.00      0.24         4\n",
      "\n",
      "          avg / total       0.87      0.64      0.67        81\n",
      "\n"
     ]
    },
    {
     "name": "stderr",
     "output_type": "stream",
     "text": [
      "C:\\Users\\vuong.huynh\\Anaconda3\\lib\\site-packages\\sklearn\\metrics\\classification.py:1135: UndefinedMetricWarning: Precision and F-score are ill-defined and being set to 0.0 in labels with no predicted samples.\n",
      "  'precision', 'predicted', average, warn_for)\n"
     ]
    }
   ],
   "source": [
    "Pre_SVM_BOW = clf_SVM_BOW.predict(X_test_BOW)\n",
    "print(classification_report(y_testBOW, Pre_SVM_BOW))"
   ]
  },
  {
   "cell_type": "markdown",
   "metadata": {},
   "source": [
    "#### 1.5 CNN"
   ]
  },
  {
   "cell_type": "code",
   "execution_count": null,
   "metadata": {},
   "outputs": [],
   "source": [
    "## Sử dụng GPU\n",
    "import tensorflow as tf\n",
    "from keras.backend import tensorflow_backend\n",
    "config = tf.ConfigProto(gpu_options=tf.GPUOptions(allow_growth=True))\n",
    "session = tf.Session(config=config)\n",
    "tensorflow_backend.set_session(session)"
   ]
  },
  {
   "cell_type": "code",
   "execution_count": 160,
   "metadata": {},
   "outputs": [
    {
     "name": "stdout",
     "output_type": "stream",
     "text": [
      "<class 'numpy.ndarray'> (320, 1000)\n"
     ]
    }
   ],
   "source": [
    "from sklearn.feature_extraction.text import CountVectorizer\n",
    "c_vect = CountVectorizer(max_features=1000)\n",
    "BOW_Train = c_vect.fit_transform(X_trainBOW).toarray()\n",
    "BOW_Test = c_vect.fit_transform(X_testBOW).toarray()\n",
    "print(type(BOW_Train),BOW_Train.shape) "
   ]
  },
  {
   "cell_type": "code",
   "execution_count": 161,
   "metadata": {},
   "outputs": [],
   "source": [
    "from sklearn.preprocessing import LabelEncoder\n",
    "lblEncoder_BOW=LabelEncoder()\n",
    "y_trainEncoder_BOW = lblEncoder_BOW.fit_transform(y_trainBOW)\n",
    "y_testEncoder_BOW=lblEncoder_BOW.transform(y_testBOW)\n",
    "from keras import utils as np_utils\n",
    "y_trainEC_BOW = np_utils.to_categorical(y_trainEncoder_BOW,18)\n",
    "y_testEC_BOW = np_utils.to_categorical(y_testEncoder_BOW,18)"
   ]
  },
  {
   "cell_type": "code",
   "execution_count": 162,
   "metadata": {},
   "outputs": [
    {
     "name": "stdout",
     "output_type": "stream",
     "text": [
      "_________________________________________________________________\n",
      "Layer (type)                 Output Shape              Param #   \n",
      "=================================================================\n",
      "dense_80 (Dense)             (None, 64)                64064     \n",
      "_________________________________________________________________\n",
      "dropout_51 (Dropout)         (None, 64)                0         \n",
      "_________________________________________________________________\n",
      "activation_13 (Activation)   (None, 64)                0         \n",
      "_________________________________________________________________\n",
      "dense_81 (Dense)             (None, 64)                4160      \n",
      "_________________________________________________________________\n",
      "dropout_52 (Dropout)         (None, 64)                0         \n",
      "_________________________________________________________________\n",
      "activation_14 (Activation)   (None, 64)                0         \n",
      "_________________________________________________________________\n",
      "dense_82 (Dense)             (None, 18)                1170      \n",
      "_________________________________________________________________\n",
      "activation_15 (Activation)   (None, 18)                0         \n",
      "=================================================================\n",
      "Total params: 69,394\n",
      "Trainable params: 69,394\n",
      "Non-trainable params: 0\n",
      "_________________________________________________________________\n"
     ]
    }
   ],
   "source": [
    "# build model\n",
    "from keras.models import Sequential\n",
    "from keras.layers import Dense, Dropout, Activation, Conv1D, GlobalMaxPooling1D\n",
    "\n",
    "\n",
    "modelBOW1 = Sequential()\n",
    "modelBOW1.add(Dense(64,input_shape=(1000,)))\n",
    "modelBOW1.add(Dropout(0.2))\n",
    "modelBOW1.add(Activation('relu'))\n",
    "modelBOW1.add(Dense(64))\n",
    "modelBOW1.add(Dropout(0.2))\n",
    "modelBOW1.add(Activation('relu'))\n",
    "modelBOW1.add(Dense(18))\n",
    "modelBOW1.add(Activation('sigmoid'))\n",
    "modelBOW1.summary()\n",
    "modelBOW1.compile(loss='binary_crossentropy',optimizer='adam',metrics=['acc'])"
   ]
  },
  {
   "cell_type": "code",
   "execution_count": 163,
   "metadata": {},
   "outputs": [
    {
     "name": "stdout",
     "output_type": "stream",
     "text": [
      "Train on 320 samples, validate on 81 samples\n",
      "Epoch 1/10\n",
      "320/320 [==============================] - 2s 5ms/step - loss: 4.0489 - acc: 0.6085 - val_loss: 1.9905 - val_acc: 0.7723\n",
      "Epoch 2/10\n",
      "320/320 [==============================] - 0s 196us/step - loss: 1.8895 - acc: 0.8071 - val_loss: 1.3291 - val_acc: 0.8690\n",
      "Epoch 3/10\n",
      "320/320 [==============================] - 0s 206us/step - loss: 1.4363 - acc: 0.8608 - val_loss: 0.9432 - val_acc: 0.9129\n",
      "Epoch 4/10\n",
      "320/320 [==============================] - 0s 249us/step - loss: 1.1871 - acc: 0.8839 - val_loss: 0.8821 - val_acc: 0.9280\n",
      "Epoch 5/10\n",
      "320/320 [==============================] - 0s 249us/step - loss: 1.1244 - acc: 0.8958 - val_loss: 0.8036 - val_acc: 0.9424\n",
      "Epoch 6/10\n",
      "320/320 [==============================] - 0s 296us/step - loss: 0.9435 - acc: 0.9101 - val_loss: 0.7877 - val_acc: 0.9424\n",
      "Epoch 7/10\n",
      "320/320 [==============================] - 0s 374us/step - loss: 0.8567 - acc: 0.9201 - val_loss: 0.7902 - val_acc: 0.9417\n",
      "Epoch 8/10\n",
      "320/320 [==============================] - 0s 302us/step - loss: 0.8051 - acc: 0.9229 - val_loss: 0.7672 - val_acc: 0.9396\n",
      "Epoch 9/10\n",
      "320/320 [==============================] - 0s 284us/step - loss: 0.7531 - acc: 0.9146 - val_loss: 0.7427 - val_acc: 0.9369\n",
      "Epoch 10/10\n",
      "320/320 [==============================] - 0s 252us/step - loss: 0.6882 - acc: 0.9094 - val_loss: 0.7360 - val_acc: 0.9355\n"
     ]
    },
    {
     "data": {
      "text/plain": [
       "<keras.callbacks.History at 0x1c0651c0668>"
      ]
     },
     "execution_count": 163,
     "metadata": {},
     "output_type": "execute_result"
    }
   ],
   "source": [
    "modelBOW1.fit(BOW_Train,y_trainEC_BOW,batch_size=32,epochs=10,verbose=1,validation_data=(BOW_Test, y_testEC_BOW))"
   ]
  },
  {
   "cell_type": "code",
   "execution_count": 164,
   "metadata": {},
   "outputs": [
    {
     "name": "stdout",
     "output_type": "stream",
     "text": [
      "_________________________________________________________________\n",
      "Layer (type)                 Output Shape              Param #   \n",
      "=================================================================\n",
      "dense_83 (Dense)             (None, 512)               512512    \n",
      "_________________________________________________________________\n",
      "dropout_53 (Dropout)         (None, 512)               0         \n",
      "_________________________________________________________________\n",
      "dense_84 (Dense)             (None, 256)               131328    \n",
      "_________________________________________________________________\n",
      "dropout_54 (Dropout)         (None, 256)               0         \n",
      "_________________________________________________________________\n",
      "dense_85 (Dense)             (None, 18)                4626      \n",
      "=================================================================\n",
      "Total params: 648,466\n",
      "Trainable params: 648,466\n",
      "Non-trainable params: 0\n",
      "_________________________________________________________________\n"
     ]
    }
   ],
   "source": [
    "from keras import metrics\n",
    "modelBOW2 = Sequential()\n",
    "modelBOW2.add(Dense(512, activation='relu', input_shape=(1000,)))\n",
    "modelBOW2.add(Dropout(0.2))\n",
    "modelBOW2.add(Dense(256, activation='relu'))\n",
    "modelBOW2.add(Dropout(0.2))\n",
    "modelBOW2.add(Dense(18, activation='sigmoid'))\n",
    "modelBOW2.summary()\n",
    "modelBOW2.compile(loss='binary_crossentropy', optimizer='adam',metrics=['acc',metrics.binary_accuracy])"
   ]
  },
  {
   "cell_type": "code",
   "execution_count": 165,
   "metadata": {},
   "outputs": [
    {
     "name": "stdout",
     "output_type": "stream",
     "text": [
      "Train on 320 samples, validate on 81 samples\n",
      "Epoch 1/10\n",
      "320/320 [==============================] - 1s 3ms/step - loss: 1.8459 - acc: 0.8444 - binary_accuracy: 0.8444 - val_loss: 0.8395 - val_acc: 0.9383 - val_binary_accuracy: 0.9383\n",
      "Epoch 2/10\n",
      "320/320 [==============================] - 0s 262us/step - loss: 0.8038 - acc: 0.9469 - binary_accuracy: 0.9469 - val_loss: 0.8647 - val_acc: 0.9444 - val_binary_accuracy: 0.9444\n",
      "Epoch 3/10\n",
      "320/320 [==============================] - 0s 274us/step - loss: 0.8048 - acc: 0.9483 - binary_accuracy: 0.9483 - val_loss: 0.8592 - val_acc: 0.9438 - val_binary_accuracy: 0.9438\n",
      "Epoch 4/10\n",
      "320/320 [==============================] - 0s 246us/step - loss: 0.7817 - acc: 0.9486 - binary_accuracy: 0.9486 - val_loss: 0.8778 - val_acc: 0.9444 - val_binary_accuracy: 0.9444\n",
      "Epoch 5/10\n",
      "320/320 [==============================] - 0s 237us/step - loss: 0.7707 - acc: 0.9488 - binary_accuracy: 0.9488 - val_loss: 0.8888 - val_acc: 0.9444 - val_binary_accuracy: 0.9444\n",
      "Epoch 6/10\n",
      "320/320 [==============================] - 0s 209us/step - loss: 0.8073 - acc: 0.9476 - binary_accuracy: 0.9476 - val_loss: 0.8715 - val_acc: 0.9451 - val_binary_accuracy: 0.9451\n",
      "Epoch 7/10\n",
      "320/320 [==============================] - 0s 218us/step - loss: 0.7875 - acc: 0.9500 - binary_accuracy: 0.9500 - val_loss: 0.8864 - val_acc: 0.9444 - val_binary_accuracy: 0.9444\n",
      "Epoch 8/10\n",
      "320/320 [==============================] - 0s 218us/step - loss: 0.7917 - acc: 0.9491 - binary_accuracy: 0.9491 - val_loss: 0.8920 - val_acc: 0.9444 - val_binary_accuracy: 0.9444\n",
      "Epoch 9/10\n",
      "320/320 [==============================] - 0s 199us/step - loss: 0.7632 - acc: 0.9510 - binary_accuracy: 0.9510 - val_loss: 0.8884 - val_acc: 0.9444 - val_binary_accuracy: 0.9444\n",
      "Epoch 10/10\n",
      "320/320 [==============================] - 0s 206us/step - loss: 0.7791 - acc: 0.9507 - binary_accuracy: 0.9507 - val_loss: 0.8903 - val_acc: 0.9444 - val_binary_accuracy: 0.9444\n"
     ]
    },
    {
     "data": {
      "text/plain": [
       "<keras.callbacks.History at 0x1c065f59f28>"
      ]
     },
     "execution_count": 165,
     "metadata": {},
     "output_type": "execute_result"
    }
   ],
   "source": [
    "modelBOW2.fit(BOW_Train,y_trainEC_BOW,batch_size=32,epochs=10,verbose=1,validation_data=(BOW_Test, y_testEC_BOW))"
   ]
  },
  {
   "cell_type": "code",
   "execution_count": 166,
   "metadata": {},
   "outputs": [
    {
     "name": "stderr",
     "output_type": "stream",
     "text": [
      "C:\\Users\\vuong.huynh\\Anaconda3\\lib\\site-packages\\sklearn\\utils\\validation.py:475: DataConversionWarning: Data with input dtype int64 was converted to float64 by MinMaxScaler.\n",
      "  warnings.warn(msg, DataConversionWarning)\n"
     ]
    }
   ],
   "source": [
    "from sklearn.preprocessing import MinMaxScaler\n",
    "scalerBOW = MinMaxScaler()\n",
    "scalerBOW.fit(BOW_Train)\n",
    "X_train_scalerBOW = scalerTFIDF.transform(BOW_Train)\n",
    "X_test_scalerBOW = scalerTFIDF.transform(BOW_Test)"
   ]
  },
  {
   "cell_type": "code",
   "execution_count": 167,
   "metadata": {},
   "outputs": [
    {
     "name": "stdout",
     "output_type": "stream",
     "text": [
      "_________________________________________________________________\n",
      "Layer (type)                 Output Shape              Param #   \n",
      "=================================================================\n",
      "dense_86 (Dense)             (None, 512)               512512    \n",
      "_________________________________________________________________\n",
      "dropout_55 (Dropout)         (None, 512)               0         \n",
      "_________________________________________________________________\n",
      "dense_87 (Dense)             (None, 256)               131328    \n",
      "_________________________________________________________________\n",
      "dropout_56 (Dropout)         (None, 256)               0         \n",
      "_________________________________________________________________\n",
      "dense_88 (Dense)             (None, 18)                4626      \n",
      "=================================================================\n",
      "Total params: 648,466\n",
      "Trainable params: 648,466\n",
      "Non-trainable params: 0\n",
      "_________________________________________________________________\n",
      "Train on 320 samples, validate on 81 samples\n",
      "Epoch 1/10\n",
      "320/320 [==============================] - 1s 3ms/step - loss: 3.1990 - acc: 0.7924 - binary_accuracy: 0.7924 - val_loss: 1.6973 - val_acc: 0.8937 - val_binary_accuracy: 0.8937\n",
      "Epoch 2/10\n",
      "320/320 [==============================] - 0s 265us/step - loss: 1.5952 - acc: 0.8993 - binary_accuracy: 0.8993 - val_loss: 0.8954 - val_acc: 0.9444 - val_binary_accuracy: 0.9444\n",
      "Epoch 3/10\n",
      "320/320 [==============================] - 0s 246us/step - loss: 1.0902 - acc: 0.9321 - binary_accuracy: 0.9321 - val_loss: 0.8954 - val_acc: 0.9444 - val_binary_accuracy: 0.9444\n",
      "Epoch 4/10\n",
      "320/320 [==============================] - 0s 234us/step - loss: 0.9543 - acc: 0.9403 - binary_accuracy: 0.9403 - val_loss: 0.8954 - val_acc: 0.9444 - val_binary_accuracy: 0.9444\n",
      "Epoch 5/10\n",
      "320/320 [==============================] - 0s 209us/step - loss: 0.9033 - acc: 0.9439 - binary_accuracy: 0.9439 - val_loss: 0.8954 - val_acc: 0.9444 - val_binary_accuracy: 0.9444\n",
      "Epoch 6/10\n",
      "320/320 [==============================] - 0s 199us/step - loss: 0.9116 - acc: 0.9434 - binary_accuracy: 0.9434 - val_loss: 0.8954 - val_acc: 0.9444 - val_binary_accuracy: 0.9444\n",
      "Epoch 7/10\n",
      "320/320 [==============================] - 0s 171us/step - loss: 0.8950 - acc: 0.9444 - binary_accuracy: 0.9444 - val_loss: 0.8954 - val_acc: 0.9444 - val_binary_accuracy: 0.9444\n",
      "Epoch 8/10\n",
      "320/320 [==============================] - 0s 181us/step - loss: 0.9016 - acc: 0.9437 - binary_accuracy: 0.9437 - val_loss: 0.8954 - val_acc: 0.9444 - val_binary_accuracy: 0.9444\n",
      "Epoch 9/10\n",
      "320/320 [==============================] - 0s 193us/step - loss: 0.8968 - acc: 0.9441 - binary_accuracy: 0.9441 - val_loss: 0.8954 - val_acc: 0.9444 - val_binary_accuracy: 0.9444\n",
      "Epoch 10/10\n",
      "320/320 [==============================] - 0s 231us/step - loss: 0.8923 - acc: 0.9446 - binary_accuracy: 0.9446 - val_loss: 0.8954 - val_acc: 0.9444 - val_binary_accuracy: 0.9444\n"
     ]
    },
    {
     "data": {
      "text/plain": [
       "<keras.callbacks.History at 0x1c0663a8cf8>"
      ]
     },
     "execution_count": 167,
     "metadata": {},
     "output_type": "execute_result"
    }
   ],
   "source": [
    "from keras import metrics\n",
    "modelBOW4 = Sequential()\n",
    "modelBOW4.add(Dense(512, activation='relu', input_shape=(1000,)))\n",
    "modelBOW4.add(Dropout(0.2))\n",
    "modelBOW4.add(Dense(256, activation='relu'))\n",
    "modelBOW4.add(Dropout(0.2))\n",
    "modelBOW4.add(Dense(18, activation='sigmoid'))\n",
    "modelBOW4.summary()\n",
    "modelBOW4.compile(loss='binary_crossentropy', optimizer='adam',metrics=['acc',metrics.binary_accuracy])\n",
    "modelBOW4.fit(X_train_scalerBOW,y_trainEC_BOW,batch_size=32,epochs=10,verbose=1,validation_data=(X_test_scalerBOW, y_testEC_BOW))"
   ]
  },
  {
   "cell_type": "markdown",
   "metadata": {},
   "source": [
    "## 2. TF-IDF"
   ]
  },
  {
   "cell_type": "code",
   "execution_count": 57,
   "metadata": {},
   "outputs": [],
   "source": [
    "#from sklearn.model_selection import train_test_split\n",
    "# Chia tập dữ liệu thành 2 tập (train, test) theo tỉ lệ 80% cho tập train 20% cho tập test\n",
    "#X_trainTFIDF, X_testTFIDF, y_trainTFIDF, y_testTFIDF = train_test_split(DataTrain.NoiDungTokenize, DataTrain.TacGia, test_size=0.2, random_state=12)"
   ]
  },
  {
   "cell_type": "code",
   "execution_count": 34,
   "metadata": {},
   "outputs": [],
   "source": [
    "X_trainTFIDF=X_trainBOW\n",
    "X_testTFIDF=X_testBOW \n",
    "y_trainTFIDF=y_trainBOW\n",
    "y_testTFIDF=y_testBOW"
   ]
  },
  {
   "cell_type": "code",
   "execution_count": 35,
   "metadata": {},
   "outputs": [],
   "source": [
    "from sklearn.feature_extraction.text import TfidfVectorizer\n",
    "tfidf_vector = TfidfVectorizer(stop_words='english')"
   ]
  },
  {
   "cell_type": "code",
   "execution_count": 36,
   "metadata": {},
   "outputs": [
    {
     "data": {
      "text/plain": [
       "TfidfVectorizer(analyzer='word', binary=False, decode_error='strict',\n",
       "        dtype=<class 'numpy.int64'>, encoding='utf-8', input='content',\n",
       "        lowercase=True, max_df=1.0, max_features=None, min_df=1,\n",
       "        ngram_range=(1, 1), norm='l2', preprocessor=None, smooth_idf=True,\n",
       "        stop_words='english', strip_accents=None, sublinear_tf=False,\n",
       "        token_pattern='(?u)\\\\b\\\\w\\\\w+\\\\b', tokenizer=None, use_idf=True,\n",
       "        vocabulary=None)"
      ]
     },
     "execution_count": 36,
     "metadata": {},
     "output_type": "execute_result"
    }
   ],
   "source": [
    "tfidf_vector.fit(X_trainTFIDF)"
   ]
  },
  {
   "cell_type": "code",
   "execution_count": 37,
   "metadata": {},
   "outputs": [],
   "source": [
    "X_train_TFIDF = tfidf_vector.transform(X_trainTFIDF)"
   ]
  },
  {
   "cell_type": "code",
   "execution_count": 38,
   "metadata": {},
   "outputs": [],
   "source": [
    "#X_train_TFIDF = tfidf_vector.fit_transform(X_trainTFIDF)\n",
    "X_test_TFIDF = tfidf_vector.transform(X_testTFIDF)"
   ]
  },
  {
   "cell_type": "code",
   "execution_count": null,
   "metadata": {},
   "outputs": [],
   "source": [
    "#X_train_TFIDF = tfidf_vector.fit_transform(X_train).toarray()\n",
    "#X_test_TFIDF = tfidf_vector.transform(X_test).toarray()"
   ]
  },
  {
   "cell_type": "markdown",
   "metadata": {},
   "source": [
    "### 2.1 Naive baye "
   ]
  },
  {
   "cell_type": "code",
   "execution_count": 39,
   "metadata": {},
   "outputs": [],
   "source": [
    "from sklearn.naive_bayes import MultinomialNB\n",
    "MulNB_TFIDF = MultinomialNB()"
   ]
  },
  {
   "cell_type": "code",
   "execution_count": 40,
   "metadata": {},
   "outputs": [
    {
     "data": {
      "text/plain": [
       "MultinomialNB(alpha=1.0, class_prior=None, fit_prior=True)"
      ]
     },
     "execution_count": 40,
     "metadata": {},
     "output_type": "execute_result"
    }
   ],
   "source": [
    "MulNB_TFIDF.fit(X_train_TFIDF, y_trainTFIDF)"
   ]
  },
  {
   "cell_type": "code",
   "execution_count": 41,
   "metadata": {},
   "outputs": [],
   "source": [
    "PreMulNB_TFIDF = MulNB_TFIDF.predict(X_test_TFIDF)"
   ]
  },
  {
   "cell_type": "code",
   "execution_count": 42,
   "metadata": {},
   "outputs": [
    {
     "name": "stdout",
     "output_type": "stream",
     "text": [
      "                       precision    recall  f1-score   support\n",
      "\n",
      "            Anonymous       0.25      1.00      0.40         1\n",
      "         David Widger       1.00      0.33      0.50         3\n",
      "E. Phillips Oppenheim       1.00      0.33      0.50         3\n",
      " Edgar Rice Burroughs       1.00      1.00      1.00         4\n",
      " Edward Bulwer Lytton       1.00      0.60      0.75         5\n",
      "    Huguette Bertrand       1.00      1.00      1.00         6\n",
      "        L. Frank Baum       1.00      0.43      0.60         7\n",
      "    Mrs. Humphry Ward       1.00      1.00      1.00         3\n",
      "          Oscar Wilde       1.00      0.33      0.50         3\n",
      "           Paul Heyse       1.00      1.00      1.00         5\n",
      "     Sir Walter Scott       1.00      1.00      1.00         6\n",
      "        Theodor Storm       1.00      1.00      1.00         7\n",
      "     Thomas H. Huxley       1.00      0.40      0.57         5\n",
      "       Upton Sinclair       1.00      0.33      0.50         6\n",
      "      Victor Appleton       1.00      1.00      1.00         6\n",
      "          Victor Hugo       1.00      1.00      1.00         4\n",
      " Walter Horatio Pater       0.33      1.00      0.50         3\n",
      "       Wilkie Collins       0.29      1.00      0.44         4\n",
      "\n",
      "          avg / total       0.93      0.77      0.78        81\n",
      "\n"
     ]
    }
   ],
   "source": [
    "print(classification_report(y_testTFIDF, PreMulNB_TFIDF))"
   ]
  },
  {
   "cell_type": "code",
   "execution_count": null,
   "metadata": {},
   "outputs": [],
   "source": [
    "pipelineMulNB_TFIDF = Pipeline([('tfidf', TfidfVectorizer(stop_words=stop_words)),('clf', OneVsRestClassifier(MultinomialNB(fit_prior=True, class_prior=None))),])\n",
    "parametersMulNB_TFIDF = {'tfidf__max_df': (0.25, 0.5, 1),'tfidf__ngram_range': [(1, 1), (1, 2), (1, 3)],'clf__estimator__alpha': (1e-2, 1e-3)}"
   ]
  },
  {
   "cell_type": "code",
   "execution_count": null,
   "metadata": {},
   "outputs": [],
   "source": [
    "grid_search_tuneMulNB_TFIDF = GridSearchCV(pipelineMulNB_TFIDF, parametersMulNB_TFIDF, cv=2, n_jobs=2, verbose=3)\n",
    "grid_search_tuneMulNB_TFIDF.fit(X_trainTFIDF, y_trainTFIDF)"
   ]
  },
  {
   "cell_type": "code",
   "execution_count": null,
   "metadata": {},
   "outputs": [],
   "source": [
    "best_clfMulNB_TFIDFF = grid_search_tuneMulNB_TFIDF.best_estimator_\n",
    "predictionsMulNB_TFIDF = best_clfMulNB_TFIDF.predict(X_testTFIDF)"
   ]
  },
  {
   "cell_type": "code",
   "execution_count": null,
   "metadata": {},
   "outputs": [],
   "source": [
    "print(classification_report(y_testTFIDF, predictionsMulNB_TFIDF))"
   ]
  },
  {
   "cell_type": "markdown",
   "metadata": {},
   "source": [
    "### 2.2 Decision Tree "
   ]
  },
  {
   "cell_type": "code",
   "execution_count": 43,
   "metadata": {},
   "outputs": [],
   "source": [
    "from sklearn import tree"
   ]
  },
  {
   "cell_type": "code",
   "execution_count": 44,
   "metadata": {},
   "outputs": [
    {
     "data": {
      "text/plain": [
       "DecisionTreeClassifier(class_weight=None, criterion='gini', max_depth=None,\n",
       "            max_features=None, max_leaf_nodes=None,\n",
       "            min_impurity_decrease=0.0, min_impurity_split=None,\n",
       "            min_samples_leaf=1, min_samples_split=2,\n",
       "            min_weight_fraction_leaf=0.0, presort=False, random_state=None,\n",
       "            splitter='best')"
      ]
     },
     "execution_count": 44,
     "metadata": {},
     "output_type": "execute_result"
    }
   ],
   "source": [
    "clf_tree_TFIDF = tree.DecisionTreeClassifier()\n",
    "clf_tree_TFIDF.fit(X_train_TFIDF,y_trainTFIDF)"
   ]
  },
  {
   "cell_type": "code",
   "execution_count": 45,
   "metadata": {},
   "outputs": [],
   "source": [
    "Pre_tree_TFIDF = clf_tree_TFIDF.predict(X_test_TFIDF)"
   ]
  },
  {
   "cell_type": "code",
   "execution_count": 46,
   "metadata": {},
   "outputs": [
    {
     "name": "stdout",
     "output_type": "stream",
     "text": [
      "                       precision    recall  f1-score   support\n",
      "\n",
      "            Anonymous       0.33      1.00      0.50         1\n",
      "         David Widger       1.00      1.00      1.00         3\n",
      "E. Phillips Oppenheim       1.00      1.00      1.00         3\n",
      " Edgar Rice Burroughs       1.00      1.00      1.00         4\n",
      " Edward Bulwer Lytton       1.00      1.00      1.00         5\n",
      "    Huguette Bertrand       1.00      1.00      1.00         6\n",
      "        L. Frank Baum       1.00      0.86      0.92         7\n",
      "    Mrs. Humphry Ward       0.75      1.00      0.86         3\n",
      "          Oscar Wilde       1.00      0.67      0.80         3\n",
      "           Paul Heyse       1.00      1.00      1.00         5\n",
      "     Sir Walter Scott       1.00      0.83      0.91         6\n",
      "        Theodor Storm       1.00      1.00      1.00         7\n",
      "     Thomas H. Huxley       1.00      0.60      0.75         5\n",
      "       Upton Sinclair       1.00      1.00      1.00         6\n",
      "      Victor Appleton       1.00      0.83      0.91         6\n",
      "          Victor Hugo       1.00      1.00      1.00         4\n",
      " Walter Horatio Pater       0.75      1.00      0.86         3\n",
      "       Wilkie Collins       0.67      1.00      0.80         4\n",
      "\n",
      "          avg / total       0.96      0.93      0.93        81\n",
      "\n"
     ]
    }
   ],
   "source": [
    "print(classification_report(y_testTFIDF, Pre_tree_TFIDF))"
   ]
  },
  {
   "cell_type": "markdown",
   "metadata": {},
   "source": [
    "### 2.3 RandomForest "
   ]
  },
  {
   "cell_type": "code",
   "execution_count": 47,
   "metadata": {},
   "outputs": [
    {
     "data": {
      "text/plain": [
       "RandomForestClassifier(bootstrap=True, class_weight=None, criterion='gini',\n",
       "            max_depth=None, max_features='auto', max_leaf_nodes=None,\n",
       "            min_impurity_decrease=0.0, min_impurity_split=None,\n",
       "            min_samples_leaf=1, min_samples_split=2,\n",
       "            min_weight_fraction_leaf=0.0, n_estimators=100, n_jobs=1,\n",
       "            oob_score=False, random_state=100, verbose=0, warm_start=False)"
      ]
     },
     "execution_count": 47,
     "metadata": {},
     "output_type": "execute_result"
    }
   ],
   "source": [
    "RanForest_TFIDF = RandomForestClassifier(n_estimators=100, random_state=100)\n",
    "RanForest_TFIDF.fit(X_train_TFIDF,y_trainTFIDF)"
   ]
  },
  {
   "cell_type": "code",
   "execution_count": 48,
   "metadata": {},
   "outputs": [
    {
     "name": "stdout",
     "output_type": "stream",
     "text": [
      "                       precision    recall  f1-score   support\n",
      "\n",
      "            Anonymous       0.33      1.00      0.50         1\n",
      "         David Widger       1.00      1.00      1.00         3\n",
      "E. Phillips Oppenheim       1.00      1.00      1.00         3\n",
      " Edgar Rice Burroughs       1.00      1.00      1.00         4\n",
      " Edward Bulwer Lytton       0.80      0.80      0.80         5\n",
      "    Huguette Bertrand       1.00      1.00      1.00         6\n",
      "        L. Frank Baum       0.86      0.86      0.86         7\n",
      "    Mrs. Humphry Ward       1.00      1.00      1.00         3\n",
      "          Oscar Wilde       0.75      1.00      0.86         3\n",
      "           Paul Heyse       1.00      1.00      1.00         5\n",
      "     Sir Walter Scott       1.00      1.00      1.00         6\n",
      "        Theodor Storm       1.00      1.00      1.00         7\n",
      "     Thomas H. Huxley       1.00      0.60      0.75         5\n",
      "       Upton Sinclair       1.00      0.83      0.91         6\n",
      "      Victor Appleton       1.00      1.00      1.00         6\n",
      "          Victor Hugo       1.00      1.00      1.00         4\n",
      " Walter Horatio Pater       1.00      1.00      1.00         3\n",
      "       Wilkie Collins       1.00      1.00      1.00         4\n",
      "\n",
      "          avg / total       0.96      0.94      0.94        81\n",
      "\n"
     ]
    }
   ],
   "source": [
    "PreRanForest_TFIDF = RanForest_TFIDF.predict(X_test_TFIDF)\n",
    "print(classification_report(y_testTFIDF, PreRanForest_TFIDF))"
   ]
  },
  {
   "cell_type": "code",
   "execution_count": null,
   "metadata": {},
   "outputs": [],
   "source": [
    "pipelineRanFores_TFIDF = Pipeline([('tfidf', TfidfVectorizer(stop_words=stop_words)),('clf', OneVsRestClassifier(RandomForestClassifier(random_state=100))),])\n",
    "parametersRanFores_TFIDF = {'tfidf__max_df': (0.25, 0.5, 1),'tfidf__ngram_range': [(1, 1), (1, 2), (1, 3)],\n",
    "                            'clf__n_estimators': [50, 100,500],'clf__max_features': ['auto', 'sqrt'],'clf__min_samples_split': [2, 5, 10],\n",
    "                            'clf__min_samples_leaf': [1, 2, 4],'clf__bootstrap': [True, False],'clf__max_depth': [10,50,100,None]\n",
    "                           }"
   ]
  },
  {
   "cell_type": "raw",
   "metadata": {},
   "source": [
    "# Number of trees in random forest\n",
    "n_estimators \n",
    "# Number of features to consider at every split\n",
    "max_features \n",
    "# Maximum number of levels in tree\n",
    "max_depth = \n",
    "# Minimum number of samples required to split a node\n",
    "min_samples_split \n",
    "# Minimum number of samples required at each leaf node\n",
    "min_samples_leaf\n",
    "# Method of selecting samples for training each tree\n",
    "bootstrap = [True, False]"
   ]
  },
  {
   "cell_type": "code",
   "execution_count": null,
   "metadata": {},
   "outputs": [],
   "source": [
    "from sklearn.model_selection import GridSearchCV"
   ]
  },
  {
   "cell_type": "code",
   "execution_count": null,
   "metadata": {},
   "outputs": [],
   "source": [
    "grid_search_tuneRanFores_TFIDF = GridSearchCV(pipelineRanFores_TFIDF, parametersRanFores_TFIDF, cv=2, n_jobs=2, verbose=3)\n",
    "grid_search_tuneRanFores_TFIDF.fit(X_trainTFIDF, y_trainTFIDF)"
   ]
  },
  {
   "cell_type": "code",
   "execution_count": null,
   "metadata": {},
   "outputs": [],
   "source": [
    "best_clfRanFores_TFIDF = grid_search_tuneRanFores_TFIDF.best_estimator_\n",
    "predictionsRanFores_TFIDF = best_clfRanFores_TFIDF.predict(X_testTFIDF)"
   ]
  },
  {
   "cell_type": "code",
   "execution_count": null,
   "metadata": {},
   "outputs": [],
   "source": [
    "print(classification_report(y_testTFIDF, predictionsRanFores_TFID))"
   ]
  },
  {
   "cell_type": "code",
   "execution_count": null,
   "metadata": {},
   "outputs": [],
   "source": []
  },
  {
   "cell_type": "markdown",
   "metadata": {},
   "source": [
    "### 2.4. Support vector machine"
   ]
  },
  {
   "cell_type": "code",
   "execution_count": 49,
   "metadata": {},
   "outputs": [
    {
     "data": {
      "text/plain": [
       "SVC(C=1.0, cache_size=200, class_weight=None, coef0=0.0,\n",
       "  decision_function_shape='ovr', degree=3, gamma='auto', kernel='rbf',\n",
       "  max_iter=-1, probability=False, random_state=None, shrinking=True,\n",
       "  tol=0.001, verbose=False)"
      ]
     },
     "execution_count": 49,
     "metadata": {},
     "output_type": "execute_result"
    }
   ],
   "source": [
    "from sklearn.svm import SVC\n",
    "clf_SVM_TFIDF = SVC()\n",
    "clf_SVM_TFIDF.fit(X_train_TFIDF,y_trainTFIDF)"
   ]
  },
  {
   "cell_type": "code",
   "execution_count": 50,
   "metadata": {},
   "outputs": [],
   "source": [
    "Pre_SVM_TFIDF = clf_SVM_TFIDF.predict(X_test_TFIDF)"
   ]
  },
  {
   "cell_type": "code",
   "execution_count": 52,
   "metadata": {},
   "outputs": [
    {
     "name": "stdout",
     "output_type": "stream",
     "text": [
      "                       precision    recall  f1-score   support\n",
      "\n",
      "            Anonymous       0.01      1.00      0.02         1\n",
      "         David Widger       0.00      0.00      0.00         3\n",
      "E. Phillips Oppenheim       0.00      0.00      0.00         3\n",
      " Edgar Rice Burroughs       0.00      0.00      0.00         4\n",
      " Edward Bulwer Lytton       0.00      0.00      0.00         5\n",
      "    Huguette Bertrand       0.00      0.00      0.00         6\n",
      "        L. Frank Baum       0.00      0.00      0.00         7\n",
      "    Mrs. Humphry Ward       0.00      0.00      0.00         3\n",
      "          Oscar Wilde       0.00      0.00      0.00         3\n",
      "           Paul Heyse       0.00      0.00      0.00         5\n",
      "     Sir Walter Scott       0.00      0.00      0.00         6\n",
      "        Theodor Storm       0.00      0.00      0.00         7\n",
      "     Thomas H. Huxley       0.00      0.00      0.00         5\n",
      "       Upton Sinclair       0.00      0.00      0.00         6\n",
      "      Victor Appleton       0.00      0.00      0.00         6\n",
      "          Victor Hugo       0.00      0.00      0.00         4\n",
      " Walter Horatio Pater       0.00      0.00      0.00         3\n",
      "       Wilkie Collins       0.00      0.00      0.00         4\n",
      "\n",
      "          avg / total       0.00      0.01      0.00        81\n",
      "\n"
     ]
    },
    {
     "name": "stderr",
     "output_type": "stream",
     "text": [
      "C:\\Users\\vuong.huynh\\Anaconda3\\lib\\site-packages\\sklearn\\metrics\\classification.py:1135: UndefinedMetricWarning: Precision and F-score are ill-defined and being set to 0.0 in labels with no predicted samples.\n",
      "  'precision', 'predicted', average, warn_for)\n"
     ]
    }
   ],
   "source": [
    "from sklearn.metrics import classification_report\n",
    "print(classification_report(y_testTFIDF, Pre_SVM_TFIDF))"
   ]
  },
  {
   "cell_type": "markdown",
   "metadata": {},
   "source": [
    "### 2.5. CNN"
   ]
  },
  {
   "cell_type": "code",
   "execution_count": 123,
   "metadata": {},
   "outputs": [
    {
     "name": "stdout",
     "output_type": "stream",
     "text": [
      "<class 'numpy.ndarray'> (320, 1000)\n"
     ]
    }
   ],
   "source": [
    "from sklearn.feature_extraction.text import TfidfVectorizer\n",
    "vec = TfidfVectorizer(max_features=1000)\n",
    "tfidf_matTrain = vec.fit_transform(X_trainTFIDF).toarray()\n",
    "tfidf_matTest = vec.fit_transform(X_testTFIDF).toarray()\n",
    "print(type(tfidf_matTrain),tfidf_matTrain.shape) "
   ]
  },
  {
   "cell_type": "code",
   "execution_count": null,
   "metadata": {},
   "outputs": [],
   "source": [
    "from sklearn.preprocessing import LabelEncoder\n",
    "lblEncoder_TFIDF=LabelEncoder()\n",
    "y_trainEncoder_TFIDF = lblEncoder_TFIDF.fit_transform(y_trainTFIDF)\n",
    "y_testEncoder_TFIDF=lblEncoder_TFIDF.transform(y_testTFIDF)\n",
    "from keras import utils as np_utils\n",
    "y_trainEC_TFIDF = np_utils.to_categorical(y_trainEncoder_TFIDF,18)\n",
    "y_testEC_TFIDF = np_utils.to_categorical(y_testEncoder_TFIDF,18)"
   ]
  },
  {
   "cell_type": "code",
   "execution_count": 124,
   "metadata": {},
   "outputs": [
    {
     "name": "stdout",
     "output_type": "stream",
     "text": [
      "_________________________________________________________________\n",
      "Layer (type)                 Output Shape              Param #   \n",
      "=================================================================\n",
      "dense_40 (Dense)             (None, 64)                64064     \n",
      "_________________________________________________________________\n",
      "dropout_26 (Dropout)         (None, 64)                0         \n",
      "_________________________________________________________________\n",
      "activation_10 (Activation)   (None, 64)                0         \n",
      "_________________________________________________________________\n",
      "dense_41 (Dense)             (None, 64)                4160      \n",
      "_________________________________________________________________\n",
      "dropout_27 (Dropout)         (None, 64)                0         \n",
      "_________________________________________________________________\n",
      "activation_11 (Activation)   (None, 64)                0         \n",
      "_________________________________________________________________\n",
      "dense_42 (Dense)             (None, 18)                1170      \n",
      "_________________________________________________________________\n",
      "activation_12 (Activation)   (None, 18)                0         \n",
      "=================================================================\n",
      "Total params: 69,394\n",
      "Trainable params: 69,394\n",
      "Non-trainable params: 0\n",
      "_________________________________________________________________\n"
     ]
    }
   ],
   "source": [
    "# build model\n",
    "from keras.models import Sequential\n",
    "from keras.layers import Dense, Dropout, Activation, Conv1D, GlobalMaxPooling1D\n",
    "\n",
    "\n",
    "model1 = Sequential()\n",
    "model1.add(Dense(64,input_shape=(1000,)))\n",
    "model1.add(Dropout(0.2))\n",
    "model1.add(Activation('relu'))\n",
    "model1.add(Dense(64))\n",
    "model1.add(Dropout(0.2))\n",
    "model1.add(Activation('relu'))\n",
    "model1.add(Dense(18))\n",
    "model1.add(Activation('sigmoid'))\n",
    "model1.summary()\n",
    "model1.compile(loss='binary_crossentropy',optimizer='adam',metrics=['acc'])"
   ]
  },
  {
   "cell_type": "code",
   "execution_count": 125,
   "metadata": {},
   "outputs": [],
   "source": [
    "#model.fit(tfidf_matTrain,y_trainEC_TFIDF,batch_size=32,epochs=10,verbose=1,validation_split=0.2)"
   ]
  },
  {
   "cell_type": "code",
   "execution_count": 126,
   "metadata": {},
   "outputs": [
    {
     "name": "stdout",
     "output_type": "stream",
     "text": [
      "Train on 320 samples, validate on 81 samples\n",
      "Epoch 1/10\n",
      "320/320 [==============================] - 1s 3ms/step - loss: 0.6846 - acc: 0.6113 - val_loss: 0.6669 - val_acc: 0.7558\n",
      "Epoch 2/10\n",
      "320/320 [==============================] - 0s 259us/step - loss: 0.6358 - acc: 0.7712 - val_loss: 0.6015 - val_acc: 0.7764\n",
      "Epoch 3/10\n",
      "320/320 [==============================] - 0s 206us/step - loss: 0.5455 - acc: 0.8174 - val_loss: 0.4930 - val_acc: 0.8477\n",
      "Epoch 4/10\n",
      "320/320 [==============================] - 0s 190us/step - loss: 0.4247 - acc: 0.8752 - val_loss: 0.3684 - val_acc: 0.9444\n",
      "Epoch 5/10\n",
      "320/320 [==============================] - 0s 184us/step - loss: 0.3226 - acc: 0.9286 - val_loss: 0.2788 - val_acc: 0.9444\n",
      "Epoch 6/10\n",
      "320/320 [==============================] - 0s 181us/step - loss: 0.2661 - acc: 0.9429 - val_loss: 0.2448 - val_acc: 0.9444\n",
      "Epoch 7/10\n",
      "320/320 [==============================] - 0s 193us/step - loss: 0.2487 - acc: 0.9441 - val_loss: 0.2357 - val_acc: 0.9444\n",
      "Epoch 8/10\n",
      "320/320 [==============================] - 0s 193us/step - loss: 0.2343 - acc: 0.9444 - val_loss: 0.2328 - val_acc: 0.9444\n",
      "Epoch 9/10\n",
      "320/320 [==============================] - 0s 159us/step - loss: 0.2250 - acc: 0.9443 - val_loss: 0.2314 - val_acc: 0.9444\n",
      "Epoch 10/10\n",
      "320/320 [==============================] - 0s 199us/step - loss: 0.2216 - acc: 0.9444 - val_loss: 0.2293 - val_acc: 0.9444\n"
     ]
    },
    {
     "data": {
      "text/plain": [
       "<keras.callbacks.History at 0x1c066449390>"
      ]
     },
     "execution_count": 126,
     "metadata": {},
     "output_type": "execute_result"
    }
   ],
   "source": [
    "model1.fit(tfidf_matTrain,y_trainEC_TFIDF,batch_size=32,epochs=10,verbose=1,validation_data=(tfidf_matTest, y_testEC_TFIDF))"
   ]
  },
  {
   "cell_type": "code",
   "execution_count": 128,
   "metadata": {},
   "outputs": [
    {
     "name": "stdout",
     "output_type": "stream",
     "text": [
      "_________________________________________________________________\n",
      "Layer (type)                 Output Shape              Param #   \n",
      "=================================================================\n",
      "dense_46 (Dense)             (None, 512)               512512    \n",
      "_________________________________________________________________\n",
      "dropout_30 (Dropout)         (None, 512)               0         \n",
      "_________________________________________________________________\n",
      "dense_47 (Dense)             (None, 256)               131328    \n",
      "_________________________________________________________________\n",
      "dropout_31 (Dropout)         (None, 256)               0         \n",
      "_________________________________________________________________\n",
      "dense_48 (Dense)             (None, 18)                4626      \n",
      "=================================================================\n",
      "Total params: 648,466\n",
      "Trainable params: 648,466\n",
      "Non-trainable params: 0\n",
      "_________________________________________________________________\n"
     ]
    }
   ],
   "source": [
    "from keras import metrics\n",
    "model2 = Sequential()\n",
    "model2.add(Dense(512, activation='relu', input_shape=(1000,)))\n",
    "model2.add(Dropout(0.2))\n",
    "model2.add(Dense(256, activation='relu'))\n",
    "model2.add(Dropout(0.2))\n",
    "model2.add(Dense(18, activation='sigmoid'))\n",
    "model2.summary()\n",
    "model2.compile(loss='binary_crossentropy', optimizer='adam',metrics=['acc',metrics.binary_accuracy])"
   ]
  },
  {
   "cell_type": "code",
   "execution_count": 129,
   "metadata": {},
   "outputs": [
    {
     "name": "stdout",
     "output_type": "stream",
     "text": [
      "Train on 320 samples, validate on 81 samples\n",
      "Epoch 1/10\n",
      "320/320 [==============================] - 1s 3ms/step - loss: 0.5772 - acc: 0.8781 - binary_accuracy: 0.8781 - val_loss: 0.3904 - val_acc: 0.9444 - val_binary_accuracy: 0.9444\n",
      "Epoch 2/10\n",
      "320/320 [==============================] - 2s 5ms/step - loss: 0.2807 - acc: 0.9444 - binary_accuracy: 0.9444 - val_loss: 0.2455 - val_acc: 0.9444 - val_binary_accuracy: 0.9444\n",
      "Epoch 3/10\n",
      "320/320 [==============================] - 0s 299us/step - loss: 0.2516 - acc: 0.9444 - binary_accuracy: 0.9444 - val_loss: 0.2372 - val_acc: 0.9444 - val_binary_accuracy: 0.9444\n",
      "Epoch 4/10\n",
      " 32/320 [==>...........................] - ETA: 0s - loss: 0.2223 - acc: 0.9444 - binary_accuracy: 0.9444"
     ]
    },
    {
     "name": "stderr",
     "output_type": "stream",
     "text": [
      "C:\\Users\\vuong.huynh\\Anaconda3\\lib\\site-packages\\keras\\callbacks.py:120: UserWarning: Method on_batch_end() is slow compared to the batch update (1.599221). Check your callbacks.\n",
      "  % delta_t_median)\n",
      "C:\\Users\\vuong.huynh\\Anaconda3\\lib\\site-packages\\keras\\callbacks.py:120: UserWarning: Method on_batch_end() is slow compared to the batch update (0.800109). Check your callbacks.\n",
      "  % delta_t_median)\n"
     ]
    },
    {
     "name": "stdout",
     "output_type": "stream",
     "text": [
      "320/320 [==============================] - 0s 243us/step - loss: 0.2126 - acc: 0.9444 - binary_accuracy: 0.9444 - val_loss: 0.2393 - val_acc: 0.9444 - val_binary_accuracy: 0.9444\n",
      "Epoch 5/10\n",
      "320/320 [==============================] - 0s 156us/step - loss: 0.1934 - acc: 0.9444 - binary_accuracy: 0.9444 - val_loss: 0.2191 - val_acc: 0.9444 - val_binary_accuracy: 0.9444\n",
      "Epoch 6/10\n",
      "320/320 [==============================] - 0s 162us/step - loss: 0.1720 - acc: 0.9448 - binary_accuracy: 0.9448 - val_loss: 0.2135 - val_acc: 0.9444 - val_binary_accuracy: 0.9444\n",
      "Epoch 7/10\n",
      "320/320 [==============================] - 0s 171us/step - loss: 0.1605 - acc: 0.9457 - binary_accuracy: 0.9457 - val_loss: 0.2100 - val_acc: 0.9444 - val_binary_accuracy: 0.9444\n",
      "Epoch 8/10\n",
      "320/320 [==============================] - 0s 184us/step - loss: 0.1432 - acc: 0.9476 - binary_accuracy: 0.9476 - val_loss: 0.2072 - val_acc: 0.9444 - val_binary_accuracy: 0.9444\n",
      "Epoch 9/10\n",
      "320/320 [==============================] - 0s 159us/step - loss: 0.1267 - acc: 0.9498 - binary_accuracy: 0.9498 - val_loss: 0.2060 - val_acc: 0.9444 - val_binary_accuracy: 0.9444\n",
      "Epoch 10/10\n",
      "320/320 [==============================] - 0s 203us/step - loss: 0.1155 - acc: 0.9543 - binary_accuracy: 0.9543 - val_loss: 0.2070 - val_acc: 0.9444 - val_binary_accuracy: 0.9444\n"
     ]
    },
    {
     "data": {
      "text/plain": [
       "<keras.callbacks.History at 0x1c0668add68>"
      ]
     },
     "execution_count": 129,
     "metadata": {},
     "output_type": "execute_result"
    }
   ],
   "source": [
    "model2.fit(tfidf_matTrain,y_trainEC_TFIDF,batch_size=32,epochs=10,verbose=1,validation_data=(tfidf_matTest, y_testEC_TFIDF))"
   ]
  },
  {
   "cell_type": "code",
   "execution_count": 151,
   "metadata": {},
   "outputs": [],
   "source": [
    "from sklearn.preprocessing import MinMaxScaler\n",
    "scalerTFIDF = MinMaxScaler()\n",
    "scalerTFIDF.fit(tfidf_matTrain)\n",
    "X_train_scalerTFIDF = scalerTFIDF.transform(tfidf_matTrain)\n",
    "X_test_scalerTFIDF = scalerTFIDF.transform(tfidf_matTest)"
   ]
  },
  {
   "cell_type": "code",
   "execution_count": 152,
   "metadata": {},
   "outputs": [
    {
     "data": {
      "text/plain": [
       "(320, 1000)"
      ]
     },
     "execution_count": 152,
     "metadata": {},
     "output_type": "execute_result"
    }
   ],
   "source": [
    "X_train_scalerTFIDF.shape"
   ]
  },
  {
   "cell_type": "code",
   "execution_count": 154,
   "metadata": {},
   "outputs": [
    {
     "data": {
      "text/plain": [
       "(81, 1000)"
      ]
     },
     "execution_count": 154,
     "metadata": {},
     "output_type": "execute_result"
    }
   ],
   "source": [
    "X_test_scalerTFIDF.shape"
   ]
  },
  {
   "cell_type": "code",
   "execution_count": 155,
   "metadata": {},
   "outputs": [
    {
     "name": "stdout",
     "output_type": "stream",
     "text": [
      "_________________________________________________________________\n",
      "Layer (type)                 Output Shape              Param #   \n",
      "=================================================================\n",
      "dense_77 (Dense)             (None, 512)               512512    \n",
      "_________________________________________________________________\n",
      "dropout_49 (Dropout)         (None, 512)               0         \n",
      "_________________________________________________________________\n",
      "dense_78 (Dense)             (None, 256)               131328    \n",
      "_________________________________________________________________\n",
      "dropout_50 (Dropout)         (None, 256)               0         \n",
      "_________________________________________________________________\n",
      "dense_79 (Dense)             (None, 18)                4626      \n",
      "=================================================================\n",
      "Total params: 648,466\n",
      "Trainable params: 648,466\n",
      "Non-trainable params: 0\n",
      "_________________________________________________________________\n"
     ]
    }
   ],
   "source": [
    "from keras import metrics\n",
    "model4 = Sequential()\n",
    "model4.add(Dense(512, activation='relu', input_shape=(1000,)))\n",
    "model4.add(Dropout(0.2))\n",
    "model4.add(Dense(256, activation='relu'))\n",
    "model4.add(Dropout(0.2))\n",
    "model4.add(Dense(18, activation='sigmoid'))\n",
    "model4.summary()\n",
    "model4.compile(loss='binary_crossentropy', optimizer='adam',metrics=['acc',metrics.binary_accuracy])"
   ]
  },
  {
   "cell_type": "code",
   "execution_count": 156,
   "metadata": {},
   "outputs": [
    {
     "name": "stdout",
     "output_type": "stream",
     "text": [
      "Train on 320 samples, validate on 81 samples\n",
      "Epoch 1/10\n",
      "320/320 [==============================] - 1s 3ms/step - loss: 0.3890 - acc: 0.8861 - binary_accuracy: 0.8861 - val_loss: 0.3281 - val_acc: 0.9444 - val_binary_accuracy: 0.9444\n",
      "Epoch 2/10\n",
      "320/320 [==============================] - 0s 190us/step - loss: 0.2192 - acc: 0.9450 - binary_accuracy: 0.9450 - val_loss: 0.2426 - val_acc: 0.9444 - val_binary_accuracy: 0.9444\n",
      "Epoch 3/10\n",
      "320/320 [==============================] - 0s 199us/step - loss: 0.1553 - acc: 0.9495 - binary_accuracy: 0.9495 - val_loss: 0.2647 - val_acc: 0.9444 - val_binary_accuracy: 0.9444\n",
      "Epoch 4/10\n",
      "320/320 [==============================] - 0s 209us/step - loss: 0.1171 - acc: 0.9557 - binary_accuracy: 0.9557 - val_loss: 0.2630 - val_acc: 0.9444 - val_binary_accuracy: 0.9444\n",
      "Epoch 5/10\n",
      "320/320 [==============================] - 0s 218us/step - loss: 0.0787 - acc: 0.9733 - binary_accuracy: 0.9733 - val_loss: 0.2930 - val_acc: 0.9444 - val_binary_accuracy: 0.9444\n",
      "Epoch 6/10\n",
      "320/320 [==============================] - 0s 221us/step - loss: 0.0585 - acc: 0.9830 - binary_accuracy: 0.9830 - val_loss: 0.3089 - val_acc: 0.9438 - val_binary_accuracy: 0.9438\n",
      "Epoch 7/10\n",
      "320/320 [==============================] - 0s 187us/step - loss: 0.0452 - acc: 0.9861 - binary_accuracy: 0.9861 - val_loss: 0.3267 - val_acc: 0.9438 - val_binary_accuracy: 0.9438\n",
      "Epoch 8/10\n",
      "320/320 [==============================] - 0s 231us/step - loss: 0.0343 - acc: 0.9918 - binary_accuracy: 0.9918 - val_loss: 0.3539 - val_acc: 0.9444 - val_binary_accuracy: 0.9444\n",
      "Epoch 9/10\n",
      "320/320 [==============================] - 0s 199us/step - loss: 0.0275 - acc: 0.9920 - binary_accuracy: 0.9920 - val_loss: 0.3682 - val_acc: 0.9424 - val_binary_accuracy: 0.9424\n",
      "Epoch 10/10\n",
      "320/320 [==============================] - 0s 240us/step - loss: 0.0228 - acc: 0.9938 - binary_accuracy: 0.9938 - val_loss: 0.3793 - val_acc: 0.9424 - val_binary_accuracy: 0.9424\n"
     ]
    },
    {
     "data": {
      "text/plain": [
       "<keras.callbacks.History at 0x1c0660c1160>"
      ]
     },
     "execution_count": 156,
     "metadata": {},
     "output_type": "execute_result"
    }
   ],
   "source": [
    "model4.fit(X_train_scalerTFIDF,y_trainEC_TFIDF,batch_size=32,epochs=10,verbose=1,validation_data=(X_test_scalerTFIDF, y_testEC_TFIDF))"
   ]
  },
  {
   "cell_type": "markdown",
   "metadata": {},
   "source": [
    "# 3. Word Embebding"
   ]
  },
  {
   "cell_type": "markdown",
   "metadata": {},
   "source": [
    "## 3.1 Word2Vec "
   ]
  },
  {
   "cell_type": "code",
   "execution_count": 60,
   "metadata": {},
   "outputs": [
    {
     "name": "stderr",
     "output_type": "stream",
     "text": [
      "C:\\Users\\vuong.huynh\\Anaconda3\\lib\\site-packages\\gensim\\utils.py:1209: UserWarning: detected Windows; aliasing chunkize to chunkize_serial\n",
      "  warnings.warn(\"detected Windows; aliasing chunkize to chunkize_serial\")\n"
     ]
    }
   ],
   "source": [
    "import gensim\n",
    "from gensim import utils\n",
    "from gensim.models.word2vec import Word2Vec"
   ]
  },
  {
   "cell_type": "code",
   "execution_count": 36,
   "metadata": {},
   "outputs": [],
   "source": [
    "# run word2vec model and then save it\n",
    "#texts_stemmed = filter(None, [next_text.strip(' ').split(' ') for next_text in DataTrain['NoiDungTokenize']])"
   ]
  },
  {
   "cell_type": "code",
   "execution_count": 4,
   "metadata": {},
   "outputs": [],
   "source": [
    "DataTrain['NoiDungTokenize'] = DataTrain['NoiDungTokenize'].str.replace(\"[\", '')\n",
    "DataTrain['NoiDungTokenize'] = DataTrain['NoiDungTokenize'].str.replace(\"]\", '')\n",
    "DataTrain['NoiDungTokenize'] = DataTrain['NoiDungTokenize'].str.replace(\"-\", '')\n",
    "DataTrain['NoiDungTokenize'] = DataTrain['NoiDungTokenize'].str.replace(\" . txt \", '_txt')\n",
    "DataTrain['NoiDungTokenize'] = DataTrain['NoiDungTokenize'].str.replace(\"txt .\", 'txt.')\n",
    "DataTrain['NoiDungTokenize'] = DataTrain['NoiDungTokenize'].str.replace(\" ._txt\", '_txt')\n",
    "DataTrain['NoiDungTokenize'] = DataTrain['NoiDungTokenize'].str.replace(\" . .\", ' . ')"
   ]
  },
  {
   "cell_type": "code",
   "execution_count": 5,
   "metadata": {},
   "outputs": [
    {
     "data": {
      "text/html": [
       "<div>\n",
       "<style scoped>\n",
       "    .dataframe tbody tr th:only-of-type {\n",
       "        vertical-align: middle;\n",
       "    }\n",
       "\n",
       "    .dataframe tbody tr th {\n",
       "        vertical-align: top;\n",
       "    }\n",
       "\n",
       "    .dataframe thead th {\n",
       "        text-align: right;\n",
       "    }\n",
       "</style>\n",
       "<table border=\"1\" class=\"dataframe\">\n",
       "  <thead>\n",
       "    <tr style=\"text-align: right;\">\n",
       "      <th></th>\n",
       "      <th>Unnamed: 0</th>\n",
       "      <th>TacGia</th>\n",
       "      <th>NoiDung</th>\n",
       "      <th>NoiDung1</th>\n",
       "      <th>NoiDungTokenize</th>\n",
       "    </tr>\n",
       "  </thead>\n",
       "  <tbody>\n",
       "    <tr>\n",
       "      <th>0</th>\n",
       "      <td>2</td>\n",
       "      <td>Victor Appleton</td>\n",
       "      <td>august  2000  [etext 2273]   the project gute...</td>\n",
       "      <td>\\r\\naugust, 2000  [etext 2273]\\r\\n\\r\\n\\r\\nthe ...</td>\n",
       "      <td>august 2000 etext 2273 project gutenberg etext...</td>\n",
       "    </tr>\n",
       "    <tr>\n",
       "      <th>1</th>\n",
       "      <td>351</td>\n",
       "      <td>Edgar Rice Burroughs</td>\n",
       "      <td>(8 in the tarzan tales by edgar rice burroughs...</td>\n",
       "      <td>(8 in the tarzan tales by edgar rice burroughs...</td>\n",
       "      <td>(8 tarzan tales edgar rice burroughs) copyrigh...</td>\n",
       "    </tr>\n",
       "    <tr>\n",
       "      <th>2</th>\n",
       "      <td>364</td>\n",
       "      <td>Oscar Wilde</td>\n",
       "      <td>february  2000 [etext 2061]   project gutenbe...</td>\n",
       "      <td>\\r\\nfebruary, 2000 [etext 2061]\\r\\n\\r\\n\\r\\npro...</td>\n",
       "      <td>february 2000 etext 2061 project gutenbergs et...</td>\n",
       "    </tr>\n",
       "    <tr>\n",
       "      <th>3</th>\n",
       "      <td>497</td>\n",
       "      <td>E. Phillips Oppenheim</td>\n",
       "      <td>august  2001  [etext 2767] [date last updated...</td>\n",
       "      <td>\\r\\naugust, 2001  [etext 2767]\\r\\n[date last u...</td>\n",
       "      <td>august 2001 etext 2767 date last updated: febr...</td>\n",
       "    </tr>\n",
       "    <tr>\n",
       "      <th>4</th>\n",
       "      <td>523</td>\n",
       "      <td>Sir Walter Scott</td>\n",
       "      <td>april  2001  [etext 2590]   the project guten...</td>\n",
       "      <td>\\r\\napril, 2001  [etext 2590]\\r\\n\\r\\n\\r\\nthe p...</td>\n",
       "      <td>april 2001 etext 2590 project gutenberg etext ...</td>\n",
       "    </tr>\n",
       "  </tbody>\n",
       "</table>\n",
       "</div>"
      ],
      "text/plain": [
       "   Unnamed: 0                 TacGia  \\\n",
       "0           2        Victor Appleton   \n",
       "1         351   Edgar Rice Burroughs   \n",
       "2         364            Oscar Wilde   \n",
       "3         497  E. Phillips Oppenheim   \n",
       "4         523       Sir Walter Scott   \n",
       "\n",
       "                                             NoiDung  \\\n",
       "0   august  2000  [etext 2273]   the project gute...   \n",
       "1  (8 in the tarzan tales by edgar rice burroughs...   \n",
       "2   february  2000 [etext 2061]   project gutenbe...   \n",
       "3   august  2001  [etext 2767] [date last updated...   \n",
       "4   april  2001  [etext 2590]   the project guten...   \n",
       "\n",
       "                                            NoiDung1  \\\n",
       "0  \\r\\naugust, 2000  [etext 2273]\\r\\n\\r\\n\\r\\nthe ...   \n",
       "1  (8 in the tarzan tales by edgar rice burroughs...   \n",
       "2  \\r\\nfebruary, 2000 [etext 2061]\\r\\n\\r\\n\\r\\npro...   \n",
       "3  \\r\\naugust, 2001  [etext 2767]\\r\\n[date last u...   \n",
       "4  \\r\\napril, 2001  [etext 2590]\\r\\n\\r\\n\\r\\nthe p...   \n",
       "\n",
       "                                     NoiDungTokenize  \n",
       "0  august 2000 etext 2273 project gutenberg etext...  \n",
       "1  (8 tarzan tales edgar rice burroughs) copyrigh...  \n",
       "2  february 2000 etext 2061 project gutenbergs et...  \n",
       "3  august 2001 etext 2767 date last updated: febr...  \n",
       "4  april 2001 etext 2590 project gutenberg etext ...  "
      ]
     },
     "execution_count": 5,
     "metadata": {},
     "output_type": "execute_result"
    }
   ],
   "source": [
    "DataTrain.head()"
   ]
  },
  {
   "cell_type": "code",
   "execution_count": 54,
   "metadata": {},
   "outputs": [
    {
     "name": "stdout",
     "output_type": "stream",
     "text": [
      "Chuổi chứa 89,665,644 ký tự\n"
     ]
    }
   ],
   "source": [
    "# Chuyển đổi tất cả Nội dung text sang chuổi và in ra độ dài của chuổi\n",
    "raw_corpus = u''.join(DataTrain['NoiDungTokenize']+\" \")\n",
    "print(\"Chuổi chứa {0:,} ký tự\".format(len(raw_corpus)))"
   ]
  },
  {
   "cell_type": "code",
   "execution_count": 55,
   "metadata": {},
   "outputs": [
    {
     "name": "stdout",
     "output_type": "stream",
     "text": [
      "[nltk_data] Downloading package punkt to\n",
      "[nltk_data]     C:\\Users\\vuong.huynh\\AppData\\Roaming\\nltk_data...\n",
      "[nltk_data]   Package punkt is already up-to-date!\n"
     ]
    },
    {
     "data": {
      "text/plain": [
       "True"
      ]
     },
     "execution_count": 55,
     "metadata": {},
     "output_type": "execute_result"
    }
   ],
   "source": [
    "import nltk\n",
    "# download the punkt tokenizer\n",
    "nltk.download('punkt')"
   ]
  },
  {
   "cell_type": "code",
   "execution_count": 56,
   "metadata": {},
   "outputs": [
    {
     "name": "stdout",
     "output_type": "stream",
     "text": [
      "Có 1,657,877 câu\n"
     ]
    }
   ],
   "source": [
    "# Load the punkt tokenizer\n",
    "tokenizer = nltk.data.load(\"tokenizers/punkt/english.pickle\")\n",
    "# tokenize chuổi thành câu\n",
    "raw_sentences = tokenizer.tokenize(raw_corpus)\n",
    "print(\"Có {0:,} câu\".format(len(raw_sentences)))"
   ]
  },
  {
   "cell_type": "code",
   "execution_count": 57,
   "metadata": {},
   "outputs": [
    {
     "data": {
      "text/plain": [
       "['august 2000 etext 2273 project gutenberg etext tom swift motor  boat file named 02tom10_txt02tom10 .',\n",
       " 'p corrected editions etexts get new number 02tom11_txt.',\n",
       " 'versions based separate sources get new letter 02tom10a_txt.',\n",
       " 'etext prepared project gutenberg ronald benninghoff proof read erin hartshorn george joseph trying release books one month advance official release dates time better editing .',\n",
       " 'ease note: neither list contents final till midnight last day month announcement .',\n",
       " 'ficial release date project gutenberg etexts midnight central time last day stated month .',\n",
       " 'eliminary version may often posted suggestion comment editing wish .',\n",
       " 're date first edition xxxxx10x .',\n",
       " 'x please check file sizes first week next month .',\n",
       " 'nce ftp program bug scrambles date tried fix failed look file size try see new copy least one byte less .',\n",
       " 'formation project gutenberg (one page) produce two million dollars hour work .',\n",
       " 'fty hours one conservative estimate long take get etext selected entered proofread edited copyright searched analyzed copyright letters written etc .',\n",
       " 'ojected audience one hundred million readers .',\n",
       " 'lue per text nominally estimated one dollar produce $2 million dollars per hour year release thirty  two text files per month: 400 etexts 1996 total 800 .',\n",
       " 'ach 10% computerized population total reach 80 billion etexts .',\n",
       " 'al project gutenberg give away one trillion etext files december 31 2001 .',\n",
       " '000 .',\n",
       " '0 000 000 .',\n",
       " 'illion ten thousand titles one hundred million readers 10% present number computer users .',\n",
       " '01 least twice many computer users require us reaching less 5% users 2001 .',\n",
       " 'ed donations ever .',\n",
       " 'nations made project gutenberg cmu .',\n",
       " 'x deductible extent allowable law .',\n",
       " 'mu .',\n",
       " 'rnegie  mellon university) .',\n",
       " 'tters please mail to: project gutenberg .',\n",
       " '.',\n",
       " 'ox 2782 champaign il 61825 email fails try executive director: michael .',\n",
       " 'rt hartpobox .',\n",
       " 'm would prefer send information email (internet bitnet compuserve attmail mcimail) .',\n",
       " 'p program (or emulator) please ftp directly project gutenberg archives: mac users point click .',\n",
       " '.',\n",
       " 'ype ftp uiarchive .',\n",
       " 'o .',\n",
       " 'uc .',\n",
       " 'u login: anonymous password: yourlogin cd etext etext90 etext96 cd etext articles get suggest gut information dir to see files get mget to get files .',\n",
       " '.',\n",
       " 'et bin zip files get index?00 .',\n",
       " 't list books get new gut general information mget gut newsletters .',\n",
       " 'formation prepared project gutenberg legal advisor (three pages) startthe small print .',\n",
       " 'blic domain etextsstart small print .',\n",
       " 'atement here?',\n",
       " 'know: lawyers .',\n",
       " 'll us might sue us something wrong copy etext even got free someone us even wrong fault .',\n",
       " 'ong things small print .',\n",
       " 'atement disclaims liability .',\n",
       " 'so tells distribute copies etext want .',\n",
       " 'use read etext using reading part project gutenberg  tm etext indicate understand agree accept small print .',\n",
       " 'atement .',\n",
       " 'ceive refund money (if any) paid etext sending request within 30 days receiving person got .']"
      ]
     },
     "execution_count": 57,
     "metadata": {},
     "output_type": "execute_result"
    }
   ],
   "source": [
    "raw_sentences[:50]"
   ]
  },
  {
   "cell_type": "code",
   "execution_count": 58,
   "metadata": {},
   "outputs": [],
   "source": [
    "import re\n",
    "# Clean và chia câu thành từ\n",
    "def clean_and_split_str(string):\n",
    "    strip_special_chars = re.compile(\"[^A-Za-z]+\")\n",
    "    string = re.sub(strip_special_chars, \" \", string)\n",
    "    return string.strip().split()"
   ]
  },
  {
   "cell_type": "code",
   "execution_count": 59,
   "metadata": {},
   "outputs": [
    {
     "name": "stdout",
     "output_type": "stream",
     "text": [
      "Có 1,657,877 từ\n"
     ]
    }
   ],
   "source": [
    "# Tạo list sentences\n",
    "sentences = []\n",
    "for raw_sent in raw_sentences:\n",
    "    if len(raw_sent) > 0:\n",
    "        sentences.append(clean_and_split_str(raw_sent))\n",
    "print(\"Có {0:,} từ\".format(len(sentences)))"
   ]
  },
  {
   "cell_type": "code",
   "execution_count": 60,
   "metadata": {},
   "outputs": [
    {
     "data": {
      "text/plain": [
       "[['august',\n",
       "  'etext',\n",
       "  'project',\n",
       "  'gutenberg',\n",
       "  'etext',\n",
       "  'tom',\n",
       "  'swift',\n",
       "  'motor',\n",
       "  'boat',\n",
       "  'file',\n",
       "  'named',\n",
       "  'tom',\n",
       "  'txt',\n",
       "  'tom']]"
      ]
     },
     "execution_count": 60,
     "metadata": {},
     "output_type": "execute_result"
    }
   ],
   "source": [
    "sentences[:1]"
   ]
  },
  {
   "cell_type": "code",
   "execution_count": 61,
   "metadata": {},
   "outputs": [
    {
     "name": "stdout",
     "output_type": "stream",
     "text": [
      "ojected audience one hundred million readers .\n",
      "\n",
      "['ojected', 'audience', 'one', 'hundred', 'million', 'readers']\n"
     ]
    }
   ],
   "source": [
    "print(raw_sentences[12])\n",
    "print()\n",
    "print(sentences[12])"
   ]
  },
  {
   "cell_type": "code",
   "execution_count": 62,
   "metadata": {},
   "outputs": [],
   "source": [
    "import multiprocessing\n",
    "\n",
    "#Số chiều của vector từ\n",
    "num_features = 300\n",
    "\n",
    "#Ngưỡng đếm từ tối thiểu\n",
    "min_word_count = 3\n",
    "\n",
    "#Số lượng threads chạy song song\n",
    "num_workers = multiprocessing.cpu_count()\n",
    "#Độ dài cửa sổ ngữ cảnh\n",
    "context_size = 7\n",
    "\n",
    "#Seed for the RNG, to make the result reproducible\n",
    "seed = 1"
   ]
  },
  {
   "cell_type": "code",
   "execution_count": null,
   "metadata": {},
   "outputs": [],
   "source": [
    "from gensim.models.word2vec import LineSentence\n",
    "import sys\n",
    "#inp, outp1, outp2 = sys.argv[1:4]\n",
    "#model = Word2Vec(LineSentence(inp), size=400, window=5, min_count=5,workers=multiprocessing.cpu_count())"
   ]
  },
  {
   "cell_type": "code",
   "execution_count": 63,
   "metadata": {},
   "outputs": [
    {
     "name": "stderr",
     "output_type": "stream",
     "text": [
      "C:\\Users\\vuong.huynh\\Anaconda3\\lib\\site-packages\\gensim\\utils.py:1209: UserWarning: detected Windows; aliasing chunkize to chunkize_serial\n",
      "  warnings.warn(\"detected Windows; aliasing chunkize to chunkize_serial\")\n"
     ]
    }
   ],
   "source": [
    "import gensim\n",
    "\n",
    "word2vec_model = gensim.models.word2vec.Word2Vec(\n",
    "    sg=1,\n",
    "    seed=seed,\n",
    "    workers=num_workers, \n",
    "    size=num_features, \n",
    "    min_count=min_word_count, \n",
    "    window=context_size)"
   ]
  },
  {
   "cell_type": "code",
   "execution_count": 64,
   "metadata": {},
   "outputs": [],
   "source": [
    "word2vec_model.build_vocab(sentences=sentences)"
   ]
  },
  {
   "cell_type": "code",
   "execution_count": 65,
   "metadata": {},
   "outputs": [
    {
     "name": "stdout",
     "output_type": "stream",
     "text": [
      "Từ vựng được xây dựng\n",
      "Độ dài từ vựng Word2Vec:  103321\n"
     ]
    }
   ],
   "source": [
    "print(\"Từ vựng được xây dựng\")\n",
    "print(\"Độ dài từ vựng Word2Vec: \", len(word2vec_model.wv.vocab))"
   ]
  },
  {
   "cell_type": "code",
   "execution_count": 73,
   "metadata": {},
   "outputs": [
    {
     "data": {
      "text/plain": [
       "(258906270, 265007060)"
      ]
     },
     "execution_count": 73,
     "metadata": {},
     "output_type": "execute_result"
    }
   ],
   "source": [
    "word2vec_model.train(sentences,total_examples=word2vec_model.corpus_count,epochs=20)"
   ]
  },
  {
   "cell_type": "code",
   "execution_count": 74,
   "metadata": {},
   "outputs": [
    {
     "name": "stderr",
     "output_type": "stream",
     "text": [
      "C:\\Users\\vuong.huynh\\Anaconda3\\lib\\site-packages\\ipykernel_launcher.py:1: DeprecationWarning: Call to deprecated `most_similar` (Method will be removed in 4.0.0, use self.wv.most_similar() instead).\n",
      "  \"\"\"Entry point for launching an IPython kernel.\n",
      "C:\\Users\\vuong.huynh\\Anaconda3\\lib\\site-packages\\gensim\\matutils.py:737: FutureWarning: Conversion of the second argument of issubdtype from `int` to `np.signedinteger` is deprecated. In future, it will be treated as `np.int32 == np.dtype(int).type`.\n",
      "  if np.issubdtype(vec.dtype, np.int):\n"
     ]
    },
    {
     "data": {
      "text/plain": [
       "[('ebcdic', 0.5710386037826538),\n",
       " ('emulator', 0.564659595489502),\n",
       " ('ftp', 0.5238351821899414),\n",
       " ('scrambles', 0.5168372392654419),\n",
       " ('processors', 0.5158061981201172),\n",
       " ('nediction', 0.4824413061141968),\n",
       " ('processing', 0.4811544716358185),\n",
       " ('aningless', 0.459494024515152),\n",
       " ('nonproprietary', 0.4575379490852356),\n",
       " ('mrcnext', 0.4558180868625641)]"
      ]
     },
     "execution_count": 74,
     "metadata": {},
     "output_type": "execute_result"
    }
   ],
   "source": [
    "word2vec_model.most_similar('program')"
   ]
  },
  {
   "cell_type": "code",
   "execution_count": 102,
   "metadata": {},
   "outputs": [
    {
     "name": "stderr",
     "output_type": "stream",
     "text": [
      "C:\\Users\\vuong.huynh\\Anaconda3\\lib\\site-packages\\ipykernel_launcher.py:1: DeprecationWarning: Call to deprecated `most_similar` (Method will be removed in 4.0.0, use self.wv.most_similar() instead).\n",
      "  \"\"\"Entry point for launching an IPython kernel.\n",
      "C:\\Users\\vuong.huynh\\Anaconda3\\lib\\site-packages\\gensim\\matutils.py:737: FutureWarning: Conversion of the second argument of issubdtype from `int` to `np.signedinteger` is deprecated. In future, it will be treated as `np.int32 == np.dtype(int).type`.\n",
      "  if np.issubdtype(vec.dtype, np.int):\n"
     ]
    },
    {
     "data": {
      "text/plain": [
       "[('spoken', 0.5897440910339355),\n",
       " ('speaking', 0.5622815489768982),\n",
       " ('tell', 0.5596098899841309),\n",
       " ('say', 0.5541647672653198),\n",
       " ('spoke', 0.5462698340415955),\n",
       " ('talk', 0.5328806638717651),\n",
       " ('asion', 0.5054808259010315),\n",
       " ('trified', 0.49859151244163513),\n",
       " ('cozened', 0.4836714267730713),\n",
       " ('think', 0.48111751675605774)]"
      ]
     },
     "execution_count": 102,
     "metadata": {},
     "output_type": "execute_result"
    }
   ],
   "source": [
    "word2vec_model.most_similar('speak')"
   ]
  },
  {
   "cell_type": "code",
   "execution_count": 76,
   "metadata": {},
   "outputs": [
    {
     "name": "stdout",
     "output_type": "stream",
     "text": [
      "Model saved\n"
     ]
    }
   ],
   "source": [
    "#Save the model\n",
    "word2vec_model.save('F:/8_Machine Learning/Bai tap Deeplearning/3_AuthorClassification/word2vec_model_AuthorNew2_20OK.w2v')\n",
    "print(\"Model saved\")"
   ]
  },
  {
   "cell_type": "code",
   "execution_count": 208,
   "metadata": {},
   "outputs": [],
   "source": [
    "#DataTrain.drop(columns=['w2v_features'], inplace=True)"
   ]
  },
  {
   "cell_type": "markdown",
   "metadata": {},
   "source": [
    "#DataTrain['w2v_features'] = list(map(lambda sen_group: get_w2v_features(word2vec_model, sentences[:1000]), DataTrain.NoiDungTokenize))"
   ]
  },
  {
   "cell_type": "code",
   "execution_count": 211,
   "metadata": {},
   "outputs": [],
   "source": [
    "# languange processing imports\n",
    "import nltk\n",
    "from gensim.corpora import Dictionary\n",
    "# visualization imports\n",
    "from IPython.display import display\n",
    "import seaborn as sns\n",
    "import matplotlib.pyplot as plt\n",
    "import matplotlib.image as mpimg\n",
    "import base64\n",
    "import io\n",
    "%matplotlib inline\n",
    "sns.set()  # defines the style of the plots to be seaborn style"
   ]
  },
  {
   "cell_type": "code",
   "execution_count": 223,
   "metadata": {},
   "outputs": [
    {
     "name": "stdout",
     "output_type": "stream",
     "text": [
      "The average number of words in a document is: 37995.17456359102.\n",
      "The minimum number of words in a document is: 2114.\n",
      "The maximum number of words in a document is: 217592.\n"
     ]
    }
   ],
   "source": [
    "document_lengths = np.array(list(map(len, DataTrain.NoiDungTokenize.str.split(' '))))\n",
    "\n",
    "print(\"The average number of words in a document is: {}.\".format(np.mean(document_lengths)))\n",
    "print(\"The minimum number of words in a document is: {}.\".format(min(document_lengths)))\n",
    "print(\"The maximum number of words in a document is: {}.\".format(max(document_lengths)))"
   ]
  },
  {
   "cell_type": "code",
   "execution_count": 212,
   "metadata": {},
   "outputs": [
    {
     "data": {
      "image/png": "[encoded data removed]",
      "text/plain": [
       "<matplotlib.figure.Figure at 0x1bfd7410278>"
      ]
     },
     "metadata": {},
     "output_type": "display_data"
    }
   ],
   "source": [
    "fig, ax = plt.subplots(figsize=(15,6))\n",
    "\n",
    "ax.set_title(\"Distribution of number of words\", fontsize=16)\n",
    "ax.set_xlabel(\"Number of words\")\n",
    "sns.distplot(document_lengths, bins=50, ax=ax);"
   ]
  },
  {
   "cell_type": "code",
   "execution_count": 215,
   "metadata": {},
   "outputs": [
    {
     "name": "stdout",
     "output_type": "stream",
     "text": [
      "There are 8 documents with over 150000 words.\n"
     ]
    }
   ],
   "source": [
    "print(\"There are {} documents with over 150000 words.\".format(sum(document_lengths > 150000)))\n",
    "\n",
    "shorter_documents = document_lengths[document_lengths <= 150000]"
   ]
  },
  {
   "cell_type": "code",
   "execution_count": 216,
   "metadata": {},
   "outputs": [
    {
     "data": {
      "image/png": "[encoded data removed]",
      "text/plain": [
       "<matplotlib.figure.Figure at 0x1c06653fa90>"
      ]
     },
     "metadata": {},
     "output_type": "display_data"
    }
   ],
   "source": [
    "fig, ax = plt.subplots(figsize=(15,6))\n",
    "\n",
    "ax.set_title(\"Distribution of number of words\", fontsize=16)\n",
    "ax.set_xlabel(\"Number of words\")\n",
    "sns.distplot(shorter_documents, bins=50, ax=ax);"
   ]
  },
  {
   "cell_type": "code",
   "execution_count": 219,
   "metadata": {},
   "outputs": [
    {
     "name": "stdout",
     "output_type": "stream",
     "text": [
      "There are 1 documents with tops 5 words.\n"
     ]
    }
   ],
   "source": [
    "print(\"There are {} documents with tops 5 words.\".format(sum(document_lengths <= 2114)))"
   ]
  },
  {
   "cell_type": "code",
   "execution_count": null,
   "metadata": {},
   "outputs": [],
   "source": []
  },
  {
   "cell_type": "code",
   "execution_count": 9,
   "metadata": {},
   "outputs": [],
   "source": [
    "from nltk.tokenize import PunktSentenceTokenizer\n",
    "import re\n",
    "import nltk"
   ]
  },
  {
   "cell_type": "code",
   "execution_count": 10,
   "metadata": {},
   "outputs": [],
   "source": [
    "tokenizer = PunktSentenceTokenizer()\n",
    "def cleanup_for_word2vec(docs):\n",
    "    sentences = []\n",
    "    for doc in docs:\n",
    "        doc = re.sub('&#39;','',doc).lower()\n",
    "        doc = re.sub('[\\n]', ' ', doc)\n",
    "        doc = \" \".join(doc.split()) \n",
    "#         doc = [word for word in doc.split() if word not in STOP_WORDS]\n",
    "#         doc = \" \".join(doc)\n",
    "        doc = tokenizer.tokenize(doc)\n",
    "        #text = [i.split() for i in text]\n",
    "        doc = [re.sub(\"[#$%&\\()*+-/:.,?!;<=>@[\\\\]^_`{|}~]\", \" \", sent) for sent in doc]\n",
    "        doc = [sent.split() for sent in doc]\n",
    "        sentences+=(doc)\n",
    "    return sentences"
   ]
  },
  {
   "cell_type": "code",
   "execution_count": 11,
   "metadata": {},
   "outputs": [],
   "source": [
    "cleaned_content_word2vec = cleanup_for_word2vec(DataTrain['NoiDungTokenize'])"
   ]
  },
  {
   "cell_type": "code",
   "execution_count": 12,
   "metadata": {},
   "outputs": [
    {
     "data": {
      "text/plain": [
       "[['august',\n",
       "  '2000',\n",
       "  'etext',\n",
       "  '2273',\n",
       "  'project',\n",
       "  'gutenberg',\n",
       "  'etext',\n",
       "  'tom',\n",
       "  'swift',\n",
       "  'motor',\n",
       "  'boat',\n",
       "  'file',\n",
       "  'named',\n",
       "  '02tom10',\n",
       "  'txt02tom10']]"
      ]
     },
     "execution_count": 12,
     "metadata": {},
     "output_type": "execute_result"
    }
   ],
   "source": [
    "cleaned_content_word2vec[:1]"
   ]
  },
  {
   "cell_type": "code",
   "execution_count": 13,
   "metadata": {},
   "outputs": [
    {
     "name": "stderr",
     "output_type": "stream",
     "text": [
      "C:\\Users\\vuong.huynh\\Anaconda3\\lib\\site-packages\\gensim\\utils.py:1209: UserWarning: detected Windows; aliasing chunkize to chunkize_serial\n",
      "  warnings.warn(\"detected Windows; aliasing chunkize to chunkize_serial\")\n"
     ]
    }
   ],
   "source": [
    "from gensim.models.word2vec import Word2Vec"
   ]
  },
  {
   "cell_type": "code",
   "execution_count": 14,
   "metadata": {},
   "outputs": [],
   "source": [
    "wordvec_model = Word2Vec(cleaned_content_word2vec, iter=10, size=300, window=5, min_count=10, workers=4, sg=0)"
   ]
  },
  {
   "cell_type": "code",
   "execution_count": 15,
   "metadata": {},
   "outputs": [
    {
     "name": "stderr",
     "output_type": "stream",
     "text": [
      "C:\\Users\\vuong.huynh\\Anaconda3\\lib\\site-packages\\ipykernel_launcher.py:1: DeprecationWarning: Call to deprecated `most_similar` (Method will be removed in 4.0.0, use self.wv.most_similar() instead).\n",
      "  \"\"\"Entry point for launching an IPython kernel.\n",
      "C:\\Users\\vuong.huynh\\Anaconda3\\lib\\site-packages\\gensim\\matutils.py:737: FutureWarning: Conversion of the second argument of issubdtype from `int` to `np.signedinteger` is deprecated. In future, it will be treated as `np.int32 == np.dtype(int).type`.\n",
      "  if np.issubdtype(vec.dtype, np.int):\n"
     ]
    },
    {
     "data": {
      "text/plain": [
       "[('reat', 0.7945661544799805),\n",
       " ('vast', 0.581305980682373),\n",
       " ('enormous', 0.5707581043243408),\n",
       " ('greater', 0.5222585201263428),\n",
       " ('mighty', 0.5008816123008728),\n",
       " ('greatest', 0.4954996407032013),\n",
       " ('considerable', 0.48496013879776),\n",
       " ('huge', 0.4561648964881897),\n",
       " ('mmense', 0.45545506477355957),\n",
       " ('infinite', 0.43212613463401794)]"
      ]
     },
     "execution_count": 15,
     "metadata": {},
     "output_type": "execute_result"
    }
   ],
   "source": [
    "wordvec_model.most_similar(\"great\")"
   ]
  },
  {
   "cell_type": "code",
   "execution_count": 16,
   "metadata": {},
   "outputs": [
    {
     "name": "stdout",
     "output_type": "stream",
     "text": [
      "58709 unique words represented by 300 dimensional vectors\n"
     ]
    }
   ],
   "source": [
    "print(\"%d unique words represented by 300 dimensional vectors\" % (len(wordvec_model.wv.vocab)))"
   ]
  },
  {
   "cell_type": "code",
   "execution_count": 17,
   "metadata": {},
   "outputs": [
    {
     "data": {
      "text/plain": [
       "{'august': <gensim.models.keyedvectors.Vocab at 0x1e4eed72828>,\n",
       " '2000': <gensim.models.keyedvectors.Vocab at 0x1e4eed72860>,\n",
       " 'etext': <gensim.models.keyedvectors.Vocab at 0x1e4eed72908>,\n",
       " 'project': <gensim.models.keyedvectors.Vocab at 0x1e4eed72940>,\n",
       " 'gutenberg': <gensim.models.keyedvectors.Vocab at 0x1e4eed72898>,\n",
       " 'tom': <gensim.models.keyedvectors.Vocab at 0x1e4eed728d0>,\n",
       " 'swift': <gensim.models.keyedvectors.Vocab at 0x1e4eed72978>,\n",
       " 'motor': <gensim.models.keyedvectors.Vocab at 0x1e4eed729b0>,\n",
       " 'boat': <gensim.models.keyedvectors.Vocab at 0x1e4eed729e8>,\n",
       " 'file': <gensim.models.keyedvectors.Vocab at 0x1e4eed72a20>,\n",
       " 'named': <gensim.models.keyedvectors.Vocab at 0x1e4eed72a58>,\n",
       " 'ip': <gensim.models.keyedvectors.Vocab at 0x1e4eed72a90>,\n",
       " 'corrected': <gensim.models.keyedvectors.Vocab at 0x1e4eed72ac8>,\n",
       " 'editions': <gensim.models.keyedvectors.Vocab at 0x1e4eed72b00>,\n",
       " 'etexts': <gensim.models.keyedvectors.Vocab at 0x1e4eed72b38>,\n",
       " 'get': <gensim.models.keyedvectors.Vocab at 0x1e4eed72b70>,\n",
       " 'new': <gensim.models.keyedvectors.Vocab at 0x1e4eed72ba8>,\n",
       " 'number': <gensim.models.keyedvectors.Vocab at 0x1e4eed72be0>,\n",
       " 'txt': <gensim.models.keyedvectors.Vocab at 0x1e4eed72c18>,\n",
       " 'versions': <gensim.models.keyedvectors.Vocab at 0x1e4eed72c50>,\n",
       " 'based': <gensim.models.keyedvectors.Vocab at 0x1e4eed72c88>,\n",
       " 'separate': <gensim.models.keyedvectors.Vocab at 0x1e4eed72cc0>,\n",
       " 'sources': <gensim.models.keyedvectors.Vocab at 0x1e4eed72cf8>,\n",
       " 'letter': <gensim.models.keyedvectors.Vocab at 0x1e4eed72d30>,\n",
       " 'prepared': <gensim.models.keyedvectors.Vocab at 0x1e4eed72d68>,\n",
       " 'ronald': <gensim.models.keyedvectors.Vocab at 0x1e4eed72da0>,\n",
       " 'proof': <gensim.models.keyedvectors.Vocab at 0x1e4eed72dd8>,\n",
       " 'read': <gensim.models.keyedvectors.Vocab at 0x1e4eed72e10>,\n",
       " 'erin': <gensim.models.keyedvectors.Vocab at 0x1e4eed72e48>,\n",
       " 'george': <gensim.models.keyedvectors.Vocab at 0x1e4eed72e80>,\n",
       " 'joseph': <gensim.models.keyedvectors.Vocab at 0x1e4eed72eb8>,\n",
       " 'trying': <gensim.models.keyedvectors.Vocab at 0x1e4eed72ef0>,\n",
       " 'release': <gensim.models.keyedvectors.Vocab at 0x1e4eed72f28>,\n",
       " 'books': <gensim.models.keyedvectors.Vocab at 0x1e4eed72f60>,\n",
       " 'one': <gensim.models.keyedvectors.Vocab at 0x1e4eed72f98>,\n",
       " 'month': <gensim.models.keyedvectors.Vocab at 0x1e4eed72fd0>,\n",
       " 'advance': <gensim.models.keyedvectors.Vocab at 0x1e4eedb6048>,\n",
       " 'official': <gensim.models.keyedvectors.Vocab at 0x1e4eedb6080>,\n",
       " 'dates': <gensim.models.keyedvectors.Vocab at 0x1e4eedb60b8>,\n",
       " 'time': <gensim.models.keyedvectors.Vocab at 0x1e4eedb60f0>,\n",
       " 'better': <gensim.models.keyedvectors.Vocab at 0x1e4eedb6128>,\n",
       " 'editing': <gensim.models.keyedvectors.Vocab at 0x1e4eedb6160>,\n",
       " 'lease': <gensim.models.keyedvectors.Vocab at 0x1e4eedb6198>,\n",
       " 'note': <gensim.models.keyedvectors.Vocab at 0x1e4eedb61d0>,\n",
       " 'neither': <gensim.models.keyedvectors.Vocab at 0x1e4eedb6208>,\n",
       " 'list': <gensim.models.keyedvectors.Vocab at 0x1e4eedb6240>,\n",
       " 'contents': <gensim.models.keyedvectors.Vocab at 0x1e4eedb6278>,\n",
       " 'final': <gensim.models.keyedvectors.Vocab at 0x1e4eedb62b0>,\n",
       " 'till': <gensim.models.keyedvectors.Vocab at 0x1e4eedb62e8>,\n",
       " 'midnight': <gensim.models.keyedvectors.Vocab at 0x1e4eedb6320>,\n",
       " 'last': <gensim.models.keyedvectors.Vocab at 0x1e4eedb6358>,\n",
       " 'day': <gensim.models.keyedvectors.Vocab at 0x1e4eedb6390>,\n",
       " 'announcement': <gensim.models.keyedvectors.Vocab at 0x1e4eedb63c8>,\n",
       " 'fficial': <gensim.models.keyedvectors.Vocab at 0x1e4eedb6400>,\n",
       " 'date': <gensim.models.keyedvectors.Vocab at 0x1e4eedb6438>,\n",
       " 'central': <gensim.models.keyedvectors.Vocab at 0x1e4eedb6470>,\n",
       " 'stated': <gensim.models.keyedvectors.Vocab at 0x1e4eedb64a8>,\n",
       " 'reliminary': <gensim.models.keyedvectors.Vocab at 0x1e4eedb64e0>,\n",
       " 'version': <gensim.models.keyedvectors.Vocab at 0x1e4eedb6518>,\n",
       " 'may': <gensim.models.keyedvectors.Vocab at 0x1e4eedb6550>,\n",
       " 'often': <gensim.models.keyedvectors.Vocab at 0x1e4eedb6588>,\n",
       " 'posted': <gensim.models.keyedvectors.Vocab at 0x1e4eedb65c0>,\n",
       " 'suggestion': <gensim.models.keyedvectors.Vocab at 0x1e4eedb65f8>,\n",
       " 'comment': <gensim.models.keyedvectors.Vocab at 0x1e4eedb6630>,\n",
       " 'wish': <gensim.models.keyedvectors.Vocab at 0x1e4eedb6668>,\n",
       " 'ure': <gensim.models.keyedvectors.Vocab at 0x1e4eedb66a0>,\n",
       " 'first': <gensim.models.keyedvectors.Vocab at 0x1e4eedb66d8>,\n",
       " 'edition': <gensim.models.keyedvectors.Vocab at 0x1e4eedb6710>,\n",
       " 'xxxxx10x': <gensim.models.keyedvectors.Vocab at 0x1e4eedb6748>,\n",
       " 'xx': <gensim.models.keyedvectors.Vocab at 0x1e4eedb6780>,\n",
       " 'please': <gensim.models.keyedvectors.Vocab at 0x1e4eedb67b8>,\n",
       " 'check': <gensim.models.keyedvectors.Vocab at 0x1e4eedb67f0>,\n",
       " 'sizes': <gensim.models.keyedvectors.Vocab at 0x1e4eedb6828>,\n",
       " 'week': <gensim.models.keyedvectors.Vocab at 0x1e4eedb6860>,\n",
       " 'next': <gensim.models.keyedvectors.Vocab at 0x1e4eedb6898>,\n",
       " 'ince': <gensim.models.keyedvectors.Vocab at 0x1e4eedb68d0>,\n",
       " 'ftp': <gensim.models.keyedvectors.Vocab at 0x1e4eedb6908>,\n",
       " 'program': <gensim.models.keyedvectors.Vocab at 0x1e4eedb6940>,\n",
       " 'bug': <gensim.models.keyedvectors.Vocab at 0x1e4eedb6978>,\n",
       " 'scrambles': <gensim.models.keyedvectors.Vocab at 0x1e4eedb69b0>,\n",
       " 'tried': <gensim.models.keyedvectors.Vocab at 0x1e4eedb69e8>,\n",
       " 'fix': <gensim.models.keyedvectors.Vocab at 0x1e4eedb6a20>,\n",
       " 'failed': <gensim.models.keyedvectors.Vocab at 0x1e4eedb6a58>,\n",
       " 'look': <gensim.models.keyedvectors.Vocab at 0x1e4eedb6a90>,\n",
       " 'size': <gensim.models.keyedvectors.Vocab at 0x1e4eedb6ac8>,\n",
       " 'try': <gensim.models.keyedvectors.Vocab at 0x1e4eedb6b00>,\n",
       " 'see': <gensim.models.keyedvectors.Vocab at 0x1e4eedb6b38>,\n",
       " 'copy': <gensim.models.keyedvectors.Vocab at 0x1e4eedb6b70>,\n",
       " 'least': <gensim.models.keyedvectors.Vocab at 0x1e4eedb6ba8>,\n",
       " 'byte': <gensim.models.keyedvectors.Vocab at 0x1e4eedb6be0>,\n",
       " 'less': <gensim.models.keyedvectors.Vocab at 0x1e4eedb6c18>,\n",
       " 'nformation': <gensim.models.keyedvectors.Vocab at 0x1e4eedb6c50>,\n",
       " 'page': <gensim.models.keyedvectors.Vocab at 0x1e4eedb6c88>,\n",
       " 'produce': <gensim.models.keyedvectors.Vocab at 0x1e4eedb6cc0>,\n",
       " 'two': <gensim.models.keyedvectors.Vocab at 0x1e4eedb6cf8>,\n",
       " 'million': <gensim.models.keyedvectors.Vocab at 0x1e4eedb6d30>,\n",
       " 'dollars': <gensim.models.keyedvectors.Vocab at 0x1e4eedb6d68>,\n",
       " 'hour': <gensim.models.keyedvectors.Vocab at 0x1e4eedb6da0>,\n",
       " 'work': <gensim.models.keyedvectors.Vocab at 0x1e4eedb6dd8>,\n",
       " 'ifty': <gensim.models.keyedvectors.Vocab at 0x1e4eedb6e10>,\n",
       " 'hours': <gensim.models.keyedvectors.Vocab at 0x1e4eedb6e48>,\n",
       " 'conservative': <gensim.models.keyedvectors.Vocab at 0x1e4eedb6e80>,\n",
       " 'estimate': <gensim.models.keyedvectors.Vocab at 0x1e4eedb6eb8>,\n",
       " 'long': <gensim.models.keyedvectors.Vocab at 0x1e4eedb6ef0>,\n",
       " 'take': <gensim.models.keyedvectors.Vocab at 0x1e4eedb6f28>,\n",
       " 'selected': <gensim.models.keyedvectors.Vocab at 0x1e4eedb6f60>,\n",
       " 'entered': <gensim.models.keyedvectors.Vocab at 0x1e4eedb6f98>,\n",
       " 'proofread': <gensim.models.keyedvectors.Vocab at 0x1e4eedb6fd0>,\n",
       " 'edited': <gensim.models.keyedvectors.Vocab at 0x1e4eedba048>,\n",
       " 'copyright': <gensim.models.keyedvectors.Vocab at 0x1e4eedba080>,\n",
       " 'searched': <gensim.models.keyedvectors.Vocab at 0x1e4eedba0b8>,\n",
       " 'analyzed': <gensim.models.keyedvectors.Vocab at 0x1e4eedba0f0>,\n",
       " 'letters': <gensim.models.keyedvectors.Vocab at 0x1e4eedba128>,\n",
       " 'written': <gensim.models.keyedvectors.Vocab at 0x1e4eedba160>,\n",
       " 'etc': <gensim.models.keyedvectors.Vocab at 0x1e4eedba198>,\n",
       " 'rojected': <gensim.models.keyedvectors.Vocab at 0x1e4eedba1d0>,\n",
       " 'audience': <gensim.models.keyedvectors.Vocab at 0x1e4eedba208>,\n",
       " 'hundred': <gensim.models.keyedvectors.Vocab at 0x1e4eedba240>,\n",
       " 'readers': <gensim.models.keyedvectors.Vocab at 0x1e4eedba278>,\n",
       " 'alue': <gensim.models.keyedvectors.Vocab at 0x1e4eedba2b0>,\n",
       " 'per': <gensim.models.keyedvectors.Vocab at 0x1e4eedba2e8>,\n",
       " 'text': <gensim.models.keyedvectors.Vocab at 0x1e4eedba320>,\n",
       " 'nominally': <gensim.models.keyedvectors.Vocab at 0x1e4eedba358>,\n",
       " 'estimated': <gensim.models.keyedvectors.Vocab at 0x1e4eedba390>,\n",
       " 'dollar': <gensim.models.keyedvectors.Vocab at 0x1e4eedba3c8>,\n",
       " '2': <gensim.models.keyedvectors.Vocab at 0x1e4eedba400>,\n",
       " 'year': <gensim.models.keyedvectors.Vocab at 0x1e4eedba438>,\n",
       " 'thirty': <gensim.models.keyedvectors.Vocab at 0x1e4eedba470>,\n",
       " 'files': <gensim.models.keyedvectors.Vocab at 0x1e4eedba4a8>,\n",
       " '400': <gensim.models.keyedvectors.Vocab at 0x1e4eedba4e0>,\n",
       " '1996': <gensim.models.keyedvectors.Vocab at 0x1e4eedba518>,\n",
       " 'total': <gensim.models.keyedvectors.Vocab at 0x1e4eedba550>,\n",
       " '800': <gensim.models.keyedvectors.Vocab at 0x1e4eedba588>,\n",
       " 'each': <gensim.models.keyedvectors.Vocab at 0x1e4eedba5c0>,\n",
       " '10': <gensim.models.keyedvectors.Vocab at 0x1e4eedba5f8>,\n",
       " 'computerized': <gensim.models.keyedvectors.Vocab at 0x1e4eedba630>,\n",
       " 'population': <gensim.models.keyedvectors.Vocab at 0x1e4eedba668>,\n",
       " 'reach': <gensim.models.keyedvectors.Vocab at 0x1e4eedba6a0>,\n",
       " '80': <gensim.models.keyedvectors.Vocab at 0x1e4eedba6d8>,\n",
       " 'billion': <gensim.models.keyedvectors.Vocab at 0x1e4eedba710>,\n",
       " 'oal': <gensim.models.keyedvectors.Vocab at 0x1e4eedba748>,\n",
       " 'give': <gensim.models.keyedvectors.Vocab at 0x1e4eedba780>,\n",
       " 'away': <gensim.models.keyedvectors.Vocab at 0x1e4eedba7b8>,\n",
       " 'trillion': <gensim.models.keyedvectors.Vocab at 0x1e4eedba7f0>,\n",
       " 'december': <gensim.models.keyedvectors.Vocab at 0x1e4eedba828>,\n",
       " '31': <gensim.models.keyedvectors.Vocab at 0x1e4eedba860>,\n",
       " '2001': <gensim.models.keyedvectors.Vocab at 0x1e4eedba898>,\n",
       " '0': <gensim.models.keyedvectors.Vocab at 0x1e4eedba8d0>,\n",
       " '000': <gensim.models.keyedvectors.Vocab at 0x1e4eedba908>,\n",
       " '00': <gensim.models.keyedvectors.Vocab at 0x1e4eedba940>,\n",
       " 'rillion': <gensim.models.keyedvectors.Vocab at 0x1e4eedba978>,\n",
       " 'ten': <gensim.models.keyedvectors.Vocab at 0x1e4eedba9b0>,\n",
       " 'thousand': <gensim.models.keyedvectors.Vocab at 0x1e4eedba9e8>,\n",
       " 'titles': <gensim.models.keyedvectors.Vocab at 0x1e4eedbaa20>,\n",
       " 'present': <gensim.models.keyedvectors.Vocab at 0x1e4eedbaa58>,\n",
       " 'computer': <gensim.models.keyedvectors.Vocab at 0x1e4eedbaa90>,\n",
       " 'users': <gensim.models.keyedvectors.Vocab at 0x1e4eedbaac8>,\n",
       " '001': <gensim.models.keyedvectors.Vocab at 0x1e4eedbab00>,\n",
       " 'twice': <gensim.models.keyedvectors.Vocab at 0x1e4eedbab38>,\n",
       " 'many': <gensim.models.keyedvectors.Vocab at 0x1e4eedbab70>,\n",
       " 'require': <gensim.models.keyedvectors.Vocab at 0x1e4eedbaba8>,\n",
       " 'us': <gensim.models.keyedvectors.Vocab at 0x1e4eedbabe0>,\n",
       " 'reaching': <gensim.models.keyedvectors.Vocab at 0x1e4eedbac18>,\n",
       " '5': <gensim.models.keyedvectors.Vocab at 0x1e4eedbac50>,\n",
       " 'eed': <gensim.models.keyedvectors.Vocab at 0x1e4eedbac88>,\n",
       " 'donations': <gensim.models.keyedvectors.Vocab at 0x1e4eedbacc0>,\n",
       " 'ever': <gensim.models.keyedvectors.Vocab at 0x1e4eedbacf8>,\n",
       " 'onations': <gensim.models.keyedvectors.Vocab at 0x1e4eedbad30>,\n",
       " 'made': <gensim.models.keyedvectors.Vocab at 0x1e4eedbad68>,\n",
       " 'cmu': <gensim.models.keyedvectors.Vocab at 0x1e4eedbada0>,\n",
       " 'ax': <gensim.models.keyedvectors.Vocab at 0x1e4eedbadd8>,\n",
       " 'deductible': <gensim.models.keyedvectors.Vocab at 0x1e4eedbae10>,\n",
       " 'extent': <gensim.models.keyedvectors.Vocab at 0x1e4eedbae48>,\n",
       " 'allowable': <gensim.models.keyedvectors.Vocab at 0x1e4eedbae80>,\n",
       " 'law': <gensim.models.keyedvectors.Vocab at 0x1e4eedbaeb8>,\n",
       " 'arnegie': <gensim.models.keyedvectors.Vocab at 0x1e4eedbaef0>,\n",
       " 'mellon': <gensim.models.keyedvectors.Vocab at 0x1e4eedbaf28>,\n",
       " 'university': <gensim.models.keyedvectors.Vocab at 0x1e4eedbaf60>,\n",
       " 'atters': <gensim.models.keyedvectors.Vocab at 0x1e4eedbaf98>,\n",
       " 'mail': <gensim.models.keyedvectors.Vocab at 0x1e4eedbafd0>,\n",
       " 'to': <gensim.models.keyedvectors.Vocab at 0x1e4eedbd048>,\n",
       " 'ox': <gensim.models.keyedvectors.Vocab at 0x1e4eedbd080>,\n",
       " '2782': <gensim.models.keyedvectors.Vocab at 0x1e4eedbd0b8>,\n",
       " 'champaign': <gensim.models.keyedvectors.Vocab at 0x1e4eedbd0f0>,\n",
       " 'il': <gensim.models.keyedvectors.Vocab at 0x1e4eedbd128>,\n",
       " '61825': <gensim.models.keyedvectors.Vocab at 0x1e4eedbd160>,\n",
       " 'email': <gensim.models.keyedvectors.Vocab at 0x1e4eedbd198>,\n",
       " 'fails': <gensim.models.keyedvectors.Vocab at 0x1e4eedbd1d0>,\n",
       " 'executive': <gensim.models.keyedvectors.Vocab at 0x1e4eedbd208>,\n",
       " 'director': <gensim.models.keyedvectors.Vocab at 0x1e4eedbd240>,\n",
       " 'michael': <gensim.models.keyedvectors.Vocab at 0x1e4eedbd278>,\n",
       " 'art': <gensim.models.keyedvectors.Vocab at 0x1e4eedbd2b0>,\n",
       " 'hartpobox': <gensim.models.keyedvectors.Vocab at 0x1e4eedbd2e8>,\n",
       " 'om': <gensim.models.keyedvectors.Vocab at 0x1e4eedbd320>,\n",
       " 'would': <gensim.models.keyedvectors.Vocab at 0x1e4eedbd358>,\n",
       " 'prefer': <gensim.models.keyedvectors.Vocab at 0x1e4eedbd390>,\n",
       " 'send': <gensim.models.keyedvectors.Vocab at 0x1e4eedbd3c8>,\n",
       " 'information': <gensim.models.keyedvectors.Vocab at 0x1e4eedbd400>,\n",
       " 'internet': <gensim.models.keyedvectors.Vocab at 0x1e4eedbd438>,\n",
       " 'bitnet': <gensim.models.keyedvectors.Vocab at 0x1e4eedbd470>,\n",
       " 'compuserve': <gensim.models.keyedvectors.Vocab at 0x1e4eedbd4a8>,\n",
       " 'attmail': <gensim.models.keyedvectors.Vocab at 0x1e4eedbd4e0>,\n",
       " 'mcimail': <gensim.models.keyedvectors.Vocab at 0x1e4eedbd518>,\n",
       " 'tp': <gensim.models.keyedvectors.Vocab at 0x1e4eedbd550>,\n",
       " 'or': <gensim.models.keyedvectors.Vocab at 0x1e4eedbd588>,\n",
       " 'emulator': <gensim.models.keyedvectors.Vocab at 0x1e4eedbd5c0>,\n",
       " 'directly': <gensim.models.keyedvectors.Vocab at 0x1e4eedbd5f8>,\n",
       " 'archives': <gensim.models.keyedvectors.Vocab at 0x1e4eedbd630>,\n",
       " 'mac': <gensim.models.keyedvectors.Vocab at 0x1e4eedbd668>,\n",
       " 'point': <gensim.models.keyedvectors.Vocab at 0x1e4eedbd6a0>,\n",
       " 'click': <gensim.models.keyedvectors.Vocab at 0x1e4eedbd6d8>,\n",
       " 'ype': <gensim.models.keyedvectors.Vocab at 0x1e4eedbd710>,\n",
       " 'uiarchive': <gensim.models.keyedvectors.Vocab at 0x1e4eedbd748>,\n",
       " 'so': <gensim.models.keyedvectors.Vocab at 0x1e4eedbd780>,\n",
       " 'iuc': <gensim.models.keyedvectors.Vocab at 0x1e4eedbd7b8>,\n",
       " 'du': <gensim.models.keyedvectors.Vocab at 0x1e4eedbd7f0>,\n",
       " 'login': <gensim.models.keyedvectors.Vocab at 0x1e4eedbd828>,\n",
       " 'anonymous': <gensim.models.keyedvectors.Vocab at 0x1e4eedbd860>,\n",
       " 'password': <gensim.models.keyedvectors.Vocab at 0x1e4eedbd898>,\n",
       " 'yourlogin': <gensim.models.keyedvectors.Vocab at 0x1e4eedbd8d0>,\n",
       " 'cd': <gensim.models.keyedvectors.Vocab at 0x1e4eedbd908>,\n",
       " 'etext90': <gensim.models.keyedvectors.Vocab at 0x1e4eedbd940>,\n",
       " 'etext96': <gensim.models.keyedvectors.Vocab at 0x1e4eedbd978>,\n",
       " 'articles': <gensim.models.keyedvectors.Vocab at 0x1e4eedbd9b0>,\n",
       " 'suggest': <gensim.models.keyedvectors.Vocab at 0x1e4eedbd9e8>,\n",
       " 'gut': <gensim.models.keyedvectors.Vocab at 0x1e4eedbda20>,\n",
       " 'dir': <gensim.models.keyedvectors.Vocab at 0x1e4eedbda58>,\n",
       " 'mget': <gensim.models.keyedvectors.Vocab at 0x1e4eedbda90>,\n",
       " 'et': <gensim.models.keyedvectors.Vocab at 0x1e4eedbdac8>,\n",
       " 'bin': <gensim.models.keyedvectors.Vocab at 0x1e4eedbdb00>,\n",
       " 'zip': <gensim.models.keyedvectors.Vocab at 0x1e4eedbdb38>,\n",
       " 'index': <gensim.models.keyedvectors.Vocab at 0x1e4eedbdb70>,\n",
       " 'ut': <gensim.models.keyedvectors.Vocab at 0x1e4eedbdba8>,\n",
       " 'general': <gensim.models.keyedvectors.Vocab at 0x1e4eedbdbe0>,\n",
       " 'newsletters': <gensim.models.keyedvectors.Vocab at 0x1e4eedbdc18>,\n",
       " 'legal': <gensim.models.keyedvectors.Vocab at 0x1e4eedbdc50>,\n",
       " 'advisor': <gensim.models.keyedvectors.Vocab at 0x1e4eedbdc88>,\n",
       " 'three': <gensim.models.keyedvectors.Vocab at 0x1e4eedbdcc0>,\n",
       " 'pages': <gensim.models.keyedvectors.Vocab at 0x1e4eedbdcf8>,\n",
       " 'startthe': <gensim.models.keyedvectors.Vocab at 0x1e4eedbdd30>,\n",
       " 'small': <gensim.models.keyedvectors.Vocab at 0x1e4eedbdd68>,\n",
       " 'print': <gensim.models.keyedvectors.Vocab at 0x1e4eedbdda0>,\n",
       " 'ublic': <gensim.models.keyedvectors.Vocab at 0x1e4eedbddd8>,\n",
       " 'domain': <gensim.models.keyedvectors.Vocab at 0x1e4eedbde10>,\n",
       " 'etextsstart': <gensim.models.keyedvectors.Vocab at 0x1e4eedbde48>,\n",
       " 'tatement': <gensim.models.keyedvectors.Vocab at 0x1e4eedbde80>,\n",
       " 'here': <gensim.models.keyedvectors.Vocab at 0x1e4eedbdeb8>,\n",
       " 'know': <gensim.models.keyedvectors.Vocab at 0x1e4eedbdef0>,\n",
       " 'lawyers': <gensim.models.keyedvectors.Vocab at 0x1e4eedbdf28>,\n",
       " 'ell': <gensim.models.keyedvectors.Vocab at 0x1e4eedbdf60>,\n",
       " 'might': <gensim.models.keyedvectors.Vocab at 0x1e4eedbdf98>,\n",
       " 'sue': <gensim.models.keyedvectors.Vocab at 0x1e4eedbdfd0>,\n",
       " 'something': <gensim.models.keyedvectors.Vocab at 0x1e4eedc0048>,\n",
       " 'wrong': <gensim.models.keyedvectors.Vocab at 0x1e4eedc0080>,\n",
       " 'even': <gensim.models.keyedvectors.Vocab at 0x1e4eedc00b8>,\n",
       " 'got': <gensim.models.keyedvectors.Vocab at 0x1e4eedc00f0>,\n",
       " 'free': <gensim.models.keyedvectors.Vocab at 0x1e4eedc0128>,\n",
       " 'someone': <gensim.models.keyedvectors.Vocab at 0x1e4eedc0160>,\n",
       " 'fault': <gensim.models.keyedvectors.Vocab at 0x1e4eedc0198>,\n",
       " 'mong': <gensim.models.keyedvectors.Vocab at 0x1e4eedc01d0>,\n",
       " 'things': <gensim.models.keyedvectors.Vocab at 0x1e4eedc0208>,\n",
       " 'disclaims': <gensim.models.keyedvectors.Vocab at 0x1e4eedc0240>,\n",
       " 'liability': <gensim.models.keyedvectors.Vocab at 0x1e4eedc0278>,\n",
       " 'lso': <gensim.models.keyedvectors.Vocab at 0x1e4eedc02b0>,\n",
       " 'tells': <gensim.models.keyedvectors.Vocab at 0x1e4eedc02e8>,\n",
       " 'distribute': <gensim.models.keyedvectors.Vocab at 0x1e4eedc0320>,\n",
       " 'copies': <gensim.models.keyedvectors.Vocab at 0x1e4eedc0358>,\n",
       " 'want': <gensim.models.keyedvectors.Vocab at 0x1e4eedc0390>,\n",
       " 'use': <gensim.models.keyedvectors.Vocab at 0x1e4eedc03c8>,\n",
       " 'using': <gensim.models.keyedvectors.Vocab at 0x1e4eedc0400>,\n",
       " 'reading': <gensim.models.keyedvectors.Vocab at 0x1e4eedc0438>,\n",
       " 'part': <gensim.models.keyedvectors.Vocab at 0x1e4eedc0470>,\n",
       " 'tm': <gensim.models.keyedvectors.Vocab at 0x1e4eedc04a8>,\n",
       " 'indicate': <gensim.models.keyedvectors.Vocab at 0x1e4eedc04e0>,\n",
       " 'understand': <gensim.models.keyedvectors.Vocab at 0x1e4eedc0518>,\n",
       " 'agree': <gensim.models.keyedvectors.Vocab at 0x1e4eedc0550>,\n",
       " 'accept': <gensim.models.keyedvectors.Vocab at 0x1e4eedc0588>,\n",
       " 'eceive': <gensim.models.keyedvectors.Vocab at 0x1e4eedc05c0>,\n",
       " 'refund': <gensim.models.keyedvectors.Vocab at 0x1e4eedc05f8>,\n",
       " 'money': <gensim.models.keyedvectors.Vocab at 0x1e4eedc0630>,\n",
       " 'if': <gensim.models.keyedvectors.Vocab at 0x1e4eedc0668>,\n",
       " 'any': <gensim.models.keyedvectors.Vocab at 0x1e4eedc06a0>,\n",
       " 'paid': <gensim.models.keyedvectors.Vocab at 0x1e4eedc06d8>,\n",
       " 'sending': <gensim.models.keyedvectors.Vocab at 0x1e4eedc0710>,\n",
       " 'request': <gensim.models.keyedvectors.Vocab at 0x1e4eedc0748>,\n",
       " 'within': <gensim.models.keyedvectors.Vocab at 0x1e4eedc0780>,\n",
       " '30': <gensim.models.keyedvectors.Vocab at 0x1e4eedc07b8>,\n",
       " 'days': <gensim.models.keyedvectors.Vocab at 0x1e4eedc07f0>,\n",
       " 'receiving': <gensim.models.keyedvectors.Vocab at 0x1e4eedc0828>,\n",
       " 'person': <gensim.models.keyedvectors.Vocab at 0x1e4eedc0860>,\n",
       " 'eceived': <gensim.models.keyedvectors.Vocab at 0x1e4eedc0898>,\n",
       " 'physical': <gensim.models.keyedvectors.Vocab at 0x1e4eedc08d0>,\n",
       " 'medium': <gensim.models.keyedvectors.Vocab at 0x1e4eedc0908>,\n",
       " 'such': <gensim.models.keyedvectors.Vocab at 0x1e4eedc0940>,\n",
       " 'disk': <gensim.models.keyedvectors.Vocab at 0x1e4eedc0978>,\n",
       " 'must': <gensim.models.keyedvectors.Vocab at 0x1e4eedc09b0>,\n",
       " 'return': <gensim.models.keyedvectors.Vocab at 0x1e4eedc09e8>,\n",
       " 'roject': <gensim.models.keyedvectors.Vocab at 0x1e4eedc0a20>,\n",
       " 'like': <gensim.models.keyedvectors.Vocab at 0x1e4eedc0a58>,\n",
       " 'public': <gensim.models.keyedvectors.Vocab at 0x1e4eedc0a90>,\n",
       " 'distributed': <gensim.models.keyedvectors.Vocab at 0x1e4eedc0ac8>,\n",
       " 'professor': <gensim.models.keyedvectors.Vocab at 0x1e4eedc0b00>,\n",
       " 'association': <gensim.models.keyedvectors.Vocab at 0x1e4eedc0b38>,\n",
       " 'carnegie': <gensim.models.keyedvectors.Vocab at 0x1e4eedc0b70>,\n",
       " 'the': <gensim.models.keyedvectors.Vocab at 0x1e4eedc0ba8>,\n",
       " 'among': <gensim.models.keyedvectors.Vocab at 0x1e4eedc0be0>,\n",
       " 'means': <gensim.models.keyedvectors.Vocab at 0x1e4eedc0c18>,\n",
       " 'owns': <gensim.models.keyedvectors.Vocab at 0x1e4eedc0c50>,\n",
       " 'united': <gensim.models.keyedvectors.Vocab at 0x1e4eedc0c88>,\n",
       " 'states': <gensim.models.keyedvectors.Vocab at 0x1e4eedc0cc0>,\n",
       " 'and': <gensim.models.keyedvectors.Vocab at 0x1e4eedc0cf8>,\n",
       " 'without': <gensim.models.keyedvectors.Vocab at 0x1e4eedc0d30>,\n",
       " 'permission': <gensim.models.keyedvectors.Vocab at 0x1e4eedc0d68>,\n",
       " 'paying': <gensim.models.keyedvectors.Vocab at 0x1e4eedc0da0>,\n",
       " 'royalties': <gensim.models.keyedvectors.Vocab at 0x1e4eedc0dd8>,\n",
       " 'pecial': <gensim.models.keyedvectors.Vocab at 0x1e4eedc0e10>,\n",
       " 'rules': <gensim.models.keyedvectors.Vocab at 0x1e4eedc0e48>,\n",
       " 'set': <gensim.models.keyedvectors.Vocab at 0x1e4eedc0e80>,\n",
       " 'forth': <gensim.models.keyedvectors.Vocab at 0x1e4eedc0eb8>,\n",
       " 'apply': <gensim.models.keyedvectors.Vocab at 0x1e4eedc0ef0>,\n",
       " 'projects': <gensim.models.keyedvectors.Vocab at 0x1e4eedc0f28>,\n",
       " 'trademark': <gensim.models.keyedvectors.Vocab at 0x1e4eedc0f60>,\n",
       " 'reate': <gensim.models.keyedvectors.Vocab at 0x1e4eedc0f98>,\n",
       " 'expends': <gensim.models.keyedvectors.Vocab at 0x1e4eedc0fd0>,\n",
       " 'considerable': <gensim.models.keyedvectors.Vocab at 0x1e4eedc4048>,\n",
       " 'efforts': <gensim.models.keyedvectors.Vocab at 0x1e4eedc4080>,\n",
       " 'identify': <gensim.models.keyedvectors.Vocab at 0x1e4eedc40b8>,\n",
       " 'transcribe': <gensim.models.keyedvectors.Vocab at 0x1e4eedc40f0>,\n",
       " 'works': <gensim.models.keyedvectors.Vocab at 0x1e4eedc4128>,\n",
       " 'espite': <gensim.models.keyedvectors.Vocab at 0x1e4eedc4160>,\n",
       " 'contain': <gensim.models.keyedvectors.Vocab at 0x1e4eedc4198>,\n",
       " 'defects': <gensim.models.keyedvectors.Vocab at 0x1e4eedc41d0>,\n",
       " 'form': <gensim.models.keyedvectors.Vocab at 0x1e4eedc4208>,\n",
       " 'incomplete': <gensim.models.keyedvectors.Vocab at 0x1e4eedc4240>,\n",
       " 'inaccurate': <gensim.models.keyedvectors.Vocab at 0x1e4eedc4278>,\n",
       " 'corrupt': <gensim.models.keyedvectors.Vocab at 0x1e4eedc42b0>,\n",
       " 'data': <gensim.models.keyedvectors.Vocab at 0x1e4eedc42e8>,\n",
       " 'transcription': <gensim.models.keyedvectors.Vocab at 0x1e4eedc4320>,\n",
       " 'errors': <gensim.models.keyedvectors.Vocab at 0x1e4eedc4358>,\n",
       " 'intellectual': <gensim.models.keyedvectors.Vocab at 0x1e4eedc4390>,\n",
       " 'property': <gensim.models.keyedvectors.Vocab at 0x1e4eedc43c8>,\n",
       " 'infringement': <gensim.models.keyedvectors.Vocab at 0x1e4eedc4400>,\n",
       " 'defective': <gensim.models.keyedvectors.Vocab at 0x1e4eedc4438>,\n",
       " 'damaged': <gensim.models.keyedvectors.Vocab at 0x1e4eedc4470>,\n",
       " 'virus': <gensim.models.keyedvectors.Vocab at 0x1e4eedc44a8>,\n",
       " 'codes': <gensim.models.keyedvectors.Vocab at 0x1e4eedc44e0>,\n",
       " 'damage': <gensim.models.keyedvectors.Vocab at 0x1e4eedc4518>,\n",
       " 'cannot': <gensim.models.keyedvectors.Vocab at 0x1e4eedc4550>,\n",
       " 'equipment': <gensim.models.keyedvectors.Vocab at 0x1e4eedc4588>,\n",
       " 'imited': <gensim.models.keyedvectors.Vocab at 0x1e4eedc45c0>,\n",
       " 'warranty': <gensim.models.keyedvectors.Vocab at 0x1e4eedc45f8>,\n",
       " 'disclaimer': <gensim.models.keyedvectors.Vocab at 0x1e4eedc4630>,\n",
       " 'damages': <gensim.models.keyedvectors.Vocab at 0x1e4eedc4668>,\n",
       " 'right': <gensim.models.keyedvectors.Vocab at 0x1e4eedc46a0>,\n",
       " 'replacement': <gensim.models.keyedvectors.Vocab at 0x1e4eedc46d8>,\n",
       " 'described': <gensim.models.keyedvectors.Vocab at 0x1e4eedc4710>,\n",
       " 'party': <gensim.models.keyedvectors.Vocab at 0x1e4eedc4748>,\n",
       " 'receive': <gensim.models.keyedvectors.Vocab at 0x1e4eedc4780>,\n",
       " 'costs': <gensim.models.keyedvectors.Vocab at 0x1e4eedc47b8>,\n",
       " 'expenses': <gensim.models.keyedvectors.Vocab at 0x1e4eedc47f0>,\n",
       " 'including': <gensim.models.keyedvectors.Vocab at 0x1e4eedc4828>,\n",
       " 'fees': <gensim.models.keyedvectors.Vocab at 0x1e4eedc4860>,\n",
       " 'emedies': <gensim.models.keyedvectors.Vocab at 0x1e4eedc4898>,\n",
       " 'negligence': <gensim.models.keyedvectors.Vocab at 0x1e4eedc48d0>,\n",
       " 'strict': <gensim.models.keyedvectors.Vocab at 0x1e4eedc4908>,\n",
       " 'breach': <gensim.models.keyedvectors.Vocab at 0x1e4eedc4940>,\n",
       " 'contract': <gensim.models.keyedvectors.Vocab at 0x1e4eedc4978>,\n",
       " 'limited': <gensim.models.keyedvectors.Vocab at 0x1e4eedc49b0>,\n",
       " 'indirect': <gensim.models.keyedvectors.Vocab at 0x1e4eedc49e8>,\n",
       " 'consequential': <gensim.models.keyedvectors.Vocab at 0x1e4eedc4a20>,\n",
       " 'punitive': <gensim.models.keyedvectors.Vocab at 0x1e4eedc4a58>,\n",
       " 'incidental': <gensim.models.keyedvectors.Vocab at 0x1e4eedc4a90>,\n",
       " 'notice': <gensim.models.keyedvectors.Vocab at 0x1e4eedc4ac8>,\n",
       " 'possibility': <gensim.models.keyedvectors.Vocab at 0x1e4eedc4b00>,\n",
       " 'iscover': <gensim.models.keyedvectors.Vocab at 0x1e4eedc4b38>,\n",
       " 'defect': <gensim.models.keyedvectors.Vocab at 0x1e4eedc4b70>,\n",
       " '90': <gensim.models.keyedvectors.Vocab at 0x1e4eedc4ba8>,\n",
       " 'explanatory': <gensim.models.keyedvectors.Vocab at 0x1e4eedc4be0>,\n",
       " 'received': <gensim.models.keyedvectors.Vocab at 0x1e4eedc4c18>,\n",
       " 'choose': <gensim.models.keyedvectors.Vocab at 0x1e4eedc4c50>,\n",
       " 'alternatively': <gensim.models.keyedvectors.Vocab at 0x1e4eedc4c88>,\n",
       " 'electronically': <gensim.models.keyedvectors.Vocab at 0x1e4eedc4cc0>,\n",
       " 'second': <gensim.models.keyedvectors.Vocab at 0x1e4eedc4cf8>,\n",
       " 'opportunity': <gensim.models.keyedvectors.Vocab at 0x1e4eedc4d30>,\n",
       " 'otherwise': <gensim.models.keyedvectors.Vocab at 0x1e4eedc4d68>,\n",
       " 'provided': <gensim.models.keyedvectors.Vocab at 0x1e4eedc4da0>,\n",
       " 'arranties': <gensim.models.keyedvectors.Vocab at 0x1e4eedc4dd8>,\n",
       " 'kind': <gensim.models.keyedvectors.Vocab at 0x1e4eedc4e10>,\n",
       " 'express': <gensim.models.keyedvectors.Vocab at 0x1e4eedc4e48>,\n",
       " 'implied': <gensim.models.keyedvectors.Vocab at 0x1e4eedc4e80>,\n",
       " 'warranties': <gensim.models.keyedvectors.Vocab at 0x1e4eedc4eb8>,\n",
       " 'merchantability': <gensim.models.keyedvectors.Vocab at 0x1e4eedc4ef0>,\n",
       " 'fitness': <gensim.models.keyedvectors.Vocab at 0x1e4eedc4f28>,\n",
       " 'particular': <gensim.models.keyedvectors.Vocab at 0x1e4eedc4f60>,\n",
       " 'purpose': <gensim.models.keyedvectors.Vocab at 0x1e4eedc4f98>,\n",
       " 'tates': <gensim.models.keyedvectors.Vocab at 0x1e4eedc4fd0>,\n",
       " 'allow': <gensim.models.keyedvectors.Vocab at 0x1e4eedc7048>,\n",
       " 'disclaimers': <gensim.models.keyedvectors.Vocab at 0x1e4eedc7080>,\n",
       " 'exclusion': <gensim.models.keyedvectors.Vocab at 0x1e4eedc70b8>,\n",
       " 'limitation': <gensim.models.keyedvectors.Vocab at 0x1e4eedc70f0>,\n",
       " 'exclusions': <gensim.models.keyedvectors.Vocab at 0x1e4eedc7128>,\n",
       " 'rights': <gensim.models.keyedvectors.Vocab at 0x1e4eedc7160>,\n",
       " 'ndemnity': <gensim.models.keyedvectors.Vocab at 0x1e4eedc7198>,\n",
       " 'indemnify': <gensim.models.keyedvectors.Vocab at 0x1e4eedc71d0>,\n",
       " 'hold': <gensim.models.keyedvectors.Vocab at 0x1e4eedc7208>,\n",
       " 'directors': <gensim.models.keyedvectors.Vocab at 0x1e4eedc7240>,\n",
       " 'officers': <gensim.models.keyedvectors.Vocab at 0x1e4eedc7278>,\n",
       " 'members': <gensim.models.keyedvectors.Vocab at 0x1e4eedc72b0>,\n",
       " 'agents': <gensim.models.keyedvectors.Vocab at 0x1e4eedc72e8>,\n",
       " 'harmless': <gensim.models.keyedvectors.Vocab at 0x1e4eedc7320>,\n",
       " 'cost': <gensim.models.keyedvectors.Vocab at 0x1e4eedc7358>,\n",
       " 'expense': <gensim.models.keyedvectors.Vocab at 0x1e4eedc7390>,\n",
       " 'arise': <gensim.models.keyedvectors.Vocab at 0x1e4eedc73c8>,\n",
       " 'indirectly': <gensim.models.keyedvectors.Vocab at 0x1e4eedc7400>,\n",
       " 'following': <gensim.models.keyedvectors.Vocab at 0x1e4eedc7438>,\n",
       " 'cause': <gensim.models.keyedvectors.Vocab at 0x1e4eedc7470>,\n",
       " 'istribution': <gensim.models.keyedvectors.Vocab at 0x1e4eedc74a8>,\n",
       " 'lteration': <gensim.models.keyedvectors.Vocab at 0x1e4eedc74e0>,\n",
       " 'modification': <gensim.models.keyedvectors.Vocab at 0x1e4eedc7518>,\n",
       " 'addition': <gensim.models.keyedvectors.Vocab at 0x1e4eedc7550>,\n",
       " 'efect': <gensim.models.keyedvectors.Vocab at 0x1e4eedc7588>,\n",
       " 'book': <gensim.models.keyedvectors.Vocab at 0x1e4eedc75c0>,\n",
       " 'either': <gensim.models.keyedvectors.Vocab at 0x1e4eedc75f8>,\n",
       " 'delete': <gensim.models.keyedvectors.Vocab at 0x1e4eedc7630>,\n",
       " 'eferences': <gensim.models.keyedvectors.Vocab at 0x1e4eedc7668>,\n",
       " 'ive': <gensim.models.keyedvectors.Vocab at 0x1e4eedc76a0>,\n",
       " 'exact': <gensim.models.keyedvectors.Vocab at 0x1e4eedc76d8>,\n",
       " 'requires': <gensim.models.keyedvectors.Vocab at 0x1e4eedc7710>,\n",
       " 'remove': <gensim.models.keyedvectors.Vocab at 0x1e4eedc7748>,\n",
       " 'alter': <gensim.models.keyedvectors.Vocab at 0x1e4eedc7780>,\n",
       " 'modify': <gensim.models.keyedvectors.Vocab at 0x1e4eedc77b8>,\n",
       " 'ay': <gensim.models.keyedvectors.Vocab at 0x1e4eedc77f0>,\n",
       " 'however': <gensim.models.keyedvectors.Vocab at 0x1e4eedc7828>,\n",
       " 'machine': <gensim.models.keyedvectors.Vocab at 0x1e4eedc7860>,\n",
       " 'readable': <gensim.models.keyedvectors.Vocab at 0x1e4eedc7898>,\n",
       " 'binary': <gensim.models.keyedvectors.Vocab at 0x1e4eedc78d0>,\n",
       " 'compressed': <gensim.models.keyedvectors.Vocab at 0x1e4eedc7908>,\n",
       " 'mark': <gensim.models.keyedvectors.Vocab at 0x1e4eedc7940>,\n",
       " 'proprietary': <gensim.models.keyedvectors.Vocab at 0x1e4eedc7978>,\n",
       " 'resulting': <gensim.models.keyedvectors.Vocab at 0x1e4eedc79b0>,\n",
       " 'conversion': <gensim.models.keyedvectors.Vocab at 0x1e4eedc79e8>,\n",
       " 'word': <gensim.models.keyedvectors.Vocab at 0x1e4eedc7a20>,\n",
       " 'pro': <gensim.models.keyedvectors.Vocab at 0x1e4eedc7a58>,\n",
       " 'processing': <gensim.models.keyedvectors.Vocab at 0x1e4eedc7a90>,\n",
       " 'hypertext': <gensim.models.keyedvectors.Vocab at 0x1e4eedc7ac8>,\n",
       " 'software': <gensim.models.keyedvectors.Vocab at 0x1e4eedc7b00>,\n",
       " 'displayed': <gensim.models.keyedvectors.Vocab at 0x1e4eedc7b38>,\n",
       " 'clearly': <gensim.models.keyedvectors.Vocab at 0x1e4eedc7b70>,\n",
       " 'characters': <gensim.models.keyedvectors.Vocab at 0x1e4eedc7ba8>,\n",
       " 'intended': <gensim.models.keyedvectors.Vocab at 0x1e4eedc7be0>,\n",
       " 'author': <gensim.models.keyedvectors.Vocab at 0x1e4eedc7c18>,\n",
       " 'although': <gensim.models.keyedvectors.Vocab at 0x1e4eedc7c50>,\n",
       " 'tilde': <gensim.models.keyedvectors.Vocab at 0x1e4eedc7c88>,\n",
       " 'asterisk': <gensim.models.keyedvectors.Vocab at 0x1e4eedc7cc0>,\n",
       " 'underline': <gensim.models.keyedvectors.Vocab at 0x1e4eedc7cf8>,\n",
       " 'used': <gensim.models.keyedvectors.Vocab at 0x1e4eedc7d30>,\n",
       " 'convey': <gensim.models.keyedvectors.Vocab at 0x1e4eedc7d68>,\n",
       " 'punctuation': <gensim.models.keyedvectors.Vocab at 0x1e4eedc7da0>,\n",
       " 'additional': <gensim.models.keyedvectors.Vocab at 0x1e4eedc7dd8>,\n",
       " 'links': <gensim.models.keyedvectors.Vocab at 0x1e4eedc7e10>,\n",
       " 'readily': <gensim.models.keyedvectors.Vocab at 0x1e4eedc7e48>,\n",
       " 'converted': <gensim.models.keyedvectors.Vocab at 0x1e4eedc7e80>,\n",
       " 'reader': <gensim.models.keyedvectors.Vocab at 0x1e4eedc7eb8>,\n",
       " 'plain': <gensim.models.keyedvectors.Vocab at 0x1e4eedc7ef0>,\n",
       " 'ascii': <gensim.models.keyedvectors.Vocab at 0x1e4eedc7f28>,\n",
       " 'ebcdic': <gensim.models.keyedvectors.Vocab at 0x1e4eedc7f60>,\n",
       " 'equivalent': <gensim.models.keyedvectors.Vocab at 0x1e4eedc7f98>,\n",
       " 'displays': <gensim.models.keyedvectors.Vocab at 0x1e4eedc7fd0>,\n",
       " 'as': <gensim.models.keyedvectors.Vocab at 0x1e4eedcb048>,\n",
       " 'case': <gensim.models.keyedvectors.Vocab at 0x1e4eedcb080>,\n",
       " 'instance': <gensim.models.keyedvectors.Vocab at 0x1e4eedcb0b8>,\n",
       " 'processors': <gensim.models.keyedvectors.Vocab at 0x1e4eedcb0f0>,\n",
       " 'provide': <gensim.models.keyedvectors.Vocab at 0x1e4eedcb128>,\n",
       " 'also': <gensim.models.keyedvectors.Vocab at 0x1e4eedcb160>,\n",
       " 'fee': <gensim.models.keyedvectors.Vocab at 0x1e4eedcb198>,\n",
       " 'original': <gensim.models.keyedvectors.Vocab at 0x1e4eedcb1d0>,\n",
       " 'honor': <gensim.models.keyedvectors.Vocab at 0x1e4eedcb208>,\n",
       " 'provisions': <gensim.models.keyedvectors.Vocab at 0x1e4eedcb240>,\n",
       " 'pay': <gensim.models.keyedvectors.Vocab at 0x1e4eedcb278>,\n",
       " 'license': <gensim.models.keyedvectors.Vocab at 0x1e4eedcb2b0>,\n",
       " '20': <gensim.models.keyedvectors.Vocab at 0x1e4eedcb2e8>,\n",
       " 'net': <gensim.models.keyedvectors.Vocab at 0x1e4eedcb320>,\n",
       " 'profits': <gensim.models.keyedvectors.Vocab at 0x1e4eedcb358>,\n",
       " 'derive': <gensim.models.keyedvectors.Vocab at 0x1e4eedcb390>,\n",
       " 'calculated': <gensim.models.keyedvectors.Vocab at 0x1e4eedcb3c8>,\n",
       " 'method': <gensim.models.keyedvectors.Vocab at 0x1e4eedcb400>,\n",
       " 'already': <gensim.models.keyedvectors.Vocab at 0x1e4eedcb438>,\n",
       " 'calculate': <gensim.models.keyedvectors.Vocab at 0x1e4eedcb470>,\n",
       " 'applicable': <gensim.models.keyedvectors.Vocab at 0x1e4eedcb4a8>,\n",
       " 'taxes': <gensim.models.keyedvectors.Vocab at 0x1e4eedcb4e0>,\n",
       " 'erive': <gensim.models.keyedvectors.Vocab at 0x1e4eedcb518>,\n",
       " 'royalty': <gensim.models.keyedvectors.Vocab at 0x1e4eedcb550>,\n",
       " 'due': <gensim.models.keyedvectors.Vocab at 0x1e4eedcb588>,\n",
       " 'oyalties': <gensim.models.keyedvectors.Vocab at 0x1e4eedcb5c0>,\n",
       " 'payable': <gensim.models.keyedvectors.Vocab at 0x1e4eedcb5f8>,\n",
       " '60': <gensim.models.keyedvectors.Vocab at 0x1e4eedcb630>,\n",
       " 'prepare': <gensim.models.keyedvectors.Vocab at 0x1e4eedcb668>,\n",
       " 'legally': <gensim.models.keyedvectors.Vocab at 0x1e4eedcb6a0>,\n",
       " 'required': <gensim.models.keyedvectors.Vocab at 0x1e4eedcb6d8>,\n",
       " 'annual': <gensim.models.keyedvectors.Vocab at 0x1e4eedcb710>,\n",
       " 'periodic': <gensim.models.keyedvectors.Vocab at 0x1e4eedcb748>,\n",
       " 'tax': <gensim.models.keyedvectors.Vocab at 0x1e4eedcb780>,\n",
       " 'ant': <gensim.models.keyedvectors.Vocab at 0x1e4eedcb7b8>,\n",
       " 'gratefully': <gensim.models.keyedvectors.Vocab at 0x1e4eedcb7f0>,\n",
       " 'accepts': <gensim.models.keyedvectors.Vocab at 0x1e4eedcb828>,\n",
       " 'contributions': <gensim.models.keyedvectors.Vocab at 0x1e4eedcb860>,\n",
       " 'scanning': <gensim.models.keyedvectors.Vocab at 0x1e4eedcb898>,\n",
       " 'machines': <gensim.models.keyedvectors.Vocab at 0x1e4eedcb8d0>,\n",
       " 'ocr': <gensim.models.keyedvectors.Vocab at 0x1e4eedcb908>,\n",
       " 'licenses': <gensim.models.keyedvectors.Vocab at 0x1e4eedcb940>,\n",
       " 'every': <gensim.models.keyedvectors.Vocab at 0x1e4eedcb978>,\n",
       " 'sort': <gensim.models.keyedvectors.Vocab at 0x1e4eedcb9b0>,\n",
       " 'contribution': <gensim.models.keyedvectors.Vocab at 0x1e4eedcb9e8>,\n",
       " 'think': <gensim.models.keyedvectors.Vocab at 0x1e4eedcba20>,\n",
       " 'oney': <gensim.models.keyedvectors.Vocab at 0x1e4eedcba58>,\n",
       " 'ndthe': <gensim.models.keyedvectors.Vocab at 0x1e4eedcba90>,\n",
       " 'etextsver': <gensim.models.keyedvectors.Vocab at 0x1e4eedcbac8>,\n",
       " '4': <gensim.models.keyedvectors.Vocab at 0x1e4eedcbb00>,\n",
       " '9': <gensim.models.keyedvectors.Vocab at 0x1e4eedcbb38>,\n",
       " '3end': <gensim.models.keyedvectors.Vocab at 0x1e4eedcbb70>,\n",
       " 'rivals': <gensim.models.keyedvectors.Vocab at 0x1e4eedcbba8>,\n",
       " 'lake': <gensim.models.keyedvectors.Vocab at 0x1e4eedcbbe0>,\n",
       " 'carlopa': <gensim.models.keyedvectors.Vocab at 0x1e4eedcbc18>,\n",
       " 'victor': <gensim.models.keyedvectors.Vocab at 0x1e4eedcbc50>,\n",
       " 'appleton': <gensim.models.keyedvectors.Vocab at 0x1e4eedcbc88>,\n",
       " 'auction': <gensim.models.keyedvectors.Vocab at 0x1e4eedcbcc0>,\n",
       " 'ii': <gensim.models.keyedvectors.Vocab at 0x1e4eedcbcf8>,\n",
       " 'lively': <gensim.models.keyedvectors.Vocab at 0x1e4eedcbd30>,\n",
       " 'bidding': <gensim.models.keyedvectors.Vocab at 0x1e4eedcbd68>,\n",
       " 'iii': <gensim.models.keyedvectors.Vocab at 0x1e4eedcbda0>,\n",
       " 'timely': <gensim.models.keyedvectors.Vocab at 0x1e4eedcbdd8>,\n",
       " 'warning': <gensim.models.keyedvectors.Vocab at 0x1e4eedcbe10>,\n",
       " 'iv': <gensim.models.keyedvectors.Vocab at 0x1e4eedcbe48>,\n",
       " 'andy': <gensim.models.keyedvectors.Vocab at 0x1e4eedcbe80>,\n",
       " 'clash': <gensim.models.keyedvectors.Vocab at 0x1e4eedcbeb8>,\n",
       " 'test': <gensim.models.keyedvectors.Vocab at 0x1e4eedcbef0>,\n",
       " 'speed': <gensim.models.keyedvectors.Vocab at 0x1e4eedcbf28>,\n",
       " 'vi': <gensim.models.keyedvectors.Vocab at 0x1e4eedcbf60>,\n",
       " 'towing': <gensim.models.keyedvectors.Vocab at 0x1e4eedcbf98>,\n",
       " 'girls': <gensim.models.keyedvectors.Vocab at 0x1e4eedcbfd0>,\n",
       " 'vii': <gensim.models.keyedvectors.Vocab at 0x1e4eedcd048>,\n",
       " 'brush': <gensim.models.keyedvectors.Vocab at 0x1e4eedcd080>,\n",
       " 'viii': <gensim.models.keyedvectors.Vocab at 0x1e4eedcd0b8>,\n",
       " 'rip': <gensim.models.keyedvectors.Vocab at 0x1e4eedcd0f0>,\n",
       " 'ix': <gensim.models.keyedvectors.Vocab at 0x1e4eedcd128>,\n",
       " 'mr': <gensim.models.keyedvectors.Vocab at 0x1e4eedcd160>,\n",
       " 'wift': <gensim.models.keyedvectors.Vocab at 0x1e4eedcd198>,\n",
       " 'alarmed': <gensim.models.keyedvectors.Vocab at 0x1e4eedcd1d0>,\n",
       " 'cry': <gensim.models.keyedvectors.Vocab at 0x1e4eedcd208>,\n",
       " 'help': <gensim.models.keyedvectors.Vocab at 0x1e4eedcd240>,\n",
       " 'xi': <gensim.models.keyedvectors.Vocab at 0x1e4eedcd278>,\n",
       " 'quick': <gensim.models.keyedvectors.Vocab at 0x1e4eedcd2b0>,\n",
       " 'run': <gensim.models.keyedvectors.Vocab at 0x1e4eedcd2e8>,\n",
       " 'xii': <gensim.models.keyedvectors.Vocab at 0x1e4eedcd320>,\n",
       " 'suspicious': <gensim.models.keyedvectors.Vocab at 0x1e4eedcd358>,\n",
       " 'xiii': <gensim.models.keyedvectors.Vocab at 0x1e4eedcd390>,\n",
       " 'danger': <gensim.models.keyedvectors.Vocab at 0x1e4eedcd3c8>,\n",
       " 'xiv': <gensim.models.keyedvectors.Vocab at 0x1e4eedcd400>,\n",
       " 'arrow': <gensim.models.keyedvectors.Vocab at 0x1e4eedcd438>,\n",
       " 'disappears': <gensim.models.keyedvectors.Vocab at 0x1e4eedcd470>,\n",
       " 'xv': <gensim.models.keyedvectors.Vocab at 0x1e4eedcd4a8>,\n",
       " 'damaging': <gensim.models.keyedvectors.Vocab at 0x1e4eedcd4e0>,\n",
       " 'statement': <gensim.models.keyedvectors.Vocab at 0x1e4eedcd518>,\n",
       " 'xvi': <gensim.models.keyedvectors.Vocab at 0x1e4eedcd550>,\n",
       " 'still': <gensim.models.keyedvectors.Vocab at 0x1e4eedcd588>,\n",
       " 'search': <gensim.models.keyedvectors.Vocab at 0x1e4eedcd5c0>,\n",
       " 'xvii': <gensim.models.keyedvectors.Vocab at 0x1e4eedcd5f8>,\n",
       " 'xviii': <gensim.models.keyedvectors.Vocab at 0x1e4eedcd630>,\n",
       " 'pursuit': <gensim.models.keyedvectors.Vocab at 0x1e4eedcd668>,\n",
       " 'xix': <gensim.models.keyedvectors.Vocab at 0x1e4eedcd6a0>,\n",
       " 'quiet': <gensim.models.keyedvectors.Vocab at 0x1e4eedcd6d8>,\n",
       " 'cruise': <gensim.models.keyedvectors.Vocab at 0x1e4eedcd710>,\n",
       " 'news': <gensim.models.keyedvectors.Vocab at 0x1e4eedcd748>,\n",
       " 'robbery': <gensim.models.keyedvectors.Vocab at 0x1e4eedcd780>,\n",
       " 'xxi': <gensim.models.keyedvectors.Vocab at 0x1e4eedcd7b8>,\n",
       " 'balloon': <gensim.models.keyedvectors.Vocab at 0x1e4eedcd7f0>,\n",
       " 'fire': <gensim.models.keyedvectors.Vocab at 0x1e4eedcd828>,\n",
       " 'xxii': <gensim.models.keyedvectors.Vocab at 0x1e4eedcd860>,\n",
       " 'escue': <gensim.models.keyedvectors.Vocab at 0x1e4eedcd898>,\n",
       " 'xxiii': <gensim.models.keyedvectors.Vocab at 0x1e4eedcd8d0>,\n",
       " 'plans': <gensim.models.keyedvectors.Vocab at 0x1e4eedcd908>,\n",
       " 'airship': <gensim.models.keyedvectors.Vocab at 0x1e4eedcd940>,\n",
       " 'xxiv': <gensim.models.keyedvectors.Vocab at 0x1e4eedcd978>,\n",
       " 'ystery': <gensim.models.keyedvectors.Vocab at 0x1e4eedcd9b0>,\n",
       " 'solved': <gensim.models.keyedvectors.Vocab at 0x1e4eedcd9e8>,\n",
       " 'xxv': <gensim.models.keyedvectors.Vocab at 0x1e4eedcda20>,\n",
       " 'winning': <gensim.models.keyedvectors.Vocab at 0x1e4eedcda58>,\n",
       " 'race': <gensim.models.keyedvectors.Vocab at 0x1e4eedcda90>,\n",
       " 'chapter': <gensim.models.keyedvectors.Vocab at 0x1e4eedcdac8>,\n",
       " 'going': <gensim.models.keyedvectors.Vocab at 0x1e4eedcdb00>,\n",
       " 'asked': <gensim.models.keyedvectors.Vocab at 0x1e4eedcdb38>,\n",
       " 'arton': <gensim.models.keyedvectors.Vocab at 0x1e4eedcdb70>,\n",
       " 'son': <gensim.models.keyedvectors.Vocab at 0x1e4eedcdba8>,\n",
       " 'young': <gensim.models.keyedvectors.Vocab at 0x1e4eedcdbe0>,\n",
       " 'man': <gensim.models.keyedvectors.Vocab at 0x1e4eedcdc18>,\n",
       " 'slowly': <gensim.models.keyedvectors.Vocab at 0x1e4eedcdc50>,\n",
       " 'pushing': <gensim.models.keyedvectors.Vocab at 0x1e4eedcdc88>,\n",
       " 'cycle': <gensim.models.keyedvectors.Vocab at 0x1e4eedcdcc0>,\n",
       " 'yard': <gensim.models.keyedvectors.Vocab at 0x1e4eedcdcf8>,\n",
       " 'toward': <gensim.models.keyedvectors.Vocab at 0x1e4eedcdd30>,\n",
       " 'country': <gensim.models.keyedvectors.Vocab at 0x1e4eedcdd68>,\n",
       " 'road': <gensim.models.keyedvectors.Vocab at 0x1e4eedcdda0>,\n",
       " 'ook': <gensim.models.keyedvectors.Vocab at 0x1e4eedcddd8>,\n",
       " 'though': <gensim.models.keyedvectors.Vocab at 0x1e4eedcde10>,\n",
       " 'object': <gensim.models.keyedvectors.Vocab at 0x1e4eedcde48>,\n",
       " 'view': <gensim.models.keyedvectors.Vocab at 0x1e4eedcde80>,\n",
       " 'ad': <gensim.models.keyedvectors.Vocab at 0x1e4eedcdeb8>,\n",
       " 'oing': <gensim.models.keyedvectors.Vocab at 0x1e4eedcdef0>,\n",
       " 'lanton': <gensim.models.keyedvectors.Vocab at 0x1e4eedcdf28>,\n",
       " 'anton': <gensim.models.keyedvectors.Vocab at 0x1e4eedcdf60>,\n",
       " 'for': <gensim.models.keyedvectors.Vocab at 0x1e4eedcdf98>,\n",
       " 'oat': <gensim.models.keyedvectors.Vocab at 0x1e4eedcdfd0>,\n",
       " 'recall': <gensim.models.keyedvectors.Vocab at 0x1e4eedd2048>,\n",
       " 'speaking': <gensim.models.keyedvectors.Vocab at 0x1e4eedd2080>,\n",
       " 'fellows': <gensim.models.keyedvectors.Vocab at 0x1e4eedd20b8>,\n",
       " 'turbine': <gensim.models.keyedvectors.Vocab at 0x1e4eedd20f0>,\n",
       " 'model': <gensim.models.keyedvectors.Vocab at 0x1e4eedd2128>,\n",
       " 'invention': <gensim.models.keyedvectors.Vocab at 0x1e4eedd2160>,\n",
       " 'dad': <gensim.models.keyedvectors.Vocab at 0x1e4eedd2198>,\n",
       " 'ne': <gensim.models.keyedvectors.Vocab at 0x1e4eedd21d0>,\n",
       " 'old': <gensim.models.keyedvectors.Vocab at 0x1e4eedd2208>,\n",
       " 'mansion': <gensim.models.keyedvectors.Vocab at 0x1e4eedd2240>,\n",
       " 'woods': <gensim.models.keyedvectors.Vocab at 0x1e4eedd2278>,\n",
       " 'near': <gensim.models.keyedvectors.Vocab at 0x1e4eedd22b0>,\n",
       " 'fellow': <gensim.models.keyedvectors.Vocab at 0x1e4eedd22e8>,\n",
       " 'chasing': <gensim.models.keyedvectors.Vocab at 0x1e4eedd2320>,\n",
       " 'h': <gensim.models.keyedvectors.Vocab at 0x1e4eedd2358>,\n",
       " 'yes': <gensim.models.keyedvectors.Vocab at 0x1e4eedd2390>,\n",
       " 'remember': <gensim.models.keyedvectors.Vocab at 0x1e4eedd23c8>,\n",
       " 'thats': <gensim.models.keyedvectors.Vocab at 0x1e4eedd2400>,\n",
       " 'belongs': <gensim.models.keyedvectors.Vocab at 0x1e4eedd2438>,\n",
       " 'roperty': <gensim.models.keyedvectors.Vocab at 0x1e4eedd2470>,\n",
       " 'ently': <gensim.models.keyedvectors.Vocab at 0x1e4eedd24a8>,\n",
       " 'hastings': <gensim.models.keyedvectors.Vocab at 0x1e4eedd24e0>,\n",
       " 'hieves': <gensim.models.keyedvectors.Vocab at 0x1e4eedd2518>,\n",
       " 'stole': <gensim.models.keyedvectors.Vocab at 0x1e4eedd2550>,\n",
       " 'ran': <gensim.models.keyedvectors.Vocab at 0x1e4eedd2588>,\n",
       " 'amon': <gensim.models.keyedvectors.Vocab at 0x1e4eedd25c0>,\n",
       " 'raided': <gensim.models.keyedvectors.Vocab at 0x1e4eedd25f8>,\n",
       " 'place': <gensim.models.keyedvectors.Vocab at 0x1e4eedd2630>,\n",
       " 'left': <gensim.models.keyedvectors.Vocab at 0x1e4eedd2668>,\n",
       " 'urned': <gensim.models.keyedvectors.Vocab at 0x1e4eedd26a0>,\n",
       " 'county': <gensim.models.keyedvectors.Vocab at 0x1e4eedd26d8>,\n",
       " 'authorities': <gensim.models.keyedvectors.Vocab at 0x1e4eedd2710>,\n",
       " 'found': <gensim.models.keyedvectors.Vocab at 0x1e4eedd2748>,\n",
       " 'belonged': <gensim.models.keyedvectors.Vocab at 0x1e4eedd2780>,\n",
       " 'astings': <gensim.models.keyedvectors.Vocab at 0x1e4eedd27b8>,\n",
       " 'ack': <gensim.models.keyedvectors.Vocab at 0x1e4eedd27f0>,\n",
       " 'somewhat': <gensim.models.keyedvectors.Vocab at 0x1e4eedd2828>,\n",
       " 'wants': <gensim.models.keyedvectors.Vocab at 0x1e4eedd2860>,\n",
       " 'rid': <gensim.models.keyedvectors.Vocab at 0x1e4eedd2898>,\n",
       " 'es': <gensim.models.keyedvectors.Vocab at 0x1e4eedd28d0>,\n",
       " 'sell': <gensim.models.keyedvectors.Vocab at 0x1e4eedd2908>,\n",
       " 'thought': <gensim.models.keyedvectors.Vocab at 0x1e4eedd2940>,\n",
       " 'go': <gensim.models.keyedvectors.Vocab at 0x1e4eedd2978>,\n",
       " 'ee': <gensim.models.keyedvectors.Vocab at 0x1e4eedd29b0>,\n",
       " 'exclaimed': <gensim.models.keyedvectors.Vocab at 0x1e4eedd29e8>,\n",
       " 'laugh': <gensim.models.keyedvectors.Vocab at 0x1e4eedd2a20>,\n",
       " 'aiming': <gensim.models.keyedvectors.Vocab at 0x1e4eedd2a58>,\n",
       " 'around': <gensim.models.keyedvectors.Vocab at 0x1e4eedd2a90>,\n",
       " 'robin': <gensim.models.keyedvectors.Vocab at 0x1e4eedd2ac8>,\n",
       " 'hoods': <gensim.models.keyedvectors.Vocab at 0x1e4eedd2b00>,\n",
       " 'barn': <gensim.models.keyedvectors.Vocab at 0x1e4eedd2b38>,\n",
       " 'lad': <gensim.models.keyedvectors.Vocab at 0x1e4eedd2b70>,\n",
       " 'nterrupted': <gensim.models.keyedvectors.Vocab at 0x1e4eedd2ba8>,\n",
       " 'inventor': <gensim.models.keyedvectors.Vocab at 0x1e4eedd2be0>,\n",
       " 'shaking': <gensim.models.keyedvectors.Vocab at 0x1e4eedd2c18>,\n",
       " 'finger': <gensim.models.keyedvectors.Vocab at 0x1e4eedd2c50>,\n",
       " 'seemed': <gensim.models.keyedvectors.Vocab at 0x1e4eedd2c88>,\n",
       " 'confused': <gensim.models.keyedvectors.Vocab at 0x1e4eedd2cc0>,\n",
       " 'ice': <gensim.models.keyedvectors.Vocab at 0x1e4eedd2cf8>,\n",
       " 'rowing': <gensim.models.keyedvectors.Vocab at 0x1e4eedd2d30>,\n",
       " 'skiff': <gensim.models.keyedvectors.Vocab at 0x1e4eedd2d68>,\n",
       " 'yet': <gensim.models.keyedvectors.Vocab at 0x1e4eedd2da0>,\n",
       " 'hankering': <gensim.models.keyedvectors.Vocab at 0x1e4eedd2dd8>,\n",
       " 'ome': <gensim.models.keyedvectors.Vocab at 0x1e4eedd2e10>,\n",
       " 'ou': <gensim.models.keyedvectors.Vocab at 0x1e4eedd2e48>,\n",
       " 'well': <gensim.models.keyedvectors.Vocab at 0x1e4eedd2e80>,\n",
       " 'certainly': <gensim.models.keyedvectors.Vocab at 0x1e4eedd2eb8>,\n",
       " 'fine': <gensim.models.keyedvectors.Vocab at 0x1e4eedd2ef0>,\n",
       " 'heres': <gensim.models.keyedvectors.Vocab at 0x1e4eedd2f28>,\n",
       " 'plenty': <gensim.models.keyedvectors.Vocab at 0x1e4eedd2f60>,\n",
       " 'room': <gensim.models.keyedvectors.Vocab at 0x1e4eedd2f98>,\n",
       " 'wonder': <gensim.models.keyedvectors.Vocab at 0x1e4eedd2fd0>,\n",
       " 'exactly': <gensim.models.keyedvectors.Vocab at 0x1e4eedd6048>,\n",
       " 'buying': <gensim.models.keyedvectors.Vocab at 0x1e4eedd6080>,\n",
       " 'ould': <gensim.models.keyedvectors.Vocab at 0x1e4eedd60b8>,\n",
       " 'buy': <gensim.models.keyedvectors.Vocab at 0x1e4eedd60f0>,\n",
       " 'you': <gensim.models.keyedvectors.Vocab at 0x1e4eedd6128>,\n",
       " 'much': <gensim.models.keyedvectors.Vocab at 0x1e4eedd6160>,\n",
       " 'eagerness': <gensim.models.keyedvectors.Vocab at 0x1e4eedd6198>,\n",
       " 'taken': <gensim.models.keyedvectors.Vocab at 0x1e4eedd61d0>,\n",
       " 'several': <gensim.models.keyedvectors.Vocab at 0x1e4eedd6208>,\n",
       " 'patents': <gensim.models.keyedvectors.Vocab at 0x1e4eedd6240>,\n",
       " 'stood': <gensim.models.keyedvectors.Vocab at 0x1e4eedd6278>,\n",
       " 'fence': <gensim.models.keyedvectors.Vocab at 0x1e4eedd62b0>,\n",
       " 'came': <gensim.models.keyedvectors.Vocab at 0x1e4eedd62e8>,\n",
       " 'closer': <gensim.models.keyedvectors.Vocab at 0x1e4eedd6320>,\n",
       " 'father': <gensim.models.keyedvectors.Vocab at 0x1e4eedd6358>,\n",
       " 'lightly': <gensim.models.keyedvectors.Vocab at 0x1e4eedd6390>,\n",
       " 'went': <gensim.models.keyedvectors.Vocab at 0x1e4eedd63c8>,\n",
       " 'asily': <gensim.models.keyedvectors.Vocab at 0x1e4eedd6400>,\n",
       " 'ooked': <gensim.models.keyedvectors.Vocab at 0x1e4eedd6438>,\n",
       " 'gave': <gensim.models.keyedvectors.Vocab at 0x1e4eedd6470>,\n",
       " 'charge': <gensim.models.keyedvectors.Vocab at 0x1e4eedd64a8>,\n",
       " 'orth': <gensim.models.keyedvectors.Vocab at 0x1e4eedd64e0>,\n",
       " 'nine': <gensim.models.keyedvectors.Vocab at 0x1e4eedd6518>,\n",
       " 'ew': <gensim.models.keyedvectors.Vocab at 0x1e4eedd6550>,\n",
       " 'hats': <gensim.models.keyedvectors.Vocab at 0x1e4eedd6588>,\n",
       " 'good': <gensim.models.keyedvectors.Vocab at 0x1e4eedd65c0>,\n",
       " 'deal': <gensim.models.keyedvectors.Vocab at 0x1e4eedd65f8>,\n",
       " 'looked': <gensim.models.keyedvectors.Vocab at 0x1e4eedd6630>,\n",
       " 'serious': <gensim.models.keyedvectors.Vocab at 0x1e4eedd6668>,\n",
       " 'inclined': <gensim.models.keyedvectors.Vocab at 0x1e4eedd66a0>,\n",
       " 'act': <gensim.models.keyedvectors.Vocab at 0x1e4eedd66d8>,\n",
       " 'really': <gensim.models.keyedvectors.Vocab at 0x1e4eedd6710>,\n",
       " 'idea': <gensim.models.keyedvectors.Vocab at 0x1e4eedd6748>,\n",
       " 'hought': <gensim.models.keyedvectors.Vocab at 0x1e4eedd6780>,\n",
       " 'erhaps': <gensim.models.keyedvectors.Vocab at 0x1e4eedd67b8>,\n",
       " 'paused': <gensim.models.keyedvectors.Vocab at 0x1e4eedd67f0>,\n",
       " 'begun': <gensim.models.keyedvectors.Vocab at 0x1e4eedd6828>,\n",
       " 'question': <gensim.models.keyedvectors.Vocab at 0x1e4eedd6860>,\n",
       " 'come': <gensim.models.keyedvectors.Vocab at 0x1e4eedd6898>,\n",
       " 'lads': <gensim.models.keyedvectors.Vocab at 0x1e4eedd68d0>,\n",
       " 'head': <gensim.models.keyedvectors.Vocab at 0x1e4eedd6908>,\n",
       " 'parent': <gensim.models.keyedvectors.Vocab at 0x1e4eedd6940>,\n",
       " 'saw': <gensim.models.keyedvectors.Vocab at 0x1e4eedd6978>,\n",
       " 'smile': <gensim.models.keyedvectors.Vocab at 0x1e4eedd69b0>,\n",
       " 'beginning': <gensim.models.keyedvectors.Vocab at 0x1e4eedd69e8>,\n",
       " 'corners': <gensim.models.keyedvectors.Vocab at 0x1e4eedd6a20>,\n",
       " 'wifts': <gensim.models.keyedvectors.Vocab at 0x1e4eedd6a58>,\n",
       " 'lips': <gensim.models.keyedvectors.Vocab at 0x1e4eedd6a90>,\n",
       " 'humorous': <gensim.models.keyedvectors.Vocab at 0x1e4eedd6ac8>,\n",
       " 'eyes': <gensim.models.keyedvectors.Vocab at 0x1e4eedd6b00>,\n",
       " 'older': <gensim.models.keyedvectors.Vocab at 0x1e4eedd6b38>,\n",
       " 'nderstood': <gensim.models.keyedvectors.Vocab at 0x1e4eedd6b70>,\n",
       " 'boys': <gensim.models.keyedvectors.Vocab at 0x1e4eedd6ba8>,\n",
       " 'fairly': <gensim.models.keyedvectors.Vocab at 0x1e4eedd6be0>,\n",
       " 'knew': <gensim.models.keyedvectors.Vocab at 0x1e4eedd6c18>,\n",
       " 'perfectly': <gensim.models.keyedvectors.Vocab at 0x1e4eedd6c50>,\n",
       " 'make': <gensim.models.keyedvectors.Vocab at 0x1e4eedd6c88>,\n",
       " 'bid': <gensim.models.keyedvectors.Vocab at 0x1e4eedd6cc0>,\n",
       " 'outh': <gensim.models.keyedvectors.Vocab at 0x1e4eedd6cf8>,\n",
       " 'finish': <gensim.models.keyedvectors.Vocab at 0x1e4eedd6d30>,\n",
       " 'meant': <gensim.models.keyedvectors.Vocab at 0x1e4eedd6d68>,\n",
       " 'uppose': <gensim.models.keyedvectors.Vocab at 0x1e4eedd6da0>,\n",
       " 'nice': <gensim.models.keyedvectors.Vocab at 0x1e4eedd6dd8>,\n",
       " 'thing': <gensim.models.keyedvectors.Vocab at 0x1e4eedd6e10>,\n",
       " 'musingly': <gensim.models.keyedvectors.Vocab at 0x1e4eedd6e48>,\n",
       " 'frequent': <gensim.models.keyedvectors.Vocab at 0x1e4eedd6e80>,\n",
       " 'trips': <gensim.models.keyedvectors.Vocab at 0x1e4eedd6eb8>,\n",
       " 'ike': <gensim.models.keyedvectors.Vocab at 0x1e4eedd6ef0>,\n",
       " 'useful': <gensim.models.keyedvectors.Vocab at 0x1e4eedd6f28>,\n",
       " 'hardly': <gensim.models.keyedvectors.Vocab at 0x1e4eedd6f60>,\n",
       " 'igh': <gensim.models.keyedvectors.Vocab at 0x1e4eedd6f98>,\n",
       " 'price': <gensim.models.keyedvectors.Vocab at 0x1e4eedd6fd0>,\n",
       " 'believe': <gensim.models.keyedvectors.Vocab at 0x1e4eedd9048>,\n",
       " 'boats': <gensim.models.keyedvectors.Vocab at 0x1e4eedd9080>,\n",
       " 'persons': <gensim.models.keyedvectors.Vocab at 0x1e4eedd90b8>,\n",
       " 'chance': <gensim.models.keyedvectors.Vocab at 0x1e4eedd90f0>,\n",
       " 'r': <gensim.models.keyedvectors.Vocab at 0x1e4eedd9128>,\n",
       " 'getting': <gensim.models.keyedvectors.Vocab at 0x1e4eedd9160>,\n",
       " 'another': <gensim.models.keyedvectors.Vocab at 0x1e4eedd9198>,\n",
       " 'insisting': <gensim.models.keyedvectors.Vocab at 0x1e4eedd91d0>,\n",
       " 'high': <gensim.models.keyedvectors.Vocab at 0x1e4eedd9208>,\n",
       " 'keep': <gensim.models.keyedvectors.Vocab at 0x1e4eedd9240>,\n",
       " 'easily': <gensim.models.keyedvectors.Vocab at 0x1e4eedd9278>,\n",
       " 'put': <gensim.models.keyedvectors.Vocab at 0x1e4eedd92b0>,\n",
       " 'shape': <gensim.models.keyedvectors.Vocab at 0x1e4eedd92e8>,\n",
       " 'guess': <gensim.models.keyedvectors.Vocab at 0x1e4eedd9320>,\n",
       " 'bad': <gensim.models.keyedvectors.Vocab at 0x1e4eedd9358>,\n",
       " 'investment': <gensim.models.keyedvectors.Vocab at 0x1e4eedd9390>,\n",
       " 'hink': <gensim.models.keyedvectors.Vocab at 0x1e4eedd93c8>,\n",
       " 'ought': <gensim.models.keyedvectors.Vocab at 0x1e4eedd9400>,\n",
       " 'limit': <gensim.models.keyedvectors.Vocab at 0x1e4eedd9438>,\n",
       " 'consider': <gensim.models.keyedvectors.Vocab at 0x1e4eedd9470>,\n",
       " 'fifty': <gensim.models.keyedvectors.Vocab at 0x1e4eedd94a8>,\n",
       " 'critically': <gensim.models.keyedvectors.Vocab at 0x1e4eedd94e0>,\n",
       " 'lainly': <gensim.models.keyedvectors.Vocab at 0x1e4eedd9518>,\n",
       " 'matters': <gensim.models.keyedvectors.Vocab at 0x1e4eedd9550>,\n",
       " 'mind': <gensim.models.keyedvectors.Vocab at 0x1e4eedd9588>,\n",
       " 'pluck': <gensim.models.keyedvectors.Vocab at 0x1e4eedd95c0>,\n",
       " 'shown': <gensim.models.keyedvectors.Vocab at 0x1e4eedd95f8>,\n",
       " 'back': <gensim.models.keyedvectors.Vocab at 0x1e4eedd9630>,\n",
       " 'valuable': <gensim.models.keyedvectors.Vocab at 0x1e4eedd9668>,\n",
       " 'papers': <gensim.models.keyedvectors.Vocab at 0x1e4eedd96a0>,\n",
       " 'gang': <gensim.models.keyedvectors.Vocab at 0x1e4eedd96d8>,\n",
       " 'thieves': <gensim.models.keyedvectors.Vocab at 0x1e4eedd9710>,\n",
       " 'entitled': <gensim.models.keyedvectors.Vocab at 0x1e4eedd9748>,\n",
       " 'reward': <gensim.models.keyedvectors.Vocab at 0x1e4eedd9780>,\n",
       " 'properly': <gensim.models.keyedvectors.Vocab at 0x1e4eedd97b8>,\n",
       " 'could': <gensim.models.keyedvectors.Vocab at 0x1e4eedd97f0>,\n",
       " 'safely': <gensim.models.keyedvectors.Vocab at 0x1e4eedd9828>,\n",
       " 'said': <gensim.models.keyedvectors.Vocab at 0x1e4eedd9860>,\n",
       " 'length': <gensim.models.keyedvectors.Vocab at 0x1e4eedd9898>,\n",
       " 'little': <gensim.models.keyedvectors.Vocab at 0x1e4eedd98d0>,\n",
       " 'owever': <gensim.models.keyedvectors.Vocab at 0x1e4eedd9908>,\n",
       " 'judgment': <gensim.models.keyedvectors.Vocab at 0x1e4eedd9940>,\n",
       " 'trouble': <gensim.models.keyedvectors.Vocab at 0x1e4eedd9978>,\n",
       " 'eh': <gensim.models.keyedvectors.Vocab at 0x1e4eedd99b0>,\n",
       " 'care': <gensim.models.keyedvectors.Vocab at 0x1e4eedd99e8>,\n",
       " 'engine': <gensim.models.keyedvectors.Vocab at 0x1e4eedd9a20>,\n",
       " 'hull': <gensim.models.keyedvectors.Vocab at 0x1e4eedd9a58>,\n",
       " 'ver': <gensim.models.keyedvectors.Vocab at 0x1e4eedd9a90>,\n",
       " 'glad': <gensim.models.keyedvectors.Vocab at 0x1e4eedd9ac8>,\n",
       " 'let': <gensim.models.keyedvectors.Vocab at 0x1e4eedd9b00>,\n",
       " 'tart': <gensim.models.keyedvectors.Vocab at 0x1e4eedd9b38>,\n",
       " 'oclock': <gensim.models.keyedvectors.Vocab at 0x1e4eedd9b70>,\n",
       " 'areful': <gensim.models.keyedvectors.Vocab at 0x1e4eedd9ba8>,\n",
       " 'aise': <gensim.models.keyedvectors.Vocab at 0x1e4eedd9be0>,\n",
       " 'figures': <gensim.models.keyedvectors.Vocab at 0x1e4eedd9c18>,\n",
       " 'sometimes': <gensim.models.keyedvectors.Vocab at 0x1e4eedd9c50>,\n",
       " 'seen': <gensim.models.keyedvectors.Vocab at 0x1e4eedd9c88>,\n",
       " 'women': <gensim.models.keyedvectors.Vocab at 0x1e4eedd9cc0>,\n",
       " 'men': <gensim.models.keyedvectors.Vocab at 0x1e4eedd9cf8>,\n",
       " 'excitement': <gensim.models.keyedvectors.Vocab at 0x1e4eedd9d30>,\n",
       " 'omebody': <gensim.models.keyedvectors.Vocab at 0x1e4eedd9d68>,\n",
       " 'account': <gensim.models.keyedvectors.Vocab at 0x1e4eedd9da0>,\n",
       " 'ring': <gensim.models.keyedvectors.Vocab at 0x1e4eedd9dd8>,\n",
       " 'anson': <gensim.models.keyedvectors.Vocab at 0x1e4eedd9e10>,\n",
       " 'een': <gensim.models.keyedvectors.Vocab at 0x1e4eedd9e48>,\n",
       " 'enough': <gensim.models.keyedvectors.Vocab at 0x1e4eedd9e80>,\n",
       " 'ried': <gensim.models.keyedvectors.Vocab at 0x1e4eedd9eb8>,\n",
       " 'gate': <gensim.models.keyedvectors.Vocab at 0x1e4eedd9ef0>,\n",
       " 'led': <gensim.models.keyedvectors.Vocab at 0x1e4eedd9f28>,\n",
       " 'village': <gensim.models.keyedvectors.Vocab at 0x1e4eedd9f60>,\n",
       " 'shopton': <gensim.models.keyedvectors.Vocab at 0x1e4eedd9f98>,\n",
       " 'lived': <gensim.models.keyedvectors.Vocab at 0x1e4eedd9fd0>,\n",
       " 'held': <gensim.models.keyedvectors.Vocab at 0x1e4eeddd048>,\n",
       " 'oung': <gensim.models.keyedvectors.Vocab at 0x1e4eeddd080>,\n",
       " 'gone': <gensim.models.keyedvectors.Vocab at 0x1e4eeddd0b8>,\n",
       " 'far': <gensim.models.keyedvectors.Vocab at 0x1e4eeddd0f0>,\n",
       " 'turned': <gensim.models.keyedvectors.Vocab at 0x1e4eeddd128>,\n",
       " 'leaving': <gensim.models.keyedvectors.Vocab at 0x1e4eeddd160>,\n",
       " 'standing': <gensim.models.keyedvectors.Vocab at 0x1e4eeddd198>,\n",
       " 'side': <gensim.models.keyedvectors.Vocab at 0x1e4eeddd1d0>,\n",
       " 'path': <gensim.models.keyedvectors.Vocab at 0x1e4eeddd208>,\n",
       " 'atter': <gensim.models.keyedvectors.Vocab at 0x1e4eeddd240>,\n",
       " 'started': <gensim.models.keyedvectors.Vocab at 0x1e4eeddd278>,\n",
       " 'shops': <gensim.models.keyedvectors.Vocab at 0x1e4eeddd2b0>,\n",
       " 'premises': <gensim.models.keyedvectors.Vocab at 0x1e4eeddd2e8>,\n",
       " 'hops': <gensim.models.keyedvectors.Vocab at 0x1e4eeddd320>,\n",
       " 'inventive': <gensim.models.keyedvectors.Vocab at 0x1e4eeddd358>,\n",
       " 'uess': <gensim.models.keyedvectors.Vocab at 0x1e4eeddd390>,\n",
       " 'blank': <gensim.models.keyedvectors.Vocab at 0x1e4eeddd3c8>,\n",
       " 'replied': <gensim.models.keyedvectors.Vocab at 0x1e4eeddd400>,\n",
       " 'house': <gensim.models.keyedvectors.Vocab at 0x1e4eeddd438>,\n",
       " 'deposit': <gensim.models.keyedvectors.Vocab at 0x1e4eeddd470>,\n",
       " 'secure': <gensim.models.keyedvectors.Vocab at 0x1e4eeddd4a8>,\n",
       " 'luck': <gensim.models.keyedvectors.Vocab at 0x1e4eeddd4e0>,\n",
       " 'busy': <gensim.models.keyedvectors.Vocab at 0x1e4eeddd518>,\n",
       " 'plan': <gensim.models.keyedvectors.Vocab at 0x1e4eeddd550>,\n",
       " 'storage': <gensim.models.keyedvectors.Vocab at 0x1e4eeddd588>,\n",
       " 'battery': <gensim.models.keyedvectors.Vocab at 0x1e4eeddd5c0>,\n",
       " 'workroom': <gensim.models.keyedvectors.Vocab at 0x1e4eeddd5f8>,\n",
       " 'cash': <gensim.models.keyedvectors.Vocab at 0x1e4eeddd630>,\n",
       " 'checkbook': <gensim.models.keyedvectors.Vocab at 0x1e4eeddd668>,\n",
       " 'safe': <gensim.models.keyedvectors.Vocab at 0x1e4eeddd6a0>,\n",
       " 'owned': <gensim.models.keyedvectors.Vocab at 0x1e4eeddd6d8>,\n",
       " 'soon': <gensim.models.keyedvectors.Vocab at 0x1e4eeddd710>,\n",
       " 'speeding': <gensim.models.keyedvectors.Vocab at 0x1e4eeddd748>,\n",
       " 'making': <gensim.models.keyedvectors.Vocab at 0x1e4eeddd780>,\n",
       " 'quite': <gensim.models.keyedvectors.Vocab at 0x1e4eeddd7b8>,\n",
       " 'cloud': <gensim.models.keyedvectors.Vocab at 0x1e4eeddd7f0>,\n",
       " 'dust': <gensim.models.keyedvectors.Vocab at 0x1e4eeddd828>,\n",
       " 'hus': <gensim.models.keyedvectors.Vocab at 0x1e4eeddd860>,\n",
       " 'hurrying': <gensim.models.keyedvectors.Vocab at 0x1e4eeddd898>,\n",
       " 'along': <gensim.models.keyedvectors.Vocab at 0x1e4eeddd8d0>,\n",
       " 'tell': <gensim.models.keyedvectors.Vocab at 0x1e4eeddd908>,\n",
       " 'barton': <gensim.models.keyedvectors.Vocab at 0x1e4eeddd940>,\n",
       " 'motherly': <gensim.models.keyedvectors.Vocab at 0x1e4eeddd978>,\n",
       " 'housekeeper': <gensim.models.keyedvectors.Vocab at 0x1e4eeddd9b0>,\n",
       " 'mrs': <gensim.models.keyedvectors.Vocab at 0x1e4eeddd9e8>,\n",
       " 'aggert': <gensim.models.keyedvectors.Vocab at 0x1e4eeddda20>,\n",
       " 'large': <gensim.models.keyedvectors.Vocab at 0x1e4eeddda58>,\n",
       " 'outskirts': <gensim.models.keyedvectors.Vocab at 0x1e4eeddda90>,\n",
       " 'town': <gensim.models.keyedvectors.Vocab at 0x1e4eedddac8>,\n",
       " 'york': <gensim.models.keyedvectors.Vocab at 0x1e4eedddb00>,\n",
       " 'state': <gensim.models.keyedvectors.Vocab at 0x1e4eedddb38>,\n",
       " 'acquired': <gensim.models.keyedvectors.Vocab at 0x1e4eedddb70>,\n",
       " 'wealth': <gensim.models.keyedvectors.Vocab at 0x1e4eedddba8>,\n",
       " 'inventions': <gensim.models.keyedvectors.Vocab at 0x1e4eedddbe0>,\n",
       " 'working': <gensim.models.keyedvectors.Vocab at 0x1e4eedddc18>,\n",
       " 'ideas': <gensim.models.keyedvectors.Vocab at 0x1e4eedddc50>,\n",
       " 'simply': <gensim.models.keyedvectors.Vocab at 0x1e4eedddc88>,\n",
       " 'followed': <gensim.models.keyedvectors.Vocab at 0x1e4eedddcc0>,\n",
       " 'footsteps': <gensim.models.keyedvectors.Vocab at 0x1e4eedddcf8>,\n",
       " 'hortly': <gensim.models.keyedvectors.Vocab at 0x1e4eedddd30>,\n",
       " 'story': <gensim.models.keyedvectors.Vocab at 0x1e4eedddd68>,\n",
       " 'opens': <gensim.models.keyedvectors.Vocab at 0x1e4eedddda0>,\n",
       " 'youth': <gensim.models.keyedvectors.Vocab at 0x1e4eeddddd8>,\n",
       " 'become': <gensim.models.keyedvectors.Vocab at 0x1e4eeddde10>,\n",
       " 'possessed': <gensim.models.keyedvectors.Vocab at 0x1e4eeddde48>,\n",
       " 'peculiar': <gensim.models.keyedvectors.Vocab at 0x1e4eeddde80>,\n",
       " 'fashion': <gensim.models.keyedvectors.Vocab at 0x1e4eedddeb8>,\n",
       " 'volume': <gensim.models.keyedvectors.Vocab at 0x1e4eedddef0>,\n",
       " 'series': <gensim.models.keyedvectors.Vocab at 0x1e4eedddf28>,\n",
       " 'riding': <gensim.models.keyedvectors.Vocab at 0x1e4eedddf60>,\n",
       " 'mansburg': <gensim.models.keyedvectors.Vocab at 0x1e4eedddf98>,\n",
       " 'errand': <gensim.models.keyedvectors.Vocab at 0x1e4eedddfd0>,\n",
       " 'nearly': <gensim.models.keyedvectors.Vocab at 0x1e4eede0048>,\n",
       " 'ittle': <gensim.models.keyedvectors.Vocab at 0x1e4eede0080>,\n",
       " 'later': <gensim.models.keyedvectors.Vocab at 0x1e4eede00b8>,\n",
       " 'akefield': <gensim.models.keyedvectors.Vocab at 0x1e4eede00f0>,\n",
       " 'damon': <gensim.models.keyedvectors.Vocab at 0x1e4eede0128>,\n",
       " 'waterfield': <gensim.models.keyedvectors.Vocab at 0x1e4eede0160>,\n",
       " 'collided': <gensim.models.keyedvectors.Vocab at 0x1e4eede0198>,\n",
       " 'tree': <gensim.models.keyedvectors.Vocab at 0x1e4eede01d0>,\n",
       " 'toms': <gensim.models.keyedvectors.Vocab at 0x1e4eede0208>,\n",
       " 'home': <gensim.models.keyedvectors.Vocab at 0x1e4eede0240>,\n",
       " 'severely': <gensim.models.keyedvectors.Vocab at 0x1e4eede0278>,\n",
       " 'cut': <gensim.models.keyedvectors.Vocab at 0x1e4eede02b0>,\n",
       " 'bruised': <gensim.models.keyedvectors.Vocab at 0x1e4eede02e8>,\n",
       " 'broken': <gensim.models.keyedvectors.Vocab at 0x1e4eede0320>,\n",
       " 'cared': <gensim.models.keyedvectors.Vocab at 0x1e4eede0358>,\n",
       " 'injured': <gensim.models.keyedvectors.Vocab at 0x1e4eede0390>,\n",
       " 'rider': <gensim.models.keyedvectors.Vocab at 0x1e4eede03c8>,\n",
       " 'eccentric': <gensim.models.keyedvectors.Vocab at 0x1e4eede0400>,\n",
       " 'individual': <gensim.models.keyedvectors.Vocab at 0x1e4eede0438>,\n",
       " 'disheartened': <gensim.models.keyedvectors.Vocab at 0x1e4eede0470>,\n",
       " 'attempts': <gensim.models.keyedvectors.Vocab at 0x1e4eede04a8>,\n",
       " 'ride': <gensim.models.keyedvectors.Vocab at 0x1e4eede04e0>,\n",
       " 'sold': <gensim.models.keyedvectors.Vocab at 0x1e4eede0518>,\n",
       " 'ime': <gensim.models.keyedvectors.Vocab at 0x1e4eede0550>,\n",
       " 'bought': <gensim.models.keyedvectors.Vocab at 0x1e4eede0588>,\n",
       " 'firm': <gensim.models.keyedvectors.Vocab at 0x1e4eede05c0>,\n",
       " 'rascally': <gensim.models.keyedvectors.Vocab at 0x1e4eede05f8>,\n",
       " 'atch': <gensim.models.keyedvectors.Vocab at 0x1e4eede0630>,\n",
       " 'name': <gensim.models.keyedvectors.Vocab at 0x1e4eede0668>,\n",
       " 'conjunction': <gensim.models.keyedvectors.Vocab at 0x1e4eede06a0>,\n",
       " 'attempt': <gensim.models.keyedvectors.Vocab at 0x1e4eede06d8>,\n",
       " 'control': <gensim.models.keyedvectors.Vocab at 0x1e4eede0710>,\n",
       " 'perfected': <gensim.models.keyedvectors.Vocab at 0x1e4eede0748>,\n",
       " 'en': <gensim.models.keyedvectors.Vocab at 0x1e4eede0780>,\n",
       " 'appleson': <gensim.models.keyedvectors.Vocab at 0x1e4eede07b8>,\n",
       " 'morse': <gensim.models.keyedvectors.Vocab at 0x1e4eede07f0>,\n",
       " 'wilson': <gensim.models.keyedvectors.Vocab at 0x1e4eede0828>,\n",
       " 'featherton': <gensim.models.keyedvectors.Vocab at 0x1e4eede0860>,\n",
       " 'alias': <gensim.models.keyedvectors.Vocab at 0x1e4eede0898>,\n",
       " 'simpson': <gensim.models.keyedvectors.Vocab at 0x1e4eede08d0>,\n",
       " 'jake': <gensim.models.keyedvectors.Vocab at 0x1e4eede0908>,\n",
       " 'burke': <gensim.models.keyedvectors.Vocab at 0x1e4eede0940>,\n",
       " 'happy': <gensim.models.keyedvectors.Vocab at 0x1e4eede0978>,\n",
       " 'harry': <gensim.models.keyedvectors.Vocab at 0x1e4eede09b0>,\n",
       " 'disguised': <gensim.models.keyedvectors.Vocab at 0x1e4eede09e8>,\n",
       " 'tramp': <gensim.models.keyedvectors.Vocab at 0x1e4eede0a20>,\n",
       " 'times': <gensim.models.keyedvectors.Vocab at 0x1e4eede0a58>,\n",
       " 'steal': <gensim.models.keyedvectors.Vocab at 0x1e4eede0a90>,\n",
       " 'nxiety': <gensim.models.keyedvectors.Vocab at 0x1e4eede0ac8>,\n",
       " 'fact': <gensim.models.keyedvectors.Vocab at 0x1e4eede0b00>,\n",
       " 'invested': <gensim.models.keyedvectors.Vocab at 0x1e4eede0b38>,\n",
       " 'sum': <gensim.models.keyedvectors.Vocab at 0x1e4eede0b70>,\n",
       " 'invented': <gensim.models.keyedvectors.Vocab at 0x1e4eede0ba8>,\n",
       " 'sought': <gensim.models.keyedvectors.Vocab at 0x1e4eede0be0>,\n",
       " 'sent': <gensim.models.keyedvectors.Vocab at 0x1e4eede0c18>,\n",
       " 'albany': <gensim.models.keyedvectors.Vocab at 0x1e4eede0c50>,\n",
       " 'deliver': <gensim.models.keyedvectors.Vocab at 0x1e4eede0c88>,\n",
       " 'rawford': <gensim.models.keyedvectors.Vocab at 0x1e4eede0cc0>,\n",
       " 'reid': <gensim.models.keyedvectors.Vocab at 0x1e4eede0cf8>,\n",
       " 'washington': <gensim.models.keyedvectors.Vocab at 0x1e4eede0d30>,\n",
       " 'attorneys': <gensim.models.keyedvectors.Vocab at 0x1e4eede0d68>,\n",
       " 'agreed': <gensim.models.keyedvectors.Vocab at 0x1e4eede0da0>,\n",
       " 'meet': <gensim.models.keyedvectors.Vocab at 0x1e4eede0dd8>,\n",
       " 'attacked': <gensim.models.keyedvectors.Vocab at 0x1e4eede0e10>,\n",
       " 'unscrupulous': <gensim.models.keyedvectors.Vocab at 0x1e4eede0e48>,\n",
       " 'stolen': <gensim.models.keyedvectors.Vocab at 0x1e4eede0e80>,\n",
       " 'carried': <gensim.models.keyedvectors.Vocab at 0x1e4eede0eb8>,\n",
       " 'automobile': <gensim.models.keyedvectors.Vocab at 0x1e4eede0ef0>,\n",
       " 'ttempt': <gensim.models.keyedvectors.Vocab at 0x1e4eede0f28>,\n",
       " 'capture': <gensim.models.keyedvectors.Vocab at 0x1e4eede0f60>,\n",
       " 'deserted': <gensim.models.keyedvectors.Vocab at 0x1e4eede0f98>,\n",
       " 'shore': <gensim.models.keyedvectors.Vocab at 0x1e4eede0fd0>,\n",
       " 'aided': <gensim.models.keyedvectors.Vocab at 0x1e4eede4048>,\n",
       " 'purchased': <gensim.models.keyedvectors.Vocab at 0x1e4eede4080>,\n",
       " 'escaped': <gensim.models.keyedvectors.Vocab at 0x1e4eede40b8>,\n",
       " 'nothing': <gensim.models.keyedvectors.Vocab at 0x1e4eede40f0>,\n",
       " 'done': <gensim.models.keyedvectors.Vocab at 0x1e4eede4128>,\n",
       " 'punish': <gensim.models.keyedvectors.Vocab at 0x1e4eede4160>,\n",
       " 'thinking': <gensim.models.keyedvectors.Vocab at 0x1e4eede4198>,\n",
       " 'exciting': <gensim.models.keyedvectors.Vocab at 0x1e4eede41d0>,\n",
       " 'scenes': <gensim.models.keyedvectors.Vocab at 0x1e4eede4208>,\n",
       " 'passed': <gensim.models.keyedvectors.Vocab at 0x1e4eede4240>,\n",
       " 'previous': <gensim.models.keyedvectors.Vocab at 0x1e4eede4278>,\n",
       " 'spun': <gensim.models.keyedvectors.Vocab at 0x1e4eede42b0>,\n",
       " 'leading': <gensim.models.keyedvectors.Vocab at 0x1e4eede42e8>,\n",
       " 'ope': <gensim.models.keyedvectors.Vocab at 0x1e4eede4320>,\n",
       " 'mused': <gensim.models.keyedvectors.Vocab at 0x1e4eede4358>,\n",
       " 'power': <gensim.models.keyedvectors.Vocab at 0x1e4eede4390>,\n",
       " 'enable': <gensim.models.keyedvectors.Vocab at 0x1e4eede43c8>,\n",
       " 'mount': <gensim.models.keyedvectors.Vocab at 0x1e4eede4400>,\n",
       " 'hill': <gensim.models.keyedvectors.Vocab at 0x1e4eede4438>,\n",
       " 'elieve': <gensim.models.keyedvectors.Vocab at 0x1e4eede4470>,\n",
       " 'attend': <gensim.models.keyedvectors.Vocab at 0x1e4eede44a8>,\n",
       " 'risky': <gensim.models.keyedvectors.Vocab at 0x1e4eede44e0>,\n",
       " 'swung': <gensim.models.keyedvectors.Vocab at 0x1e4eede4518>,\n",
       " 'rapid': <gensim.models.keyedvectors.Vocab at 0x1e4eede4550>,\n",
       " 'pace': <gensim.models.keyedvectors.Vocab at 0x1e4eede4588>,\n",
       " 'heard': <gensim.models.keyedvectors.Vocab at 0x1e4eede45c0>,\n",
       " 'behind': <gensim.models.keyedvectors.Vocab at 0x1e4eede45f8>,\n",
       " 'puffing': <gensim.models.keyedvectors.Vocab at 0x1e4eede4630>,\n",
       " ...}"
      ]
     },
     "execution_count": 17,
     "metadata": {},
     "output_type": "execute_result"
    }
   ],
   "source": [
    "wordvec_model.wv.vocab"
   ]
  },
  {
   "cell_type": "code",
   "execution_count": 18,
   "metadata": {},
   "outputs": [
    {
     "name": "stderr",
     "output_type": "stream",
     "text": [
      "C:\\Users\\vuong.huynh\\Anaconda3\\lib\\site-packages\\ipykernel_launcher.py:1: DeprecationWarning: Call to deprecated `__getitem__` (Method will be removed in 4.0.0, use self.wv.__getitem__() instead).\n",
      "  \"\"\"Entry point for launching an IPython kernel.\n"
     ]
    },
    {
     "data": {
      "text/plain": [
       "array([ 0.08756737, -0.4849359 ,  0.09258471,  0.5332516 , -0.83412683,\n",
       "        1.4007401 , -0.21993272, -1.5946935 , -0.23268117,  0.9671646 ,\n",
       "       -0.8923986 ,  1.1503458 ,  0.11310089, -1.343151  , -0.09844123,\n",
       "        1.1442933 , -0.8730031 , -0.8477749 ,  0.46705672, -1.4603894 ,\n",
       "       -1.6168814 , -0.6311893 ,  0.08392243, -0.44214267, -0.5048343 ,\n",
       "       -1.0778183 ,  0.98268104, -0.5930208 , -0.46347964, -0.9746676 ,\n",
       "        0.38000455,  1.6027899 ,  1.2293227 , -0.41387323, -0.75161576,\n",
       "        0.62356627,  0.34847683, -0.73645914, -0.15048805, -1.2204477 ,\n",
       "       -1.5888692 , -0.3890779 , -0.35718375, -1.0015948 , -0.09175818,\n",
       "        0.6624376 ,  1.5438682 , -1.2902464 , -0.23350856,  0.31357384,\n",
       "        0.3742413 ,  0.48988476,  0.575092  , -0.04045668, -0.8623304 ,\n",
       "        1.8627577 ,  0.6331108 , -0.7067224 ,  0.39263186, -1.0412805 ,\n",
       "       -1.5948011 ,  0.25136793,  0.12079147,  0.873189  , -0.795905  ,\n",
       "        0.5019713 ,  0.49560356, -0.868278  ,  0.09348696,  0.21779472,\n",
       "       -0.6551766 ,  1.2742121 ,  0.03375621,  0.87742895,  0.75862664,\n",
       "        0.65526253,  1.1243445 ,  0.89565766,  1.0497879 ,  0.20140184,\n",
       "       -0.44363025,  0.20091137,  1.2454365 ,  1.1624606 , -0.96969134,\n",
       "       -0.4274662 ,  0.29989237, -0.84346694, -0.47490075,  0.1688963 ,\n",
       "       -0.12764995,  0.7784578 , -0.2790302 ,  1.0612345 ,  0.23211956,\n",
       "       -0.6546599 ,  0.09055834,  0.37443155, -0.5607523 ,  0.24647515,\n",
       "        0.25101897,  0.30343625, -0.37063763, -0.00933068,  0.44284365,\n",
       "        0.44030535,  1.1071436 ,  1.22367   ,  0.58496314,  0.20808636,\n",
       "        0.01434215,  1.1345016 , -0.75433123,  0.09611006,  0.24415322,\n",
       "        0.351455  , -0.16807428,  0.07115345, -0.07246079, -0.1898005 ,\n",
       "        0.76261383,  0.09211581,  0.58794   , -0.13734236, -0.31892318,\n",
       "        0.58411485, -0.17331414,  0.12762417,  0.6272679 ,  0.39402682,\n",
       "       -0.49956194, -0.49905458, -0.05837361, -0.44741452,  0.4860947 ,\n",
       "       -0.36654449,  0.3683168 ,  0.81158656,  0.10172794,  0.3389948 ,\n",
       "       -0.7639005 , -0.21953057,  1.7365881 , -0.66685086, -0.0861745 ,\n",
       "        0.3683704 ,  0.51894456, -0.40975264,  0.7877043 , -0.5860397 ,\n",
       "       -0.04992902, -1.1776286 ,  0.51633805,  0.59134984, -0.05692017,\n",
       "       -0.6873128 ,  0.5814353 ,  0.1374792 ,  0.3395527 ,  1.1938312 ,\n",
       "       -0.5585345 ,  0.42333326,  1.3720165 , -0.0052499 ,  0.8350421 ,\n",
       "        0.03354871, -0.88832796,  0.01199376, -0.8846942 , -0.57639986,\n",
       "        0.21112041,  1.9327605 ,  0.8982728 ,  1.3195891 , -0.34241712,\n",
       "        0.6381475 ,  0.32677466,  0.9236783 ,  0.19786637,  0.8369157 ,\n",
       "        0.18927231,  0.1282279 , -1.430243  ,  0.8814284 ,  1.222542  ,\n",
       "        1.6760197 ,  0.37857   , -0.11489309,  0.9626749 ,  0.36265668,\n",
       "        0.08383901,  0.17766373, -0.43115383, -0.31842223,  0.11465786,\n",
       "        0.14260127,  0.6141874 , -0.6071609 , -0.45120192, -0.17838232,\n",
       "        0.83118045, -0.82682484, -0.5387049 , -0.13535829,  0.35211536,\n",
       "       -0.4485081 , -0.37663212, -0.23273768,  0.7354103 , -0.24811216,\n",
       "       -0.1021269 ,  0.56338817,  0.04701984, -0.1813429 , -1.6975988 ,\n",
       "       -0.3219123 ,  0.80441797,  0.13305447, -0.24014151,  0.6431493 ,\n",
       "       -1.0212764 ,  0.6480823 , -1.1639365 ,  0.29469386,  0.77528083,\n",
       "       -0.8451414 , -0.32664552, -0.7026862 ,  0.42106897,  0.3937046 ,\n",
       "        0.7350564 ,  0.6679481 , -0.33354548,  1.5737294 , -0.5277364 ,\n",
       "       -0.33976772, -0.11787951,  0.98945904, -0.4598432 ,  0.63388056,\n",
       "       -0.64438885,  0.84889925, -0.05007195,  0.7257095 , -0.7604354 ,\n",
       "        0.57634526, -1.3979727 , -0.1303456 , -0.8881694 ,  0.08507442,\n",
       "        0.04966825, -0.5441439 ,  1.4958413 ,  0.77072537,  0.80196553,\n",
       "       -0.8725129 ,  0.1628538 ,  1.302926  , -0.20722495,  0.24139301,\n",
       "       -0.37626794,  0.17075871, -1.2771707 , -0.19816552,  0.20844209,\n",
       "       -0.04247827,  1.0232972 ,  0.20266238, -0.06046425, -0.4958541 ,\n",
       "       -0.6037467 ,  0.50957626,  0.05081076,  1.6238083 ,  0.21967407,\n",
       "        0.22983219,  0.7354343 ,  1.1375941 , -0.9169503 , -0.29345074,\n",
       "       -0.8079729 , -0.5091688 , -0.24895814,  0.40702894, -0.62253934,\n",
       "       -1.6538022 ,  1.8857865 , -1.2323867 ,  0.756475  ,  1.1149292 ,\n",
       "       -0.47540736,  0.47803345,  0.7391609 , -0.9111229 ,  0.0865617 ,\n",
       "        0.61654204,  0.35514185, -0.4109272 ,  2.6203089 ,  0.5229053 ],\n",
       "      dtype=float32)"
      ]
     },
     "execution_count": 18,
     "metadata": {},
     "output_type": "execute_result"
    }
   ],
   "source": [
    "wordvec_model['program']"
   ]
  },
  {
   "cell_type": "code",
   "execution_count": 19,
   "metadata": {},
   "outputs": [
    {
     "data": {
      "text/plain": [
       "300"
      ]
     },
     "execution_count": 19,
     "metadata": {},
     "output_type": "execute_result"
    }
   ],
   "source": [
    "len(wordvec_model.wv.vectors[0])"
   ]
  },
  {
   "cell_type": "code",
   "execution_count": 20,
   "metadata": {},
   "outputs": [
    {
     "name": "stdout",
     "output_type": "stream",
     "text": [
      "de said et\n"
     ]
    }
   ],
   "source": [
    "print(wordvec_model.wv.index2word[0], wordvec_model.wv.index2word[1], wordvec_model.wv.index2word[2])"
   ]
  },
  {
   "cell_type": "code",
   "execution_count": 21,
   "metadata": {},
   "outputs": [
    {
     "name": "stdout",
     "output_type": "stream",
     "text": [
      "hayter letheringham unsters\n"
     ]
    }
   ],
   "source": [
    "print(wordvec_model.wv.index2word[len(wordvec_model.wv.vocab) -1], \\\n",
    "      wordvec_model.wv.index2word[len(wordvec_model.wv.vocab) -2], \\\n",
    "      wordvec_model.wv.index2word[len(wordvec_model.wv.vocab) -3])"
   ]
  },
  {
   "cell_type": "code",
   "execution_count": 22,
   "metadata": {},
   "outputs": [],
   "source": [
    "def create_average_vec(doc):\n",
    "    average = np.zeros((text_dim,), dtype='float32')\n",
    "    num_words = 0.\n",
    "    for word in doc.split():\n",
    "        if word in wordvec_model.wv.vocab:\n",
    "            average = np.add(average, wordvec_model[word])\n",
    "            num_words += 1.\n",
    "    if num_words != 0.:\n",
    "        average = np.divide(average, num_words)\n",
    "    return average"
   ]
  },
  {
   "cell_type": "code",
   "execution_count": 23,
   "metadata": {},
   "outputs": [],
   "source": [
    "average = np.zeros((300), dtype='float32')"
   ]
  },
  {
   "cell_type": "code",
   "execution_count": 24,
   "metadata": {},
   "outputs": [],
   "source": [
    "class AverageEmbeddingVectorizer():\n",
    "    \n",
    "    def __init__(self, word2vec_model):\n",
    "        self.model = word2vec_model\n",
    "        self.size = len(word2vec_model.wv.vectors[0])\n",
    "        self.count= 0 # for keeping count of number of words from document found inside word2vec model\n",
    "        \n",
    "    def fit(self, X, y):\n",
    "        pass\n",
    "    \n",
    "    def transform(self, text):\n",
    "        self.count=0\n",
    "        average = np.zeros(self.size)\n",
    "        for word in text.split():\n",
    "            if word in self.model.wv.vocab:\n",
    "                average = np.add(average, self.model[word])\n",
    "                self.count += 1\n",
    "        if self.count != 0:\n",
    "            average = np.divide(average,self.count)\n",
    "        return average"
   ]
  },
  {
   "cell_type": "code",
   "execution_count": 25,
   "metadata": {},
   "outputs": [],
   "source": [
    "avvec = AverageEmbeddingVectorizer(wordvec_model)"
   ]
  },
  {
   "cell_type": "code",
   "execution_count": 26,
   "metadata": {},
   "outputs": [],
   "source": [
    "x = DataTrain['NoiDungTokenize']\n",
    "y = DataTrain['TacGia']"
   ]
  },
  {
   "cell_type": "code",
   "execution_count": 27,
   "metadata": {},
   "outputs": [
    {
     "data": {
      "text/plain": [
       "(401, 300)"
      ]
     },
     "execution_count": 27,
     "metadata": {},
     "output_type": "execute_result"
    }
   ],
   "source": [
    "#creating an initial empty matrix of the size of the training set with word@vec model shape\n",
    "trained_wordvec = np.zeros((x.shape[0], len(wordvec_model.wv.vectors[0])), dtype= 'float64')\n",
    "trained_wordvec.shape"
   ]
  },
  {
   "cell_type": "code",
   "execution_count": 28,
   "metadata": {},
   "outputs": [
    {
     "name": "stderr",
     "output_type": "stream",
     "text": [
      "C:\\Users\\vuong.huynh\\Anaconda3\\lib\\site-packages\\ipykernel_launcher.py:16: DeprecationWarning: Call to deprecated `__getitem__` (Method will be removed in 4.0.0, use self.wv.__getitem__() instead).\n",
      "  app.launch_new_instance()\n"
     ]
    }
   ],
   "source": [
    "avvec = AverageEmbeddingVectorizer(wordvec_model)\n",
    "for i in range(x.shape[0]):\n",
    "    trained_wordvec[i] = avvec.transform(x.iloc[i])"
   ]
  },
  {
   "cell_type": "code",
   "execution_count": 47,
   "metadata": {},
   "outputs": [],
   "source": [
    "#from sklearn.preprocessing import LabelEncoder\n",
    "#le = LabelEncoder()\n",
    "#y = le.fit_transform(y)"
   ]
  },
  {
   "cell_type": "code",
   "execution_count": 30,
   "metadata": {},
   "outputs": [
    {
     "data": {
      "text/plain": [
       "((320, 300), (320,), (81, 300), (81,))"
      ]
     },
     "execution_count": 30,
     "metadata": {},
     "output_type": "execute_result"
    }
   ],
   "source": [
    "from sklearn.model_selection import train_test_split\n",
    "xtrainWV, xtestWV, ytrainWV, ytestWV = train_test_split(trained_wordvec, y, test_size = 0.2,random_state=100)\n",
    "xtrainWV.shape, ytrainWV.shape, xtestWV.shape, ytestWV.shape"
   ]
  },
  {
   "cell_type": "markdown",
   "metadata": {},
   "source": [
    "### a. Naive baye "
   ]
  },
  {
   "cell_type": "code",
   "execution_count": 31,
   "metadata": {},
   "outputs": [],
   "source": [
    "from sklearn.preprocessing import MinMaxScaler\n",
    "scalerWV = MinMaxScaler()\n",
    "scalerWV.fit(trained_wordvec)\n",
    "X_train_scalerWV = scalerWV.transform(xtrainWV)\n",
    "X_test_scalerWV = scalerWV.transform(xtestWV)"
   ]
  },
  {
   "cell_type": "code",
   "execution_count": 34,
   "metadata": {},
   "outputs": [
    {
     "name": "stdout",
     "output_type": "stream",
     "text": [
      "                       precision    recall  f1-score   support\n",
      "\n",
      "            Anonymous       0.33      0.33      0.33         3\n",
      "         David Widger       0.83      1.00      0.91         5\n",
      "E. Phillips Oppenheim       1.00      1.00      1.00         4\n",
      " Edgar Rice Burroughs       0.80      1.00      0.89         4\n",
      " Edward Bulwer Lytton       1.00      0.40      0.57         5\n",
      "    Huguette Bertrand       1.00      0.80      0.89         5\n",
      "        L. Frank Baum       1.00      1.00      1.00         4\n",
      "    Mrs. Humphry Ward       0.67      0.67      0.67         6\n",
      "          Oscar Wilde       1.00      0.50      0.67         2\n",
      "           Paul Heyse       0.00      0.00      0.00         5\n",
      "     Sir Walter Scott       1.00      1.00      1.00         5\n",
      "        Theodor Storm       0.44      1.00      0.62         4\n",
      "     Thomas H. Huxley       0.75      1.00      0.86         3\n",
      "       Upton Sinclair       1.00      0.71      0.83         7\n",
      "      Victor Appleton       1.00      1.00      1.00         2\n",
      "          Victor Hugo       0.89      0.73      0.80        11\n",
      " Walter Horatio Pater       0.33      1.00      0.50         1\n",
      "       Wilkie Collins       0.56      1.00      0.71         5\n",
      "\n",
      "          avg / total       0.78      0.77      0.75        81\n",
      "\n"
     ]
    },
    {
     "name": "stderr",
     "output_type": "stream",
     "text": [
      "C:\\Users\\vuong.huynh\\Anaconda3\\lib\\site-packages\\sklearn\\metrics\\classification.py:1135: UndefinedMetricWarning: Precision and F-score are ill-defined and being set to 0.0 in labels with no predicted samples.\n",
      "  'precision', 'predicted', average, warn_for)\n"
     ]
    }
   ],
   "source": [
    "from sklearn.naive_bayes import MultinomialNB\n",
    "MulNB_WV = MultinomialNB()\n",
    "MulNB_WV.fit(X_train_scalerWV,ytrainWV)\n",
    "PreMulNB_WV = MulNB_WV.predict(X_test_scalerWV)\n",
    "from sklearn.metrics import classification_report\n",
    "print(classification_report(ytestWV, PreMulNB_WV))"
   ]
  },
  {
   "cell_type": "code",
   "execution_count": 35,
   "metadata": {},
   "outputs": [
    {
     "name": "stdout",
     "output_type": "stream",
     "text": [
      "                       precision    recall  f1-score   support\n",
      "\n",
      "            Anonymous       0.29      0.67      0.40         3\n",
      "         David Widger       0.83      1.00      0.91         5\n",
      "E. Phillips Oppenheim       1.00      0.75      0.86         4\n",
      " Edgar Rice Burroughs       1.00      1.00      1.00         4\n",
      " Edward Bulwer Lytton       0.60      0.60      0.60         5\n",
      "    Huguette Bertrand       1.00      1.00      1.00         5\n",
      "        L. Frank Baum       1.00      1.00      1.00         4\n",
      "    Mrs. Humphry Ward       1.00      0.67      0.80         6\n",
      "          Oscar Wilde       0.50      0.50      0.50         2\n",
      "           Paul Heyse       0.00      0.00      0.00         5\n",
      "     Sir Walter Scott       1.00      1.00      1.00         5\n",
      "        Theodor Storm       0.44      1.00      0.62         4\n",
      "     Thomas H. Huxley       1.00      0.67      0.80         3\n",
      "       Upton Sinclair       0.88      1.00      0.93         7\n",
      "      Victor Appleton       1.00      1.00      1.00         2\n",
      "          Victor Hugo       1.00      0.73      0.84        11\n",
      " Walter Horatio Pater       1.00      1.00      1.00         1\n",
      "       Wilkie Collins       0.83      1.00      0.91         5\n",
      "\n",
      "          avg / total       0.82      0.80      0.79        81\n",
      "\n"
     ]
    },
    {
     "name": "stderr",
     "output_type": "stream",
     "text": [
      "C:\\Users\\vuong.huynh\\Anaconda3\\lib\\site-packages\\sklearn\\metrics\\classification.py:1135: UndefinedMetricWarning: Precision and F-score are ill-defined and being set to 0.0 in labels with no predicted samples.\n",
      "  'precision', 'predicted', average, warn_for)\n"
     ]
    }
   ],
   "source": [
    "from sklearn.naive_bayes import GaussianNB\n",
    "gnb_WV = GaussianNB()\n",
    "pr_WV = gnb_WV.fit(xtrainWV,ytrainWV)\n",
    "pr_WV = gnb_WV.predict(xtestWV)\n",
    "print(classification_report(ytestWV, pr_WV))"
   ]
  },
  {
   "cell_type": "markdown",
   "metadata": {},
   "source": [
    "### b. Decision Tree "
   ]
  },
  {
   "cell_type": "code",
   "execution_count": 37,
   "metadata": {},
   "outputs": [
    {
     "name": "stdout",
     "output_type": "stream",
     "text": [
      "                       precision    recall  f1-score   support\n",
      "\n",
      "            Anonymous       0.50      0.67      0.57         3\n",
      "         David Widger       1.00      0.40      0.57         5\n",
      "E. Phillips Oppenheim       1.00      0.75      0.86         4\n",
      " Edgar Rice Burroughs       0.50      1.00      0.67         4\n",
      " Edward Bulwer Lytton       0.71      1.00      0.83         5\n",
      "    Huguette Bertrand       0.71      1.00      0.83         5\n",
      "        L. Frank Baum       0.75      0.75      0.75         4\n",
      "    Mrs. Humphry Ward       1.00      1.00      1.00         6\n",
      "          Oscar Wilde       0.33      0.50      0.40         2\n",
      "           Paul Heyse       1.00      1.00      1.00         5\n",
      "     Sir Walter Scott       1.00      1.00      1.00         5\n",
      "        Theodor Storm       1.00      1.00      1.00         4\n",
      "     Thomas H. Huxley       0.67      0.67      0.67         3\n",
      "       Upton Sinclair       1.00      0.71      0.83         7\n",
      "      Victor Appleton       1.00      1.00      1.00         2\n",
      "          Victor Hugo       1.00      0.73      0.84        11\n",
      " Walter Horatio Pater       1.00      1.00      1.00         1\n",
      "       Wilkie Collins       1.00      0.80      0.89         5\n",
      "\n",
      "          avg / total       0.88      0.83      0.83        81\n",
      "\n"
     ]
    }
   ],
   "source": [
    "from sklearn import tree\n",
    "clf_tree_WV= tree.DecisionTreeClassifier()\n",
    "clf_tree_WV.fit(xtrainWV,ytrainWV)\n",
    "Pre_tree_WV= clf_tree_WV.predict(xtestWV)\n",
    "from sklearn.metrics import classification_report\n",
    "print(classification_report(ytestWV, Pre_tree_WV))"
   ]
  },
  {
   "cell_type": "markdown",
   "metadata": {},
   "source": [
    "### c. Random Forest "
   ]
  },
  {
   "cell_type": "code",
   "execution_count": 38,
   "metadata": {},
   "outputs": [
    {
     "name": "stdout",
     "output_type": "stream",
     "text": [
      "                       precision    recall  f1-score   support\n",
      "\n",
      "            Anonymous       0.67      0.67      0.67         3\n",
      "         David Widger       1.00      1.00      1.00         5\n",
      "E. Phillips Oppenheim       1.00      1.00      1.00         4\n",
      " Edgar Rice Burroughs       1.00      1.00      1.00         4\n",
      " Edward Bulwer Lytton       0.83      1.00      0.91         5\n",
      "    Huguette Bertrand       1.00      1.00      1.00         5\n",
      "        L. Frank Baum       1.00      1.00      1.00         4\n",
      "    Mrs. Humphry Ward       1.00      1.00      1.00         6\n",
      "          Oscar Wilde       0.50      0.50      0.50         2\n",
      "           Paul Heyse       1.00      0.60      0.75         5\n",
      "     Sir Walter Scott       1.00      1.00      1.00         5\n",
      "        Theodor Storm       0.67      1.00      0.80         4\n",
      "     Thomas H. Huxley       0.75      1.00      0.86         3\n",
      "       Upton Sinclair       1.00      1.00      1.00         7\n",
      "      Victor Appleton       1.00      1.00      1.00         2\n",
      "          Victor Hugo       1.00      0.82      0.90        11\n",
      " Walter Horatio Pater       1.00      1.00      1.00         1\n",
      "       Wilkie Collins       1.00      1.00      1.00         5\n",
      "\n",
      "          avg / total       0.94      0.93      0.93        81\n",
      "\n"
     ]
    }
   ],
   "source": [
    "from sklearn.metrics import classification_report\n",
    "from sklearn.ensemble import RandomForestClassifier\n",
    "\n",
    "RanDom_modelWV = RandomForestClassifier(n_estimators=100, random_state=100)\n",
    "\n",
    "RanDom_modelWV.fit(xtrainWV,ytrainWV)\n",
    "prRanDom_WV = RanDom_modelWV.predict(xtestWV)\n",
    "print(classification_report(ytestWV, prRanDom_WV ))"
   ]
  },
  {
   "cell_type": "markdown",
   "metadata": {},
   "source": [
    "### d. Support Vector Machine"
   ]
  },
  {
   "cell_type": "code",
   "execution_count": 39,
   "metadata": {},
   "outputs": [
    {
     "name": "stdout",
     "output_type": "stream",
     "text": [
      "                       precision    recall  f1-score   support\n",
      "\n",
      "            Anonymous       0.00      0.00      0.00         3\n",
      "         David Widger       0.00      0.00      0.00         5\n",
      "E. Phillips Oppenheim       0.00      0.00      0.00         4\n",
      " Edgar Rice Burroughs       0.00      0.00      0.00         4\n",
      " Edward Bulwer Lytton       0.00      0.00      0.00         5\n",
      "    Huguette Bertrand       0.38      1.00      0.56         5\n",
      "        L. Frank Baum       0.00      0.00      0.00         4\n",
      "    Mrs. Humphry Ward       0.00      0.00      0.00         6\n",
      "          Oscar Wilde       0.00      0.00      0.00         2\n",
      "           Paul Heyse       0.00      0.00      0.00         5\n",
      "     Sir Walter Scott       0.00      0.00      0.00         5\n",
      "        Theodor Storm       0.44      1.00      0.62         4\n",
      "     Thomas H. Huxley       0.00      0.00      0.00         3\n",
      "       Upton Sinclair       0.00      0.00      0.00         7\n",
      "      Victor Appleton       0.04      1.00      0.07         2\n",
      "          Victor Hugo       0.00      0.00      0.00        11\n",
      " Walter Horatio Pater       0.17      1.00      0.29         1\n",
      "       Wilkie Collins       0.00      0.00      0.00         5\n",
      "\n",
      "          avg / total       0.05      0.15      0.07        81\n",
      "\n"
     ]
    },
    {
     "name": "stderr",
     "output_type": "stream",
     "text": [
      "C:\\Users\\vuong.huynh\\Anaconda3\\lib\\site-packages\\sklearn\\metrics\\classification.py:1135: UndefinedMetricWarning: Precision and F-score are ill-defined and being set to 0.0 in labels with no predicted samples.\n",
      "  'precision', 'predicted', average, warn_for)\n"
     ]
    }
   ],
   "source": [
    "from sklearn.svm import SVC\n",
    "clf_SVM_WV = SVC()\n",
    "clf_SVM_WV.fit(xtrainWV,ytrainWV)\n",
    "Pre_SVM_WV = clf_SVM_WV.predict(xtestWV)\n",
    "print(classification_report(ytestWV, Pre_SVM_WV))"
   ]
  },
  {
   "cell_type": "code",
   "execution_count": null,
   "metadata": {},
   "outputs": [],
   "source": [
    "#xtrainWV, xtestWV, ytrainWV, ytestWV = train_test_split(trained_wordvec, y, test_size = 0.2)"
   ]
  },
  {
   "cell_type": "markdown",
   "metadata": {},
   "source": [
    "### e. Convolution Neural Network "
   ]
  },
  {
   "cell_type": "code",
   "execution_count": 40,
   "metadata": {},
   "outputs": [
    {
     "name": "stderr",
     "output_type": "stream",
     "text": [
      "C:\\Users\\vuong.huynh\\Anaconda3\\lib\\site-packages\\h5py\\__init__.py:36: FutureWarning: Conversion of the second argument of issubdtype from `float` to `np.floating` is deprecated. In future, it will be treated as `np.float64 == np.dtype(float).type`.\n",
      "  from ._conv import register_converters as _register_converters\n",
      "Using TensorFlow backend.\n"
     ]
    }
   ],
   "source": [
    "from sklearn.preprocessing import LabelEncoder\n",
    "lblEncoder_WV=LabelEncoder()\n",
    "y_trainEncoder_WV = lblEncoder_WV.fit_transform(ytrainWV)\n",
    "y_testEncoder_WV=lblEncoder_WV.transform(ytestWV)\n",
    "from keras import utils as np_utils\n",
    "y_trainEC_WV = np_utils.to_categorical(y_trainEncoder_WV,18)\n",
    "y_testEC_WV = np_utils.to_categorical(y_testEncoder_WV,18)"
   ]
  },
  {
   "cell_type": "code",
   "execution_count": 41,
   "metadata": {},
   "outputs": [],
   "source": [
    "#from keras import utils as np_utils\n",
    "#y_trainEC_WV = np_utils.to_categorical(ytrainWV,18)\n",
    "#y_testEC_WV = np_utils.to_categorical( ytestWV,18)"
   ]
  },
  {
   "cell_type": "code",
   "execution_count": 42,
   "metadata": {},
   "outputs": [
    {
     "name": "stdout",
     "output_type": "stream",
     "text": [
      "_________________________________________________________________\n",
      "Layer (type)                 Output Shape              Param #   \n",
      "=================================================================\n",
      "dense_1 (Dense)              (None, 64)                19264     \n",
      "_________________________________________________________________\n",
      "dropout_1 (Dropout)          (None, 64)                0         \n",
      "_________________________________________________________________\n",
      "activation_1 (Activation)    (None, 64)                0         \n",
      "_________________________________________________________________\n",
      "dense_2 (Dense)              (None, 64)                4160      \n",
      "_________________________________________________________________\n",
      "dropout_2 (Dropout)          (None, 64)                0         \n",
      "_________________________________________________________________\n",
      "activation_2 (Activation)    (None, 64)                0         \n",
      "_________________________________________________________________\n",
      "dense_3 (Dense)              (None, 18)                1170      \n",
      "_________________________________________________________________\n",
      "activation_3 (Activation)    (None, 18)                0         \n",
      "=================================================================\n",
      "Total params: 24,594\n",
      "Trainable params: 24,594\n",
      "Non-trainable params: 0\n",
      "_________________________________________________________________\n"
     ]
    }
   ],
   "source": [
    "# build model\n",
    "from keras.models import Sequential\n",
    "from keras.layers import Dense, Dropout, Activation, Conv1D, GlobalMaxPooling1D\n",
    "from keras import metrics\n",
    "\n",
    "modelWV1 = Sequential()\n",
    "modelWV1.add(Dense(64,input_shape=(300,)))\n",
    "modelWV1.add(Dropout(0.2))\n",
    "modelWV1.add(Activation('relu'))\n",
    "modelWV1.add(Dense(64))\n",
    "modelWV1.add(Dropout(0.2))\n",
    "modelWV1.add(Activation('relu'))\n",
    "modelWV1.add(Dense(18))\n",
    "modelWV1.add(Activation('sigmoid'))\n",
    "modelWV1.summary()\n",
    "modelWV1.compile(loss='binary_crossentropy',optimizer='adam',metrics=['acc'])"
   ]
  },
  {
   "cell_type": "code",
   "execution_count": 43,
   "metadata": {},
   "outputs": [
    {
     "name": "stdout",
     "output_type": "stream",
     "text": [
      "Train on 320 samples, validate on 81 samples\n",
      "Epoch 1/10\n",
      "320/320 [==============================] - 5s 14ms/step - loss: 0.5916 - acc: 0.7530 - val_loss: 0.4717 - val_acc: 0.9294\n",
      "Epoch 2/10\n",
      "320/320 [==============================] - 0s 150us/step - loss: 0.4056 - acc: 0.8997 - val_loss: 0.2820 - val_acc: 0.9383\n",
      "Epoch 3/10\n",
      "320/320 [==============================] - 0s 181us/step - loss: 0.2686 - acc: 0.9318 - val_loss: 0.2073 - val_acc: 0.9444\n",
      "Epoch 4/10\n",
      "320/320 [==============================] - 0s 137us/step - loss: 0.2336 - acc: 0.9420 - val_loss: 0.1968 - val_acc: 0.9444\n",
      "Epoch 5/10\n",
      "320/320 [==============================] - 0s 131us/step - loss: 0.2246 - acc: 0.9425 - val_loss: 0.1795 - val_acc: 0.9444\n",
      "Epoch 6/10\n",
      "320/320 [==============================] - 0s 125us/step - loss: 0.2023 - acc: 0.9429 - val_loss: 0.1712 - val_acc: 0.9486\n",
      "Epoch 7/10\n",
      "320/320 [==============================] - 0s 131us/step - loss: 0.1958 - acc: 0.9425 - val_loss: 0.1672 - val_acc: 0.9444\n",
      "Epoch 8/10\n",
      "320/320 [==============================] - 0s 153us/step - loss: 0.1916 - acc: 0.9429 - val_loss: 0.1652 - val_acc: 0.9465\n",
      "Epoch 9/10\n",
      "320/320 [==============================] - 0s 131us/step - loss: 0.1881 - acc: 0.9453 - val_loss: 0.1609 - val_acc: 0.9458\n",
      "Epoch 10/10\n",
      "320/320 [==============================] - 0s 162us/step - loss: 0.1802 - acc: 0.9436 - val_loss: 0.1564 - val_acc: 0.9513\n"
     ]
    },
    {
     "data": {
      "text/plain": [
       "<keras.callbacks.History at 0x1e4ac999908>"
      ]
     },
     "execution_count": 43,
     "metadata": {},
     "output_type": "execute_result"
    }
   ],
   "source": [
    "modelWV1.fit(xtrainWV,y_trainEC_WV,batch_size=32,epochs=10,verbose=1,validation_data=(xtestWV, y_testEC_WV))"
   ]
  },
  {
   "cell_type": "code",
   "execution_count": 44,
   "metadata": {},
   "outputs": [
    {
     "name": "stdout",
     "output_type": "stream",
     "text": [
      "_________________________________________________________________\n",
      "Layer (type)                 Output Shape              Param #   \n",
      "=================================================================\n",
      "dense_4 (Dense)              (None, 512)               154112    \n",
      "_________________________________________________________________\n",
      "dropout_3 (Dropout)          (None, 512)               0         \n",
      "_________________________________________________________________\n",
      "dense_5 (Dense)              (None, 512)               262656    \n",
      "_________________________________________________________________\n",
      "dense_6 (Dense)              (None, 18)                9234      \n",
      "=================================================================\n",
      "Total params: 426,002\n",
      "Trainable params: 426,002\n",
      "Non-trainable params: 0\n",
      "_________________________________________________________________\n"
     ]
    }
   ],
   "source": [
    "from keras import metrics\n",
    "from keras.models import Sequential\n",
    "from keras.layers import Dense, Dropout, Activation, Conv1D, GlobalMaxPooling1D\n",
    "modelWV2 = Sequential()\n",
    "modelWV2.add(Dense(512, activation='relu', input_shape=(300,)))\n",
    "modelWV2.add(Dropout(0.2))\n",
    "modelWV2.add(Dense(512, activation='relu'))\n",
    "#modelWV2.add(Dropout(0.2))\n",
    "modelWV2.add(Dense(18, activation='sigmoid'))\n",
    "modelWV2.summary()\n",
    "modelWV2.compile(loss='binary_crossentropy', optimizer='adam',metrics=['acc',metrics.binary_accuracy])"
   ]
  },
  {
   "cell_type": "code",
   "execution_count": 45,
   "metadata": {},
   "outputs": [
    {
     "name": "stdout",
     "output_type": "stream",
     "text": [
      "Train on 320 samples, validate on 81 samples\n",
      "Epoch 1/10\n",
      "320/320 [==============================] - 0s 1ms/step - loss: 0.4041 - acc: 0.8561 - binary_accuracy: 0.8561 - val_loss: 0.2025 - val_acc: 0.9444 - val_binary_accuracy: 0.9444\n",
      "Epoch 2/10\n",
      "320/320 [==============================] - 0s 171us/step - loss: 0.2103 - acc: 0.9446 - binary_accuracy: 0.9446 - val_loss: 0.1766 - val_acc: 0.9479 - val_binary_accuracy: 0.9479\n",
      "Epoch 3/10\n",
      "320/320 [==============================] - 0s 178us/step - loss: 0.1734 - acc: 0.9450 - binary_accuracy: 0.9450 - val_loss: 0.1589 - val_acc: 0.9465 - val_binary_accuracy: 0.9465\n",
      "Epoch 4/10\n",
      "320/320 [==============================] - 0s 159us/step - loss: 0.1526 - acc: 0.9486 - binary_accuracy: 0.9486 - val_loss: 0.1425 - val_acc: 0.9520 - val_binary_accuracy: 0.9520\n",
      "Epoch 5/10\n",
      "320/320 [==============================] - 0s 178us/step - loss: 0.1364 - acc: 0.9521 - binary_accuracy: 0.9521 - val_loss: 0.1304 - val_acc: 0.9547 - val_binary_accuracy: 0.9547\n",
      "Epoch 6/10\n",
      "320/320 [==============================] - 0s 150us/step - loss: 0.1234 - acc: 0.9552 - binary_accuracy: 0.9552 - val_loss: 0.1179 - val_acc: 0.9547 - val_binary_accuracy: 0.9547\n",
      "Epoch 7/10\n",
      "320/320 [==============================] - 0s 140us/step - loss: 0.1124 - acc: 0.9580 - binary_accuracy: 0.9580 - val_loss: 0.1098 - val_acc: 0.9575 - val_binary_accuracy: 0.9575\n",
      "Epoch 8/10\n",
      "320/320 [==============================] - 0s 156us/step - loss: 0.1061 - acc: 0.9585 - binary_accuracy: 0.9585 - val_loss: 0.1035 - val_acc: 0.9609 - val_binary_accuracy: 0.9609\n",
      "Epoch 9/10\n",
      "320/320 [==============================] - 0s 128us/step - loss: 0.0980 - acc: 0.9634 - binary_accuracy: 0.9634 - val_loss: 0.0941 - val_acc: 0.9630 - val_binary_accuracy: 0.9630\n",
      "Epoch 10/10\n",
      "320/320 [==============================] - 0s 146us/step - loss: 0.0914 - acc: 0.9646 - binary_accuracy: 0.9646 - val_loss: 0.0895 - val_acc: 0.9664 - val_binary_accuracy: 0.9664\n"
     ]
    },
    {
     "data": {
      "text/plain": [
       "<keras.callbacks.History at 0x1e518a61fd0>"
      ]
     },
     "execution_count": 45,
     "metadata": {},
     "output_type": "execute_result"
    }
   ],
   "source": [
    "modelWV2.fit(xtrainWV,y_trainEC_WV,batch_size=32,epochs=10,verbose=1,validation_data=(xtestWV, y_testEC_WV))"
   ]
  },
  {
   "cell_type": "code",
   "execution_count": 46,
   "metadata": {},
   "outputs": [],
   "source": [
    "from sklearn.preprocessing import MinMaxScaler\n",
    "scalerWV = MinMaxScaler()\n",
    "scalerWV.fit(trained_wordvec)\n",
    "X_train_scalerWV = scalerWV.transform(xtrainWV)\n",
    "X_test_scalerWV = scalerWV.transform(xtestWV)"
   ]
  },
  {
   "cell_type": "code",
   "execution_count": 47,
   "metadata": {},
   "outputs": [
    {
     "name": "stdout",
     "output_type": "stream",
     "text": [
      "[[0.65871783 0.4153384  0.139356   ... 0.17672267 0.18855715 0.31287206]\n",
      " [0.61782196 0.3749784  0.15806312 ... 0.16158965 0.20637207 0.24548917]\n",
      " [0.61222119 0.64080811 0.24376759 ... 0.15161288 0.12136043 0.20969347]\n",
      " ...\n",
      " [0.57369761 0.38193335 0.09579273 ... 0.15970339 0.12182939 0.16886045]\n",
      " [0.36307916 0.29185457 0.13343237 ... 0.17988794 0.08178774 0.16475234]\n",
      " [0.95653338 0.8708767  0.43017944 ... 0.1621884  0.27900931 0.26391935]]\n"
     ]
    }
   ],
   "source": [
    "print(X_train_scalerWV)"
   ]
  },
  {
   "cell_type": "code",
   "execution_count": 48,
   "metadata": {},
   "outputs": [
    {
     "name": "stdout",
     "output_type": "stream",
     "text": [
      "_________________________________________________________________\n",
      "Layer (type)                 Output Shape              Param #   \n",
      "=================================================================\n",
      "dense_7 (Dense)              (None, 512)               154112    \n",
      "_________________________________________________________________\n",
      "dropout_4 (Dropout)          (None, 512)               0         \n",
      "_________________________________________________________________\n",
      "dense_8 (Dense)              (None, 512)               262656    \n",
      "_________________________________________________________________\n",
      "dropout_5 (Dropout)          (None, 512)               0         \n",
      "_________________________________________________________________\n",
      "dense_9 (Dense)              (None, 18)                9234      \n",
      "=================================================================\n",
      "Total params: 426,002\n",
      "Trainable params: 426,002\n",
      "Non-trainable params: 0\n",
      "_________________________________________________________________\n"
     ]
    }
   ],
   "source": [
    "from keras import metrics\n",
    "model4 = Sequential()\n",
    "model4.add(Dense(512, activation='relu', input_shape=(300,)))\n",
    "model4.add(Dropout(0.2))\n",
    "model4.add(Dense(512, activation='relu'))\n",
    "model4.add(Dropout(0.2))\n",
    "model4.add(Dense(18, activation='sigmoid'))\n",
    "model4.summary()\n",
    "model4.compile(loss='binary_crossentropy', optimizer='adam',metrics=['acc',metrics.binary_accuracy])"
   ]
  },
  {
   "cell_type": "code",
   "execution_count": 49,
   "metadata": {},
   "outputs": [
    {
     "name": "stdout",
     "output_type": "stream",
     "text": [
      "Train on 320 samples, validate on 81 samples\n",
      "Epoch 1/10\n",
      "320/320 [==============================] - 1s 2ms/step - loss: 0.3446 - acc: 0.8828 - binary_accuracy: 0.8828 - val_loss: 0.2591 - val_acc: 0.9444 - val_binary_accuracy: 0.9444\n",
      "Epoch 2/10\n",
      "320/320 [==============================] - 0s 168us/step - loss: 0.2245 - acc: 0.9443 - binary_accuracy: 0.9443 - val_loss: 0.1894 - val_acc: 0.9424 - val_binary_accuracy: 0.9424\n",
      "Epoch 3/10\n",
      "320/320 [==============================] - 0s 203us/step - loss: 0.1966 - acc: 0.9448 - binary_accuracy: 0.9448 - val_loss: 0.1748 - val_acc: 0.9424 - val_binary_accuracy: 0.9424\n",
      "Epoch 4/10\n",
      "320/320 [==============================] - 0s 159us/step - loss: 0.1816 - acc: 0.9441 - binary_accuracy: 0.9441 - val_loss: 0.1669 - val_acc: 0.9451 - val_binary_accuracy: 0.9451\n",
      "Epoch 5/10\n",
      "320/320 [==============================] - 0s 156us/step - loss: 0.1743 - acc: 0.9458 - binary_accuracy: 0.9458 - val_loss: 0.1614 - val_acc: 0.9472 - val_binary_accuracy: 0.9472\n",
      "Epoch 6/10\n",
      "320/320 [==============================] - 0s 237us/step - loss: 0.1686 - acc: 0.9458 - binary_accuracy: 0.9458 - val_loss: 0.1526 - val_acc: 0.9520 - val_binary_accuracy: 0.9520\n",
      "Epoch 7/10\n",
      "320/320 [==============================] - 0s 249us/step - loss: 0.1603 - acc: 0.9453 - binary_accuracy: 0.9453 - val_loss: 0.1458 - val_acc: 0.9520 - val_binary_accuracy: 0.9520\n",
      "Epoch 8/10\n",
      "320/320 [==============================] - 0s 243us/step - loss: 0.1534 - acc: 0.9472 - binary_accuracy: 0.9472 - val_loss: 0.1434 - val_acc: 0.9540 - val_binary_accuracy: 0.9540\n",
      "Epoch 9/10\n",
      "320/320 [==============================] - 0s 178us/step - loss: 0.1457 - acc: 0.9491 - binary_accuracy: 0.9491 - val_loss: 0.1340 - val_acc: 0.9547 - val_binary_accuracy: 0.9547\n",
      "Epoch 10/10\n",
      "320/320 [==============================] - 0s 156us/step - loss: 0.1376 - acc: 0.9523 - binary_accuracy: 0.9523 - val_loss: 0.1298 - val_acc: 0.9534 - val_binary_accuracy: 0.9534\n"
     ]
    },
    {
     "data": {
      "text/plain": [
       "<keras.callbacks.History at 0x1e518651f28>"
      ]
     },
     "execution_count": 49,
     "metadata": {},
     "output_type": "execute_result"
    }
   ],
   "source": [
    "model4.fit(X_train_scalerWV,y_trainEC_WV,batch_size=32,epochs=10,verbose=1,validation_data=(X_test_scalerWV, y_testEC_WV))"
   ]
  },
  {
   "cell_type": "markdown",
   "metadata": {},
   "source": [
    "## 3.2 Doc2Vec"
   ]
  },
  {
   "cell_type": "code",
   "execution_count": 117,
   "metadata": {},
   "outputs": [],
   "source": [
    "from gensim import utils\n",
    "from gensim.models.doc2vec import LabeledSentence\n",
    "from gensim.models import Doc2Vec\n",
    "from nltk.corpus import stopwords\n",
    "from nltk.tokenize import word_tokenize, sent_tokenize\n",
    "from nltk.stem.wordnet import WordNetLemmatizer\n",
    "import re"
   ]
  },
  {
   "cell_type": "code",
   "execution_count": 121,
   "metadata": {},
   "outputs": [],
   "source": [
    "w = re.compile(\"\\w+\",re.I)"
   ]
  },
  {
   "cell_type": "code",
   "execution_count": 118,
   "metadata": {},
   "outputs": [],
   "source": [
    "def label_sentences(df):\n",
    "    labeled_sentences = []\n",
    "    for index, datapoint in df.iterrows():\n",
    "        tokenized_words = re.findall(w,datapoint['NoiDungTokenize'].lower())\n",
    "        labeled_sentences.append(LabeledSentence(words=tokenized_words, tags=['SENT_%s' %index]))\n",
    "    return labeled_sentences"
   ]
  },
  {
   "cell_type": "code",
   "execution_count": 119,
   "metadata": {},
   "outputs": [],
   "source": [
    "def train_doc2vec_model(labeled_sentences):\n",
    "    model = Doc2Vec(alpha=0.025, min_alpha=0.025)\n",
    "    model.build_vocab(labeled_sentences)\n",
    "    for epoch in range(10):\n",
    "        model.train(labeled_sentences)\n",
    "        model.alpha -= 0.002 \n",
    "        model.min_alpha = model.alpha\n",
    "    \n",
    "    return model"
   ]
  },
  {
   "cell_type": "code",
   "execution_count": 122,
   "metadata": {},
   "outputs": [
    {
     "name": "stderr",
     "output_type": "stream",
     "text": [
      "C:\\Users\\vuong.huynh\\Anaconda3\\lib\\site-packages\\ipykernel_launcher.py:5: DeprecationWarning: Call to deprecated `LabeledSentence` (Class will be removed in 4.0.0, use TaggedDocument instead).\n",
      "  \"\"\"\n"
     ]
    }
   ],
   "source": [
    "sen = label_sentences(DataTrain)"
   ]
  },
  {
   "cell_type": "code",
   "execution_count": 132,
   "metadata": {},
   "outputs": [
    {
     "data": {
      "text/plain": [
       "[LabeledSentence(words=['august', '2000', 'etext', '2273', 'project', 'gutenberg', 'etext', 'tom', 'swift', 'motor', 'boat', 'file', 'named', '02tom10', 'txt', '02tom10', 'zip', 'corrected', 'editions', 'etexts', 'get', 'new', 'number', '02tom11', 'txt', 'versions', 'based', 'separate', 'sources', 'get', 'new', 'letter', '02tom10a', 'txt', 'etext', 'prepared', 'project', 'gutenberg', 'ronald', 'benninghoff', 'proof', 'read', 'erin', 'hartshorn', 'george', 'joseph', 'trying', 'release', 'books', 'one', 'month', 'advance', 'official', 'release', 'dates', 'time', 'better', 'editing', 'please', 'note', 'neither', 'list', 'contents', 'final', 'till', 'midnight', 'last', 'day', 'month', 'announcement', 'official', 'release', 'date', 'project', 'gutenberg', 'etexts', 'midnight', 'central', 'time', 'last', 'day', 'stated', 'month', 'preliminary', 'version', 'may', 'often', 'posted', 'suggestion', 'comment', 'editing', 'wish', 'sure', 'date', 'first', 'edition', 'xxxxx10x', 'xxx', 'please', 'check', 'file', 'sizes', 'first', 'week', 'next', 'month', 'since', 'ftp', 'program', 'bug', 'scrambles', 'date', 'tried', 'fix', 'failed', 'look', 'file', 'size', 'try', 'see', 'new', 'copy', 'least', 'one', 'byte', 'less', 'information', 'project', 'gutenberg', 'one', 'page', 'produce', 'two', 'million', 'dollars', 'hour', 'work', 'fifty', 'hours', 'one', 'conservative', 'estimate', 'long', 'take', 'get', 'etext', 'selected', 'entered', 'proofread', 'edited', 'copyright', 'searched', 'analyzed', 'copyright', 'letters', 'written', 'etc', 'projected', 'audience', 'one', 'hundred', 'million', 'readers', 'value', 'per', 'text', 'nominally', 'estimated', 'one', 'dollar', 'produce', '2', 'million', 'dollars', 'per', 'hour', 'year', 'release', 'thirty', 'two', 'text', 'files', 'per', 'month', '400', 'etexts', '1996', 'total', '800', 'reach', '10', 'computerized', 'population', 'total', 'reach', '80', 'billion', 'etexts', 'goal', 'project', 'gutenberg', 'give', 'away', 'one', 'trillion', 'etext', 'files', 'december', '31', '2001', '10', '000', 'x', '100', '000', '000', 'trillion', 'ten', 'thousand', 'titles', 'one', 'hundred', 'million', 'readers', '10', 'present', 'number', 'computer', 'users', '2001', 'least', 'twice', 'many', 'computer', 'users', 'require', 'us', 'reaching', 'less', '5', 'users', '2001', 'need', 'donations', 'ever', 'donations', 'made', 'project', 'gutenberg', 'cmu', 'tax', 'deductible', 'extent', 'allowable', 'law', 'cmu', 'carnegie', 'mellon', 'university', 'matters', 'please', 'mail', 'to', 'project', 'gutenberg', 'p', 'box', '2782', 'champaign', 'il', '61825', 'email', 'fails', 'try', 'executive', 'director', 'michael', 'hart', 'hartpobox', 'com', 'would', 'prefer', 'send', 'information', 'email', 'internet', 'bitnet', 'compuserve', 'attmail', 'mcimail', 'ftp', 'program', 'or', 'emulator', 'please', 'ftp', 'directly', 'project', 'gutenberg', 'archives', 'mac', 'users', 'point', 'click', 'type', 'ftp', 'uiarchive', 'cso', 'uiuc', 'edu', 'login', 'anonymous', 'password', 'yourlogin', 'cd', 'etext', 'etext90', 'etext96', 'cd', 'etext', 'articles', 'get', 'suggest', 'gut', 'information', 'dir', 'to', 'see', 'files', 'get', 'mget', 'to', 'get', 'files', 'set', 'bin', 'zip', 'files', 'get', 'index', '00', 'gut', 'list', 'books', 'get', 'new', 'gut', 'general', 'information', 'mget', 'gut', 'newsletters', 'information', 'prepared', 'project', 'gutenberg', 'legal', 'advisor', 'three', 'pages', 'startthe', 'small', 'print', 'public', 'domain', 'etextsstart', 'small', 'print', 'statement', 'here', 'know', 'lawyers', 'tell', 'us', 'might', 'sue', 'us', 'something', 'wrong', 'copy', 'etext', 'even', 'got', 'free', 'someone', 'us', 'even', 'wrong', 'fault', 'among', 'things', 'small', 'print', 'statement', 'disclaims', 'liability', 'also', 'tells', 'distribute', 'copies', 'etext', 'want', 'use', 'read', 'etext', 'using', 'reading', 'part', 'project', 'gutenberg', 'tm', 'etext', 'indicate', 'understand', 'agree', 'accept', 'small', 'print', 'statement', 'receive', 'refund', 'money', 'if', 'any', 'paid', 'etext', 'sending', 'request', 'within', '30', 'days', 'receiving', 'person', 'got', 'received', 'etext', 'physical', 'medium', 'such', 'disk', 'must', 'return', 'request', 'project', 'gutenberg', 'tm', 'etexts', 'project', 'gutenberg', 'tm', 'etext', 'like', 'project', 'gutenberg', 'tm', 'etexts', 'public', 'domain', 'work', 'distributed', 'professor', 'michael', 'hart', 'project', 'gutenberg', 'association', 'carnegie', 'mellon', 'university', 'the', 'project', 'among', 'things', 'means', 'one', 'owns', 'united', 'states', 'copyright', 'work', 'project', 'and', 'copy', 'distribute', 'united', 'states', 'without', 'permission', 'without', 'paying', 'copyright', 'royalties', 'special', 'rules', 'set', 'forth', 'apply', 'wish', 'copy', 'distribute', 'etext', 'projects', 'project', 'gutenberg', 'trademark', 'create', 'etexts', 'project', 'expends', 'considerable', 'efforts', 'identify', 'transcribe', 'proofread', 'public', 'domain', 'works', 'despite', 'efforts', 'projects', 'etexts', 'medium', 'may', 'may', 'contain', 'defects', 'among', 'things', 'defects', 'may', 'take', 'form', 'incomplete', 'inaccurate', 'corrupt', 'data', 'transcription', 'errors', 'copyright', 'intellectual', 'property', 'infringement', 'defective', 'damaged', 'disk', 'etext', 'medium', 'computer', 'virus', 'computer', 'codes', 'damage', 'cannot', 'read', 'equipment', 'limited', 'warranty', 'disclaimer', 'damages', 'right', 'replacement', 'refund', 'described', '1', 'project', 'and', 'party', 'may', 'receive', 'etext', 'project', 'gutenberg', 'tm', 'etext', 'disclaims', 'liability', 'damages', 'costs', 'expenses', 'including', 'legal', 'fees', '2', 'remedies', 'negligence', 'strict', 'liability', 'breach', 'warranty', 'contract', 'including', 'limited', 'indirect', 'consequential', 'punitive', 'incidental', 'damages', 'even', 'give', 'notice', 'possibility', 'damages', 'discover', 'defect', 'etext', 'within', '90', 'days', 'receiving', 'receive', 'refund', 'money', 'if', 'any', 'paid', 'sending', 'explanatory', 'note', 'within', 'time', 'person', 'received', 'received', 'physical', 'medium', 'must', 'return', 'note', 'person', 'may', 'choose', 'alternatively', 'give', 'replacement', 'copy', 'received', 'electronically', 'person', 'may', 'choose', 'alternatively', 'give', 'second', 'opportunity', 'receive', 'electronically', 'etext', 'otherwise', 'provided', 'warranties', 'kind', 'express', 'implied', 'made', 'etext', 'medium', 'may', 'including', 'limited', 'warranties', 'merchantability', 'fitness', 'particular', 'purpose', 'states', 'allow', 'disclaimers', 'implied', 'warranties', 'exclusion', 'limitation', 'consequential', 'damages', 'disclaimers', 'exclusions', 'may', 'apply', 'may', 'legal', 'rights', 'indemnity', 'indemnify', 'hold', 'project', 'directors', 'officers', 'members', 'agents', 'harmless', 'liability', 'cost', 'expense', 'including', 'legal', 'fees', 'arise', 'directly', 'indirectly', 'following', 'cause', '1', 'distribution', 'etext', '2', 'alteration', 'modification', 'addition', 'etext', '3', 'defect', 'distribution', 'project', 'gutenberg', 'tm', 'may', 'distribute', 'copies', 'etext', 'electronically', 'disk', 'book', 'medium', 'either', 'delete', 'small', 'print', 'references', 'project', 'gutenberg', 'or', '1', 'give', 'exact', 'copies', 'among', 'things', 'requires', 'remove', 'alter', 'modify', 'etext', 'small', 'print', 'statement', 'may', 'however', 'wish', 'distribute', 'etext', 'machine', 'readable', 'binary', 'compressed', 'mark', 'proprietary', 'form', 'including', 'form', 'resulting', 'conversion', 'word', 'pro', 'processing', 'hypertext', 'software', 'long', 'either', 'etext', 'displayed', 'clearly', 'readable', 'contain', 'characters', 'intended', 'author', 'work', 'although', 'tilde', 'asterisk', 'underline', '_', 'characters', 'may', 'used', 'convey', 'punctuation', 'intended', 'author', 'additional', 'characters', 'may', 'used', 'indicate', 'hypertext', 'links', 'etext', 'may', 'readily', 'converted', 'reader', 'expense', 'plain', 'ascii', 'ebcdic', 'equivalent', 'form', 'program', 'displays', 'etext', 'as', 'case', 'instance', 'word', 'processors', 'provide', 'agree', 'also', 'provide', 'request', 'additional', 'cost', 'fee', 'expense', 'copy', 'etext', 'original', 'plain', 'ascii', 'form', 'or', 'ebcdic', 'equivalent', 'proprietary', 'form', '2', 'honor', 'etext', 'refund', 'replacement', 'provisions', 'small', 'print', 'statement', '3', 'pay', 'trademark', 'license', 'fee', 'project', '20', 'net', 'profits', 'derive', 'calculated', 'using', 'method', 'already', 'use', 'calculate', 'applicable', 'taxes', 'derive', 'profits', 'royalty', 'due', 'royalties', 'payable', 'project', 'gutenberg', 'association', 'carnegie', 'mellon', 'university', 'within', '60', 'days', 'following', 'date', 'prepare', 'or', 'legally', 'required', 'prepare', 'annual', 'or', 'equivalent', 'periodic', 'tax', 'return', 'want', 'send', 'money', 'even', 'to', 'project', 'gratefully', 'accepts', 'contributions', 'money', 'time', 'scanning', 'machines', 'ocr', 'software', 'public', 'domain', 'etexts', 'royalty', 'free', 'copyright', 'licenses', 'every', 'sort', 'contribution', 'think', 'money', 'paid', 'project', 'gutenberg', 'association', 'carnegie', 'mellon', 'university', 'endthe', 'small', 'print', 'public', 'domain', 'etextsver', '04', '29', '93end', 'etext', 'prepared', 'project', 'gutenberg', 'ronald', 'benninghoff', 'proof', 'read', 'erin', 'hartshorn', 'george', 'joseph', 'tom', 'swift', 'motor', 'boat', 'rivals', 'lake', 'carlopa', 'victor', 'appleton', 'contents', 'motor', 'boat', 'auction', 'ii', 'lively', 'bidding', 'iii', 'timely', 'warning', 'iv', 'tom', 'andy', 'clash', 'v', 'test', 'speed', 'vi', 'towing', 'girls', 'vii', 'brush', 'andy', 'viii', 'trip', 'ix', 'mr', 'swift', 'alarmed', 'x', 'cry', 'help', 'xi', 'quick', 'run', 'xii', 'suspicious', 'characters', 'xiii', 'tom', 'danger', 'xiv', 'arrow', 'disappears', 'xv', 'damaging', 'statement', 'xvi', 'still', 'search', 'xvii', 'xviii', 'pursuit', 'xix', 'quiet', 'cruise', 'xx', 'news', 'robbery', 'xxi', 'balloon', 'fire', 'xxii', 'rescue', 'xxiii', 'plans', 'airship', 'xxiv', 'mystery', 'solved', 'xxv', 'winning', 'race', 'chapter', 'motor', 'boat', 'auction', 'going', 'tom', 'asked', 'mr', 'barton', 'swift', 'son', 'young', 'man', 'slowly', 'pushing', 'motor', 'cycle', 'yard', 'toward', 'country', 'road', 'look', 'though', 'object', 'view', 'dad', 'going', 'lanton', 'lanton', 'for', 'want', 'look', 'motor', 'boat', 'boat', 'tom', 'recall', 'speaking', 'boat', 'lanton', 'want', 'look', 'for', 'motor', 'boat', 'fellows', 'tried', 'get', 'away', 'turbine', 'model', 'invention', 'dad', 'one', 'used', 'old', 'general', 'harkness', 'mansion', 'woods', 'near', 'lake', 'boat', 'fellow', 'used', 'got', 'away', 'day', 'chasing', 'oh', 'yes', 'remember', 'boat', 'lanton', 'thats', 'belongs', 'property', 'mr', 'bently', 'hastings', 'thieves', 'stole', 'ran', 'away', 'old', 'mansion', 'time', 'mr', 'damon', 'raided', 'place', 'left', 'boat', 'lake', 'turned', 'county', 'authorities', 'found', 'belonged', 'mr', 'hastings', 'back', 'understand', 'somewhat', 'damaged', 'wants', 'get', 'rid', 'hes', 'going', 'sell', 'auction', 'day', 'thought', 'would', 'go', 'take', 'look', 'see', 'yes', 'see', 'tom', 'exclaimed', 'mr', 'swift', 'laugh', 'see', 'aiming', 'want', 'motor', 'boat', 'going', 'around', 'robin', 'hoods', 'barn', 'get', 'dad', 'oh', 'know', 'tom', 'lad', 'interrupted', 'inventor', 'shaking', 'finger', 'son', 'seemed', 'somewhat', 'confused', 'nice', 'rowing', 'skiff', 'sailboat', 'yet', 'hankering', 'motor', 'boat', 'come', 'you', 'well', 'dad', 'motor', 'boat', 'certainly', 'would', 'go', 'fine', 'lake', 'carlopa', 'theres', 'plenty', 'room', 'speed', 'wonder', 'going', 'see', 'mr', 'hastings', 'boat', 'would', 'sell', 'exactly', 'think', 'buying', 'still', 'would', 'buy', 'damaged', 'boat', 'would', 'you', 'much', 'damaged', 'eagerness', 'young', 'inventor', 'for', 'tom', 'swift', 'taken', 'several', 'patents', 'stood', 'motor', 'cycle', 'fence', 'came', 'closer', 'father', 'slightly', 'damaged', 'went', 'easily', 'fix', 'looked', 'gave', 'charge', 'authorities', 'certainly', 'fine', 'boat', 'worth', 'nine', 'hundred', 'dollars', 'new', 'thats', 'good', 'deal', 'money', 'boat', 'mr', 'swift', 'looked', 'serious', 'though', 'well', 'inclined', 'conservative', 'oh', 'think', 'paying', 'much', 'fact', 'dad', 'really', 'idea', 'bidding', 'auction', 'thought', 'would', 'go', 'get', 'idea', 'boat', 'might', 'sell', 'perhaps', 'day', 'tom', 'paused', 'since', 'father', 'begun', 'question', 'new', 'plans', 'come', 'lads', 'head', 'looked', 'parent', 'saw', 'smile', 'beginning', 'work', 'around', 'corners', 'mr', 'swifts', 'lips', 'also', 'humorous', 'look', 'eyes', 'older', 'inventor', 'understood', 'boys', 'fairly', 'well', 'even', 'one', 'knew', 'tom', 'perfectly', 'would', 'really', 'like', 'make', 'bid', 'boat', 'tom', 'asked', 'would', 'dad', 'well', 'youth', 'finish', 'father', 'knew', 'meant', 'suppose', 'motor', 'boat', 'would', 'nice', 'thing', 'lake', 'carlopa', 'went', 'mr', 'swift', 'musingly', 'could', 'take', 'frequent', 'trips', 'like', 'motor', 'cycle', 'useful', 'one', 'suppose', 'boat', 'go', 'tom', 'hardly', 'know', 'high', 'price', 'believe', 'motor', 'boats', 'new', 'lake', 'persons', 'take', 'chance', 'mr', 'hastings', 'getting', 'another', 'particular', 'insisting', 'high', 'price', 'old', 'one', 'fact', 'damaged', 'help', 'keep', 'price', 'though', 'know', 'easily', 'put', 'good', 'shape', 'would', 'like', 'make', 'bid', 'think', 'right', 'well', 'guess', 'may', 'tom', 'really', 'want', 'money', 'motor', 'boat', 'bad', 'investment', 'think', 'ought', 'limit', 'would', 'consider', 'hundred', 'fifty', 'dollars', 'high', 'mr', 'swift', 'looked', 'tom', 'critically', 'plainly', 'going', 'several', 'matters', 'mind', 'least', 'pluck', 'son', 'shown', 'getting', 'back', 'valuable', 'papers', 'model', 'gang', 'thieves', 'lad', 'certainly', 'entitled', 'reward', 'allow', 'get', 'boat', 'might', 'properly', 'part', 'think', 'could', 'safely', 'go', 'high', 'two', 'hundred', 'dollars', 'tom', 'said', 'mr', 'swift', 'length', 'would', 'limit', 'damaged', 'boat', 'might', 'better', 'pay', 'little', 'get', 'new', 'one', 'however', 'use', 'judgment', 'go', 'two', 'hundred', 'thieves', 'made', 'much', 'trouble', 'stole', 'boat', 'mr', 'hastings', 'eh', 'yes', 'take', 'much', 'care', 'either', 'damaged', 'engine', 'hull', 'good', 'shape', 'ever', 'glad', 'let', 'bid', 'start', 'right', 'auction', 'ten', 'oclock', 'time', 'get', 'careful', 'bid', 'raise', 'figures', 'sometimes', 'seen', 'women', 'men', 'excitement', 'somebody', 'may', 'go', 'head', 'let', 'get', 'boat', 'glad', 'account', 'bring', 'anson', 'morses', 'gang', 'back', 'seen', 'enough', 'dad', 'cried', 'tom', 'trundled', 'motor', 'cycle', 'gate', 'country', 'road', 'led', 'village', 'shopton', 'lived', 'lanton', 'auction', 'held', 'young', 'inventor', 'gone', 'far', 'turned', 'back', 'leaving', 'machine', 'standing', 'side', 'path', 'matter', 'asked', 'father', 'started', 'toward', 'one', 'several', 'machine', 'shops', 'premises', 'shops', 'mr', 'swift', 'son', 'inventive', 'work', 'guess', 'would', 'better', 'get', 'blank', 'check', 'money', 'replied', 'tom', 'entered', 'house', 'need', 'pay', 'deposit', 'secure', 'boat', 'thats', 'well', 'good', 'luck', 'mind', 'busy', 'plan', 'new', 'kind', 'storage', 'battery', 'inventor', 'went', 'workroom', 'tom', 'got', 'cash', 'checkbook', 'small', 'safe', 'owned', 'soon', 'speeding', 'road', 'lanton', 'motor', 'cycle', 'making', 'quite', 'cloud', 'dust', 'thus', 'hurrying', 'along', 'auction', 'tell', 'something', 'tom', 'swift', 'son', 'barton', 'swift', 'lived', 'father', 'motherly', 'housekeeper', 'mrs', 'baggert', 'large', 'house', 'outskirts', 'town', 'shopton', 'new', 'york', 'state', 'mr', 'swift', 'acquired', 'considerable', 'wealth', 'many', 'inventions', 'patents', 'give', 'working', 'ideas', 'simply', 'plenty', 'money', 'tom', 'followed', 'footsteps', 'parent', 'already', 'taken', 'several', 'patents', 'shortly', 'story', 'opens', 'youth', 'become', 'possessed', 'motor', 'cycle', 'peculiar', 'fashion', 'told', 'first', 'volume', 'series', 'entitled', 'tom', 'swift', 'motor', 'cycle', 'tom', 'riding', 'town', 'mansburg', 'errand', 'father', 'one', 'day', 'nearly', 'run', 'motorcyclist', 'little', 'later', 'motorcyclist', 'mr', 'wakefield', 'damon', 'waterfield', 'collided', 'tree', 'near', 'toms', 'home', 'severely', 'cut', 'bruised', 'machine', 'broken', 'tom', 'father', 'cared', 'injured', 'rider', 'mr', 'damon', 'eccentric', 'individual', 'disheartened', 'attempts', 'ride', 'motor', 'cycle', 'sold', 'tom', 'fifty', 'dollars', 'though', 'cost', 'much', 'time', 'tom', 'bought', 'motor', 'cycle', 'firm', 'rascally', 'lawyers', 'smeak', 'katch', 'name', 'conjunction', 'several', 'men', 'made', 'attempt', 'get', 'control', 'invention', 'turbine', 'motor', 'perfected', 'mr', 'swift', 'men', 'ferguson', 'appleson', 'anson', 'morse', 'wilson', 'featherton', 'alias', 'simpson', 'jake', 'burke', 'alias', 'happy', 'harry', 'sometimes', 'disguised', 'tramp', 'tried', 'several', 'times', 'steal', 'model', 'anxiety', 'get', 'due', 'fact', 'invested', 'large', 'sum', 'turbine', 'motor', 'invented', 'another', 'man', 'motor', 'would', 'work', 'sought', 'steal', 'mr', 'swifts', 'tom', 'sent', 'albany', 'motor', 'cycle', 'deliver', 'model', 'valuable', 'papers', 'mr', 'crawford', 'law', 'firm', 'reid', 'crawford', 'washington', 'attorneys', 'mr', 'swift', 'mr', 'crawford', 'errand', 'albany', 'agreed', 'meet', 'tom', 'model', 'way', 'tom', 'attacked', 'gang', 'unscrupulous', 'men', 'model', 'stolen', 'assaulted', 'carried', 'far', 'away', 'automobile', 'attempt', 'capture', 'gang', 'deserted', 'mansion', 'woods', 'shore', 'lake', 'carlopa', 'tom', 'aided', 'mr', 'damon', 'purchased', 'motor', 'cycle', 'men', 'escaped', 'however', 'nothing', 'could', 'done', 'punish', 'tom', 'thinking', 'exciting', 'scenes', 'passed', 'month', 'previous', 'spun', 'along', 'road', 'leading', 'lanton', 'hope', 'meet', 'happy', 'harry', 'gang', 'day', 'mused', 'lad', 'turned', 'little', 'power', 'enable', 'machine', 'mount', 'hill', 'believe', 'attend', 'auction', 'though', 'would', 'risky', 'tom', 'swung', 'along', 'rapid', 'pace', 'heard', 'behind', 'puffing', 'automobile', 'muffler', 'cut', 'turned', 'cast', 'hasty', 'glance', 'behind', 'hope', 'ai', 'andy', 'foger', 'cronies', 'said', 'might', 'try', 'run', 'spite', 'generally', 'rushes', 'along', 'muffler', 'open', 'attract', 'attention', 'make', 'folks', 'think', 'racing', 'car', 'andy', 'however', 'tom', 'saw', 'little', 'later', 'man', 'passed', 'big', 'touring', 'car', 'andy', 'foger', 'readers', 'recollect', 'red', 'haired', 'squinty', 'eyed', 'lad', 'plenty', 'money', 'much', 'else', 'cronies', 'including', 'sam', 'snedecker', 'nearly', 'ran', 'tom', 'one', 'day', 'latter', 'bicycle', 'told', 'first', 'volume', 'series', 'andy', 'tour', 'chums', 'time', 'tom', 'strenuous', 'adventures', 'recently', 'returned', 'get', 'boat', 'mused', 'tom', 'swung', 'back', 'middle', 'road', 'auto', 'passed', 'certainly', 'lots', 'fun', 'make', 'weeks', 'tour', 'lake', 'carlopa', 'take', 'dad', 'ned', 'newton', 'ned', 'toms', 'particular', 'chum', 'young', 'newton', 'employed', 'shopton', 'bank', 'lad', 'much', 'time', 'pleasure', 'lake', 'carlopa', 'large', 'body', 'water', 'would', 'take', 'moderately', 'powered', 'boat', 'several', 'days', 'make', 'complete', 'circuit', 'shore', 'cut', 'bays', 'inlets', 'hour', 'tom', 'lanton', 'neared', 'home', 'mr', 'hastings', 'shore', 'lake', 'saw', 'quite', 'throng', 'going', 'toward', 'boathouse', 'lively', 'bidding', 'thought', 'tom', 'got', 'machine', 'pushed', 'ahead', 'drive', 'toward', 'river', 'hope', 'go', 'two', 'hundred', 'dollars', 'though', 'get', 'way', 'called', 'sudden', 'voice', 'looking', 'back', 'tom', 'saw', 'automobile', 'crept', 'silently', 'behind', 'andy', 'foger', 'sam', 'snedecker', 'get', 'way', 'petulantly', 'demanded', 'red', 'haired', 'lad', 'choose', 'replied', 'tom', 'calmly', 'knowing', 'andy', 'would', 'never', 'dare', 'speed', 'machine', 'slope', 'leading', 'lake', 'go', 'ahead', 'bump', 'young', 'inventor', 'heard', 'sam', 'whisper', 'would', 'better', 'try', 'want', 'get', 'best', 'trouncing', 'ever', 'cried', 'tom', 'hotly', 'hu', 'spose', 'think', 'going', 'bid', 'boat', 'sneered', 'andy', 'law', 'it', 'asked', 'tom', 'hu', 'well', 'get', 'going', 'take', 'boat', 'retorted', 'squint', 'eyed', 'bully', 'dad', 'gave', 'money', 'get', 'right', 'answered', 'tom', 'non', 'committally', 'go', 'ahead', 'free', 'country', 'stood', 'motor', 'cycle', 'tree', 'went', 'toward', 'group', 'persons', 'surrounding', 'auctioneer', 'time', 'arrived', 'start', 'sale', 'tom', 'edged', 'closer', 'brushed', 'man', 'looked', 'sharply', 'lad', 'wondering', 'ever', 'seen', 'individual', 'seemed', 'something', 'strangely', 'familiar', 'man', 'turned', 'quickly', 'away', 'afraid', 'recognized', 'thats', 'odd', 'thought', 'tom', 'time', 'speculation', 'auctioneer', 'mounting', 'soapbox', 'begun', 'address', 'gathering', 'chapter', 'ii', 'lively', 'bidding', 'attention', 'people', 'cried', 'auctioneer', 'give', 'attention', 'minutes', 'proceed', 'business', 'hand', 'know', 'dispose', 'fine', 'motor', 'boat', 'property', 'mr', 'bently', 'hastings', 'reason', 'disposing', 'auction', 'known', 'benefit', 'briefly', 'state', 'boat', 'stolen', 'gang', 'thieves', 'recovered', 'recently', 'efforts', 'young', 'man', 'thomas', 'swift', 'son', 'barton', 'swift', 'fellow', 'townsman', 'shopton', 'moment', 'auctioneer', 'jacob', 'wood', 'caught', 'sight', 'tom', 'press', 'looking', 'directly', 'lad', 'continued', 'understand', 'young', 'mr', 'swift', 'day', 'hope', 'intends', 'bid', 'boat', 'bidding', 'lively', 'tom', 'swift', 'lively', 'young', 'man', 'wish', 'could', 'say', 'men', 'stole', 'boat', 'day', 'auctioneer', 'paused', 'murmurs', 'throng', 'wish', 'uttered', 'tom', 'felt', 'one', 'moving', 'near', 'looking', 'around', 'saw', 'man', 'come', 'contact', 'person', 'seemed', 'desirous', 'getting', 'edge', 'crowd', 'tom', 'felt', 'return', 'vague', 'suspicions', 'looked', 'closely', 'fellow', 'could', 'trace', 'resemblance', 'men', 'daringly', 'stolen', 'fathers', 'model', 'reason', 'wish', 'day', 'went', 'mr', 'wood', 'men', 'slight', 'damage', 'boat', 'day', 'would', 'make', 'pay', 'however', 'damage', 'slight', 'easily', 'repaired', 'mention', 'mr', 'hastings', 'desired', 'proceed', 'bidding', 'say', 'opportunity', 'first', 'given', 'examine', 'boat', 'perhaps', 'tom', 'swift', 'give', 'us', 'opinion', 'state', 'know', 'well', 'qualified', 'talk', 'machinery', 'eyes', 'turned', 'tom', 'many', 'knew', 'humph', 'guess', 'know', 'much', 'boats', 'motors', 'sneered', 'andy', 'foger', 'one', 'crowd', 'auctioneer', 'ask', 'me', 'keep', 'quiet', 'begged', 'sam', 'snedecker', 'people', 'laughing', 'andy', 'care', 'muttered', 'sandy', 'haired', 'youth', 'tom', 'swift', 'need', 'think', 'hes', 'everything', 'come', 'dock', 'went', 'auctioneer', 'see', 'boat', 'would', 'glad', 'young', 'mr', 'swift', 'give', 'us', 'benefit', 'advice', 'throng', 'trooped', 'lake', 'blushing', 'somewhat', 'tom', 'told', 'matter', 'motor', 'could', 'fixed', 'noticed', 'less', 'enthusiasm', 'matter', 'certainly', 'engine', 'rusty', 'order', 'present', 'attractive', 'sight', 'tom', 'noted', 'man', 'acted', 'strangely', 'come', 'dock', 'guess', 'cannot', 'much', 'interested', 'motor', 'decided', 'tom', 'folks', 'proceed', 'auction', 'went', 'mr', 'wood', 'see', 'boat', 'see', 'regular', 'family', 'launch', 'carry', 'twelve', 'persons', 'comfortably', 'canopy', 'fitted', 'person', 'could', 'cruise', 'lake', 'stay', 'night', 'could', 'sleep', 'seat', 'cushions', 'twenty', 'one', 'feet', 'length', 'five', 'half', 'foot', 'beam', 'design', 'known', 'compromise', 'stern', 'motor', 'double', 'cylinder', 'two', 'cycle', 'one', 'ten', 'horsepower', 'float', 'feed', 'carburetor', 'mechanical', 'oiler', 'ignition', 'system', 'jump', 'spark', 'best', 'style', 'motor', 'boat', 'make', 'ten', 'miles', 'hour', 'twelve', 'course', 'lighter', 'load', 'good', 'deal', 'depend', 'way', 'motor', 'managed', 'know', 'mr', 'hastings', 'wishes', 'dispose', 'boat', 'partly', 'wish', 'repair', 'partly', 'newer', 'larger', 'one', 'craft', 'named', 'carlopa', 'way', 'cost', 'originally', 'nine', 'hundred', 'dollars', 'could', 'purchased', 'new', 'day', 'many', 'places', 'thousand', 'offered', 'present', 'condition', 'one', 'make', 'offer', 'give', 'five', 'hundred', 'dollars', 'auctioneer', 'paused', 'looked', 'critically', 'throng', 'several', 'persons', 'smiled', 'tom', 'looked', 'worried', 'idea', 'price', 'would', 'start', 'high', 'well', 'perhaps', 'bit', 'stiff', 'went', 'mr', 'wood', 'shall', 'say', 'four', 'hundred', 'dollars', 'come', 'sure', 'worth', 'four', 'hundred', 'start', 'four', 'hundred', 'one', 'would', 'auctioneer', 'descended', 'three', 'hundred', 'two', 'finally', 'impatient', 'called', 'out', 'well', 'one', 'start', 'fifty', 'dollars', 'instantly', 'several', 'cries', 'thought', 'would', 'went', 'auctioneer', 'get', 'work', 'offered', 'fifty', 'dollars', 'twenty', 'one', 'foot', 'ten', 'horsepower', 'family', 'launch', 'one', 'make', 'sixty', 'sixty', 'called', 'andy', 'foger', 'shrill', 'voice', 'several', 'turned', 'look', 'know', 'going', 'bid', 'thought', 'tom', 'may', 'go', 'hes', 'got', 'plenty', 'money', 'going', 'pay', 'much', 'damaged', 'boat', 'sixty', 'bid', 'sixty', 'sixty', 'cried', 'mr', 'wood', 'sing', 'song', 'tone', 'make', 'seventy', 'sixty', 'five', 'spoke', 'quiet', 'voice', 'toms', 'elbow', 'turned', 'see', 'mysterious', 'man', 'joined', 'crowd', 'edge', 'lake', 'sixty', 'five', 'gentleman', 'white', 'straw', 'hat', 'called', 'mr', 'wood', 'smile', 'wit', 'many', 'men', 'wearing', 'white', 'straw', 'hats', 'day', 'warm', 'one', 'june', 'whos', 'bidding', 'me', 'exclaimed', 'andy', 'law', 'guess', 'find', 'number', 'going', 'ahead', 'young', 'friend', 'remarked', 'auctioneer', 'goodness', 'interrupt', 'except', 'want', 'bid', 'well', 'offered', 'sixty', 'said', 'squint', 'eyed', 'bully', 'crony', 'sam', 'snedecker', 'vainly', 'pulling', 'sleeve', 'know', 'gentleman', 'went', 'want', 'bid', 'offered', 'sixty', 'five', 'sixty', 'five', 'offered', 'boat', 'one', 'make', 'seventy', 'five', 'mr', 'wood', 'looked', 'tom', 'hero', 'thinking', 'time', 'make', 'bid', 'offered', 'seventy', 'seventy', 'tom', 'swift', 'cried', 'auctioneer', 'lad', 'knows', 'motor', 'boat', 'stem', 'stern', 'right', 'words', 'know', 'much', 'boats', 'except', 'told', 'tom', 'swift', 'bids', 'people', 'ought', 'know', 'right', 'bid', 'seventy', 'seventy', 'bid', 'one', 'make', 'eighty', 'eighty', 'exclaimed', 'andy', 'foger', 'whispered', 'conference', 'sam', 'know', 'much', 'boats', 'tom', 'swift', 'make', 'eighty', 'side', 'remarks', 'talking', 'bid', 'young', 'man', 'remarked', 'mr', 'wood', 'eighty', 'bid', 'boat', 'eighty', 'dollars', 'friends', 'cannot', 'understand', 'ought', 'three', 'hundred', 'dollars', 'least', 'thank', 'coming', 'bid', 'eighty', 'ninety', 'exclaimed', 'quiet', 'man', 'toms', 'elbow', 'continually', 'fingering', 'upper', 'lip', 'though', 'mustache', 'face', 'clean', 'shaven', 'looked', 'around', 'nervously', 'spoke', 'ninety', 'called', 'auctioneer', 'ninety', 'five', 'returned', 'tom', 'andy', 'foger', 'scowled', 'young', 'inventor', 'smiled', 'evident', 'bully', 'relish', 'bid', 'crony', 'whispered', 'together', 'one', 'hundred', 'called', 'andy', 'one', 'would', 'dare', 'go', 'offered', 'even', 'hundred', 'resumed', 'mr', 'wood', 'certainly', 'coming', 'hundred', 'bid', 'hundred', 'hundred', 'hundred', 'five', 'said', 'strange', 'man', 'hastily', 'seemed', 'choke', 'uttered', 'words', 'oh', 'come', 'now', 'ought', 'least', 'ten', 'dollar', 'bids', 'suggested', 'mr', 'wood', 'wo', 'make', 'hundred', 'ten', 'auctioneer', 'looked', 'directly', 'man', 'seemed', 'shrink', 'back', 'crowd', 'shook', 'head', 'cast', 'sort', 'despairing', 'look', 'boat', 'hurried', 'away', 'thats', 'queer', 'murmured', 'tom', 'guess', 'limit', 'yet', 'wanted', 'boat', 'badly', 'high', 'price', 'whos', 'going', 'ahead', 'me', 'demanded', 'andy', 'loud', 'tones', 'keep', 'quiet', 'urged', 'sam', 'may', 'get', 'yet', 'yes', 'make', 'many', 'remarks', 'counseled', 'auctioneer', 'bid', 'hundred', 'five', 'one', 'make', 'hundred', 'twenty', 'five', 'tom', 'wondered', 'man', 'bad', 'remained', 'see', 'bid', 'accepted', 'one', 'raised', 'hurried', 'look', 'back', 'tom', 'took', 'sudden', 'resolve', 'hundred', 'twenty', 'five', 'called', 'thats', 'like', 'hear', 'exclaimed', 'mr', 'wood', 'business', 'hundred', 'twenty', 'five', 'tom', 'swift', 'one', 'offer', 'fifty', 'andy', 'sam', 'seemed', 'dispute', 'lets', 'make', 'quit', 'right', 'suggested', 'andy', 'hoarse', 'whisper', 'cannot', 'declared', 'sam', 'yes', 'go', 'limit', 'right', 'one', 'go', 'maybe', 'tom', 'sams', 'retort', 'believe', 'afford', 'andy', 'came', 'back', 'going', 'call', 'bluffs', 'believe', 'hes', 'bidding', 'make', 'others', 'think', 'wants', 'believe', 'buy', 'tom', 'heard', 'said', 'reply', 'auctioneer', 'calling', 'monotonously', 'bid', 'hundred', 'twenty', 'five', 'twenty', 'five', 'one', 'make', 'fifty', 'hundred', 'fifty', 'sang', 'andy', 'eyes', 'directed', 'toward', 'sixty', 'said', 'tom', 'quietly', 'began', 'red', 'haired', 'lad', 'exclaimed', 'auctioneer', 'sternly', 'offered', 'hundred', 'sixty', 'give', 'advance', 'want', 'get', 'boat', 'two', 'hundred', 'real', 'bidding', 'begin', 'toms', 'heart', 'sank', 'hoped', 'would', 'time', 'two', 'hundred', 'dollar', 'offer', 'would', 'heard', 'andy', 'foger', 'almost', 'speechless', 'rage', 'shook', 'restraining', 'arm', 'sam', 'worming', 'way', 'front', 'throng', 'exclaimed', 'give', 'hundred', 'seventy', 'five', 'dollars', 'boat', 'good', 'cried', 'auctioneer', 'thats', 'way', 'talk', 'offered', 'hundred', 'seventy', 'five', 'eighty', 'said', 'tom', 'quietly', 'though', 'heart', 'beating', 'fast', 'well', 'began', 'andy', 'sam', 'snedecker', 'dragged', 'back', 'got', 'money', 'said', 'bullys', 'crony', 'better', 'stop', 'going', 'home', 'declared', 'andy', 'must', 'boat', 'sold', 'get', 'back', 'said', 'sam', 'got', 'money', 'lend', 'me', 'inquired', 'squint', 'eyed', 'one', 'scowling', 'toms', 'direction', 'bit', 'one', 'raised', 'toms', 'bid', 'moment', 'man', 'crowd', 'offered', 'hundred', 'eighty', 'one', 'dollars', 'small', 'amounts', 'thankfully', 'received', 'said', 'mr', 'wood', 'laugh', 'bidding', 'became', 'lively', 'number', 'making', 'one', 'dollar', 'advances', 'price', 'got', 'one', 'hundred', 'ninety', 'five', 'dollars', 'hung', 'several', 'minutes', 'despite', 'eloquence', 'mr', 'wood', 'tried', 'persuasive', 'powers', 'get', 'substantial', 'advance', 'every', 'one', 'seemed', 'afraid', 'bid', 'young', 'inventor', 'quandary', 'could', 'offer', 'five', 'dollars', 'bid', 'lump', 'one', 'might', 'go', 'two', 'hundred', 'five', 'would', 'get', 'boat', 'wished', 'secured', 'permission', 'father', 'go', 'higher', 'yet', 'knew', 'fair', 'proposition', 'two', 'hundred', 'dollars', 'motor', 'boat', 'present', 'condition', 'worth', 'least', 'made', 'sudden', 'resolve', 'thought', 'might', 'well', 'suspense', 'two', 'hundred', 'dollars', 'called', 'boldly', 'offered', 'two', 'hundred', 'repeated', 'mr', 'wood', 'something', 'like', 'raise', 'that', 'moment', 'silence', 'auctioneer', 'swung', 'enthusiastic', 'description', 'boat', 'begged', 'advance', 'none', 'made', 'though', 'toms', 'heart', 'seemed', 'throat', 'afraid', 'would', 'get', 'carlopa', 'two', 'hundred', 'two', 'hundred', 'droned', 'mr', 'wood', 'offered', 'two', 'hundred', 'go', 'higher', 'paused', 'moment', 'toms', 'heart', 'beat', 'harder', 'ever', 'resumed', 'speaker', 'declare', 'bidding', 'closed', 'done', 'twice', 'three', 'times', 'two', 'hundred', 'dollars', 'going', 'going', 'gone', 'clapped', 'hands', 'boat', 'sold', 'thomas', 'swift', 'two', 'hundred', 'dollars', 'step', 'take', 'money', 'laugh', 'tom', 'blushingly', 'advanced', 'passed', 'andy', 'foger', 'worked', 'way', 'near', 'got', 'boat', 'sneered', 'bully', 'spose', 'think', 'got', 'ahead', 'keep', 'quiet', 'begged', 'sam', 'wo', 'exclaimed', 'andy', 'outbid', 'spite', 'get', 'even', 'see', 'tom', 'looked', 'andy', 'foger', 'straight', 'eyes', 'answer', 'red', 'haired', 'youth', 'turned', 'aside', 'followed', 'crony', 'started', 'toward', 'automobile', 'congratulate', 'bargain', 'said', 'mr', 'wood', 'tom', 'proceeded', 'make', 'check', 'gave', 'little', 'thought', 'threat', 'andy', 'foger', 'made', 'time', 'coming', 'remember', 'well', 'chapter', 'iii', 'timely', 'warning', 'well', 'satisfied', 'bargain', 'tom', 'asked', 'mr', 'wood', 'formalities', 'transferring', 'ownership', 'motor', 'boat', 'completed', 'oh', 'yes', 'calculated', 'pay', 'glad', 'satisfied', 'mr', 'hastings', 'told', 'sure', 'purchaser', 'satisfied', 'comes', 'guess', 'auction', 'elderly', 'gentleman', 'approaching', 'mr', 'wood', 'tom', 'throng', 'dispersing', 'young', 'inventor', 'noticed', 'andy', 'foger', 'sam', 'snedecker', 'stood', 'one', 'side', 'regarding', 'closely', 'got', 'boat', 'remarked', 'former', 'owner', 'craft', 'hope', 'able', 'fix', 'oh', 'think', 'shall', 'answered', 'new', 'owner', 'carlopa', 'cannot', 'father', 'help', 'yes', 'advantage', 'going', 'keep', 'name', 'mr', 'hastings', 'seemed', 'quite', 'interested', 'answer', 'lad', 'would', 'make', 'think', 'replied', 'tom', 'good', 'name', 'want', 'something', 'tells', 'fast', 'boat', 'going', 'make', 'changes', 'increase', 'speed', 'thats', 'good', 'idea', 'call', 'swift', 'folks', 'would', 'say', 'stuck', 'retorted', 'youth', 'quickly', 'think', 'shall', 'call', 'arrow', 'thats', 'good', 'short', 'name', 'certainly', 'speedy', 'interrupted', 'mr', 'hastings', 'well', 'since', 'going', 'use', 'name', 'carlopa', 'would', 'mind', 'took', 'new', 'boat', 'fancy', 'least', 'said', 'tom', 'want', 'letters', 'side', 'bow', 'put', 'new', 'craft', 'kind', 'offer', 'since', 'need', 'glad', 'take', 'come', 'boat', 'invited', 'tom', 'using', 'word', 'proper', 'pride', 'take', 'brass', 'letters', 'screw', 'driver', 'motor', 'cycle', 'tool', 'bag', 'former', 'present', 'owners', 'arrow', 'which', 'name', 'shall', 'hereafter', 'designate', 'toms', 'motor', 'boat', 'walked', 'toward', 'dock', 'moored', 'young', 'inventor', 'gave', 'startled', 'cry', 'matter', 'asked', 'mr', 'hastings', 'man', 'see', 'motor', 'boat', 'cried', 'tom', 'pointed', 'craft', 'lake', 'man', 'cockpit', 'seemed', 'something', 'forward', 'bulkhead', 'closed', 'compartment', 'holding', 'gasoline', 'tank', 'he', 'asked', 'mr', 'hastings', 'tom', 'started', 'run', 'toward', 'boat', 'know', 'man', 'bid', 'boat', 'auction', 'go', 'high', 'enough', 'answered', 'lad', 'neared', 'craft', 'man', 'sprang', 'ran', 'along', 'lakeshore', 'short', 'distance', 'disappeared', 'amid', 'bushes', 'bordered', 'estate', 'mr', 'hastings', 'tom', 'hurriedly', 'entered', 'arrow', 'damage', 'asked', 'mr', 'hastings', 'guess', 'time', 'responded', 'tom', 'tampering', 'lock', 'door', 'forward', 'compartment', 'there', 'nothing', 'gasoline', 'tank', 'keep', 'bulkhead', 'sliding', 'door', 'locked', 'general', 'principles', 'cannot', 'imagine', 'fellow', 'would', 'want', 'open', 'theres', 'nothing', 'value', 'perhaps', 'right', 'head', 'tramp', 'well', 'dressed', 'seemed', 'nervous', 'auction', 'disappointed', 'secured', 'boat', 'yet', 'could', 'want', 'compartment', 'key', 'lock', 'mr', 'hastings', 'yes', 'belongs', 'mr', 'swift', 'former', 'owner', 'handed', 'tom', 'quickly', 'unlocked', 'compartment', 'slid', 'back', 'door', 'peered', 'within', 'saw', 'big', 'galvanized', 'tank', 'nothing', 'could', 'want', 'commented', 'former', 'owner', 'craft', 'agreed', 'tom', 'low', 'voice', 'see', 'wanted', 'open', 'door', 'time', 'come', 'far', 'tom', 'discover', 'quite', 'mystery', 'connected', 'forward', 'compartment', 'boat', 'solution', 'fated', 'bring', 'little', 'danger', 'certainly', 'odd', 'went', 'mr', 'hastings', 'tom', 'secured', 'screw', 'driver', 'motor', 'cycle', 'tool', 'bag', 'aided', 'lad', 'removing', 'letters', 'bow', 'boat', 'sure', 'know', 'man', 'never', 'saw', 'first', 'thought', 'voice', 'sounded', 'like', 'one', 'members', 'happy', 'harry', 'gang', 'looked', 'squarely', 'could', 'see', 'bit', 'resemblance', 'besides', 'gang', 'would', 'venture', 'neighborhood', 'imagine', 'perhaps', 'curious', 'meddlesome', 'person', 'frequently', 'bothered', 'individuals', 'want', 'see', 'working', 'parts', 'automobile', 'motor', 'boat', 'care', 'damage', 'investigating', 'tom', 'reply', 'pretty', 'certain', 'man', 'question', 'object', 'mere', 'curiosity', 'tampering', 'boat', 'however', 'could', 'discover', 'solution', 'proceeded', 'work', 'taking', 'letters', 'going', 'boat', 'it', 'asked', 'mr', 'hastings', 'run', 'dock', 'condition', 'now', 'shall', 'go', 'back', 'home', 'get', 'tools', 'fix', 'motor', 'take', 'half', 'day', 'least', 'come', 'back', 'afternoon', 'boat', 'house', 'night', 'may', 'leave', 'dock', 'certainly', 'long', 'like', 'young', 'inventor', 'many', 'things', 'think', 'rode', 'toward', 'home', 'though', 'somewhat', 'puzzled', 'actions', 'stranger', 'forgot', 'anticipating', 'pleasure', 'would', 'motor', 'boat', 'running', 'order', 'take', 'dad', 'cruise', 'lake', 'decided', 'needs', 'rest', 'hes', 'working', 'hard', 'worrying', 'theft', 'turbine', 'motor', 'model', 'take', 'ned', 'newton', 'rides', 'bring', 'camera', 'along', 'get', 'lot', 'pictures', 'oh', 'jolly', 'sport', 'summer', 'tom', 'riding', 'swiftly', 'along', 'quiet', 'country', 'road', 'approaching', 'steep', 'hill', 'could', 'see', 'close', 'owing', 'sharp', 'turn', 'swing', 'around', 'coast', 'swiftly', 'steep', 'declivity', 'startled', 'hearing', 'voice', 'calling', 'bushes', 'side', 'road', 'hold', 'dar', 'hold', 'mistah', 'swift', 'cried', 'colored', 'man', 'suddenly', 'popping', 'view', 'doa', 'go', 'dat', 'hill', 'eradicate', 'sampson', 'exclaimed', 'tom', 'quickly', 'shutting', 'power', 'applying', 'brakes', 'matter', 'rad', 'go', 'hill', 'becase', 'mistah', 'swift', 'deres', 'powful', 'monstrous', 'tree', 'trunk', 'right', 'across', 'de', 'road', 'place', 'whar', 'yo', 'cai', 'see', 'till', 'yo', 'gits', 'right', 'top', 'ob', 'ef', 'yo', 'done', 'hit', 'dat', 'ar', 'tree', 'yo', 'lickity', 'split', 'machine', 'yo', 'suah', 'would', 'land', 'kingdom', 'come', 'doa', 'go', 'dat', 'hill', 'tom', 'leaped', 'machine', 'approached', 'colored', 'man', 'eradicate', 'sampson', 'odd', 'jobs', 'neighborhood', 'shopton', 'tom', 'done', 'favors', 'repairing', 'lawn', 'mower', 'wood', 'sawing', 'machine', 'turn', 'eradicate', 'given', 'tom', 'valuable', 'clue', 'hiding', 'place', 'model', 'thieves', 'would', 'log', 'get', 'across', 'road', 'rad', 'asked', 'tom', 'dunno', 'mistah', 'swift', 'see', 'come', 'along', 'wid', 'mah', 'mule', 'boomerang', 'tried', 'git', 'outer', 'de', 'way', 'could', 'den', 'left', 'boomerang', 'mah', 'wagon', 'de', 'foot', 'ob', 'de', 'hill', 'come', 'heah', 'git', 'long', 'pole', 'pry', 'de', 'log', 'outer', 'de', 'way', 'tink', 'nobody', 'would', 'come', 'along', 'case', 'dis', 'road', 'ai', 'much', 'trabeled', 'took', 'short', 'cut', 'said', 'lad', 'come', 'lets', 'take', 'look', 'log', 'leaving', 'machine', 'top', 'slope', 'young', 'inventor', 'accompanied', 'colored', 'man', 'would', 'hill', 'foot', 'well', 'hidden', 'sight', 'one', 'might', 'come', 'riding', 'big', 'log', 'way', 'across', 'road', 'never', 'fell', 'exclaimed', 'tom', 'excitement', 'never', 'rolled', 'load', 'logs', 'even', 'one', 'along', 'log', 'put', 'yo', 'tink', 'dat', 'mistah', 'swift', 'asked', 'eradicate', 'eyes', 'getting', 'big', 'certainly', 'warned', 'might', 'killed', 'oh', 'heard', 'yo', 'lickity', 'split', 'machine', 'chug', 'chuggin', 'along', 'de', 'bushes', 'lookin', 'pryin', 'pole', 'hurried', 'warn', 'yo', 'knowed', 'could', 'leave', 'boomerang', 'safe', 'case', 'hes', 'asleep', 'glad', 'warn', 'went', 'youth', 'solemnly', 'went', 'closer', 'log', 'uttered', 'exclamation', 'dragged', 'automobile', 'cried', 'done', 'purpose', 'injure', 'one', 'come', 'rad', 'lets', 'see', 'cannot', 'find', 'something', 'ground', 'caught', 'toms', 'eye', 'stooped', 'picked', 'nickle', 'plated', 'wrench', 'may', 'come', 'handy', 'evidence', 'murmured', 'chapter', 'iv', 'tom', 'andy', 'clash', 'even', 'casual', 'observer', 'could', 'told', 'auto', 'part', 'dragging', 'log', 'place', 'blockaded', 'road', 'dust', 'many', 'marks', 'big', 'rubber', 'tires', 'even', 'imprint', 'rope', 'used', 'tow', 'tree', 'trunk', 'fo', 'yo', 'tink', 'one', 'put', 'dat', 'log', 'dere', 'asked', 'colored', 'man', 'followed', 'tom', 'boomerang', 'mule', 'called', 'eradicate', 'said', 'never', 'could', 'tell', 'going', 'opened', 'eyes', 'lazily', 'closed', 'know', 'rad', 'unless', 'wanted', 'wreck', 'automobile', 'wagon', 'maybe', 'tramps', 'spite', 'maybe', 'one', 'done', 'make', 'yo', 'hab', 'trouble', 'mistah', 'swift', 'hardly', 'think', 'know', 'one', 'would', 'want', 'make', 'trouble', 'would', 'know', 'coming', 'way', 'tom', 'suddenly', 'checked', 'memory', 'scene', 'auction', 'came', 'back', 'recalled', 'andy', 'foger', 'said', 'getting', 'even', 'way', 'dat', 'auto', 'go', 'resumed', 'eradicate', 'came', 'road', 'answered', 'tom', 'completing', 'sentence', 'left', 'unfinished', 'dragged', 'log', 'foot', 'hill', 'left', 'auto', 'went', 'way', 'comparatively', 'easy', 'lad', 'sharp', 'observation', 'tom', 'trace', 'movements', 'vehicle', 'den', 'heah', 'maybe', 'cotch', 'em', 'suggested', 'colored', 'man', 'young', 'inventor', 'answer', 'hurrying', 'along', 'eyes', 'telltale', 'marks', 'proceeded', 'distance', 'place', 'log', 'uttered', 'cry', 'moment', 'hurried', 'road', 'toward', 'thick', 'clump', 'bushes', 'ditch', 'alongside', 'highway', 'reaching', 'parted', 'leaves', 'called', 'heres', 'auto', 'rad', 'colored', 'man', 'ran', 'eyes', 'wider', 'open', 'ever', 'hidden', 'amid', 'bushes', 'large', 'touring', 'car', 'whose', 'dat', 'asked', 'eradicate', 'tom', 'answer', 'penetrated', 'underbrush', 'noting', 'broken', 'branches', 'bent', 'upright', 'forced', 'entrance', 'car', 'better', 'hide', 'young', 'inventor', 'seeking', 'clew', 'discover', 'owner', 'machine', 'end', 'climbed', 'tonneau', 'looking', 'one', 'burst', 'screen', 'bushes', 'voice', 'cried', 'get', 'car', 'oh', 'car', 'andy', 'foger', 'asked', 'tom', 'calmly', 'recognized', 'squint', 'eyed', 'rival', 'beginning', 'think', 'allow', 'return', 'wrench', 'held', 'one', 'picked', 'near', 'log', 'next', 'time', 'drag', 'trees', 'across', 'road', 'went', 'lad', 'tonneau', 'facing', 'angry', 'dismayed', 'andy', 'would', 'advise', 'post', 'notice', 'top', 'hill', 'persons', 'riding', 'injured', 'notice', 'road', 'hill', 'logs', 'stammered', 'andy', 'turning', 'red', 'freckles', 'thats', 'said', 'replied', 'tom', 'coolly', 'anything', 'putting', 'log', 'across', 'road', 'mumbled', 'bully', 'toward', 'creek', 'you', 'asked', 'tom', 'peculiar', 'smile', 'thought', 'might', 'looking', 'wrench', 'dropped', 'near', 'log', 'careful', 'sam', 'snedecker', 'whos', 'hiding', 'outside', 'bushes', 'went', 'hero', 'caught', 'sight', 'form', 'andys', 'crony', 'told', 'exclaimed', 'sam', 'came', 'hiding', 'place', 'shut', 'exclaimed', 'andy', 'desperately', 'oh', 'think', 'know', 'secret', 'continued', 'young', 'inventor', 'wanted', 'get', 'even', 'outbidding', 'motor', 'boat', 'watched', 'road', 'took', 'auto', 'came', 'shorter', 'way', 'ahead', 'hauled', 'log', 'across', 'foot', 'hill', 'hoping', 'suppose', 'machine', 'would', 'broken', 'let', 'tell', 'risky', 'trick', 'might', 'killed', 'would', 'whoever', 'else', 'happened', 'drive', 'slope', 'log', 'whether', 'wagon', 'automobile', 'fortunately', 'eradicate', 'discovered', 'time', 'warned', 'ought', 'arrested', 'worth', 'good', 'thrashing', 'sneaks', 'deserve', 'got', 'evidence', 'us', 'sneered', 'andy', 'confidently', 'old', 'bravado', 'coming', 'back', 'want', 'replied', 'tom', 'need', 'worry', 'going', 'tell', 'police', 'got', 'one', 'thing', 'make', 'sorry', 'ever', 'tried', 'trick', 'eradicate', 'help', 'think', 'going', 'escape', 'get', 'automobile', 'demanded', 'andy', 'arrested', 'get', 'ready', 'account', 'threats', 'retorted', 'mr', 'swifts', 'son', 'heres', 'wrench', 'want', 'sam', 'start', 'machine', 'haul', 'log', 'way', 'spose', 'wo', 'it', 'snapped', 'andy', 'cause', 'arrest', 'besides', 'thrashing', 'bargain', 'take', 'choice', 'removing', 'log', 'travelers', 'pass', 'good', 'hiding', 'sam', 'eradicate', 'take', 'sam', 'tackle', 'andy', 'dare', 'touch', 'cried', 'bully', 'whine', 'tones', 'let', 'alone', 'tell', 'father', 'added', 'sam', 'nothin', 'anyhow', 'told', 'andy', 'would', 'make', 'trouble', 'made', 'help', 'say', 'matter', 'you', 'demanded', 'andy', 'indignantly', 'crony', 'want', 'wish', 'would', 'never', 'come', 'went', 'sam', 'beginning', 'frightened', 'come', 'start', 'machine', 'haul', 'log', 'way', 'demanded', 'tom', 'wo', 'retorted', 'red', 'haired', 'lad', 'impudently', 'yes', 'insisted', 'hero', 'took', 'step', 'toward', 'bully', 'clump', 'bushes', 'roadside', 'ditch', 'let', 'alone', 'almost', 'screamed', 'andy', 'baffled', 'rage', 'rushed', 'tom', 'aiming', 'blow', 'young', 'inventor', 'quickly', 'stepped', 'one', 'side', 'bully', 'passed', 'tom', 'sent', 'neat', 'left', 'hander', 'andy', 'foger', 'went', 'heap', 'grass', 'chapter', 'v', 'test', 'speed', 'whether', 'tom', 'andy', 'surprised', 'happening', 'would', 'hard', 'say', 'former', 'meant', 'hit', 'hard', 'certainly', 'intend', 'knock', 'squint', 'eyed', 'youth', 'latters', 'fall', 'due', 'much', 'anything', 'senseless', 'rushing', 'tactics', 'fact', 'slipped', 'green', 'grass', 'bully', 'moment', 'however', 'knew', 'better', 'try', 'conclusions', 'tom', 'instead', 'stood', 'reach', 'spluttered', 'wait', 'tom', 'swift', 'wait', 'well', 'waiting', 'responded', 'calmly', 'get', 'even', 'went', 'andy', 'think', 'smart', 'got', 'ahead', 'get', 'square', 'look', 'burst', 'young', 'inventor', 'determinedly', 'taking', 'step', 'toward', 'antagonist', 'andy', 'quickly', 'retreated', 'want', 'talk', 'andy', 'foger', 'thats', 'twice', 'made', 'threats', 'day', 'put', 'log', 'across', 'road', 'try', 'anything', 'like', 'second', 'attempt', 'make', 'wish', 'applies', 'sam', 'added', 'glancing', 'lad', 'ai', 'gone', 'nothin', 'declared', 'sam', 'told', 'andy', 'put', 'tree', 'keep', 'still', 'cannot', 'shouted', 'bully', 'come', 'get', 'even', 'thats', 'muttered', 'went', 'back', 'bushes', 'auto', 'andy', 'cranked', 'crony', 'getting', 'car', 'start', 'hold', 'cried', 'tom', 'take', 'log', 'across', 'road', 'arrested', 'obstructing', 'traffic', 'thats', 'serious', 'offense', 'goin', 'take', 'away', 'growled', 'andy', 'give', 'fellow', 'show', 'cannot', 'you', 'cast', 'ugly', 'look', 'tom', 'latter', 'smiled', 'easy', 'task', 'sam', 'andy', 'pull', 'log', 'way', 'could', 'hardly', 'lift', 'slip', 'rope', 'finally', 'managed', 'power', 'car', 'hauled', 'one', 'side', 'speed', 'clar', 'gracious', 'dem', 'young', 'fellers', 'mean', 'contrary', 'mah', 'mule', 'boomerang', 'sometimes', 'observed', 'eradicate', 'boomerang', 'ai', 'quite', 'mean', 'dat', 'hope', 'rad', 'observed', 'tom', 'ever', 'much', 'obliged', 'warning', 'guess', 'getting', 'home', 'come', 'around', 'next', 'week', 'work', 'would', 'eed', 'replied', 'colored', 'man', 'come', 'around', 'eradicate', 'de', 'dirt', 'yo', 'place', 'mistah', 'swift', 'yais', 'sah', 'eradicate', 'name', 'dats', 'perfession', 'eradicatin', 'dirt', 'much', 'obleeged', 'call', 'around', 'giddap', 'boomerang', 'mule', 'lazily', 'flicked', 'ears', 'stir', 'tom', 'knowing', 'process', 'arousing', 'animal', 'would', 'take', 'time', 'hurried', 'hill', 'left', 'motor', 'cycle', 'eradicate', 'still', 'engaged', 'task', 'trying', 'arouse', 'steed', 'sense', 'duty', 'young', 'inventor', 'flashed', 'way', 'home', 'broken', 'motor', 'boat', 'observed', 'mr', 'swift', 'tom', 'related', 'circumstances', 'auction', 'well', 'going', 'it', 'fix', 'first', 'replied', 'son', 'needs', 'considerable', 'tinkering', 'nothing', 'help', 'course', 'think', 'get', 'speed', 'it', 'well', 'anxious', 'speed', 'wart', 'good', 'comfortable', 'boat', 'arrow', 'named', 'see', 'going', 'back', 'lanton', 'afternoon', 'take', 'tools', 'along', 'repair', 'run', 'boat', 'get', 'fix', 'got', 'plan', 'dad', 'it', 'asked', 'inventor', 'rather', 'tired', 'face', 'lighting', 'interest', 'going', 'take', 'vacation', 'trip', 'vacation', 'trip', 'yes', 'need', 'rest', 'working', 'hard', 'gyroscope', 'invention', 'yes', 'tom', 'think', 'admitted', 'mr', 'swift', 'much', 'interested', 'think', 'get', 'work', 'make', 'great', 'difference', 'control', 'aeroplanes', 'make', 'stable', 'able', 'fly', 'almost', 'wind', 'certainly', 'puzzled', 'brains', 'features', 'however', 'quite', 'see', 'mean', 'need', 'rest', 'dad', 'said', 'mr', 'swifts', 'son', 'kindly', 'want', 'forget', 'patents', 'invention', 'machinery', 'even', 'gyroscope', 'week', 'two', 'get', 'motor', 'boat', 'shape', 'going', 'take', 'ned', 'newton', 'lake', 'cruise', 'camp', 'could', 'sleep', 'boat', 'going', 'put', 'canopy', 'arrange', 'bunks', 'good', 'perhaps', 'new', 'ideas', 'gyroscope', 'may', 'come', 'rest', 'perhaps', 'tom', 'certainly', 'tired', 'enough', 'need', 'vacation', 'kind', 'think', 'connection', 'boat', 'going', 'get', 'afternoon', 'would', 'better', 'start', 'expect', 'get', 'back', 'night', 'think', 'mrs', 'baggert', 'dinner', 'ready', 'meal', 'tom', 'selected', 'number', 'tools', 'particular', 'machine', 'shop', 'carried', 'dock', 'lake', 'two', 'small', 'boats', 'tied', 'going', 'back', 'motor', 'cycle', 'asked', 'father', 'dad', 'going', 'row', 'lanton', 'get', 'arrow', 'fixed', 'tow', 'rowboat', 'back', 'well', 'wo', 'danger', 'andy', 'foger', 'must', 'speak', 'father', 'dad', 'exclaimed', 'young', 'inventor', 'quickly', 'fight', 'battles', 'andy', 'fancy', 'bother', 'right', 'away', 'tom', 'found', 'task', 'anticipated', 'get', 'motor', 'shape', 'run', 'arrow', 'back', 'power', 'magneto', 'order', 'batteries', 'needed', 'renewing', 'spark', 'coil', 'short', 'circuited', 'took', 'considerable', 'time', 'adjust', 'using', 'new', 'dry', 'cells', 'mr', 'hastings', 'gave', 'cutting', 'magneto', 'small', 'dynamo', 'produces', 'spark', 'exploded', 'gasoline', 'cylinders', 'tom', 'soon', 'fine', 'fat', 'hot', 'spark', 'auxiliary', 'ignition', 'system', 'adjusting', 'timer', 'throttle', 'engine', 'seeing', 'gasoline', 'tank', 'filled', 'lad', 'started', 'motor', 'mr', 'hastings', 'helped', 'turns', 'flywheel', 'explosions', 'finally', 'carburetor', 'which', 'device', 'gasoline', 'mixed', 'air', 'produce', 'explosive', 'mixture', 'adjusted', 'motor', 'started', 'intended', 'taking', 'time', 'machine', 'run', 'smooth', 'ought', 'commented', 'mr', 'hastings', 'needs', 'thorough', 'overhauling', 'agreed', 'owner', 'arrow', 'get', 'morrow', 'swung', 'lake', 'towing', 'rowboat', 'motor', 'boat', 'exulted', 'tom', 'twirled', 'steering', 'wheel', 'noted', 'readily', 'craft', 'answered', 'helm', 'great', 'steered', 'lake', 'turning', 'around', 'went', 'mile', 'heading', 'dock', 'wanted', 'see', 'engine', 'behaved', 'changes', 'adjustments', 'make', 'speedy', 'boat', 'thought', 'tom', 'get', 'right', 'wonder', 'could', 'make', 'good', 'showing', 'mr', 'hastings', 'new', 'carlopa', 'though', 'boats', 'got', 'four', 'cylinders', 'mine', 'two', 'lad', 'proceeding', 'leisurely', 'along', 'lakeshore', 'near', 'home', 'motor', 'throttled', 'test', 'low', 'speed', 'heard', 'one', 'shout', 'looking', 'toward', 'bank', 'tom', 'saw', 'man', 'waving', 'hands', 'wonder', 'wants', 'thought', 'hero', 'put', 'wheel', 'send', 'craft', 'shore', 'heard', 'moment', 'later', 'man', 'bank', 'cried', 'say', 'young', 'friend', 'know', 'anything', 'automobiles', 'course', 'would', 'running', 'motor', 'boat', 'bless', 'existence', 'trouble', 'machine', 'stopped', 'lonely', 'road', 'cannot', 'seem', 'get', 'started', 'happened', 'hear', 'boat', 'came', 'hail', 'bless', 'coat', 'pockets', 'trouble', 'help', 'me', 'bless', 'soul', 'gizzard', 'mr', 'damon', 'exclaimed', 'tom', 'shutting', 'power', 'near', 'shore', 'course', 'help', 'mr', 'damon', 'young', 'inventor', 'recognized', 'eccentric', 'man', 'purchased', 'motor', 'cycle', 'helped', 'rounding', 'thieves', 'bless', 'shoe', 'laces', 'tom', 'swift', 'exclaimed', 'mr', 'damon', 'seemed', 'fond', 'calling', 'blessings', 'upon', 'upon', 'articles', 'dress', 'person', 'yes', 'admitted', 'tom', 'laugh', 'motor', 'boat', 'bless', 'pocketbook', 'run', 'away', 'one', 'sold', 'cheap', 'exactly', 'lad', 'explained', 'come', 'possession', 'time', 'ashore', 'tied', 'arrow', 'overhanging', 'tree', 'tom', 'proceeded', 'mr', 'damon', 'left', 'stalled', 'automobile', 'eccentric', 'man', 'wealthy', 'physician', 'instructed', 'ride', 'car', 'health', 'tom', 'soon', 'located', 'trouble', 'carburetor', 'become', 'clogged', 'soon', 'working', 'order', 'well', 'boat', 'suppose', 'riding', 'country', 'much', 'commented', 'mr', 'damon', 'got', 'car', 'bless', 'spark', 'plug', 'ever', 'get', 'waterfield', 'live', 'come', 'see', 'handy', 'get', 'water', 'come', 'day', 'promised', 'lad', 'bless', 'hat', 'band', 'hope', 'went', 'eccentric', 'individual', 'prepared', 'start', 'car', 'tom', 'completed', 'remainder', 'trip', 'house', 'without', 'incident', 'father', 'came', 'dock', 'see', 'motor', 'boat', 'agreed', 'son', 'bargain', 'could', 'easily', 'put', 'fine', 'shape', 'youth', 'spent', 'next', 'day', 'part', 'following', 'working', 'craft', 'overhauled', 'ignition', 'system', 'jump', 'spark', 'style', 'cleaned', 'magneto', 'adjusted', 'gasoline', 'compression', 'taps', 'fitted', 'better', 'readjusted', 'rudder', 'lines', 'tightening', 'steering', 'wheel', 'looked', 'piping', 'gasoline', 'tank', 'tank', 'forward', 'compartment', 'upon', 'inspecting', 'lad', 'concluded', 'change', 'plan', 'big', 'galvanized', 'iron', 'box', 'held', 'place', 'took', 'old', 'wooden', 'braces', 'set', 'closer', 'together', 'putting', 'new', 'ones', 'tank', 'vibrate', 'going', 'full', 'speed', 'explained', 'father', 'strange', 'man', 'tampering', 'lock', 'day', 'auction', 'asked', 'mr', 'swift', 'yes', 'see', 'could', 'want', 'compartment', 'dad', 'inventor', 'got', 'boat', 'looked', 'carefully', 'rather', 'dark', 'space', 'tank', 'fitted', 'went', 'every', 'inch', 'pointing', 'one', 'thick', 'wooden', 'blocks', 'supported', 'tank', 'asked', 'bore', 'hole', 'tom', 'touched', 'braces', 'hole', 'rather', 'someone', 'bored', 'stopped', 'weaken', 'brace', 'suppose', 'wondering', 'weather', 'one', 'new', 'blocks', 'old', 'one', 'oh', 'old', 'one', 'going', 'paint', 'case', 'water', 'leaks', 'gasoline', 'leaks', 'wood', 'wo', 'affected', 'gasoline', 'tank', 'vibrate', 'little', 'possible', 'want', 'leak', 'guess', 'paint', 'whole', 'interior', 'compartment', 'white', 'see', 'away', 'far', 'corners', 'think', 'thats', 'good', 'idea', 'commented', 'mr', 'swift', 'four', 'days', 'purchase', 'boat', 'tom', 'ready', 'make', 'long', 'trip', 'time', 'gone', 'short', 'spins', 'far', 'dock', 'order', 'test', 'engine', 'adjustment', 'lad', 'found', 'working', 'well', 'decided', 'new', 'kind', 'spark', 'plugs', 'two', 'cylinders', 'could', 'get', 'speed', 'finally', 'forward', 'compartment', 'painted', 'general', 'overhauling', 'given', 'hull', 'tom', 'ready', 'put', 'boat', 'good', 'test', 'come', 'ned', 'said', 'chum', 'early', 'one', 'evening', 'mr', 'swift', 'said', 'tired', 'go', 'trial', 'run', 'see', 'arrow', 'time', 'tom', 'started', 'motor', 'evident', 'boat', 'going', 'water', 'rapid', 'rate', 'mile', 'two', 'lads', 'speeded', 'along', 'enjoying', 'hugely', 'ned', 'exclaimed', 'somethings', 'coming', 'behind', 'us', 'tom', 'turned', 'head', 'looked', 'called', 'out', 'mr', 'hastings', 'new', 'carlopa', 'wonder', 'wants', 'race', 'guess', 'would', 'way', 'suggested', 'ned', 'oh', 'know', 'get', 'little', 'speed', 'boat', 'tom', 'waited', 'former', 'owner', 'arrow', 'want', 'race', 'asked', 'mr', 'hastings', 'good', 'naturedly', 'sure', 'agreed', 'tom', 'shoved', 'timer', 'ahead', 'produce', 'quicker', 'explosions', 'arrow', 'seemed', 'leap', 'forward', 'moment', 'ahead', 'carlopa', 'motion', 'hand', 'spark', 'lever', 'mr', 'hastings', 'also', 'increased', 'speed', 'moment', 'two', 'boats', 'even', 'terms', 'larger', 'newer', 'one', 'forged', 'ahead', 'tom', 'expected', 'little', 'disappointed', 'thats', 'first', 'rate', 'complimented', 'mr', 'hastings', 'passed', 'better', 'ever', 'able', 'make', 'even', 'new', 'tom', 'made', 'present', 'owner', 'arrow', 'feel', 'somewhat', 'consoled', 'ned', 'ran', 'miles', 'carlopa', 'meanwhile', 'disappearing', 'view', 'around', 'bend', 'tom', 'chum', 'turned', 'around', 'made', 'swift', 'dock', 'certainly', 'dandy', 'declared', 'ned', 'wish', 'one', 'like', 'oh', 'intend', 'shall', 'plenty', 'rides', 'went', 'friend', 'get', 'vacation', 'dad', 'going', 'tour', 'explained', 'plan', 'needless', 'say', 'met', 'neds', 'hearty', 'approval', 'going', 'bed', 'hours', 'later', 'tom', 'decided', 'go', 'dock', 'make', 'sure', 'shut', 'gasoline', 'cock', 'leading', 'tank', 'boat', 'motor', 'calm', 'early', 'summer', 'night', 'new', 'moon', 'giving', 'little', 'light', 'lad', 'went', 'lake', 'slippers', 'neared', 'boathouse', 'heard', 'noise', 'water', 'rat', 'murmured', 'maybe', 'muskrats', 'must', 'set', 'traps', 'tom', 'entered', 'boathouse', 'started', 'back', 'alarm', 'bright', 'light', 'flashed', 'almost', 'eyes', 'whos', 'here', 'cried', 'moment', 'someone', 'sprang', 'motor', 'boat', 'scrambled', 'rowing', 'craft', 'youth', 'could', 'dimly', 'make', 'front', 'dock', 'began', 'pull', 'away', 'quickly', 'hold', 'cried', 'young', 'inventor', 'you', 'want', 'come', 'back', 'person', 'coat', 'returned', 'answer', 'heart', 'beats', 'time', 'tom', 'lighted', 'lantern', 'made', 'hasty', 'examination', 'arrow', 'appear', 'harmed', 'glance', 'showed', 'door', 'gasoline', 'compartment', 'unlocked', 'open', 'tom', 'jumped', 'craft', 'one', 'compartment', 'murmured', 'wonder', 'man', 'acted', 'suspiciously', 'auction', 'object', 'anyhow', 'next', 'moment', 'uttered', 'exclamation', 'startled', 'surprise', 'picked', 'something', 'bottom', 'boat', 'bunch', 'keys', 'tag', 'attached', 'bearing', 'owners', 'name', 'andy', 'foger', 'murmured', 'tom', 'trying', 'get', 'even', 'maybe', 'started', 'put', 'hole', 'tank', 'boat', 'chapter', 'vi', 'towing', 'girls', 'sense', 'anger', 'mingled', 'apprehension', 'lest', 'harm', 'done', 'craft', 'owner', 'arrow', 'went', 'carefully', 'could', 'find', 'nothing', 'wrong', 'engine', 'right', 'appeared', 'accomplished', 'unbidden', 'visitor', 'opening', 'locked', 'forward', 'compartment', 'done', 'one', 'many', 'keys', 'andy', 'fogers', 'ring', 'evident', 'could', 'object', 'mused', 'tom', 'think', 'wanted', 'put', 'hole', 'boat', 'would', 'done', 'amidships', 'water', 'would', 'better', 'chance', 'come', 'perhaps', 'wanted', 'flood', 'gasoline', 'idea', 'fire', 'toms', 'mind', 'finish', 'half', 'completed', 'thought', 'may', 'resumed', 'hasty', 'examination', 'gasoline', 'tank', 'make', 'sure', 'leaks', 'get', 'even', 'outbidding', 'boat', 'andy', 'may', 'wanted', 'destroy', 'arrow', 'well', 'mean', 'tricks', 'thats', 'limit', 'wait', 'see', 'got', 'evidence', 'tom', 'looked', 'key', 'ring', 'could', 'almost', 'arrested', 'going', 'outside', 'boathouse', 'tom', 'stood', 'edge', 'dock', 'peered', 'darkness', 'could', 'hear', 'faint', 'sound', 'someone', 'rowing', 'across', 'lake', 'light', 'one', 'electric', 'flash', 'lanterns', 'decided', 'tom', 'found', 'keys', 'might', 'thought', 'happy', 'harry', 'instead', 'andy', 'young', 'inventor', 'went', 'back', 'house', 'carefully', 'locking', 'boat', 'compartment', 'detaching', 'engine', 'electrical', 'device', 'without', 'motor', 'arrow', 'could', 'started', 'prevent', 'running', 'away', 'boat', 'anyhow', 'decided', 'tom', 'tell', 'garret', 'jackson', 'keep', 'sharp', 'watch', 'night', 'jackson', 'engineer', 'mr', 'swifts', 'workshop', 'tom', 'told', 'father', 'happening', 'mr', 'swift', 'properly', 'indignant', 'wanted', 'go', 'see', 'mr', 'foger', 'complain', 'andys', 'act', 'tom', 'counseled', 'waiting', 'attend', 'andy', 'said', 'young', 'inventor', 'hes', 'getting', 'desperate', 'guess', 'would', 'try', 'set', 'place', 'fire', 'wait', 'show', 'keys', 'bright', 'early', 'next', 'morning', 'owner', 'motor', 'boat', 'dock', 'inspecting', 'engineer', 'watch', 'part', 'night', 'reported', 'disturbance', 'tom', 'found', 'everything', 'right', 'wonder', 'would', 'better', 'go', 'accuse', 'andy', 'wait', 'see', 'spring', 'evidence', 'him', 'thought', 'hero', 'decided', 'would', 'better', 'wait', 'took', 'arrow', 'breakfast', 'father', 'going', 'short', 'spin', 'must', 'go', 'back', 'work', 'gyroscope', 'invention', 'said', 'mr', 'swift', 'two', 'hours', 'spent', 'lake', 'making', 'good', 'progress', 'need', 'vacation', 'decided', 'tom', 'ready', 'take', 'ned', 'two', 'weeks', 'two', 'weeks', 'glorious', 'times', 'together', 'afternoon', 'tom', 'put', 'new', 'style', 'spark', 'plugs', 'cylinders', 'motor', 'found', 'considerably', 'increased', 'revolutions', 'engine', 'due', 'better', 'explosion', 'obtained', 'also', 'made', 'minor', 'adjustments', 'next', 'day', 'went', 'alone', 'long', 'run', 'heading', 'lake', 'tom', 'soon', 'sight', 'popular', 'excursion', 'resort', 'frequently', 'visited', 'church', 'sunday', 'school', 'organizations', 'vicinity', 'shopton', 'lad', 'saw', 'number', 'rowing', 'craft', 'small', 'motor', 'boat', 'circling', 'around', 'opposite', 'resort', 'remarked', 'must', 'picnic', 'grove', 'day', 'guess', 'run', 'take', 'look', 'lad', 'soon', 'midst', 'quite', 'flotilla', 'rowboats', 'manned', 'pretty', 'girls', 'charge', 'boys', 'giving', 'sisters', 'their', 'chaps', 'trip', 'water', 'tom', 'throttled', 'boat', 'slow', 'speed', 'looked', 'pleasure', 'pretty', 'scene', 'boat', 'attracted', 'considerable', 'attention', 'motor', 'craft', 'numerous', 'lake', 'carlopa', 'hero', 'passed', 'boat', 'containing', 'three', 'pretty', 'young', 'ladies', 'tom', 'heard', 'one', 'exclaim', 'thats', 'tom', 'swift', 'something', 'tones', 'voice', 'attracted', 'attention', 'turned', 'saw', 'brown', 'eyed', 'girl', 'smiling', 'bowed', 'asked', 'blushing', 'while', 'well', 'caught', 'runaway', 'horses', 'lately', 'runaway', 'horses', 'what', 'oh', 'miss', 'nestor', 'exclaimed', 'lad', 'recognizing', 'young', 'lady', 'whose', 'steed', 'frightened', 'one', 'day', 'bicycle', 'told', 'first', 'volume', 'series', 'horse', 'run', 'away', 'alarmed', 'flashing', 'toms', 'wheel', 'miss', 'mary', 'nestor', 'mansburg', 'grave', 'danger', 'given', 'bicycle', 'motor', 'boat', 'went', 'young', 'lady', 'yes', 'replied', 'tom', 'smile', 'shutting', 'power', 'chance', 'save', 'girls', 'since', 'two', 'boats', 'drifted', 'close', 'together', 'miss', 'nestor', 'introduced', 'two', 'companions', 'tom', 'want', 'come', 'take', 'ride', 'asked', 'safe', 'asked', 'jennie', 'haddon', 'one', 'trio', 'course', 'jennie', 'would', 'said', 'miss', 'nestor', 'hastily', 'come', 'lets', 'get', 'dying', 'motor', 'boat', 'ride', 'boat', 'asked', 'katie', 'carson', 'oh', 'tow', 'replied', 'youth', 'get', 'right', 'take', 'around', 'lake', 'far', 'stipulated', 'girl', 'figured', 'runaway', 'must', 'back', 'lunch', 'served', 'hour', 'church', 'sunday', 'school', 'picnic', 'maybe', 'mr', 'swift', 'come', 'lunch', 'us', 'suggested', 'miss', 'carson', 'blushing', 'prettily', 'nothing', 'would', 'give', 'greater', 'pleasure', 'answered', 'tom', 'laughed', 'formal', 'reply', 'girls', 'joining', 'would', 'glad', 'added', 'miss', 'haddon', 'oh', 'suddenly', 'screamed', 'boats', 'tipping', 'oh', 'tom', 'hastened', 'assure', 'coming', 'side', 'help', 'tilts', 'bit', 'weight', 'many', 'one', 'side', 'could', 'capsize', 'tried', 'another', 'moment', 'three', 'roomy', 'cockpit', 'tom', 'made', 'empty', 'rowboat', 'fast', 'stern', 'start', 'another', 'boat', 'containing', 'two', 'little', 'girls', 'two', 'slightly', 'larger', 'boys', 'came', 'plaintive', 'cry', 'oh', 'mister', 'give', 'us', 'ride', 'sure', 'agreed', 'tom', 'pleasantly', 'fasten', 'boat', 'rowboat', 'tow', 'one', 'boys', 'three', 'pretty', 'girls', 'companions', 'arrow', 'towing', 'two', 'boats', 'tom', 'started', 'girls', 'much', 'interested', 'craft', 'asked', 'sorts', 'questions', 'engine', 'operated', 'tom', 'explained', 'clearly', 'could', 'gasoline', 'exploded', 'cylinders', 'electric', 'spark', 'propeller', 'finished', 'miss', 'haddon', 'remarked', 'naively', 'oh', 'mr', 'swift', 'explained', 'beautifully', 'sure', 'teacher', 'school', 'made', 'things', 'clear', 'could', 'get', 'along', 'fine', 'understand', 'except', 'see', 'makes', 'engine', 'go', 'oh', 'said', 'tom', 'faintly', 'wondering', 'would', 'best', 'remark', 'make', 'circumstances', 'miss', 'nestor', 'created', 'diversion', 'looking', 'watch', 'exclaiming', 'oh', 'girls', 'lunch', 'time', 'must', 'go', 'ashore', 'kindly', 'put', 'mr', 'swift', 'hope', 'proper', 'term', 'land', 'us', 'right', 'looked', 'archly', 'tom', 'thats', 'perfectly', 'right', 'admitted', 'laugh', 'glance', 'girls', 'brown', 'eyes', 'put', 'ashore', 'headed', 'small', 'dock', 'come', 'take', 'lunch', 'us', 'added', 'miss', 'haddon', 'afraid', 'might', 'way', 'stammered', 'tom', 'pretty', 'good', 'appetite', 'suppose', 'think', 'girls', 'picnic', 'take', 'much', 'lunch', 'finished', 'miss', 'nestor', 'assure', 'plenty', 'welcome', 'added', 'warmly', 'yes', 'would', 'like', 'explain', 'engine', 'works', 'went', 'miss', 'haddon', 'interested', 'tom', 'helped', 'girls', 'receiving', 'thanks', 'well', 'children', 'second', 'boat', 'walked', 'young', 'ladies', 'grove', 'young', 'inventor', 'registered', 'mental', 'vow', 'would', 'steer', 'clear', 'explaining', 'gasoline', 'engine', 'worked', 'come', 'right', 'way', 'table', 'invited', 'miss', 'nestor', 'want', 'meet', 'papa', 'mamma', 'tom', 'followed', 'stepped', 'behind', 'clump', 'trees', 'saw', 'standing', 'far', 'away', 'figure', 'seemed', 'strangely', 'familiar', 'moment', 'later', 'figure', 'turned', 'tom', 'saw', 'andy', 'foger', 'confronting', 'sight', 'hero', 'bully', 'turned', 'red', 'walked', 'quickly', 'away', 'toms', 'fingers', 'touched', 'ring', 'keys', 'pocket', 'chapter', 'vii', 'brush', 'andy', 'unexpected', 'encounter', 'andy', 'young', 'inventor', 'hardly', 'knew', 'act', 'especially', 'since', 'guest', 'young', 'ladies', 'tom', 'want', 'say', 'anything', 'embarrass', 'make', 'scene', 'yet', 'want', 'talk', 'serious', 'talk', 'andy', 'foger', 'miss', 'nestor', 'must', 'noticed', 'toms', 'sudden', 'start', 'glimpse', 'andy', 'asked', 'see', 'one', 'knew', 'mr', 'swift', 'yes', 'replied', 'tom', 'er', 'paused', 'confusion', 'perhaps', 'would', 'like', 'prefer', 'go', 'instead', 'taking', 'lunch', 'girls', 'know', 'anything', 'engines', 'persisted', 'oh', 'indeed', 'tom', 'hastened', 'assure', 'person', 'saw', 'would', 'care', 'lunch', 'youth', 'smiled', 'grimly', 'would', 'like', 'bring', 'table', 'inquired', 'miss', 'carson', 'plenty', 'think', 'would', 'hardly', 'continued', 'lad', 'tried', 'smile', 'picture', 'red', 'haired', 'squint', 'eyed', 'andy', 'foger', 'making', 'one', 'party', 'girls', 'young', 'ladies', 'fortunately', 'noticed', 'bully', 'view', 'time', 'tom', 'presented', 'mr', 'mrs', 'nestor', 'told', 'glad', 'meet', 'young', 'man', 'instrumental', 'saving', 'daughter', 'injury', 'death', 'tom', 'bit', 'embarrassed', 'bore', 'praise', 'well', 'could', 'glad', 'diversion', 'shape', 'lunch', 'occurred', 'meal', 'tables', 'trees', 'grove', 'tom', 'took', 'girls', 'friends', 'motor', 'boat', 'covered', 'several', 'miles', 'around', 'lake', 'returning', 'picnic', 'ground', 'tom', 'starting', 'toward', 'home', 'boat', 'wondering', 'become', 'andy', 'trying', 'think', 'reason', 'bully', 'attend', 'anything', 'tame', 'church', 'picnic', 'object', 'thoughts', 'came', 'strolling', 'trees', 'shore', 'lake', 'moment', 'saw', 'tom', 'red', 'haired', 'lad', 'started', 'back', 'young', 'inventor', 'leaping', 'boat', 'called', 'out', 'hold', 'andy', 'foger', 'want', 'see', 'menace', 'toms', 'tone', 'want', 'see', 'retorted', 'sulkily', 'got', 'use', 'toms', 'quick', 'reply', 'want', 'return', 'keys', 'dropped', 'boat', 'night', 'tried', 'set', 'afire', 'ever', 'catch', 'keys', 'boat', 'fire', 'gasped', 'andy', 'plainly', 'astonished', 'tom', 'knew', 'surprise', 'genuine', 'yes', 'keys', 'little', 'quick', 'would', 'caught', 'next', 'time', 'pick', 'lock', 'leave', 'keys', 'behind', 'held', 'jingling', 'ring', 'andy', 'foger', 'advanced', 'slowly', 'took', 'bunch', 'keys', 'looked', 'tag', 'mine', 'said', 'slowly', 'doubt', 'course', 'declared', 'tom', 'found', 'dropped', 'boat', 'mean', 'auction', 'mean', 'boathouse', 'sneaked', 'night', 'tried', 'damage', 'night', 'cried', 'andy', 'never', 'near', 'boathouse', 'night', 'never', 'lost', 'keys', 'lost', 'day', 'auction', 'mr', 'hastings', 'ground', 'looking', 'ever', 'since', 'sneak', 'boathouse', 'night', 'try', 'mischief', 'drop', 'then', 'retorted', 'andy', 'earnestly', 'lost', 'keys', 'auction', 'prove', 'look', 'advertised', 'weekly', 'gazette', 'red', 'haired', 'lad', 'pulled', 'crumpled', 'paper', 'pocket', 'showed', 'tom', 'advertisement', 'offering', 'reward', 'two', 'dollars', 'bunch', 'keys', 'ring', 'supposed', 'lost', 'auction', 'mr', 'hastings', 'grounds', 'lanton', 'finder', 'return', 'andy', 'foger', 'look', 'lost', 'keys', 'boathouse', 'demanded', 'bully', 'sneeringly', 'would', 'advertised', 'way', 'trying', 'keep', 'visit', 'quiet', 'besides', 'prove', 'town', 'several', 'nights', 'entertainment', 'mansburg', 'one', 'night', 'get', 'home', 'two', 'oclock', 'morning', 'machine', 'broke', 'ask', 'ned', 'newton', 'saw', 'entertainment', 'andys', 'manner', 'earnest', 'tom', 'could', 'help', 'believing', 'evidence', 'advertisement', 'clearly', 'squint', 'eyed', 'youth', 'mysterious', 'visitor', 'boathouse', 'unlocked', 'forward', 'compartment', 'could', 'keys', 'get', 'there', 'questions', 'racked', 'toms', 'brain', 'ask', 'ned', 'newton', 'repeated', 'andy', 'prove', 'could', 'near', 'place', 'believe', 'oh', 'believe', 'right', 'answered', 'tom', 'could', 'doubting', 'andys', 'manner', 'even', 'though', 'young', 'inventor', 'good', 'terms', 'keys', 'get', 'boat', 'know', 'unless', 'found', 'kept', 'dropped', 'insolent', 'answer', 'know', 'better', 'exclaimed', 'tom', 'well', 'owe', 'reward', 'two', 'dollars', 'giving', 'back', 'continued', 'bully', 'patronizingly', 'hauled', 'bills', 'want', 'money', 'fired', 'back', 'tom', 'would', 'like', 'know', 'boat', 'would', 'like', 'know', 'took', 'keys', 'andy', 'stuffed', 'money', 'back', 'pocket', 'tom', 'answer', 'puzzling', 'queer', 'matter', 'wanted', 'alone', 'think', 'turned', 'aside', 'red', 'haired', 'lad', 'walked', 'toward', 'motor', 'boat', 'give', 'surprise', 'days', 'andy', 'called', 'tom', 'turn', 'head', 'inquire', 'surprise', 'might', 'mr', 'swift', 'somewhat', 'puzzled', 'son', 'related', 'outcome', 'key', 'incident', 'agreed', 'tom', 'one', 'might', 'found', 'ring', 'kept', 'person', 'might', 'one', 'tom', 'surprised', 'boathouse', 'idle', 'speculate', 'commented', 'inventor', 'andy', 'might', 'induced', 'chums', 'act', 'harming', 'boat', 'key', 'advertisement', 'might', 'ruse', 'hardly', 'think', 'answered', 'son', 'shaking', 'head', 'strikes', 'curious', 'going', 'see', 'cannot', 'get', 'bottom', 'week', 'passed', 'tom', 'clew', 'meanwhile', 'working', 'away', 'motor', 'boat', 'installing', 'several', 'improvements', 'one', 'better', 'pump', 'circulated', 'water', 'around', 'cylinders', 'another', 'new', 'system', 'lubrication', 'forced', 'feed', 'ought', 'give', 'little', 'speed', 'reasoned', 'tom', 'yet', 'satisfied', 'craft', 'guess', 'take', 'spin', 'alone', 'arrow', 'taking', 'long', 'course', 'lake', 'passed', 'wooded', 'point', 'concealed', 'view', 'sort', 'bay', 'heard', 'puffing', 'another', 'motor', 'boat', 'maybe', 'thats', 'mr', 'hastings', 'thought', 'tom', 'raced', 'think', 'arrow', 'could', 'give', 'better', 'account', 'young', 'inventor', 'looked', 'boat', 'came', 'view', 'needed', 'glance', 'show', 'carlopa', 'came', 'nearer', 'tom', 'saw', 'familiar', 'figure', 'red', 'haired', 'squint', 'eyed', 'chap', 'andy', 'foger', 'exclaimed', 'tom', 'hes', 'got', 'motor', 'boat', 'surprise', 'spoke', 'boat', 'rapidly', 'approaching', 'saw', 'painted', 'vivid', 'red', 'could', 'make', 'name', 'bow', 'red', 'streak', 'andy', 'sending', 'craft', 'toward', 'fast', 'rate', 'need', 'think', 'one', 'lake', 'gasoline', 'boat', 'called', 'andy', 'boastfully', 'new', 'one', 'fastest', 'thing', 'afloat', 'around', 'go', 'around', 'want', 'race', 'dare', 'tom', 'never', 'took', 'things', 'could', 'reasonably', 'enter', 'contest', 'swung', 'boat', 'around', 'shoot', 'alongside', 'andy', 'answered', 'yes', 'race', 'to', 'opposite', 'kolbs', 'dock', 'back', 'point', 'answer', 'give', 'start', 'engine', 'three', 'cylinders', 'racing', 'boat', 'need', 'start', 'declared', 'tom', 'race', 'even', 'terms', 'go', 'ahead', 'lads', 'adjusted', 'timers', 'get', 'speed', 'water', 'began', 'curl', 'away', 'sharp', 'prows', 'motors', 'exploded', 'faster', 'faster', 'race', 'arrow', 'red', 'streak', 'chapter', 'viii', 'trip', 'glancing', 'critical', 'eyes', 'craft', 'rival', 'tom', 'saw', 'andy', 'foger', 'fine', 'boat', 'young', 'inventor', 'also', 'realized', 'come', 'anywhere', 'near', 'winning', 'race', 'would', 'get', 'utmost', 'speed', 'engine', 'new', 'boat', 'bully', 'designed', 'primarily', 'racing', 'toms', 'around', 'pleasure', 'craft', 'though', 'capable', 'something', 'speed', 'line', 'giving', 'tow', 'minutes', 'soon', 'engine', 'gets', 'warmed', 'sneered', 'andy', 'maybe', 'said', 'tom', 'crouched', 'make', 'little', 'resistance', 'possible', 'wind', 'andy', 'contrary', 'sat', 'boldly', 'upright', 'auto', 'steering', 'wheel', 'boat', 'rushed', 'two', 'motor', 'craft', 'prows', 'exactly', 'even', 'propellers', 'tossing', 'bulge', 'water', 'sterns', 'rapidly', 'acquiring', 'speed', 'two', 'lads', 'adjusted', 'timers', 'motors', 'boats', 'racing', 'side', 'side', 'seemingly', 'even', 'terms', 'red', 'streak', 'sharp', 'prow', 'designed', 'cut', 'water', 'type', 'known', 'automobile', 'launch', 'engine', 'located', 'forward', 'sort', 'hood', 'two', 'hinged', 'covers', 'like', 'bats', 'wings', 'steering', 'wheel', 'shaft', 'went', 'forward', 'bulkhead', 'slantingly', 'like', 'wheel', 'auto', 'arranged', 'gasoline', 'sparking', 'levers', 'center', 'post', 'similar', 'manner', 'right', 'wheel', 'reversing', 'lever', 'propeller', 'blades', 'could', 'set', 'neutral', 'arranged', 'drive', 'boat', 'backward', 'altogether', 'red', 'streak', 'fine', 'boat', 'cost', 'considerably', 'toms', 'even', 'latter', 'new', 'things', 'young', 'owner', 'arrow', 'thought', 'steered', 'craft', 'course', 'hardly', 'think', 'win', 'tom', 'remarked', 'whisper', 'boat', 'speedy', 'one', 'chance', 'though', 'engine', 'new', 'believe', 'understands', 'well', 'mine', 'sure', 'better', 'ignition', 'system', 'tom', 'immediate', 'hopes', 'defeating', 'andy', 'doomed', 'disappointment', 'two', 'minutes', 'race', 'started', 'red', 'streak', 'forged', 'slowly', 'ahead', 'come', 'cried', 'red', 'haired', 'lad', 'thought', 'wanted', 'race', 'answered', 'young', 'inventor', 'long', 'way', 'dock', 'yet', 'got', 'come', 'back', 'time', 'get', 'dock', 'declared', 'andy', 'indeed', 'began', 'look', 'auto', 'boat', 'full', 'length', 'ahead', 'toms', 'craft', 'open', 'water', 'hero', 'knew', 'thing', 'two', 'racing', 'though', 'long', 'motor', 'boat', 'owner', 'adjusted', 'automatic', 'oiler', 'cylinders', 'give', 'lubrication', 'intended', 'get', 'speed', 'engine', 'opened', 'gasoline', 'cock', 'trifle', 'set', 'timer', 'forward', 'notches', 'get', 'earlier', 'spark', 'going', 'use', 'maximum', 'speed', 'yet', 'first', 'wanted', 'see', 'motor', 'arrow', 'would', 'behave', 'conditions', 'delight', 'saw', 'boat', 'slowly', 'creeping', 'andys', 'latter', 'glance', 'shoulder', 'saw', 'advanced', 'spark', 'craft', 'forged', 'ahead', 'rate', 'increase', 'equal', 'toms', 'keep', 'suppose', 'ought', 'glad', 'thought', 'young', 'inventor', 'boat', 'away', 'ahead', 'mine', 'rating', 'water', 'sharp', 'bows', 'cut', 'witnesses', 'race', 'boats', 'saw', 'pretty', 'sight', 'two', 'speedy', 'craft', 'came', 'toward', 'dock', 'turning', 'point', 'andys', 'boat', 'reached', 'first', 'swung', 'wide', 'circle', 'return', 'tom', 'decided', 'time', 'make', 'boat', 'best', 'set', 'timer', 'limit', 'spark', 'coming', 'quickly', 'increased', 'explosions', 'shot', 'arrow', 'straightening', 'turn', 'toms', 'craft', 'crept', 'along', 'lapped', 'stern', 'red', 'streak', 'andy', 'looked', 'back', 'dismay', 'tried', 'get', 'speed', 'engine', 'cause', 'screw', 'revolve', 'little', 'faster', 'tom', 'noted', 'left', 'behind', 'one', 'things', 'may', 'happen', 'time', 'gasoline', 'motor', 'happened', 'andys', 'began', 'miss', 'explosions', 'first', 'occasionally', 'misses', 'became', 'frequent', 'owner', 'red', 'streak', 'one', 'hand', 'steering', 'wheel', 'tried', 'adjust', 'motor', 'get', 'rid', 'trouble', 'made', 'worse', 'andys', 'boat', 'began', 'fall', 'back', 'toms', 'creep', 'frantically', 'andy', 'worked', 'gasoline', 'sparking', 'levers', 'without', 'avail', 'last', 'one', 'cylinder', 'went', 'completely', 'service', 'two', 'boats', 'even', 'terms', 'racing', 'along', 'side', 'side', 'toward', 'wooded', 'point', 'marked', 'finish', 'beat', 'yet', 'exclaimed', 'andy', 'fiercely', 'better', 'hurry', 'retorted', 'tom', 'young', 'inventor', 'way', 'freakishness', 'equal', 'ceased', 'explode', 'dead', 'cylinder', 'came', 'life', 'red', 'streak', 'shot', 'ahead', 'andys', 'boat', 'lead', 'length', 'finish', 'race', 'close', 'hand', 'squint', 'eyed', 'lad', 'turned', 'shouted', 'told', 'would', 'beat', 'want', 'tow', 'now', 'began', 'look', 'though', 'tom', 'would', 'need', 'still', 'something', 'reserve', 'one', 'improvements', 'put', 'arrow', 'new', 'auxiliary', 'ignition', 'system', 'decided', 'use', 'quick', 'motion', 'tom', 'threw', 'switch', 'put', 'operation', 'hotter', 'fatter', 'spark', 'produced', 'adjusting', 'gasoline', 'cock', 'little', 'fluid', 'would', 'drawn', 'making', 'richer', 'mixture', 'owner', 'arrow', 'saw', 'craft', 'shoot', 'forward', 'like', 'weary', 'runner', 'new', 'life', 'infused', 'vain', 'andy', 'frantically', 'try', 'get', 'speed', 'motor', 'cut', 'muffler', 'explosions', 'sounded', 'loudly', 'lake', 'use', 'minute', 'later', 'arrow', 'slowly', 'forged', 'ahead', 'crossed', 'bows', 'red', 'streak', 'opposite', 'finishing', 'point', 'tom', 'race', 'well', 'fair', 'hero', 'called', 'andy', 'quickly', 'shut', 'power', 'saw', 'rivals', 'daring', 'trick', 'beat', 'fair', 'would', 'beaten', 'engine', 'gone', 'back', 'grumbled', 'andy', 'chagrin', 'showing', 'face', 'wait', 'motor', 'runs', 'smoother', 'give', 'big', 'handicap', 'beat', 'boats', 'faster', 'ought', 'cost', 'fifteen', 'hundred', 'dollars', 'racer', 'guess', 'like', 'racing', 'commented', 'tom', 'swung', 'prow', 'craft', 'lake', 'toward', 'home', 'knew', 'truth', 'andy', 'said', 'red', 'streak', 'speedy', 'boat', 'proper', 'handling', 'could', 'beaten', 'arrow', 'toms', 'superior', 'knowledge', 'came', 'useful', 'wait', 'beat', 'yet', 'called', 'andy', 'young', 'inventor', 'latter', 'made', 'answer', 'satisfied', 'mr', 'swift', 'much', 'interested', 'night', 'sons', 'account', 'race', 'idea', 'speedy', 'boat', 'said', 'well', 'originally', 'admitted', 'tom', 'improvements', 'put', 'made', 'dad', 'going', 'tour', 'look', 'worn', 'seen', 'time', 'excepting', 'turbine', 'model', 'stolen', 'worrying', 'gyroscope', 'invention', 'somewhat', 'tom', 'cannot', 'seem', 'hit', 'want', 'difficult', 'problem', 'tell', 'lets', 'dad', 'lets', 'drop', 'everything', 'inventive', 'line', 'go', 'vacation', 'take', 'lake', 'boat', 'spend', 'week', 'lakeview', 'hotel', 'sandport', 'good', 'tom', 'oh', 'ned', 'newton', 'cruise', 'take', 'along', 'time', 'want', 'go', 'going', 'camp', 'nights', 'sleep', 'boat', 'rains', 'ordered', 'canopy', 'side', 'curtains', 'ned', 'care', 'hotel', 'life', 'summer', 'go', 'mr', 'swift', 'considered', 'moment', 'need', 'rest', 'working', 'hard', 'brain', 'weary', 'thinking', 'many', 'problems', 'sons', 'program', 'sounded', 'attractive', 'think', 'accept', 'said', 'inventor', 'smile', 'start', 'tom', 'four', 'days', 'ned', 'newton', 'get', 'vacation', 'canopy', 'start', 'work', 'morrow', 'go', 'trip', 'sandport', 'summer', 'resort', 'extreme', 'southern', 'end', 'lake', 'carlopa', 'mr', 'swift', 'wrote', 'lakeview', 'hotel', 'engage', 'room', 'meanwhile', 'tom', 'began', 'put', 'canopy', 'boat', 'arrange', 'trip', 'would', 'take', 'nearly', 'whole', 'day', 'ned', 'newton', 'delighted', 'prospect', 'camping', 'tour', 'helped', 'tom', 'get', 'ready', 'took', 'small', 'tent', 'plenty', 'supplies', 'food', 'need', 'carry', 'many', 'rations', 'shores', 'lake', 'lined', 'towns', 'villages', 'food', 'could', 'procured', 'finally', 'ready', 'trip', 'night', 'start', 'ned', 'newton', 'stayed', 'toms', 'house', 'readiness', 'going', 'early', 'morning', 'day', 'could', 'desired', 'tom', 'noted', 'chum', 'hurried', 'dock', 'breakfast', 'put', 'blankets', 'boat', 'young', 'inventor', 'entered', 'craft', 'uttered', 'exclamation', 'matter', 'asked', 'ned', 'sure', 'locked', 'sliding', 'door', 'forward', 'compartment', 'reply', 'open', 'looked', 'inside', 'space', 'occupied', 'gasoline', 'tank', 'cried', 'out', 'one', 'braces', 'gone', 'theres', 'one', 'boat', 'night', 'tried', 'damage', 'much', 'harm', 'done', 'asked', 'ned', 'anxiously', 'none', 'speak', 'replied', 'tom', 'easily', 'put', 'new', 'block', 'tank', 'fact', 'really', 'need', 'one', 'take', 'one', 'it', 'thats', 'want', 'know', 'two', 'lads', 'looked', 'carefully', 'dock', 'boat', 'sign', 'missing', 'block', 'clews', 'might', 'show', 'tampering', 'arrow', 'could', 'find', 'nothing', 'maybe', 'block', 'fell', 'suggested', 'ned', 'could', 'replied', 'tom', 'one', 'new', 'ones', 'put', 'nailed', 'fast', 'see', 'pried', 'loose', 'cannot', 'understand', 'tom', 'thought', 'rapidly', 'several', 'mysterious', 'occurrences', 'late', 'strange', 'man', 'auction', 'person', 'surprised', 'one', 'night', 'boathouse', 'part', 'well', 'need', 'delay', 'trip', 'resumed', 'young', 'inventor', 'maybe', 'theres', 'hoodoo', 'around', 'us', 'good', 'get', 'away', 'days', 'come', 'breakfast', 'get', 'dad', 'start', 'little', 'later', 'arrow', 'puffing', 'away', 'lake', 'direction', 'sandport', 'chapter', 'ix', 'mr', 'swift', 'alarmed', 'feel', 'better', 'already', 'dad', 'asked', 'tom', 'noon', 'stopped', 'leaning', 'overhanging', 'tree', 'lunch', 'shore', 'lake', 'leave', 'ned', 'look', 'contented', 'less', 'worried', 'believe', 'agreed', 'lad', 'well', 'must', 'say', 'certainly', 'enjoyed', 'outing', 'far', 'admitted', 'inventor', 'smile', 'bothering', 'gyroscope', 'think', 'take', 'another', 'sandwich', 'tom', 'olives', 'thats', 'way', 'talk', 'cried', 'son', 'appetite', 'improving', 'mrs', 'baggert', 'could', 'see', 'would', 'say', 'oh', 'yes', 'mrs', 'baggert', 'hope', 'garret', 'look', 'house', 'shops', 'well', 'said', 'mr', 'swift', 'old', 'worried', 'look', 'came', 'like', 'shadow', 'face', 'thinking', 'dad', 'advised', 'tom', 'course', 'everything', 'right', 'think', 'model', 'thieves', 'return', 'try', 'get', 'inventions', 'know', 'tom', 'men', 'unscrupulous', 'scoundrels', 'never', 'tell', 'might', 'revenge', 'us', 'defeating', 'plans', 'well', 'guess', 'garret', 'mrs', 'baggert', 'look', 'remarked', 'son', 'worry', 'yes', 'bad', 'digestion', 'added', 'ned', 'mind', 'tom', 'coffee', 'another', 'sandwich', 'nothing', 'matter', 'appetite', 'either', 'commented', 'young', 'inventor', 'passed', 'coffee', 'pot', 'plate', 'soon', 'way', 'arrow', 'making', 'good', 'time', 'lake', 'tom', 'engine', 'making', 'several', 'minor', 'adjustments', 'ned', 'steered', 'mr', 'swift', 'reclined', 'one', 'cushioned', 'seats', 'shade', 'canopy', 'young', 'owner', 'arrow', 'looked', 'stretch', 'water', 'time', 'time', 'possible', 'sight', 'andy', 'foger', 'red', 'streak', 'seen', 'lakeview', 'hotel', 'reached', 'late', 'afternoon', 'boat', 'tied', 'dock', 'tom', 'ned', 'accompanied', 'mr', 'swift', 'see', 'comfortably', 'established', 'room', 'wo', 'stay', 'supper', 'me', 'invited', 'inventor', 'son', 'latters', 'chum', 'want', 'start', 'right', 'camp', 'life', 'guess', 'stay', 'supper', 'remain', 'hotel', 'night', 'decided', 'tom', 'got', 'little', 'later', 'expected', 'ned', 'hardly', 'time', 'go', 'far', 'establish', 'temporary', 'camp', 'live', 'life', 'luxurious', 'ease', 'night', 'begin', 'wanderlusters', 'get', 'back', 'nature', 'morrow', 'morning', 'tom', 'chum', 'full', 'enthusiasm', 'pleasures', 'started', 'promising', 'come', 'back', 'hotel', 'days', 'see', 'mr', 'swift', 'felt', 'trip', 'already', 'done', 'man', 'good', 'face', 'wore', 'brighter', 'look', 'tom', 'ned', 'speedy', 'arrow', 'cruised', 'along', 'lakeshores', 'morning', 'noon', 'went', 'ashore', 'made', 'temporary', 'camp', 'arranged', 'spend', 'night', 'tent', 'erected', 'got', 'fishing', 'tackle', 'passed', 'afternoon', 'sport', 'good', 'luck', 'provided', 'supper', 'without', 'depend', 'canned', 'stuff', 'lived', 'life', 'three', 'days', 'making', 'new', 'camp', 'night', 'favored', 'good', 'weather', 'sleep', 'boat', 'keep', 'dry', 'afternoon', 'third', 'day', 'tom', 'critical', 'glance', 'sky', 'remarked', 'surprised', 'rained', 'morrow', 'ned', 'either', 'look', 'sort', 'hazy', 'wind', 'bad', 'quarter', 'say', 'heading', 'hotel', 'fancy', 'dad', 'glad', 'see', 'us', 'suits', 'start', 'camp', 'life', 'storm', 'passes', 'started', 'sandport', 'afternoon', 'within', 'two', 'miles', 'hotel', 'dock', 'tom', 'saw', 'ahead', 'small', 'motor', 'boat', 'ned', 'observed', 'called', 'out', 'spose', 'thats', 'andy', 'looking', 'another', 'race', 'boats', 'small', 'put', 'way', 'see', 'craft', 'appear', 'moving', 'rapidly', 'arrow', 'soon', 'overhauling', 'two', 'chums', 'came', 'nearer', 'could', 'hear', 'puffing', 'motor', 'tom', 'listened', 'critical', 'ears', 'machine', 'working', 'right', 'remarked', 'chum', 'moment', 'sounded', 'loud', 'explosion', 'boat', 'time', 'came', 'water', 'shrill', 'cry', 'alarm', 'thats', 'girl', 'boat', 'exclaimed', 'ned', 'maybe', 'shes', 'hurt', 'motor', 'backfired', 'observed', 'tom', 'go', 'see', 'help', 'perhaps', 'understand', 'girls', 'know', 'much', 'machinery', 'little', 'later', 'arrow', 'shot', 'alongside', 'craft', 'come', 'stop', 'two', 'lads', 'could', 'see', 'girl', 'bending', 'motor', 'twirling', 'flywheel', 'trying', 'get', 'started', 'help', 'you', 'asked', 'tom', 'shutting', 'power', 'craft', 'young', 'lady', 'glanced', 'face', 'red', 'seemed', 'ill', 'ease', 'sight', 'young', 'inventor', 'uttered', 'exclamation', 'relief', 'mr', 'swift', 'cried', 'oh', 'trouble', 'cannot', 'make', 'machine', 'work', 'afraid', 'broken', 'exploded', 'miss', 'nestor', 'blurted', 'tom', 'surprised', 'evidently', 'see', 'acquaintance', 'runaway', 'beholding', 'know', 'ran', 'motor', 'boat', 'added', 'said', 'simply', 'helplessly', 'thats', 'trouble', 'wo', 'run', 'comes', 'here', 'went', 'tom', 'stopping', 'friends', 'cottage', 'near', 'lakeview', 'hotel', 'motor', 'boat', 'got', 'dick', 'blythe', 'hes', 'owner', 'show', 'run', 'thought', 'knew', 'started', 'little', 'ago', 'first', 'went', 'beautifully', 'minutes', 'ago', 'blew', 'something', 'dreadful', 'happened', 'nothing', 'dreadful', 'guess', 'tom', 'assured', 'think', 'fix', 'got', 'boat', 'soon', 'saw', 'trouble', 'carburetor', 'gotten', 'adjustment', 'gasoline', 'feeding', 'properly', 'young', 'inventor', 'soon', 'order', 'testing', 'motor', 'found', 'worked', 'perfectly', 'oh', 'cannot', 'thank', 'enough', 'cried', 'miss', 'nestor', 'flash', 'brown', 'eyes', 'made', 'toms', 'heart', 'beat', 'double', 'time', 'afraid', 'damaged', 'boat', 'knew', 'dick', 'sort', 'second', 'cousin', 'mine', 'would', 'never', 'forgive', 'theres', 'harm', 'done', 'tom', 'assured', 'better', 'keep', 'near', 'us', 'way', 'back', 'going', 'back', 'oh', 'indeed', 'frightened', 'found', 'would', 'come', 'far', 'away', 'shore', 'explosion', 'took', 'place', 'well', 'imagine', 'felt', 'indeed', 'keep', 'near', 'stopping', 'near', 'here', 'wish', 'would', 'come', 'see', 'mr', 'newton', 'added', 'tom', 'introduced', 'chum', 'glad', 'answered', 'hero', 'told', 'happened', 'neighborhood', 'give', 'lessons', 'managing', 'boat', 'like', 'added', 'oh', 'you', 'lovely', 'wo', 'tell', 'dick', 'surprise', 'day', 'showing', 'well', 'run', 'boat', 'good', 'idea', 'commented', 'tom', 'started', 'motor', 'miss', 'nestor', 'stopped', 'first', 'test', 'dot', 'name', 'small', 'boat', 'miss', 'nestor', 'following', 'larger', 'arrow', 'run', 'back', 'hotel', 'made', 'young', 'lady', 'turned', 'near', 'lakeview', 'dock', 'go', 'cottage', 'stopping', 'lads', 'tied', 'hotel', 'boathouse', 'yes', 'storm', 'remarked', 'tom', 'chum', 'walked', 'toward', 'hotel', 'wonder', 'dad', 'is', 'hope', 'outing', 'good', 'comes', 'observed', 'ned', 'looking', 'tom', 'saw', 'father', 'approaching', 'young', 'inventor', 'struck', 'expression', 'parents', 'face', 'mr', 'swift', 'looked', 'worried', 'tom', 'anxiously', 'hastened', 'forward', 'meet', 'matter', 'dad', 'asked', 'cheerfully', 'could', 'figuring', 'gyroscope', 'problem', 'express', 'orders', 'laughed', 'little', 'tom', 'gyroscope', 'thats', 'worrying', 'then', 'scoundrels', 'around', 'tom', 'mr', 'swift', 'looked', 'apprehensively', 'mean', 'men', 'stole', 'turbine', 'model', 'yes', 'walking', 'woods', 'near', 'hotel', 'yesterday', 'saw', 'anson', 'morse', 'see', 'turned', 'aside', 'quickly', 'glimpse', 'talking', 'another', 'man', 'sort', 'man', 'well', 'ordinary', 'enough', 'individual', 'noticed', 'tattooed', 'little', 'finger', 'left', 'hand', 'blue', 'ring', 'happy', 'harry', 'tramp', 'exclaimed', 'tom', 'morse', 'here', 'know', 'tom', 'worried', 'wish', 'back', 'home', 'afraid', 'something', 'may', 'happen', 'inventions', 'want', 'go', 'back', 'shopton', 'tom', 'nonsense', 'dad', 'worry', 'saw', 'former', 'enemies', 'everything', 'right', 'home', 'mrs', 'baggert', 'garret', 'jackson', 'look', 'things', 'like', 'find', 'matters', 'tom', 'taking', 'run', 'motor', 'boat', 'morrow', 'get', 'back', 'night', 'start', 'early', 'worry', 'right', 'tom', 'wish', 'would', 'come', 'room', 'talk', 'would', 'rather', 'leave', 'go', 'telephone', 'like', 'talk', 'business', 'wire', 'avoid', 'chapter', 'x', 'cry', 'help', 'dad', 'tell', 'requested', 'tom', 'ned', 'mr', 'swifts', 'apartment', 'hotel', 'safe', 'rain', 'falling', 'happen', 'see', 'anson', 'morse', 'happy', 'harry', 'old', 'readers', 'doubtless', 'remember', 'latter', 'disguised', 'tramp', 'vindictive', 'toward', 'tom', 'morse', 'man', 'endeavored', 'sneak', 'mr', 'swifts', 'shop', 'steal', 'valuable', 'invention', 'well', 'tom', 'proceeded', 'inventor', 'much', 'tell', 'walking', 'woods', 'yesterday', 'behind', 'clump', 'bushes', 'heard', 'voices', 'looked', 'saw', 'two', 'men', 'first', 'thought', 'trailing', 'saw', 'seen', 'see', 'could', 'know', 'neighborhood', 'quietly', 'made', 'way', 'back', 'hotel', 'could', 'hear', 'saying', 'seemed', 'angry', 'something', 'man', 'blue', 'ring', 'finger', 'asked', 'man', 'whether', 'murdock', 'heard', 'murdock', 'know', 'unless', 'another', 'member', 'gang', 'unless', 'assumed', 'name', 'may', 'else', 'hear', 'man', 'know', 'morse', 'replied', 'heard', 'suspected', 'murdock', 'playing', 'double', 'game', 'tramp', 'happy', 'harry', 'asked', 'question', 'clew', 'sparkler', 'morse', 'answered', 'think', 'murdock', 'hid', 'somewhere', 'trying', 'get', 'away', 'without', 'giving', 'us', 'share', 'two', 'men', 'walked', 'away', 'came', 'back', 'hotel', 'finished', 'mr', 'swift', 'sparkler', 'murmured', 'tom', 'wonder', 'be', 'thats', 'slang', 'word', 'diamonds', 'suggested', 'ned', 'case', 'dad', 'think', 'nothing', 'worry', 'fellows', 'must', 'going', 'commit', 'diamond', 'robbery', 'perhaps', 'already', 'taken', 'place', 'inventor', 'seemed', 'relieved', 'theory', 'son', 'face', 'brightened', 'said', 'going', 'commit', 'robbery', 'tom', 'ought', 'notify', 'police', 'said', 'murdock', 'whoever', 'sparkler', 'trying', 'get', 'away', 'without', 'giving', 'share', 'would', 'indicate', 'robbery', 'already', 'taken', 'place', 'asked', 'ned', 'thats', 'agreed', 'tom', 'wo', 'harm', 'tell', 'hotel', 'detective', 'suspicious', 'characters', 'around', 'matter', 'committed', 'lookout', 'think', 'anything', 'worry', 'dad', 'still', 'like', 'take', 'run', 'house', 'see', 'everything', 'right', 'though', 'sure', 'found', 'nothing', 'alarmed', 'well', 'relieved', 'said', 'inventor', 'however', 'suppose', 'good', 'supper', 'boys', 'stay', 'hotel', 'night', 'ned', 'start', 'early', 'morning', 'right', 'agreed', 'tom', 'thoughtful', 'look', 'face', 'appeared', 'planning', 'something', 'needed', 'careful', 'attention', 'details', 'supper', 'night', 'tom', 'took', 'chum', 'one', 'side', 'asked', 'would', 'mind', 'much', 'make', 'trip', 'shopton', 'me', 'tom', 'course', 'help', 'want', 'stay', 'here', 'think', 'good', 'plan', 'like', 'leave', 'dad', 'alone', 'scoundrels', 'around', 'course', 'hes', 'able', 'look', 'sometimes', 'gets', 'absent', 'minded', 'thinking', 'much', 'inventions', 'course', 'stay', 'hotel', 'good', 'vacation', 'could', 'wish', 'oh', 'mean', 'day', 'come', 'back', 'may', 'morrow', 'night', 'find', 'father', 'needlessly', 'alarmed', 'something', 'may', 'happened', 'home', 'would', 'delayed', 'would', 'feel', 'better', 'know', 'stay', 'see', 'men', 'would', 'better', 'steer', 'clear', 'advised', 'tom', 'quickly', 'dangerous', 'customers', 'right', 'go', 'give', 'miss', 'nestor', 'lessons', 'run', 'motor', 'boat', 'smiling', 'response', 'fancy', 'know', 'make', 'pretty', 'well', 'hold', 'cried', 'tom', 'gaily', 'trespassing', 'know', 'oh', 'say', 'agent', 'promised', 'ned', 'grin', 'cannot', 'object', 'spose', 'well', 'best', 'certainly', 'nice', 'girl', 'yes', 'seem', 'turn', 'opportune', 'times', 'luck', 'certainly', 'concerned', 'first', 'save', 'runaway', 'start', 'runaway', 'interrupted', 'tom', 'take', 'ride', 'motor', 'boat', 'lastly', 'come', 'relief', 'stalled', 'middle', 'lake', 'oh', 'certainly', 'lucky', 'dog', 'never', 'mind', 'giving', 'show', 'lets', 'get', 'bed', 'early', 'want', 'get', 'good', 'start', 'tom', 'awoke', 'find', 'nasty', 'drizzling', 'rainstorm', 'progress', 'lake', 'almost', 'hidden', 'view', 'swirling', 'fog', 'still', 'daunted', 'trip', 'shopton', 'weather', 'substantial', 'breakfast', 'bade', 'father', 'ned', 'good', 'started', 'arrow', 'canopy', 'provided', 'efficient', 'protection', 'rain', 'celluloid', 'window', 'forward', 'hanging', 'curtains', 'affording', 'view', 'could', 'steer', 'mist', 'puffed', 'boat', 'motor', 'throttled', 'medium', 'speed', 'tom', 'familiar', 'lake', 'would', 'like', 'want', 'run', 'aground', 'another', 'craft', 'thinking', 'father', 'told', 'presence', 'men', 'vainly', 'wondering', 'might', 'reference', 'sparkler', 'thoughts', 'also', 'dwelt', 'curious', 'removal', 'bracing', 'block', 'gasoline', 'tank', 'boat', 'surprised', 'andy', 'foger', 'mused', 'day', 'grand', 'fight', 'maybe', 'let', 'alone', 'well', 'got', 'things', 'think', 'hotel', 'detective', 'keep', 'lookout', 'men', 'around', 'hotel', 'warning', 'gave', 'see', 'right', 'home', 'fog', 'lifted', 'somewhat', 'tom', 'put', 'speed', 'steering', 'boat', 'along', 'near', 'shore', 'heard', 'woods', 'right', 'report', 'gun', 'came', 'suddenly', 'jumped', 'involuntarily', 'moment', 'later', 'sounded', 'plainly', 'damp', 'air', 'cry', 'help', 'ones', 'hurt', 'shot', 'cried', 'youth', 'aloud', 'turned', 'boat', 'toward', 'bank', 'shut', 'power', 'motor', 'heard', 'cry', 'again', 'help', 'help', 'help', 'must', 'go', 'ashore', 'exclaimed', 'probably', 'one', 'badly', 'wounded', 'gun', 'paused', 'moment', 'fear', 'came', 'might', 'patent', 'thieves', 'dismissing', 'idea', 'arrows', 'prow', 'touched', 'gravel', 'tom', 'sprang', 'drew', 'boat', 'little', 'way', 'fastened', 'rope', 'tree', 'hurried', 'dripping', 'woods', 'direction', 'voice', 'calling', 'aid', 'chapter', 'xi', 'quick', 'run', 'you', 'cried', 'tom', 'hurt', 'you', 'uttering', 'words', 'hurried', 'woods', 'short', 'distance', 'young', 'inventor', 'paused', 'answer', 'first', 'could', 'hear', 'nothing', 'drip', 'water', 'branches', 'trees', 'listened', 'intently', 'became', 'aware', 'groan', 'far', 'away', 'you', 'cried', 'lad', 'come', 'help', 'you', 'lost', 'little', 'fear', 'first', 'might', 'one', 'unscrupulous', 'gang', 'came', 'conclusion', 'might', 'safely', 'offer', 'help', 'groan', 'sounded', 'followed', 'faint', 'voice', 'speaking', 'big', 'oak', 'tree', 'oh', 'whoever', 'help', 'quickly', 'bleeding', 'death', 'sound', 'voice', 'guide', 'tom', 'swung', 'around', 'appeal', 'come', 'left', 'looking', 'direction', 'saw', 'mist', 'large', 'oak', 'tree', 'leaping', 'underbrush', 'toward', 'caught', 'sight', 'wounded', 'man', 'foot', 'beside', 'lay', 'gun', 'wound', 'mans', 'right', 'arm', 'shot', 'you', 'cried', 'tom', 'hurrying', 'side', 'man', 'patent', 'thieves', 'realizing', 'stranger', 'would', 'know', 'nothing', 'men', 'stolen', 'model', 'tom', 'prepared', 'change', 'form', 'question', 'opportunity', 'man', 'whose', 'eyes', 'closed', 'opened', 'got', 'better', 'sight', 'face', 'tom', 'uttered', 'cry', 'mr', 'duncan', 'exclaimed', 'lad', 'recognized', 'rich', 'hunter', 'first', 'met', 'woods', 'spring', 'shortly', 'happy', 'harry', 'tramp', 'disabled', 'toms', 'motor', 'cycle', 'mr', 'duncan', 'young', 'inventor', 'repeated', 'get', 'shot', 'tom', 'swift', 'asked', 'gunner', 'help', 'please', 'must', 'stop', 'bleeding', 'arm', 'tell', 'afterward', 'wind', 'something', 'around', 'tight', 'handkerchief', 'man', 'sighed', 'weakly', 'eyes', 'closed', 'lad', 'saw', 'blood', 'spurting', 'ugly', 'wound', 'must', 'make', 'tourniquet', 'youth', 'exclaimed', 'check', 'bleeding', 'get', 'doctor', 'tom', 'think', 'act', 'took', 'knife', 'cut', 'mr', 'duncans', 'sleeves', 'injury', 'slashing', 'coat', 'shirts', 'saw', 'part', 'charge', 'shot', 'torn', 'away', 'large', 'muscular', 'development', 'upper', 'arm', 'hunter', 'seemed', 'fainted', 'youth', 'worked', 'quickly', 'tying', 'handkerchief', 'wound', 'inserting', 'small', 'stone', 'cloth', 'pebble', 'would', 'press', 'main', 'artery', 'tom', 'put', 'stick', 'handkerchief', 'began', 'twist', 'effect', 'tightening', 'linen', 'around', 'arm', 'seconds', 'lad', 'glad', 'see', 'blood', 'stopped', 'spurting', 'every', 'beat', 'heart', 'giving', 'tourniquet', 'twists', 'completely', 'stop', 'flow', 'blood', 'tom', 'fastened', 'stick', 'lever', 'place', 'bit', 'string', 'thats', 'thats', 'better', 'murmured', 'mr', 'duncan', 'go', 'doctor', 'pause', 'breath', 'leave', 'alone', 'go', 'doctor', 'declared', 'tom', 'motor', 'boat', 'lake', 'think', 'could', 'get', 'take', 'home', 'perhaps', 'maybe', 'stronger', 'moment', 'bleeding', 'stopped', 'home', 'frighten', 'wife', 'take', 'sanitarium', 'sanitarium', 'lake', 'miles', 'unfortunate', 'man', 'tried', 'sit', 'upright', 'lean', 'back', 'tree', 'tom', 'understood', 'meant', 'spite', 'broken', 'sentences', 'mr', 'duncan', 'want', 'taken', 'home', 'condition', 'fear', 'alarming', 'wife', 'wanted', 'taken', 'sanitarium', 'tom', 'knew', 'well', 'known', 'resort', 'treatment', 'various', 'diseases', 'surgical', 'cases', 'five', 'miles', 'away', 'opposite', 'shore', 'lake', 'water', 'drink', 'murmured', 'mr', 'duncan', 'seeing', 'patient', 'would', 'right', 'minutes', 'least', 'tom', 'hurried', 'motor', 'boat', 'got', 'cup', 'filling', 'water', 'jug', 'carried', 'hastened', 'hunter', 'fluid', 'revived', 'man', 'wonderfully', 'bleeding', 'almost', 'completely', 'stopped', 'mr', 'duncan', 'much', 'stronger', 'think', 'get', 'boat', 'help', 'you', 'asked', 'tom', 'yes', 'believe', 'think', 'meeting', 'circumstances', 'providential', 'someone', 'shoot', 'you', 'inquired', 'tom', 'could', 'get', 'head', 'notion', 'men', 'assaulted', 'shot', 'answered', 'mr', 'duncan', 'got', 'feet', 'toms', 'help', 'gun', 'practicing', 'day', 'met', 'woods', 'stooped', 'crawl', 'bush', 'weapon', 'went', 'muzzle', 'close', 'arm', 'cannot', 'understand', 'happened', 'fell', 'called', 'help', 'guess', 'must', 'fainted', 'came', 'heard', 'talking', 'come', 'day', 'wet', 'new', 'shot', 'shells', 'wished', 'try', 'order', 'test', 'hunting', 'season', 'get', 'sanitarium', 'well', 'taken', 'care', 'know', 'one', 'doctors', 'tom', 'leading', 'acting', 'sort', 'support', 'journey', 'motor', 'boat', 'slowly', 'made', 'making', 'comfortable', 'bed', 'possible', 'seat', 'cushions', 'tom', 'assisted', 'mr', 'duncan', 'starting', 'engine', 'sent', 'boat', 'shore', 'half', 'speed', 'fog', 'still', 'thick', 'want', 'run', 'upon', 'rock', 'know', 'sanitarium', 'is', 'asked', 'wounded', 'hunter', 'answered', 'tom', 'little', 'doubtfully', 'afraid', 'going', 'hard', 'locate', 'fog', 'theres', 'compass', 'coat', 'pocket', 'said', 'mr', 'duncan', 'take', 'tell', 'steer', 'ought', 'carry', 'compass', 'going', 'sailor', 'tom', 'beginning', 'think', 'wondered', 'thought', 'found', 'one', 'hunter', 'placing', 'seat', 'near', 'carefully', 'listened', 'wounded', 'mans', 'directions', 'tom', 'easily', 'comprehended', 'soon', 'boat', 'headed', 'proper', 'direction', 'comparatively', 'easy', 'keep', 'right', 'course', 'even', 'fog', 'another', 'danger', 'however', 'might', 'run', 'another', 'boat', 'true', 'many', 'lake', 'carlopa', 'one', 'motor', 'boats', 'might', 'spite', 'bad', 'weather', 'guess', 'run', 'full', 'speed', 'decided', 'tom', 'would', 'like', 'crash', 'red', 'streak', 'would', 'sink', 'run', 'motor', 'limit', 'sat', 'steering', 'wheel', 'peering', 'ahead', 'fog', 'first', 'sight', 'another', 'craft', 'turned', 'look', 'mr', 'duncan', 'alarmed', 'pallor', 'face', 'mans', 'eyes', 'closed', 'breathing', 'peculiar', 'manner', 'mr', 'duncan', 'cried', 'tom', 'worse', 'answer', 'leaving', 'helm', 'moment', 'tom', 'bent', 'injured', 'hunter', 'glance', 'showed', 'happened', 'tourniquet', 'slipped', 'wound', 'bleeding', 'tom', 'quickly', 'shut', 'motor', 'might', 'give', 'whole', 'attention', 'work', 'tightening', 'handkerchief', 'something', 'seemed', 'wrong', 'matter', 'tightly', 'twisted', 'stick', 'blood', 'stop', 'flowing', 'lad', 'frightened', 'short', 'time', 'man', 'would', 'bleed', 'death', 'got', 'get', 'sanitarium', 'record', 'time', 'exclaimed', 'tom', 'fog', 'fog', 'got', 'run', 'full', 'speed', 'got', 'chance', 'making', 'bandage', 'tight', 'could', 'fastening', 'place', 'young', 'inventor', 'sprang', 'motor', 'set', 'motion', 'went', 'wheel', 'minutes', 'arrow', 'speeding', 'water', 'never', 'done', 'except', 'raced', 'red', 'streak', 'hit', 'anything', 'good', 'thought', 'tom', 'grimly', 'hands', 'tense', 'rim', 'steering', 'wheel', 'ready', 'instant', 'reverse', 'motor', 'sat', 'straining', 'eyes', 'see', 'curtain', 'mist', 'hung', 'lake', 'glanced', 'compass', 'keep', 'right', 'course', 'time', 'time', 'looked', 'mr', 'duncan', 'hunter', 'still', 'unconscious', 'tom', 'accomplished', 'trip', 'hardly', 'remembered', 'afterward', 'fog', 'shot', 'expecting', 'moment', 'crash', 'boat', 'pass', 'rowing', 'craft', 'sat', 'lone', 'fisherman', 'lad', 'upon', 'instant', 'turn', 'wheel', 'sent', 'arrow', 'safely', 'past', 'startled', 'fisherman', 'whose', 'frail', 'craft', 'set', 'rocking', 'violently', 'swell', 'motor', 'boat', 'sent', 'objecting', 'cry', 'fog', 'tom', 'youth', 'reply', 'raced', 'getting', 'last', 'atom', 'power', 'motor', 'feared', 'mr', 'duncan', 'would', 'dead', 'arrived', 'saw', 'dock', 'sanitarium', 'looming', 'mist', 'shut', 'power', 'slowly', 'run', 'placed', 'hand', 'wounded', 'mans', 'heart', 'found', 'still', 'beating', 'hes', 'alive', 'anyhow', 'thought', 'youth', 'craft', 'bumped', 'bulkhead', 'man', 'boathouse', 'dock', 'sent', 'run', 'physician', 'mr', 'duncan', 'quickly', 'taken', 'sanitarium', 'stretcher', 'tom', 'followed', 'must', 'made', 'record', 'run', 'observed', 'one', 'physicians', 'little', 'afterward', 'tom', 'telling', 'trip', 'waiting', 'office', 'hear', 'report', 'hunters', 'condition', 'guess', 'muttered', 'young', 'inventor', 'think', 'time', 'seemed', 'crawling', 'along', 'chapter', 'xii', 'suspicious', 'characters', 'skill', 'physicians', 'lake', 'sanitarium', 'mr', 'duncans', 'wound', 'quickly', 'attended', 'bleeding', 'tom', 'partly', 'checked', 'completely', 'stopped', 'medicines', 'administered', 'hunter', 'regained', 'little', 'strength', 'hour', 'brought', 'resort', 'able', 'see', 'tom', 'request', 'admitted', 'room', 'young', 'inventor', 'found', 'mr', 'duncan', 'propped', 'bed', 'injured', 'arm', 'bandaged', 'injury', 'bad', 'one', 'asked', 'tom', 'entering', 'softly', 'bad', 'feared', 'replied', 'hunter', 'trained', 'nurse', 'placed', 'chair', 'lad', 'bedside', 'though', 'afraid', 'think', 'might', 'happened', 'glad', 'chanced', 'going', 'past', 'called', 'replied', 'lad', 'well', 'imagine', 'thankful', 'resumed', 'mr', 'duncan', 'thank', 'properly', 'another', 'time', 'hope', 'delay', 'trip', 'much', 'consequence', 'responded', 'youth', 'going', 'see', 'everything', 'right', 'house', 'explained', 'father', 'hotel', 'mentioned', 'worriment', 'go', 'unless', 'something', 'resumed', 'tom', 'probably', 'stay', 'house', 'night', 'night', 'instead', 'trying', 'get', 'back', 'sandport', 'would', 'like', 'send', 'word', 'wife', 'happened', 'said', 'hunter', 'would', 'much', 'way', 'would', 'appreciate', 'could', 'stop', 'home', 'waterford', 'tell', 'alarmed', 'absence', 'replied', 'hero', 'special', 'need', 'hurrying', 'brought', 'gun', 'compass', 'boat', 'office', 'favor', 'asked', 'mr', 'duncan', 'quickly', 'course', 'please', 'accept', 'gun', 'compass', 'compliments', 'excellent', 'make', 'think', 'shall', 'use', 'gun', 'season', 'wife', 'would', 'superstitious', 'compass', 'need', 'one', 'fog', 'recommend', 'mine', 'accurate', 'oh', 'could', 'think', 'taking', 'expostulated', 'tom', 'eyes', 'sparkled', 'anticipation', 'wishing', 'gun', 'mr', 'duncan', 'owned', 'also', 'needed', 'compass', 'take', 'shall', 'feel', 'much', 'offended', 'hunter', 'said', 'nurse', 'tell', 'sick', 'persons', 'ought', 'humored', 'they', 'appealed', 'pretty', 'young', 'woman', 'smiling', 'tom', 'thats', 'perfectly', 'true', 'said', 'showing', 'white', 'even', 'teeth', 'think', 'mr', 'swift', 'shall', 'order', 'take', 'right', 'agreed', 'tom', 'much', 'half', 'enough', 'remarked', 'mr', 'duncan', 'solemnly', 'explain', 'matters', 'wife', 'tell', 'doctor', 'says', 'week', 'going', 'hunting', 'practicing', 'shots', 'little', 'later', 'tom', 'compass', 'guide', 'course', 'fog', 'speeding', 'boat', 'toward', 'waterford', 'glanced', 'fine', 'shotgun', 'unexpectedly', 'acquired', 'come', 'dandy', 'fall', 'exclaimed', 'go', 'hunting', 'quail', 'partridge', 'well', 'wild', 'ducks', 'compass', 'need', 'mrs', 'duncan', 'first', 'much', 'alarmed', 'tom', 'started', 'tell', 'accident', 'soon', 'calmed', 'lad', 'went', 'details', 'stated', 'comparatively', 'danger', 'husband', 'hunters', 'wife', 'insisted', 'tom', 'remain', 'dinner', 'made', 'mind', 'would', 'devote', 'two', 'days', 'instead', 'one', 'trip', 'house', 'consented', 'fog', 'lifted', 'afternoon', 'tom', 'rejoicing', 'sunlight', 'drove', 'away', 'storm', 'clouds', 'speeded', 'arrow', 'skimming', 'lake', 'like', 'shaft', 'bow', 'something', 'like', 'exclaimed', 'soon', 'home', 'find', 'everything', 'right', 'telephone', 'dad', 'sleep', 'room', 'start', 'back', 'morning', 'tom', 'within', 'miles', 'boathouse', 'heard', 'behind', 'put', 'put', 'motor', 'craft', 'turning', 'saw', 'red', 'streak', 'fairly', 'flying', 'along', 'distance', 'andy', 'certainly', 'getting', 'speed', 'remarked', 'would', 'beat', 'racing', 'trouble', 'boat', 'engine', 'cannot', 'always', 'depend', 'guess', 'understand', 'run', 'wonder', 'offer', 'race', 'now', 'red', 'haired', 'owner', 'auto', 'boat', 'evidently', 'intend', 'offer', 'tom', 'race', 'red', 'streak', 'went', 'lake', 'passing', 'arrow', 'half', 'mile', 'away', 'young', 'inventor', 'saw', 'andy', 'two', 'lads', 'boat', 'sam', 'snedecker', 'pete', 'bailey', 'guess', 'murmured', 'well', 'trio', 'pretty', 'much', 'alike', 'farther', 'better', 'like', 'tom', 'gave', 'attention', 'boat', 'going', 'fair', 'speed', 'limit', 'counted', 'reaching', 'home', 'half', 'hour', 'suddenly', 'congratulating', 'smooth', 'running', 'qualities', 'motor', 'missed', 'explosion', 'machinery', 'stopped', 'hello', 'exclaimed', 'young', 'inventor', 'alarm', 'now', 'quickly', 'shut', 'gasoline', 'went', 'back', 'motor', 'many', 'things', 'may', 'happen', 'gasoline', 'engine', 'would', 'difficult', 'name', 'offhand', 'tom', 'much', 'experience', 'loss', 'find', 'stopped', 'machinery', 'tried', 'spark', 'found', 'touching', 'wire', 'top', 'cylinder', 'proper', 'connection', 'made', 'hot', 'fat', 'one', 'compression', 'seemed', 'right', 'supply', 'pipe', 'gasoline', 'tank', 'perfect', 'order', 'still', 'motor', 'would', 'go', 'explosion', 'resulted', 'turned', 'flywheel', 'even', 'primed', 'cylinder', 'putting', 'little', 'gasoline', 'cocks', 'cylinder', 'heads', 'thats', 'funny', 'remarked', 'rested', 'labors', 'contemplated', 'dead', 'motor', 'first', 'time', 'gone', 'back', 'boat', 'drifting', 'lake', 'sound', 'another', 'motor', 'craft', 'approaching', 'tom', 'looked', 'saw', 'red', 'streak', 'containing', 'andy', 'foger', 'cronies', 'observed', 'young', 'inventors', 'plight', 'want', 'tow', 'sneered', 'andy', 'take', 'second', 'hand', 'boat', 'wo', 'run', 'asked', 'pete', 'bailey', 'better', 'get', 'way', 'might', 'run', 'added', 'sam', 'snedecker', 'tom', 'angry', 'chagrined', 'reply', 'red', 'streak', 'swept', 'make', 'go', 'takes', 'night', 'declared', 'tom', 'energetically', 'tried', 'start', 'motor', 'coughed', 'sighed', 'protest', 'would', 'explode', 'tom', 'cried', 'spark', 'plug', 'thats', 'trouble', 'wager', 'think', 'before', 'work', 'minute', 'unscrew', 'spark', 'plugs', 'tops', 'cylinders', 'found', 'accumulations', 'carbon', 'spark', 'could', 'ever', 'reached', 'mixture', 'gasoline', 'air', 'put', 'new', 'ones', 'decided', 'carried', 'spare', 'plugs', 'emergencies', 'inside', 'five', 'minutes', 'new', 'plugs', 'place', 'motor', 'running', 'better', 'home', 'cried', 'tom', 'meet', 'andy', 'foger', 'race', 'time', 'red', 'streak', 'sight', 'little', 'later', 'tom', 'run', 'arrow', 'boathouse', 'locked', 'door', 'way', 'mansion', 'suppose', 'mrs', 'baggert', 'garret', 'surprised', 'see', 'remarked', 'maybe', 'think', 'trust', 'coming', 'back', 'fashion', 'see', 'everything', 'safe', 'suppose', 'dad', 'naturally', 'nervous', 'valuable', 'machinery', 'inventions', 'think', 'find', 'everything', 'right', 'though', 'tom', 'went', 'main', 'path', 'swung', 'side', 'one', 'short', 'cut', 'house', 'saw', 'dusk', 'early', 'evening', 'movement', 'bushes', 'lined', 'walk', 'hello', 'garret', 'exclaimed', 'lad', 'taking', 'granted', 'engineer', 'employed', 'mr', 'swift', 'reply', 'tom', 'sudden', 'suspicion', 'sprang', 'toward', 'bushes', 'shrubbery', 'violently', 'agitated', 'lad', 'reached', 'screen', 'foliage', 'saw', 'man', 'spring', 'ground', 'take', 'heels', 'you', 'want', 'yelled', 'tom', 'hardly', 'spoken', 'behind', 'big', 'apple', 'tree', 'another', 'man', 'sprung', 'light', 'enough', 'lad', 'could', 'see', 'face', 'glimpse', 'caused', 'cry', 'out', 'happy', 'harry', 'tramp', 'could', 'call', 'two', 'men', 'disappeared', 'chapter', 'xiii', 'tom', 'danger', 'garret', 'garret', 'jackson', 'cried', 'tom', 'struggled', 'hedge', 'bushes', 'ran', 'men', 'garret', 'come', 'help', 'chase', 'men', 'came', 'answer', 'toms', 'hail', 'could', 'hear', 'sound', 'retreating', 'footsteps', 'men', 'concluded', 'made', 'escape', 'still', 'would', 'give', 'dashed', 'slipping', 'stumbling', 'colliding', 'tree', 'here', 'thought', 'tom', 'great', 'anxiety', 'dads', 'inventions', 'get', 'turbine', 'motor', 'hello', 'whos', 'there', 'you', 'called', 'voice', 'suddenly', 'oh', 'garret', 'been', 'asked', 'young', 'inventor', 'recognizing', 'tones', 'fathers', 'keeper', 'calling', 'scoundrels', 'around', 'tom', 'ejaculated', 'engineer', 'however', 'world', 'get', 'here', 'thought', 'sandport', 'explain', 'later', 'garret', 'want', 'catch', 'men', 'men', 'happy', 'harry', 'another', 'one', 'saw', 'hiding', 'orchard', 'path', 'come', 'right', 'ahead', 'us', 'though', 'hunted', 'well', 'able', 'fast', 'gathering', 'darkness', 'trace', 'intruders', 'give', 'tom', 'going', 'boathouse', 'see', 'arrow', 'right', 'returned', 'house', 'told', 'engineer', 'housekeeper', 'brought', 'back', 'surprised', 'two', 'men', 'everything', 'right', 'garret', 'concluded', 'dad', 'nervous', 'frightened', 'must', 'telephone', 'hotel', 'night', 'let', 'know', 'promised', 'come', 'back', 'cannot', 'though', 'morrow', 'everything', 'right', 'far', 'know', 'answered', 'jackson', 'kept', 'careful', 'watch', 'burglar', 'alarm', 'working', 'order', 'mrs', 'baggert', 'disturbed', 'single', 'night', 'since', 'went', 'away', 'curious', 'men', 'night', 'come', 'back', 'maybe', 'followed', 'hardly', 'think', 'know', 'coming', 'cannot', 'tell', 'fellows', 'know', 'commented', 'engineer', 'anyhow', 'suppose', 'could', 'gotten', 'sandport', 'soon', 'oh', 'yes', 'could', 'automobile', 'declared', 'tom', 'believe', 'knew', 'coming', 'knew', 'away', 'however', 'thought', 'would', 'good', 'time', 'steal', 'something', 'guess', 'sure', 'nothing', 'taken', 'perfectly', 'sure', 'take', 'look', 'around', 'shop', 'made', 'hasty', 'examination', 'found', 'nothing', 'disturbed', 'signs', 'anyone', 'tried', 'break', 'think', 'telephone', 'dad', 'everything', 'right', 'decided', 'tom', 'far', 'inventions', 'concerned', 'tell', 'seeing', 'men', 'worry', 'explain', 'part', 'better', 'see', 'go', 'back', 'garret', 'guard', 'since', 'men', 'neighborhood', 'tom', 'worry', 'mr', 'swift', 'soon', 'informed', 'son', 'telephone', 'nothing', 'shops', 'disturbed', 'inventor', 'received', 'news', 'evident', 'satisfaction', 'requested', 'tom', 'come', 'back', 'hotel', 'morning', 'order', 'three', 'might', 'go', 'ride', 'lake', 'afternoon', 'tom', 'decided', 'make', 'early', 'start', 'night', 'passed', 'without', 'incident', 'though', 'tom', 'kept', 'gun', 'mr', 'duncan', 'given', 'readiness', 'use', 'got', 'several', 'times', 'thinking', 'heard', 'suspicious', 'noises', 'early', 'breakfast', 'cautioned', 'engineer', 'housekeeper', 'guard', 'tom', 'started', 'back', 'arrow', 'would', 'much', 'way', 'young', 'inventor', 'decided', 'cut', 'across', 'lake', 'stop', 'sanitarium', 'might', 'inquire', 'mr', 'duncan', 'thought', 'could', 'speed', 'arrow', 'sufficiently', 'make', 'time', 'might', 'lose', 'mind', 'headed', 'toward', 'middle', 'lake', 'carlopa', 'engine', 'working', 'splendidly', 'new', 'spark', 'plugs', 'tom', 'wondering', 'possible', 'method', 'getting', 'revolutions', 'motor', 'come', 'conclusion', 'new', 'propeller', 'might', 'answer', 'purpose', 'heard', 'noise', 'approaching', 'boat', 'looked', 'quickly', 'exclaimed', 'andy', 'foger', 'pete', 'sam', 'wonder', 'would', 'go', 'trip', 'instead', 'cruising', 'around', 'near', 'home', 'guess', 'hes', 'afraid', 'get', 'stuck', 'idly', 'tom', 'watched', 'red', 'streak', 'cutting', 'water', 'fast', 'rate', 'throwing', 'curling', 'foam', 'either', 'side', 'sharp', 'bow', 'seems', 'heading', 'way', 'mused', 'tom', 'well', 'going', 'race', 'day', 'nearer', 'nearer', 'came', 'speedy', 'craft', 'straight', 'arrow', 'young', 'inventor', 'shifted', 'helm', 'order', 'get', 'andys', 'course', 'surprise', 'saw', 'red', 'haired', 'lad', 'changed', 'direction', 'boat', 'guess', 'wants', 'see', 'close', 'come', 'thought', 'hero', 'maybe', 'wants', 'show', 'fast', 'hes', 'going', 'red', 'streak', 'close', 'features', 'occupants', 'could', 'easily', 'distinguished', 'grins', 'faces', 'andy', 'cronies', 'get', 'way', 'run', 'cried', 'bully', 'got', 'right', 'way', 'try', 'anything', 'like', 'shouted', 'tom', 'alarm', 'afraid', 'andy', 'red', 'streak', 'getting', 'dangerously', 'near', 'knew', 'andy', 'skillful', 'helmsman', 'auto', 'boat', 'headed', 'directly', 'arrow', 'coming', 'speedily', 'andy', 'bending', 'wheel', 'tom', 'begun', 'turn', 'order', 'get', 'well', 'way', 'insolent', 'squint', 'eyed', 'lad', 'friends', 'suddenly', 'andy', 'uttered', 'cry', 'leaped', 'look', 'look', 'yelled', 'steering', 'gear', 'broken', 'cannot', 'change', 'course', 'look', 'red', 'streak', 'bearing', 'right', 'toms', 'boat', 'shut', 'power', 'reverse', 'shouted', 'tom', 'andy', 'seemed', 'confused', 'know', 'sam', 'snedecker', 'sprang', 'side', 'crony', 'knew', 'even', 'less', 'motor', 'boat', 'looked', 'tom', 'would', 'run', 'great', 'danger', 'young', 'inventor', 'lose', 'head', 'put', 'wheel', 'hard', 'leaping', 'motor', 'sent', 'full', 'speed', 'forward', 'moment', 'soon', 'acted', 'instant', 'later', 'boat', 'shot', 'past', 'stern', 'arrow', 'hitting', 'severe', 'glancing', 'blow', 'toms', 'boat', 'quivered', 'end', 'end', 'quickly', 'shut', 'power', 'time', 'andy', 'succeeded', 'slowing', 'craft', 'young', 'inventor', 'hastily', 'looked', 'side', 'arrow', 'one', 'rudder', 'fastenings', 'torn', 'loose', 'mean', 'running', 'down', 'shouted', 'tom', 'angrily', 'purpose', 'returned', 'andy', 'contritely', 'seeing', 'near', 'could', 'come', 'steering', 'gear', 'broke', 'hope', 'damaged', 'rudders', 'broken', 'went', 'tom', 'got', 'put', 'back', 'repair', 'ought', 'arrested', 'pay', 'damage', 'replied', 'andy', 'frightened', 'white', 'spite', 'tan', 'freckles', 'wo', 'good', 'retorted', 'tom', 'delay', 'couple', 'hours', 'try', 'tricks', 'like', 'complain', 'authorities', 'wo', 'allowed', 'run', 'boat', 'lake', 'andy', 'knew', 'rival', 'right', 'reply', 'bully', 'cronies', 'busied', 'broken', 'steering', 'gear', 'young', 'inventor', 'finding', 'could', 'make', 'shift', 'get', 'back', 'boathouse', 'turned', 'craft', 'around', 'headed', 'order', 'repair', 'damage', 'chapter', 'xiv', 'arrow', 'disappears', 'paying', 'heed', 'occupants', 'bullys', 'boat', 'reason', 'daring', 'responsible', 'accident', 'might', 'resulted', 'seriously', 'tom', 'soon', 'dock', 'conveniently', 'arranged', 'hoisting', 'craft', 'water', 'repair', 'minutes', 'stern', 'arrow', 'elevated', 'could', 'get', 'rudder', 'well', 'bad', 'thought', 'remarked', 'critical', 'eye', 'noted', 'damage', 'done', 'fix', 'hour', 'garret', 'helps', 'going', 'house', 'get', 'tools', 'tell', 'engineer', 'returned', 'tom', 'looked', 'lake', 'saw', 'andys', 'boat', 'moving', 'slowly', 'got', 'fixed', 'kind', 'shape', 'murmured', 'shame', 'chump', 'like', 'andy', 'good', 'boat', 'like', 'spoil', 'one', 'season', 'hes', 'getting', 'altogether', 'reckless', 'first', 'thing', 'knows', 'clash', 'pay', 'back', 'old', 'scores', 'mr', 'jackson', 'much', 'surprised', 'see', 'young', 'inventor', 'home', 'soon', 'also', 'mrs', 'baggert', 'tom', 'explained', 'happened', 'engineer', 'went', 'work', 'repairing', 'damage', 'done', 'red', 'streak', 'owner', 'arrow', 'anticipated', 'work', 'take', 'long', 'shortly', 'dinner', 'time', 'boat', 'ready', 'resume', 'interrupted', 'trip', 'sandport', 'better', 'stay', 'lunch', 'urged', 'mrs', 'baggert', 'hardly', 'get', 'hotel', 'night', 'anyhow', 'maybe', 'would', 'better', 'start', 'morrow', 'must', 'get', 'back', 'night', 'dad', 'would', 'worried', 'declared', 'tom', 'gone', 'longer', 'calculated', 'dinner', 'necessary', 'last', 'half', 'trip', 'dark', 'know', 'way', 'compass', 'good', 'searchlight', 'arrow', 'let', 'water', 'tied', 'outside', 'boathouse', 'ready', 'quick', 'start', 'dinner', 'mrs', 'baggert', 'provided', 'good', 'tom', 'lingered', 'longer', 'meant', 'asked', 'second', 'apple', 'dumpling', 'hard', 'sauce', 'comfortable', 'feeling', 'indeed', 'almost', 'forgiving', 'spirit', 'toward', 'andy', 'foger', 'hero', 'started', 'path', 'lake', 'quick', 'run', 'sandport', 'said', 'aloud', 'hope', 'sha', 'see', 'men', 'dad', 'bothered', 'suspicions', 'house', 'altogether', 'unfounded', 'see', 'tramp', 'one', 'else', 'sneaking', 'around', 'believe', 'come', 'back', 'tom', 'swung', 'around', 'path', 'led', 'dock', 'came', 'sight', 'water', 'stared', 'could', 'believe', 'saw', 'rather', 'see', 'craft', 'tied', 'string', 'piece', 'fastened', 'motor', 'boat', 'looked', 'rubbed', 'eyes', 'make', 'sure', 'cried', 'out', 'arrow', 'gone', 'doubt', 'craft', 'dock', 'breaking', 'run', 'tom', 'hastened', 'boathouse', 'arrow', 'look', 'across', 'lake', 'showed', 'rowboats', 'sight', 'thats', 'mighty', 'funny', 'mused', 'youth', 'wonder', 'paused', 'suddenly', 'thoughts', 'maybe', 'garret', 'took', 'try', 'see', 'worked', 'right', 'said', 'hopefully', 'knows', 'run', 'boat', 'maybe', 'wanted', 'see', 'rudder', 'behaved', 'got', 'dinner', 'thought', 'would', 'said', 'something', 'going', 'one', 'weak', 'point', 'toms', 'theory', 'felt', 'see', 'garret', 'shop', 'went', 'turned', 'back', 'toward', 'house', 'first', 'person', 'met', 'headed', 'group', 'small', 'structures', 'mr', 'swifts', 'inventive', 'work', 'carried', 'garret', 'jackson', 'engineer', 'thought', 'boat', 'stammered', 'tom', 'boat', 'would', 'boat', 'mr', 'jackson', 'removed', 'pipe', 'mouth', 'stared', 'young', 'inventor', 'gone', 'gone', 'repeated', 'engineer', 'tom', 'told', 'two', 'hurried', 'dock', 'addition', 'another', 'pair', 'eyes', 'assistance', 'locating', 'arrow', 'trim', 'little', 'motor', 'craft', 'nowhere', 'seen', 'cannot', 'understand', 'said', 'tom', 'helplessly', 'gone', 'hour', 'dinner', 'yet', 'take', 'long', 'steal', 'motor', 'boat', 'commented', 'engineer', 'think', 'would', 'heard', 'start', 'went', 'lad', 'maybe', 'drifted', 'though', 'sure', 'tied', 'securely', 'theres', 'much', 'likelihood', 'theres', 'wind', 'day', 'currents', 'lake', 'could', 'easily', 'towed', 'one', 'rowboat', 'would', 'heard', 'motor', 'start', 'thats', 'agreed', 'youth', 'thats', 'probably', 'sneaked', 'rowboat', 'towed', 'arrow', 'sure', 'wager', 'know', 'exclaimed', 'mr', 'jackson', 'energetically', 'who', 'demanded', 'tom', 'quickly', 'men', 'sneaking', 'around', 'happy', 'harry', 'gang', 'stole', 'boat', 'would', 'men', 'took', 'boat', 'tom', 'young', 'inventor', 'shook', 'head', 'answered', 'believe', 'not', 'well', 'would', 'dare', 'come', 'back', 'knew', 'lookout', 'would', 'risky', 'oh', 'fellows', 'care', 'risk', 'opinion', 'mr', 'jackson', 'take', 'word', 'boat', 'keeping', 'watch', 'soon', 'saw', 'dock', 'unprotected', 'sneaked', 'stole', 'arrow', 'think', 'repeated', 'mr', 'swifts', 'son', 'think', 'took', 'then', 'andy', 'foger', 'quick', 'response', 'believe', 'cronies', 'annoy', 'trying', 'get', 'even', 'least', 'andy', 'outbidding', 'boat', 'hes', 'tried', 'several', 'times', 'succeeded', 'sure', 'andy', 'foger', 'boat', 'tom', 'grim', 'tightening', 'lips', 'swung', 'around', 'though', 'start', 'instant', 'pursuit', 'going', 'asked', 'mr', 'jackson', 'find', 'andy', 'cronies', 'locate', 'make', 'tell', 'boat', 'better', 'send', 'word', 'father', 'hardly', 'get', 'sandport', 'worried', 'thats', 'telephone', 'dad', 'boat', 'either', 'would', 'worry', 'maybe', 'get', 'sick', 'tell', 'little', 'accident', 'andy', 'ran', 'cannot', 'come', 'back', 'hotel', 'day', 'two', 'maybe', 'lucky', 'find', 'boat', 'time', 'dad', 'wo', 'worry', 'see', 'explain', 'thats', 'tom', 'soon', 'talking', 'mr', 'swift', 'telephone', 'inventor', 'sorry', 'son', 'could', 'come', 'back', 'rejoin', 'ned', 'help', 'cheerful', 'voice', 'could', 'assume', 'lad', 'promised', 'start', 'sandport', 'earliest', 'opportunity', 'find', 'andy', 'boat', 'tom', 'exclaimed', 'hung', 'telephone', 'receiver', 'chapter', 'xv', 'dismaying', 'statement', 'trouble', 'sometimes', 'good', 'way', 'makes', 'person', 'resourceful', 'tom', 'swift', 'share', 'annoyances', 'late', 'served', 'purpose', 'learned', 'think', 'clearly', 'quickly', 'found', 'boat', 'stolen', 'began', 'map', 'plan', 'action', 'first', 'asked', 'mr', 'jackson', 'saw', 'employers', 'son', 'hesitating', 'first', 'going', 'andy', 'fogers', 'house', 'declared', 'young', 'inventor', 'hes', 'home', 'going', 'tell', 'think', 'hes', 'going', 'find', 'take', 'sailboat', 'run', 'dock', 'suggested', 'engineer', 'quick', 'motor', 'boat', 'better', 'walking', 'exclaimed', 'lad', 'use', 'catboat', 'forgotten', 'late', 'glad', 'spoke', 'soon', 'sailing', 'lake', 'direction', 'boathouse', 'waterfront', 'mr', 'fogers', 'property', 'needed', 'glance', 'around', 'dock', 'show', 'red', 'streak', 'tom', 'recollected', 'accident', 'steering', 'gear', 'thought', 'perhaps', 'andy', 'taken', 'boat', 'wharf', 'repair', 'shop', 'left', 'return', 'home', 'inquiry', 'mrs', 'foger', 'nice', 'woman', 'son', 'mean', 'lad', 'gave', 'tom', 'information', 'enemy', 'home', 'telephoned', 'boat', 'damaged', 'said', 'mrs', 'foger', 'gently', 'taken', 'get', 'fixed', 'said', 'friends', 'going', 'little', 'cruise', 'might', 'back', 'night', 'say', 'going', 'asked', 'hero', 'tell', 'andys', 'mother', 'wanted', 'see', 'son', 'worried', 'sometimes', 'think', 'andy', 'well', 'impetuous', 'afraid', 'get', 'trouble', 'tom', 'spite', 'trouble', 'could', 'hardly', 'forbear', 'smiling', 'andys', 'mother', 'totally', 'unaware', 'mean', 'traits', 'son', 'thought', 'fine', 'chap', 'tom', 'going', 'undeceive', 'afraid', 'something', 'happen', 'went', 'think', 'danger', 'lake', 'motor', 'boat', 'mr', 'swift', 'understand', 'one', 'yes', 'one', 'answered', 'tom', 'going', 'say', 'one', 'thought', 'better', 'little', 'danger', 'time', 'year', 'added', 'glad', 'hear', 'say', 'went', 'mrs', 'foger', 'sigh', 'shall', 'feel', 'ease', 'andy', 'away', 'returns', 'home', 'shall', 'tell', 'called', 'upon', 'return', 'visit', 'glad', 'see', 'custom', 'paying', 'calls', 'died', 'among', 'present', 'generation', 'pleasant', 'habit', 'glad', 'son', 'conform', 'shall', 'return', 'kind', 'visit', 'oh', 'consequence', 'replied', 'tom', 'quickly', 'thinking', 'grimly', 'visit', 'far', 'friendly', 'one', 'need', 'tell', 'son', 'probably', 'see', 'day', 'two', 'oh', 'shall', 'tell', 'insisted', 'mrs', 'foger', 'kind', 'smile', 'sure', 'appreciate', 'call', 'much', 'doubt', 'concerning', 'mind', 'young', 'inventor', 'express', 'soon', 'took', 'leave', 'lake', 'rest', 'day', 'cruised', 'looking', 'vain', 'sight', 'andy', 'foger', 'red', 'streak', 'racing', 'boat', 'appeared', 'well', 'hidden', 'could', 'find', 'taken', 'mine', 'mused', 'tom', 'hang', 'rotten', 'luck', 'first', 'time', 'began', 'feel', 'discouraged', 'maybe', 'would', 'better', 'notify', 'police', 'suggested', 'mr', 'jackson', 'tom', 'returned', 'swift', 'house', 'night', 'might', 'help', 'locate', 'think', 'well', 'police', 'answered', 'youth', 'boat', 'anywhere', 'lake', 'police', 'craft', 'make', 'search', 'thats', 'agreed', 'engineer', 'wish', 'could', 'help', 'believe', 'would', 'wise', 'leave', 'house', 'especially', 'since', 'men', 'lately', 'must', 'stay', 'toms', 'opinion', 'take', 'another', 'day', 'two', 'search', 'time', 'andy', 'gang', 'return', 'sure', 'tackle', 'suppose', 'well', 'make', 'tour', 'lake', 'sailboat', 'run', 'sandport', 'tell', 'dad', 'wonder', 'keeping', 'know', 'better', 'next', 'time', 'leave', 'boat', 'dock', 'without', 'taking', 'connection', 'spark', 'coil', 'one', 'start', 'motor', 'done', 'first', 'always', 'think', 'things', 'afterward', 'lad', 'began', 'search', 'next', 'morning', 'cruised', 'little', 'bays', 'gulfs', 'looking', 'sight', 'red', 'streak', 'arrow', 'saw', 'neither', 'call', 'andys', 'house', 'showed', 'red', 'haired', 'youth', 'returned', 'mrs', 'foger', 'quite', 'nervous', 'sons', 'continued', 'absence', 'mr', 'foger', 'thought', 'right', 'another', 'day', 'passed', 'without', 'results', 'young', 'inventor', 'getting', 'nervous', 'partly', 'worrying', 'loss', 'boat', 'partly', 'fathers', 'account', 'know', 'cannot', 'stand', 'longer', 'announced', 'mrs', 'baggert', 'night', 'third', 'day', 'telephone', 'message', 'received', 'mr', 'swift', 'inventor', 'wanted', 'know', 'son', 'return', 'hotel', 'join', 'ned', 'well', 'do', 'asked', 'housekeeper', 'find', 'boat', 'morrow', 'sail', 'sandport', 'bring', 'home', 'dad', 'ned', 'three', 'go', 'lake', 'boat', 'must', 'somewhere', 'lake', 'carlopa', 'cut', 'could', 'easily', 'hidden', 'queer', 'foger', 'boy', 'come', 'home', 'makes', 'look', 'guilty', 'oh', 'sure', 'took', 'right', 'returned', 'tom', 'want', 'see', 'certainly', 'queer', 'stays', 'away', 'long', 'sam', 'snedecker', 'pete', 'bailey', 'return', 'time', 'tom', 'dreamed', 'night', 'finding', 'boat', 'wreck', 'awoke', 'glad', 'find', 'latter', 'part', 'true', 'wishing', 'night', 'vision', 'might', 'come', 'pass', 'day', 'started', 'right', 'breakfast', 'usual', 'headed', 'foger', 'home', 'almost', 'disliked', 'ask', 'mrs', 'foger', 'son', 'yet', 'returned', 'andys', 'mother', 'polite', 'anxious', 'know', 'whether', 'danger', 'threatened', 'tom', 'hardly', 'knew', 'answer', 'saved', 'embarrassment', 'occasion', 'going', 'walk', 'lake', 'residence', 'met', 'gardener', 'learned', 'andy', 'yet', 'come', 'back', 'mother', 'message', 'hear', 'went', 'man', 'hes', 'way', 'seems', 'trouble', 'trouble', 'kind', 'trouble', 'asked', 'tom', 'rightly', 'know', 'sir', 'gardener', 'winked', 'eye', 'master', 'andy', 'particular', 'kind', 'trouble', 'gets', 'thats', 'right', 'agreed', 'hero', 'went', 'left', 'boat', 'thought', 'kind', 'trouble', 'gets', 'people', 'wish', 'hold', 'five', 'minutes', 'sailboat', 'swung', 'slowly', 'dock', 'heeled', 'gentle', 'breeze', 'hardly', 'knowing', 'tom', 'headed', 'middle', 'lake', 'discouraged', 'tired', 'making', 'plans', 'fail', 'looked', 'across', 'stretch', 'water', 'saw', 'boat', 'coming', 'toward', 'shaded', 'eyes', 'hand', 'see', 'better', 'pair', 'marine', 'glasses', 'took', 'observation', 'uttered', 'exclamation', 'thats', 'red', 'streak', 'sure', 'alive', 'cried', 'matter', 'her', 'rowing', 'lad', 'headed', 'boat', 'toward', 'approaching', 'one', 'doubt', 'andy', 'fogers', 'craft', 'speeding', 'forward', 'power', 'motor', 'slowly', 'laborious', 'occupants', 'pulling', 'along', 'meant', 'rowed', 'progress', 'slow', 'breakdown', 'thought', 'tom', 'serves', 'em', 'right', 'wait', 'till', 'tackle', 'em', 'find', 'boat', 'good', 'notion', 'andy', 'foger', 'arrested', 'sailing', 'craft', 'swiftly', 'approached', 'motor', 'boat', 'tom', 'could', 'see', 'three', 'occupants', 'looking', 'apprehensively', 'well', 'curiously', 'thought', 'guess', 'think', 'would', 'keep', 'em', 'mused', 'young', 'inventor', 'little', 'later', 'beside', 'red', 'streak', 'well', 'cried', 'tom', 'angrily', 'time', 'came', 'back', 'breakdown', 'remarked', 'andy', 'seemed', 'quite', 'humiliated', 'beginning', 'find', 'know', 'much', 'motor', 'boat', 'thought', 'waiting', 'went', 'tom', 'waiting', 'us', 'for', 'asked', 'sam', 'snedecker', 'for', 'know', 'blurted', 'owner', 'arrow', 'want', 'boat', 'andy', 'foger', 'one', 'stole', 'hid', 'tell', 'arrested', 'boat', 'repeated', 'bully', 'mistaking', 'surprise', 'tones', 'yes', 'boat', 'try', 'bluff', 'like', 'trying', 'bluff', 'away', 'three', 'days', 'got', 'back', 'yes', 'know', 'took', 'boat', 'crazy', 'demanded', 'pete', 'bailey', 'fellows', 'must', 'think', 'could', 'take', 'boat', 'know', 'tom', 'filled', 'wrath', 'grasped', 'gunwale', 'red', 'streak', 'feared', 'would', 'suddenly', 'shoot', 'away', 'look', 'burst', 'andy', 'spoke', 'sincerely', 'touch', 'boat', 'fellows', 'exclaimed', 'sam', 'pete', 'much', 'earnest', 'even', 'know', 'stolen', 'we', 'went', 'andy', 'agreed', 'chums', 'tom', 'looked', 'unconvinced', 'taken', 'boat', 'prove', 'continued', 'bully', 'know', 'quarrels', 'telling', 'truth', 'tom', 'swift', 'never', 'touched', 'boat', 'mistaking', 'sincerity', 'andy', 'skilful', 'deceiver', 'tom', 'looking', 'squint', 'eyes', 'opened', 'unusually', 'wide', 'could', 'help', 'believing', 'fellow', 'seen', 'since', 'day', 'collision', 'added', 'andy', 'chums', 'confirmed', 'statement', 'went', 'little', 'cruise', 'continued', 'red', 'haired', 'bully', 'broke', 'several', 'times', 'bad', 'luck', 'nearing', 'home', 'something', 'went', 'wrong', 'engine', 'never', 'saw', 'poor', 'motor', 'never', 'took', 'boat', 'tom', 'swift', 'prove', 'tom', 'despair', 'sure', 'andy', 'thief', 'believe', 'otherwise', 'difficult', 'yet', 'felt', 'must', 'looked', 'disabled', 'motor', 'red', 'streak', 'viewed', 'interested', 'expert', 'eye', 'machinist', 'matter', 'owner', 'enemy', 'suddenly', 'brilliant', 'idea', 'came', 'toms', 'head', 'chapter', 'xvi', 'still', 'search', 'seem', 'lots', 'trouble', 'boat', 'andy', 'said', 'tom', 'moments', 'rather', 'embarrassed', 'silence', 'admitted', 'owner', 'red', 'streak', 'bad', 'luck', 'ever', 'since', 'got', 'usually', 'able', 'fix', 'looking', 'book', 'time', 'cannot', 'find', 'trouble', 'fellows', 'stopped', 'middle', 'lake', 'row', 'sick', 'motor', 'boating', 'suppose', 'fix', 'you', 'went', 'tom', 'pay', 'well', 'would', 'pay', 'kind', 'mean', 'continued', 'young', 'inventor', 'mean', 'then', 'andys', 'face', 'lighted', 'became', 'glum', 'well', 'fix', 'boat', 'let', 'run', 'little', 'while', 'mean', 'show', 'run', 'it', 'mean', 'take', 'look', 'andy', 'boats', 'stolen', 'thought', 'took', 'get', 'even', 'say', 'touch', 'interposed', 'squint', 'eyed', 'lad', 'quickly', 'right', 'believe', 'somebody', 'stole', 'think', 'know', 'who', 'asked', 'sam', 'snedecker', 'well', 'would', 'know', 'told', 'suspect', 'men', 'trouble', 'tom', 'referred', 'happy', 'harry', 'gang', 'think', 'boat', 'lake', 'would', 'like', 'get', 'another', 'speedy', 'craft', 'cruise', 'make', 'search', 'andy', 'fix', 'boat', 'let', 'take', 'look', 'boat', 'sure', 'thing', 'agreed', 'bully', 'quickly', 'voice', 'friendly', 'toward', 'tom', 'fix', 'engine', 'run', 'use', 'red', 'streak', 'long', 'like', 'oh', 'probably', 'would', 'want', 'long', 'could', 'cover', 'lake', 'three', 'days', 'hope', 'time', 'could', 'locate', 'thieves', 'bargain', 'sure', 'agreed', 'andy', 'tom', 'got', 'motor', 'boat', 'look', 'engine', 'found', 'would', 'require', 'time', 'adjust', 'properly', 'would', 'necessary', 'take', 'motor', 'apart', 'think', 'would', 'better', 'tow', 'dock', 'young', 'inventor', 'said', 'andy', 'use', 'tools', 'shop', 'night', 'red', 'streak', 'running', 'order', 'breeze', 'right', 'quarter', 'fortunately', 'motor', 'boat', 'dragging', 'behind', 'arrows', 'owner', 'put', 'nose', 'sailing', 'craft', 'toward', 'home', 'dock', 'tom', 'reached', 'house', 'found', 'mrs', 'baggert', 'received', 'another', 'telephone', 'message', 'mr', 'swift', 'inquiring', 'son', 'returned', 'sandport', 'says', 'come', 'back', 'morrow', 'repeated', 'housekeeper', 'come', 'home', 'train', 'hes', 'getting', 'anxious', 'believe', 'wonder', 'admitted', 'tom', 'want', 'stay', 'change', 'good', 'soon', 'boat', 'back', 'go', 'lake', 'swiftly', 'join', 'tell', 'patient', 'tom', 'talked', 'father', 'length', 'assuring', 'everything', 'well', 'shopton', 'house', 'promising', 'soon', 'young', 'inventor', 'began', 'work', 'motor', 'red', 'streak', 'found', 'quite', 'job', 'call', 'mr', 'jackson', 'help', 'one', 'pistons', 'repaired', 'number', 'adjustments', 'made', 'cylinders', 'night', 'motor', 'fully', 'mended', 'placed', 'back', 'boat', 'better', 'shape', 'since', 'andy', 'purchased', 'craft', 'remarked', 'tom', 'ready', 'hunt', 'scoundrels', 'leave', 'boat', 'dock', 'night', 'andy', 'yes', 'start', 'early', 'morning', 'going', 'not', 'demanded', 'tom', 'quickly', 'well', 'er', 'see', 'enough', 'motoring', 'explained', 'andy', 'besides', 'believe', 'mother', 'would', 'like', 'go', 'chase', 'thieves', 'shoot', 'might', 'hit', 'one', 'oh', 'see', 'answered', 'tom', 'like', 'take', 'boat', 'alone', 'besides', 'fancy', 'much', 'shooting', 'know', 'going', 'take', 'gun', 'fact', 'one', 'mr', 'duncan', 'gave', 'boat', 'want', 'get', 'arrow', 'back', 'thats', 'right', 'went', 'andy', 'take', 'boat', 'use', 'long', 'like', 'rest', 'days', 'find', 'boat', 'bring', 'mine', 'back', 'tom', 'understood', 'glad', 'andy', 'accompany', 'chase', 'red', 'haired', 'lad', 'never', 'good', 'friends', 'probably', 'never', 'would', 'would', 'cause', 'embarrassment', 'together', 'boat', 'day', 'tom', 'knew', 'could', 'manage', 'red', 'streak', 'better', 'alone', 'course', 'want', 'mention', 'asked', 'loan', 'craft', 'andys', 'suggestion', 'however', 'solved', 'difficulty', 'tom', 'idea', 'andy', 'felt', 'little', 'timid', 'going', 'pursuit', 'thieves', 'naturally', 'would', 'mention', 'squint', 'eyed', 'lad', 'considered', 'quite', 'fighter', 'early', 'next', 'morning', 'alone', 'red', 'streak', 'tom', 'continued', 'search', 'stolen', 'boat', 'started', 'home', 'dock', 'mapped', 'course', 'would', 'take', 'well', 'around', 'lake', 'spose', 'could', 'take', 'run', 'sandport', 'mused', 'youth', 'shot', 'little', 'bays', 'keeping', 'watch', 'arrow', 'dad', 'told', 'worry', 'might', 'want', 'accompany', 'think', 'manage', 'better', 'alone', 'red', 'streak', 'run', 'faster', 'one', 'ought', 'wind', 'search', 'two', 'days', 'boat', 'still', 'lake', 'scoundrels', 'sunk', 'make', 'pay', 'shot', 'speedy', 'motor', 'boat', 'along', 'winding', 'shoreline', 'lad', 'bow', 'steering', 'wheel', 'peering', 'eager', 'eyes', 'every', 'nook', 'corner', 'craft', 'might', 'hidden', 'chapter', 'xvii', 'anticipating', 'would', 'time', 'search', 'young', 'inventor', 'gone', 'prepared', 'supply', 'provisions', 'told', 'mrs', 'baggert', 'might', 'back', 'night', 'intend', 'sleep', 'aboard', 'red', 'streak', 'racing', 'boat', 'large', 'enough', 'afford', 'much', 'room', 'passengers', 'tom', 'planned', 'therefore', 'put', 'hotel', 'near', 'lake', 'case', 'hunt', 'last', 'beyond', 'one', 'night', 'would', 'almost', 'certain', 'morning', 'searched', 'unavailingly', 'arrow', 'distant', 'mill', 'whistle', 'sounding', 'lake', 'carlopa', 'told', 'noon', 'dinner', 'time', 'announced', 'guess', 'run', 'along', 'shore', 'shade', 'eat', 'selecting', 'place', 'trees', 'overhung', 'water', 'forming', 'quiet', 'cool', 'nook', 'tom', 'sent', 'boat', 'tying', 'leaning', 'tree', 'began', 'simple', 'meal', 'various', 'thoughts', 'filled', 'mind', 'chief', 'among', 'desire', 'overtake', 'thieves', 'boat', 'happy', 'harrys', 'gang', 'positive', 'lad', 'nearly', 'finished', 'eating', 'considering', 'direction', 'might', 'best', 'search', 'next', 'heard', 'running', 'along', 'road', 'bordered', 'lake', 'automobile', 'wonder', 'is', 'mused', 'tom', 'wo', 'harm', 'take', 'look', 'might', 'thieves', 'probably', 'still', 'auto', 'happy', 'harry', 'could', 'gotten', 'sandport', 'shopton', 'quickly', 'young', 'inventor', 'slipped', 'ashore', 'motor', 'boat', 'taking', 'care', 'make', 'noise', 'stealing', 'silently', 'along', 'toward', 'road', 'peered', 'underbrush', 'sight', 'machine', 'seemed', 'going', 'slowly', 'youth', 'glimpse', 'made', 'aware', 'occupant', 'hearing', 'someone', 'exclaim', 'bless', 'shoe', 'laces', 'cantankerous', 'contraption', 'going', 'wrong', 'wonder', 'going', 'fit', 'lonely', 'place', 'acts', 'bless', 'existence', 'hold', 'nice', 'nice', 'mr', 'damon', 'exclaimed', 'tom', 'without', 'knowing', 'spoken', 'aloud', 'hold', 'hold', 'whos', 'calling', 'forsaken', 'locality', 'bless', 'shirt', 'studs', 'it', 'eccentric', 'man', 'sold', 'tom', 'motor', 'cycle', 'looked', 'intently', 'bushes', 'mr', 'damon', 'answered', 'lad', 'stepping', 'road', 'knew', 'soon', 'saw', 'bless', 'liver', 'thats', 'true', 'suppose', 'heard', 'unfortunate', 'automobile', 'puffing', 'along', 'declare', 'know', 'ails', 'got', 'advice', 'physician', 'said', 'must', 'get', 'air', 'bless', 'gears', 'auto', 'needs', 'doctor', 'continually', 'order', 'something', 'going', 'happen', 'right', 'away', 'tell', 'way', 'behaving', 'mr', 'damon', 'thrown', 'clutch', 'engine', 'still', 'running', 'though', 'jerky', 'uncertain', 'fashion', 'indicated', 'trained', 'ear', 'young', 'inventor', 'something', 'wrong', 'perhaps', 'fix', 'ventured', 'tom', 'bless', 'eyebrows', 'perhaps', 'cried', 'eccentric', 'man', 'hopefully', 'always', 'seem', 'turn', 'right', 'moment', 'manage', 'it', 'know', 'remember', 'time', 'turned', 'wanted', 'help', 'capture', 'happy', 'harry', 'gang', 'strange', 'coincidence', 'say', 'good', 'gracious', 'bless', 'hatband', 'thats', 'odd', 'ejaculated', 'suddenly', 'automobile', 'engine', 'stopped', 'choking', 'sigh', 'knew', 'something', 'going', 'happen', 'let', 'take', 'look', 'proposed', 'lad', 'soon', 'busy', 'peering', 'interior', 'machine', 'first', 'could', 'find', 'trouble', 'persistent', 'youth', 'tom', 'went', 'systematically', 'located', 'two', 'places', 'clutch', 'rightly', 'adjusted', 'carburetor', 'float', 'feed', 'needed', 'fixing', 'young', 'inventor', 'long', 'making', 'slight', 'repairs', 'assured', 'mr', 'damon', 'automobile', 'would', 'run', 'properly', 'bless', 'existence', 'thing', 'head', 'mechanics', 'exclaimed', 'odd', 'man', 'gratefully', 'would', 'bother', 'adjust', 'nutmeg', 'grater', 'got', 'order', 'dare', 'say', 'could', 'fix', 'time', 'yes', 'answered', 'tom', 'could', 'could', 'theres', 'nothing', 'fix', 'go', 'ahead', 'wish', 'thank', 'shows', 'ignorant', 'machinery', 'presume', 'something', 'go', 'wrong', 'another', 'mile', 'two', 'may', 'ask', 'here', 'presume', 'motor', 'boat', 'sailing', 'pleasure', 'understand', 'say', 'chaps', 'again', 'bless', 'watch', 'charm', 'interested', 'machine', 'think', 'ask', 'yes', 'thieves', 'motor', 'boat', 'presume', 'well', 'hope', 'catch', 'stolen', 'now', 'motor', 'boat', 'thats', 'borrow', 'craft', 'chase', 'bless', 'soul', 'tell', 'happen', 'thereupon', 'lad', 'related', 'much', 'story', 'necessary', 'put', 'mr', 'damon', 'possession', 'facts', 'ended', 'with', 'suppose', 'seen', 'anything', 'men', 'boat', 'you', 'mr', 'damon', 'seemed', 'strangely', 'excited', 'entered', 'auto', 'lads', 'story', 'progressed', 'odd', 'gentleman', 'descended', 'tom', 'finished', 'exclaimed', 'say', 'word', 'word', 'want', 'think', 'process', 'requires', 'little', 'time', 'speak', 'word', 'bless', 'left', 'hand', 'think', 'help', 'frowned', 'stamped', 'first', 'one', 'foot', 'looked', 'sky', 'seeking', 'inspiration', 'ground', 'would', 'help', 'think', 'clapped', 'hands', 'smartly', 'together', 'cried', 'out', 'bless', 'shoe', 'buttons', 'seen', 'them', 'asked', 'tom', 'eagerly', 'boat', 'one', 'red', 'arrow', 'painted', 'bow', 'asked', 'mr', 'damon', 'turn', 'lad', 'almost', 'excited', 'friend', 'seen', 'morning', 'bless', 'spark', 'plug', 'seen', 'tell', 'pleaded', 'young', 'inventor', 'mr', 'damon', 'calming', 'effort', 'resumed', 'early', 'spin', 'auto', 'said', 'traveling', 'along', 'road', 'bordered', 'lake', 'fifteen', 'miles', 'heard', 'motor', 'boat', 'puffing', 'along', 'near', 'shore', 'looking', 'trees', 'saw', 'one', 'containing', 'three', 'men', 'red', 'arrow', 'bow', 'thats', 'noticed', 'recalled', 'boat', 'named', 'dart', 'arrow', 'corrected', 'tom', 'arrow', 'oh', 'yes', 'knew', 'something', 'like', 'well', 'course', 'time', 'think', 'boat', 'associated', 'mind', 'catch', 'meaning', 'tom', 'said', 'wishing', 'mr', 'damon', 'would', 'hurry', 'get', 'point', 'eccentric', 'character', 'things', 'way', 'exactly', 'resumed', 'well', 'think', 'boat', 'time', 'watched', 'men', 'curiosity', 'struck', 'behavior', 'seemed', 'quarreling', 'could', 'hear', 'two', 'seemed', 'remonstrating', 'third', 'one', 'taken', 'sort', 'piece', 'wood', 'forward', 'compartment', 'believe', 'proper', 'term', 'yes', 'tom', 'almost', 'shouted', 'go', 'became', 'them', 'man', 'forward', 'compartment', 'gasoline', 'tank', 'is', 'exactly', 'trying', 'think', 'kept', 'thats', 'gasoline', 'tank', 'well', 'boat', 'kept', 'lake', 'know', 'became', 'men', 'piece', 'wood', 'seems', 'one', 'men', 'removed', 'block', 'tank', 'others', 'objected', 'thats', 'quarreling', 'thats', 'strange', 'exclaimed', 'lad', 'must', 'mystery', 'boat', 'understand', 'keep', 'get', 'boat', 'good', 'mr', 'damon', 'must', 'to', 'lake', 'thieves', 'must', 'lose', 'time', 'tom', 'started', 'go', 'back', 'left', 'red', 'streak', 'hold', 'cried', 'mr', 'damon', 'something', 'propose', 'tom', 'two', 'heads', 'better', 'one', 'even', 'one', 'know', 'adjust', 'nutmeg', 'grate', 'suppose', 'come', 'along', 'you', 'point', 'direction', 'men', 'took', 'rate', 'glad', 'answered', 'lad', 'felt', 'might', 'need', 'help', 'three', 'thieves', 'craft', 'automobile', 'run', 'road', 'way', 'friend', 'mine', 'stable', 'leave', 'join', 'let', 'come', 'bless', 'eye', 'glasses', 'would', 'like', 'help', 'catch', 'scoundrels', 'glad', 'go', 'ahead', 'put', 'auto', 'barn', 'wait', 'better', 'plan', 'replied', 'mr', 'damon', 'run', 'boat', 'point', 'indicated', 'one', 'mile', 'lake', 'waiting', 'lose', 'time', 'cover', 'ground', 'faster', 'auto', 'boat', 'tom', 'saw', 'advantage', 'soon', 'way', 'heard', 'shore', 'puffing', 'friends', 'car', 'trip', 'point', 'tom', 'puzzled', 'strange', 'actions', 'man', 'taking', 'one', 'braces', 'gasoline', 'tank', 'wager', 'thought', 'lad', 'must', 'person', 'tampering', 'lock', 'forward', 'compartment', 'day', 'bought', 'boat', 'thats', 'question', 'why', 'could', 'find', 'answer', 'puzzle', 'gave', 'whole', 'desire', 'get', 'trail', 'thieves', 'strong', 'hopes', 'clew', 'mr', 'damon', 'given', 'latter', 'waiting', 'point', 'nimble', 'owner', 'auto', 'spite', 'size', 'tom', 'delayed', 'fraction', 'minute', 'ere', 'way', 'speeding', 'lake', 'keep', 'well', 'toward', 'shore', 'advised', 'mr', 'damon', 'fellows', 'want', 'observed', 'help', 'sneak', 'along', 'bank', 'headed', 'direction', 'pointed', 'hope', 'wo', 'think', 'way', 'besides', 'know', 'get', 'boat', 'back', 'want', 'one', 'help', 'steer', 'run', 'one', 'events', 'bless', 'existence', 'glad', 'help', 'replied', 'lad', 'take', 'eyes', 'water', 'looking', 'sight', 'boat', 'men', 'three', 'hours', 'tom', 'mr', 'damon', 'cruised', 'along', 'shore', 'lake', 'going', 'farther', 'farther', 'body', 'water', 'tom', 'beginning', 'think', 'would', 'reach', 'sandport', 'without', 'catching', 'sight', 'thieves', 'wondering', 'might', 'better', 'stop', 'see', 'father', 'puffing', 'motor', 'red', 'streak', 'heard', 'put', 'put', 'another', 'boat', 'listen', 'cried', 'mr', 'damon', 'heard', 'time', 'tom', 'nodded', 'ahead', 'us', 'whispered', 'companion', 'lads', 'reply', 'speed', 'soon', 'see', 'suggested', 'mr', 'damon', 'tom', 'shoved', 'timer', 'red', 'streak', 'forged', 'ahead', 'sound', 'boat', 'came', 'plainly', 'beyond', 'little', 'point', 'land', 'young', 'inventor', 'steered', 'get', 'around', 'leaned', 'eagerly', 'forward', 'catch', 'first', 'glimpse', 'unseen', 'craft', 'would', 'prove', 'arrow', 'put', 'put', 'became', 'louder', 'mr', 'damon', 'standing', 'would', 'mysterious', 'way', 'help', 'suddenly', 'boat', 'came', 'view', 'tom', 'saw', 'instant', 'knew', 'arrow', 'cried', 'chapter', 'xviii', 'pursuit', 'instant', 'toms', 'exultant', 'cry', 'men', 'boat', 'ahead', 'aware', 'pursued', 'explosions', 'motor', 'red', 'streak', 'sounded', 'water', 'turned', 'see', 'coming', 'behind', 'mistaking', 'attitude', 'young', 'inventor', 'companion', 'leaning', 'eagerly', 'forward', 'could', 'reach', 'grasp', 'criminals', 'fleeing', 'put', 'speed', 'tom', 'begged', 'mr', 'damon', 'catch', 'scoundrels', 'speed', 'motor', 'oh', 'automobile', 'bless', 'crank', 'shaft', 'one', 'go', 'much', 'faster', 'land', 'water', 'lad', 'reply', 'thought', 'grim', 'humor', 'running', 'automobile', 'lake', 'carlopa', 'would', 'small', 'feat', 'mr', 'damon', 'however', 'knew', 'saying', 'catch', 'nab', 'em', 'cried', 'speed', 'tom', 'youth', 'best', 'motor', 'red', 'streak', 'well', 'acquainted', 'one', 'boat', 'knew', 'even', 'better', 'andy', 'foger', 'make', 'efficient', 'work', 'foregone', 'conclusion', 'red', 'streak', 'rightly', 'handled', 'could', 'beat', 'arrow', 'several', 'points', 'favor', 'thieves', 'motor', 'toms', 'boat', 'perfect', 'order', 'even', 'amateur', 'knowledge', 'boat', 'could', 'make', 'nearly', 'best', 'hand', 'red', 'streaks', 'machinery', 'needed', 'nursing', 'thieves', 'good', 'start', 'counted', 'much', 'tom', 'counted', 'two', 'points', 'one', 'happy', 'harry', 'gang', 'would', 'probably', 'know', 'little', 'fine', 'points', 'motor', 'shown', 'letting', 'motor', 'boat', 'first', 'stolen', 'get', 'order', 'tom', 'knew', 'ins', 'outs', 'gasoline', 'engine', 'perfection', 'chase', 'hopeless', 'seemed', 'think', 'catch', 'them', 'asked', 'mr', 'damon', 'anxiously', 'going', 'make', 'big', 'try', 'answered', 'companion', 'heading', 'middle', 'lake', 'cried', 'eccentric', 'man', 'cut', 'murmured', 'tom', 'put', 'wheel', 'whoever', 'steering', 'arrow', 'knew', 'better', 'send', 'course', 'would', 'enable', 'pursuing', 'boat', 'cut', 'across', 'shorten', 'distance', 'sending', 'stolen', 'craft', 'far', 'enough', 'shore', 'clear', 'points', 'land', 'jutted', 'lake', 'leading', 'boat', 'sent', 'straight', 'ahead', 'stern', 'chase', 'long', 'chase', 'murmured', 'mr', 'damon', 'bless', 'rudder', 'fellows', 'going', 'give', 'easily', 'guess', 'murmured', 'tom', 'steer', 'mr', 'damon', 'course', 'could', 'get', 'pull', 'boat', 'make', 'go', 'faster', 'would', 'always', 'lose', 'breath', 'run', 'perhaps', 'well', 'stay', 'tom', 'thought', 'attention', 'soon', 'given', 'engine', 'adjusted', 'timer', 'get', 'possible', 'little', 'speed', 'boat', 'borrowed', 'andy', 'paid', 'particular', 'attention', 'oiling', 'system', 'going', 'bit', 'faster', 'called', 'mr', 'damon', 'encouragingly', 'else', 'slacking', 'tom', 'peered', 'ahead', 'see', 'hard', 'judge', 'whether', 'overhauling', 'arrow', 'stern', 'chase', 'always', 'difficult', 'judge', 'glimpse', 'along', 'shore', 'showed', 'slipping', 'water', 'faster', 'speed', 'something', 'suddenly', 'exclaimed', 'mr', 'damon', 'moment', 'later', 'believe', 'going', 'fire', 'us', 'tom', 'pointing', 'something', 'way', 'lad', 'stood', 'gazed', 'earnestly', 'boat', 'seemed', 'slipping', 'away', 'fast', 'one', 'occupants', 'stern', 'aiming', 'glittering', 'object', 'red', 'streak', 'moment', 'tom', 'thought', 'might', 'gun', 'man', 'turned', 'saw', 'pair', 'marine', 'glasses', 'cried', 'lad', 'trying', 'make', 'guess', 'know', 'well', 'enough', 'rejoined', 'mr', 'damon', 'cannot', 'go', 'faster', 'tom', 'afraid', 'land', 'sooner', 'later', 'cannot', 'go', 'far', 'direction', 'without', 'running', 'ashore', 'cutting', 'across', 'lake', 'may', 'escape', 'us', 'gets', 'dark', 'probably', 'thats', 'working', 'want', 'keep', 'ahead', 'us', 'nightfall', 'young', 'inventor', 'thought', 'little', 'could', 'motor', 'running', 'top', 'speed', 'could', 'made', 'go', 'faster', 'tom', 'knew', 'another', 'ignition', 'system', 'question', 'man', 'glasses', 'resumed', 'seat', 'efforts', 'trio', 'seemed', 'concentrated', 'motor', 'arrow', 'wished', 'go', 'faster', 'skill', 'enough', 'accomplish', 'ten', 'minutes', 'tom', 'took', 'another', 'long', 'careful', 'look', 'ascertain', 'possible', 'whether', 'overhauling', 'thieves', 'delighted', 'see', 'distance', 'boats', 'lessened', 'catching', 'creeping', 'cried', 'mr', 'damon', 'keep', 'tom', 'nothing', 'however', 'save', 'wait', 'boat', 'ahead', 'shifted', 'course', 'somewhat', 'turning', 'toward', 'shore', 'lake', 'narrow', 'point', 'abandoning', 'evident', 'intention', 'keeping', 'straight', 'lake', 'thieves', 'seemed', 'bent', 'something', 'else', 'believe', 'going', 'run', 'ashore', 'get', 'cried', 'mr', 'damon', 'want', 'declared', 'lad', 'care', 'men', 'want', 'boat', 'back', 'occupants', 'arrow', 'looking', 'rear', 'one', 'happy', 'harry', 'tom', 'thought', 'shook', 'fist', 'ah', 'wait', 'get', 'hold', 'cried', 'mr', 'damon', 'following', 'example', 'make', 'wish', 'would', 'behaved', 'scoundrels', 'bless', 'overcoat', 'catch', 'tom', 'doubt', 'intention', 'fleeing', 'ones', 'shore', 'looming', 'ahead', 'straight', 'headed', 'arrow', 'tom', 'sent', 'andys', 'boat', 'direction', 'rapidly', 'overhauling', 'escaping', 'ones', 'slowed', 'motor', 'three', 'minutes', 'later', 'foremost', 'boat', 'grated', 'beach', 'lake', 'men', 'leaped', 'one', 'pausing', 'instant', 'bow', 'damage', 'boat', 'cried', 'tom', 'involuntarily', 'man', 'seemed', 'hammering', 'something', 'fellow', 'leaped', 'side', 'holding', 'something', 'hand', 'go', 'catch', 'yelled', 'mr', 'damon', 'let', 'go', 'answered', 'lad', 'men', 'ran', 'toward', 'wood', 'want', 'boat', 'afraid', 'damaged', 'one', 'tore', 'something', 'bow', 'instant', 'two', 'companions', 'fellow', 'paused', 'forward', 'part', 'arrow', 'saw', 'something', 'hand', 'yells', 'rage', 'dashed', 'shaking', 'fist', 'plunged', 'bushes', 'could', 'heard', 'breaking', 'way', 'companions', 'pursuit', 'quarreled', 'among', 'commented', 'mr', 'damon', 'high', 'angry', 'voices', 'could', 'heard', 'woods', 'theres', 'mystery', 'tom', 'doubt', 'first', 'concern', 'boat', 'want', 'see', 'damaged', 'tom', 'run', 'closely', 'shore', 'red', 'streak', 'reverse', 'avoid', 'damaging', 'craft', 'bank', 'mass', 'foam', 'stopped', 'time', 'springing', 'ashore', 'hurried', 'motor', 'boat', 'chapter', 'xix', 'quiet', 'cruise', 'done', 'damage', 'asked', 'mr', 'damon', 'stood', 'bow', 'red', 'streak', 'tom', 'answer', 'moment', 'trained', 'eye', 'looking', 'engine', 'yanked', 'high', 'tension', 'wire', 'instead', 'stopping', 'motor', 'switch', 'answered', 'length', 'taken', 'look', 'compartment', 'gasoline', 'tank', 'added', 'ripped', 'two', 'braces', 'put', 'world', 'cannot', 'imagine', 'thats', 'evidently', 'one', 'man', 'others', 'wanted', 'mr', 'damons', 'opinion', 'probably', 'agreed', 'tom', 'could', 'want', 'wooden', 'braces', 'puzzler', 'mr', 'damon', 'answered', 'perhaps', 'wanted', 'damage', 'boat', 'two', 'men', 'mad', 'got', 'ahead', 'taking', 'braces', 'would', 'much', 'damage', 'easily', 'put', 'others', 'would', 'would', 'cause', 'tank', 'sag', 'maybe', 'cause', 'leak', 'pipe', 'would', 'queer', 'thing', 'think', 'theres', 'mystery', 'gotten', 'bottom', 'yet', 'going', 'good', 'exclaimed', 'mr', 'damon', 'help', 'run', 'boat', 'back', 'home', 'without', 'fixing', 'bit', 'must', 'brace', 'tank', 'put', 'new', 'high', 'tension', 'wire', 'spark', 'coil', 'would', 'rather', 'take', 'shop', 'besides', 'two', 'boats', 'run', 'back', 'must', 'return', 'andys', 'see', 'well', 'unless', 'operate', 'one', 'mr', 'damon', 'excuse', 'cannot', 'bless', 'slippers', 'would', 'sure', 'run', 'rock', 'best', 'plan', 'tow', 'boat', 'ride', 'steer', 'much', 'anyhow', 'ride', 'red', 'streak', 'tom', 'agreed', 'would', 'good', 'plan', 'temporarily', 'bracing', 'tank', 'arrow', 'shoved', 'lake', 'attached', 'andys', 'craft', 'going', 'make', 'search', 'men', 'asked', 'mr', 'damon', 'tom', 'ready', 'start', 'back', 'think', 'would', 'useless', 'well', 'away', 'time', 'fancy', 'chasing', 'woods', 'especially', 'night', 'coming', 'besides', 'wo', 'leave', 'boats', 'doubt', 'right', 'would', 'like', 'see', 'punished', 'curious', 'enough', 'wish', 'know', 'object', 'scoundrel', 'could', 'ripping', 'blocks', 'served', 'brace', 'tank', 'feel', 'way', 'commented', 'lad', 'especially', 'since', 'second', 'time', 'thats', 'happened', 'wait', 'guess', 'little', 'later', 'start', 'back', 'made', 'mr', 'damon', 'steering', 'arrow', 'skillfully', 'enough', 'drag', 'leading', 'boat', 'tom', 'rode', 'course', 'took', 'far', 'lake', 'sanitarium', 'mr', 'duncan', 'hunter', 'brought', 'desiring', 'know', 'wounded', 'man', 'getting', 'youth', 'proposed', 'make', 'halt', 'explaining', 'mr', 'damon', 'reason', 'yes', 'would', 'better', 'telephone', 'father', 'join', 'morrow', 'suggested', 'know', 'fret', 'worry', 'fix', 'boat', 'time', 'go', 'sandport', 'morrow', 'cannot', 'you', 'yes', 'glad', 'reminded', 'telephone', 'sanitarium', 'let', 'mr', 'duncan', 'institution', 'tom', 'told', 'injury', 'healed', 'sufficiently', 'allow', 'removed', 'home', 'youth', 'readily', 'secured', 'permission', 'use', 'telephone', 'soon', 'communication', 'mr', 'swift', 'telling', 'occurrences', 'delayed', 'tom', 'gave', 'father', 'ned', 'newton', 'enough', 'information', 'explain', 'absence', 'trip', 'shopton', 'resumed', 'two', 'boats', 'going', 'automobile', 'asked', 'tom', 'neared', 'point', 'machine', 'left', 'never', 'mind', 'replied', 'mr', 'damon', 'good', 'nights', 'vacation', 'go', 'house', 'perhaps', 'get', 'train', 'back', 'friends', 'home', 'claim', 'car', 'wo', 'stay', 'night', 'me', 'invited', 'young', 'inventor', 'would', 'glad', 'mr', 'damon', 'agreed', 'tom', 'putting', 'speed', 'red', 'streak', 'soon', 'opposite', 'dock', 'arrow', 'run', 'boathouse', 'owner', 'hastily', 'told', 'mrs', 'baggert', 'engineer', 'occurred', 'took', 'andys', 'boat', 'mr', 'fogers', 'dock', 'warmly', 'thanked', 'red', 'haired', 'lad', 'use', 'craft', 'find', 'boat', 'asked', 'andy', 'eagerly', 'red', 'streak', 'run', 'got', 'boat', 'runs', 'fine', 'explained', 'tom', 'good', 'race', 'day', 'declared', 'andy', 'mr', 'damon', 'enjoyed', 'visit', 'heros', 'house', 'mrs', 'baggert', 'cooked', 'one', 'best', 'suppers', 'tom', 'engineer', 'spent', 'evening', 'repairing', 'motor', 'boat', 'mr', 'damon', 'looking', 'exclaiming', 'bless', 'shoe', 'leather', 'part', 'dress', 'anatomy', 'every', 'stage', 'work', 'engineer', 'wanted', 'know', 'men', 'doings', 'could', 'supply', 'reason', 'queer', 'actions', 'regarding', 'braces', 'gasoline', 'tank', 'morning', 'tom', 'prepared', 'early', 'start', 'sandport', 'mr', 'damon', 'reconsidering', 'plans', 'rode', 'far', 'place', 'automobile', 'left', 'took', 'leave', 'young', 'inventor', 'promising', 'call', 'mr', 'swift', 'near', 'future', 'hope', 'arrive', 'hotel', 'father', 'without', 'accidents', 'remarked', 'automobilist', 'bless', 'existence', 'seem', 'remarkable', 'series', 'adventures', 'ever', 'heard', 'rather', 'odd', 'admitted', 'tom', 'know', 'particularly', 'care', 'either', 'boat', 'back', 'guess', 'everything', 'right', 'tom', 'could', 'look', 'ahead', 'destined', 'still', 'exciting', 'times', 'presently', 'related', 'without', 'incident', 'arrived', 'lakeview', 'hotel', 'sandport', 'evening', 'found', 'father', 'ned', 'glad', 'see', 'course', 'explain', 'everything', 'son', 'safely', 'sight', 'mr', 'swift', 'nervous', 'recital', 'would', 'tom', 'present', 'nice', 'quiet', 'trips', 'remarked', 'lad', 'finished', 'account', 'feel', 'cheated', 'part', 'vacation', 'ned', 'staying', 'away', 'long', 'well', 'course', 'missed', 'answered', 'chum', 'father', 'good', 'time', 'yes', 'invented', 'new', 'attachment', 'kitchen', 'boiler', 'added', 'mr', 'swift', 'chance', 'passed', 'hotel', 'kitchen', 'one', 'day', 'wanted', 'see', 'kind', 'range', 'used', 'guess', 'theres', 'stopping', 'inventing', 'replied', 'son', 'laugh', 'hopeless', 'shake', 'head', 'let', 'happen', 'go', 'away', 'rest', 'oh', 'thought', 'said', 'mr', 'swift', 'worked', 'details', 'yet', 'wanted', 'know', 'everything', 'home', 'seemed', 'particularly', 'anxious', 'lest', 'happy', 'harry', 'gang', 'damage', 'believe', 'tom', 'assured', 'garret', 'mrs', 'baggert', 'guard', 'next', 'days', 'pleasant', 'ones', 'tom', 'father', 'ned', 'newton', 'cruised', 'lake', 'went', 'fishing', 'camped', 'woods', 'even', 'mr', 'swift', 'spent', 'one', 'night', 'tent', 'said', 'liked', 'much', 'week', 'three', 'led', 'ideal', 'existence', 'going', 'pleased', 'ned', 'taking', 'number', 'photographs', 'new', 'camera', 'arrow', 'proved', 'fine', 'boat', 'tom', 'ned', 'mr', 'swift', 'accompany', 'explored', 'seldom', 'visited', 'parts', 'lake', 'carlopa', 'three', 'one', 'day', 'discussing', 'necessity', 'returning', 'home', 'soon', 'ned', 'spoke', 'shall', 'hate', 'give', 'life', 'go', 'slaving', 'bank', 'complained', 'wish', 'inventor', 'oh', 'inventors', 'easy', 'time', 'said', 'mr', 'swift', 'never', 'know', 'trouble', 'coming', 'little', 'imagined', 'near', 'truth', 'little', 'later', 'hotel', 'dock', 'tom', 'tied', 'boat', 'three', 'walked', 'path', 'broad', 'veranda', 'faced', 'lake', 'boy', 'uniform', 'met', 'one', 'called', 'telephone', 'mr', 'swift', 'reported', 'one', 'wants', 'me', 'it', 'think', 'said', 'name', 'jackson', 'sir', 'garret', 'jackson', 'says', 'message', 'important', 'tom', 'something', 'happened', 'home', 'exclaimed', 'inventor', 'hurried', 'steps', 'afraid', 'theres', 'bad', 'news', 'unable', 'still', 'fear', 'heart', 'tom', 'followed', 'father', 'chapter', 'xx', 'news', 'robbery', 'hand', 'trembled', 'could', 'scarcely', 'hold', 'receiver', 'telephone', 'mr', 'swift', 'placed', 'ear', 'hello', 'hello', 'cried', 'transmitter', 'yes', 'mr', 'swift', 'yes', 'garret', 'it', 'came', 'series', 'clicks', 'tom', 'ned', 'listened', 'inventor', 'spoke', 'that', 'men', 'broke', 'early', 'evening', 'oh', 'thats', 'bad', 'course', 'come', 'followed', 'meaningless', 'clicks', 'tom', 'wished', 'could', 'translate', 'father', 'hung', 'receiver', 'turned', 'exclaimed', 'robbed', 'robbed', 'dad', 'rascally', 'gang', 'garret', 'thinks', 'evening', 'mrs', 'baggert', 'house', 'burglar', 'alarm', 'went', 'indicator', 'showed', 'electrical', 'shop', 'entered', 'engineer', 'hurried', 'saw', 'light', 'inside', 'shadows', 'persons', 'windows', 'could', 'reach', 'shop', 'however', 'thieves', 'heard', 'coming', 'escaped', 'oh', 'tom', 'never', 'come', 'away', 'take', 'anything', 'dad', 'perhaps', 'garret', 'frightened', 'away', 'chance', 'steal', 'things', 'ask', 'that', 'need', 'said', 'made', 'hasty', 'exanimation', 'called', 'sure', 'number', 'electrical', 'inventions', 'missing', 'devices', 'never', 'patented', 'lose', 'recovery', 'ones', 'they', 'perhaps', 'send', 'police', 'alarm', 'night', 'garret', 'could', 'tell', 'answered', 'mr', 'swift', 'paced', 'fro', 'hotel', 'office', 'know', 'tools', 'machinery', 'certain', 'valuable', 'things', 'taken', 'never', 'mind', 'worry', 'dad', 'tom', 'tried', 'speak', 'soothingly', 'saw', 'father', 'much', 'excited', 'may', 'able', 'get', 'back', 'garret', 'know', 'men', 'stole', 'turbine', 'model', 'broke', 'shop', 'evening', 'saw', 'one', 'happy', 'harry', 'positive', 'others', 'know', 'recognized', 'tramp', 'description', 'must', 'tell', 'police', 'yes', 'tom', 'wish', 'would', 'telephone', 'give', 'description', 'things', 'cannot', 'either', 'know', 'stolen', 'must', 'go', 'home', 'find', 'good', 'thing', 'motor', 'boat', 'come', 'lets', 'start', 'bill', 'here', 'inventor', 'turned', 'hotel', 'proprietor', 'come', 'office', 'suffered', 'severe', 'loss', 'must', 'leave', 'sorry', 'sir', 'ready', 'minutes', 'right', 'tom', 'boat', 'ready', 'quick', 'trip', 'yes', 'dad', 'like', 'make', 'night', 'three', 'course', 'might', 'perfectly', 'safe', 'theres', 'risk', 'like', 'take', 'worry', 'risk', 'account', 'tom', 'afraid', 'must', 'get', 'home', 'see', 'robbed', 'young', 'inventor', 'quandary', 'wanted', 'father', 'requested', 'aid', 'could', 'yet', 'knew', 'night', 'trip', 'boat', 'lake', 'would', 'dangerous', 'chance', 'running', 'unknown', 'shore', 'hidden', 'rock', 'mr', 'swift', 'physically', 'fitted', 'stand', 'journey', 'come', 'tom', 'exclaimed', 'aged', 'inventor', 'impatiently', 'must', 'start', 'wo', 'morning', 'well', 'dad', 'must', 'start', 'could', 'sleep', 'worrying', 'happened', 'start', 'instant', 'came', 'low', 'rumbling', 'peal', 'thunder', 'mr', 'swift', 'started', 'peered', 'window', 'came', 'flash', 'lightning', 'another', 'vibrant', 'report', 'storm', 'charged', 'clouds', 'bill', 'mr', 'swift', 'remarked', 'proprietor', 'coming', 'would', 'advise', 'start', 'night', 'bad', 'storm', 'west', 'reach', 'minutes', 'storms', 'lake', 'carlopa', 'especially', 'open', 'exposed', 'end', 'despised', 'assure', 'must', 'get', 'home', 'insisted', 'toms', 'father', 'lace', 'curtain', 'window', 'blew', 'almost', 'straight', 'sudden', 'breeze', 'flash', 'lightning', 'bright', 'reflected', 'even', 'room', 'incandescent', 'electrics', 'glowing', 'made', 'several', 'others', 'jump', 'came', 'mighty', 'crash', 'flood', 'gates', 'storm', 'opened', 'rain', 'came', 'torrents', 'tom', 'actually', 'breathed', 'sigh', 'relief', 'problem', 'solved', 'would', 'impossible', 'start', 'night', 'glad', 'much', 'wanted', 'get', 'trail', 'thieves', 'scurrying', 'part', 'hotel', 'attendants', 'close', 'windows', 'guests', 'enjoying', 'air', 'porches', 'came', 'running', 'rush', 'roar', 'muttering', 'peal', 'peal', 'thunder', 'sounded', 'deluge', 'continued', 'good', 'thing', 'start', 'observed', 'ned', 'say', 'agreed', 'tom', 'get', 'first', 'thing', 'morning', 'dad', 'mr', 'swift', 'reply', 'nervous', 'pacing', 'fro', 'hotel', 'office', 'showed', 'anxious', 'home', 'help', 'however', 'time', 'finding', 'think', 'reaching', 'house', 'night', 'question', 'inventor', 'calmed', 'somewhat', 'storm', 'continued', 'nearly', 'night', 'tom', 'could', 'bear', 'witness', 'sleep', 'well', 'father', 'came', 'breakfast', 'morning', 'mr', 'swift', 'plainly', 'showed', 'effects', 'bad', 'news', 'face', 'haggard', 'drawn', 'eyes', 'smarted', 'burned', 'lack', 'sleep', 'well', 'tom', 'must', 'start', 'early', 'said', 'nervously', 'glad', 'cleared', 'boat', 'ready', 'yes', 'good', 'thing', 'shelter', 'last', 'night', 'would', 'bail', 'would', 'delay', 'us', 'hour', 'later', 'way', 'telephoned', 'engineer', 'swift', 'home', 'coming', 'garret', 'jackson', 'reported', 'wire', 'notified', 'shopton', 'police', 'robbery', 'little', 'could', 'done', 'inventor', 'arrived', 'give', 'description', 'stolen', 'articles', 'little', 'good', 'fear', 'remarked', 'tom', 'fellows', 'evidently', 'planning', 'time', 'cover', 'tracks', 'well', 'would', 'like', 'catch', 'recover', 'things', 'dad', 'find', 'mystery', 'boat', 'man', 'took', 'tank', 'braces', 'chapter', 'xxi', 'balloon', 'fire', 'lake', 'carlopa', 'speeded', 'arrow', 'board', 'watching', 'banks', 'slip', 'past', 'motor', 'boat', 'rapidly', 'cut', 'water', 'time', 'think', 'ought', 'reach', 'home', 'tom', 'asked', 'mr', 'swift', 'oh', 'four', 'oclock', 'stop', 'lunch', 'stop', 'decided', 'inventor', 'eat', 'board', 'suppose', 'rations', 'smiled', 'first', 'time', 'since', 'hearing', 'bad', 'news', 'oh', 'yes', 'ned', 'eat', 'everything', 'camping', 'trips', 'tom', 'glad', 'note', 'fine', 'weather', 'followed', 'storm', 'good', 'effect', 'father', 'certainly', 'good', 'time', 'remarked', 'ned', 'know', 'enjoyed', 'vacation', 'bad', 'cut', 'short', 'robbery', 'commented', 'mr', 'swift', 'oh', 'well', 'time', 'would', 'days', 'went', 'young', 'bank', 'employee', 'well', 'start', 'back', 'tom', 'took', 'shortest', 'route', 'knew', 'keeping', 'close', 'shore', 'dared', 'anxious', 'get', 'home', 'father', 'speeded', 'arrow', 'yet', 'fast', 'seemed', 'slow', 'mr', 'swift', 'like', 'nervous', 'persons', 'always', 'wanted', 'go', 'wherever', 'desired', 'go', 'instantly', 'tom', 'headed', 'boat', 'around', 'little', 'point', 'land', 'urging', 'engine', 'top', 'notch', 'speed', 'clear', 'course', 'danger', 'shoals', 'hidden', 'rocks', 'saw', 'darting', 'shore', 'tiny', 'craft', 'somehow', 'seemed', 'familiar', 'recognized', 'peculiar', 'put', 'putter', 'motor', 'thats', 'dot', 'remarked', 'low', 'voice', 'ned', 'miss', 'nestors', 'cousins', 'boat', 'now', 'asked', 'ned', 'yes', 'answered', 'tom', 'quickly', 'got', 'good', 'eyesight', 'remarked', 'ned', 'dryly', 'tell', 'girl', 'distance', 'looks', 'like', 'boy', 'mary', 'mean', 'miss', 'nestor', 'youth', 'quickly', 'corrected', 'close', 'observer', 'would', 'noticed', 'blushed', 'bit', 'coat', 'tan', 'ned', 'laughed', 'tom', 'blushed', 'still', 'mr', 'swift', 'stern', 'seat', 'glanced', 'quickly', 'looks', 'boat', 'wanted', 'hail', 'us', 'inventor', 'remarked', 'tom', 'thinking', 'thing', 'though', 'changed', 'course', 'slightly', 'since', 'sighting', 'dot', 'little', 'craft', 'put', 'meet', 'wondering', 'miss', 'nestor', 'could', 'want', 'willing', 'chat', 'young', 'inventor', 'shifted', 'helm', 'short', 'time', 'two', 'craft', 'within', 'hailing', 'distance', 'do', 'called', 'miss', 'nestor', 'slowed', 'motor', 'think', 'improving', 'mr', 'swift', 'that', 'er', 'beg', 'pardon', 'catch', 'exclaimed', 'aged', 'inventor', 'quickly', 'coming', 'sort', 'day', 'dream', 'beg', 'pardon', 'thought', 'addressed', 'miss', 'nestor', 'blushed', 'looked', 'questioningly', 'tom', 'father', 'explained', 'introduced', 'parent', 'ned', 'needed', 'none', 'met', 'miss', 'nestor', 'indeed', 'improved', 'much', 'went', 'hero', 'seem', 'able', 'manage', 'boat', 'alone', 'yes', 'pretty', 'well', 'dick', 'lets', 'take', 'dot', 'whenever', 'want', 'thought', 'would', 'come', 'little', 'trial', 'run', 'morning', 'getting', 'ready', 'races', 'suppose', 'going', 'enter', 'them', 'steered', 'boat', 'alongside', 'toms', 'throttled', 'powerful', 'motor', 'pass', 'friend', 'races', 'heard', 'replied', 'oh', 'indeed', 'fine', 'ones', 'auspices', 'lanton', 'motor', 'club', 'mr', 'hastings', 'bought', 'boat', 'going', 'enter', 'new', 'carlopa', 'dick', 'entered', 'dot', 'baby', 'class', 'course', 'going', 'run', 'thats', 'practicing', 'hope', 'win', 'remarked', 'tom', 'heard', 'races', 'think', 'enter', 'glad', 'told', 'want', 'race', 'now', 'laughed', 'looked', 'brown', 'eyes', 'mary', 'nestor', 'indeed', 'unless', 'give', 'start', 'several', 'miles', 'kept', 'together', 'little', 'time', 'longer', 'tom', 'knew', 'father', 'would', 'restless', 'slow', 'speed', 'told', 'miss', 'nestor', 'need', 'haste', 'advancing', 'timer', 'soon', 'left', 'dot', 'behind', 'girl', 'called', 'laughing', 'good', 'urged', 'forget', 'races', 'take', 'place', 'two', 'weeks', 'suppose', 'andy', 'foger', 'enter', 'boat', 'commented', 'ned', 'naturally', 'agreed', 'tom', 'racer', 'probably', 'think', 'beat', 'anything', 'lake', 'manage', 'motor', 'differently', 'wo', 'distance', 'sandport', 'shopton', 'half', 'covered', 'noon', 'travelers', 'ate', 'lunch', 'boat', 'mr', 'swift', 'looking', 'anxiously', 'ahead', 'catch', 'first', 'glimpse', 'dock', 'tom', 'adjusting', 'machinery', 'finely', 'dared', 'get', 'maximum', 'speed', 'ned', 'newton', 'happened', 'gazing', 'aloft', 'wondering', 'perfect', 'beauty', 'blue', 'sky', 'storm', 'uttered', 'sudden', 'exclamation', 'arose', 'pointed', 'object', 'air', 'look', 'cried', 'balloon', 'must', 'gone', 'fair', 'tom', 'father', 'looked', 'upward', 'high', 'air', 'almost', 'heads', 'immense', 'balloon', 'hot', 'air', 'variety', 'performers', 'use', 'make', 'ascensions', 'fair', 'grounds', 'circuses', 'dangled', 'trapeze', 'upon', 'could', 'observed', 'man', 'looked', 'like', 'doll', 'human', 'like', 'high', 'remarked', 'ned', 'would', 'answered', 'tom', 'slowed', 'engine', 'better', 'watch', 'balloon', 'would', 'like', 'go', 'airship', 'intend', 'day', 'believe', 'hes', 'going', 'jump', 'suddenly', 'exclaimed', 'ned', 'minutes', 'hes', 'going', 'something', 'anyhow', 'probably', 'come', 'parachute', 'said', 'tom', 'generally', 'cried', 'ned', 'going', 'jump', 'something', 'happened', 'balloon', 'fire', 'burned', 'death', 'horror', 'stricken', 'gazed', 'aloft', 'mouth', 'balloon', 'shot', 'tongue', 'fire', 'followed', 'cloud', 'black', 'smoke', 'big', 'bag', 'getting', 'smaller', 'seemed', 'descending', 'man', 'trapeze', 'hanging', 'downward', 'hands', 'get', 'far', 'possible', 'away', 'terrible', 'heat', 'chapter', 'xxii', 'rescue', 'jump', 'jump', 'cried', 'mr', 'swift', 'leaping', 'feet', 'motioning', 'man', 'trapeze', 'balloon', 'doubtful', 'whether', 'performer', 'heard', 'certainly', 'could', 'see', 'frantic', 'motions', 'inventor', 'jump', 'mr', 'swift', 'went', 'piteously', 'two', 'lads', 'surely', 'burned', 'death', 'hangs', 'far', 'leap', 'exclaimed', 'tom', 'hes', 'good', 'way', 'air', 'though', 'looks', 'like', 'short', 'distance', 'would', 'killed', 'dropped', 'ought', 'parachute', 'added', 'ned', 'men', 'go', 'balloon', 'come', 'that', 'wonder', 'balloon', 'took', 'fire', 'maybe', 'parachute', 'suggested', 'tom', 'slowed', 'motor', 'boat', 'still', 'remain', 'nearly', 'blazing', 'balloon', 'yes', 'cried', 'ned', 'see', 'hanging', 'one', 'side', 'big', 'bag', 'ought', 'cut', 'loose', 'could', 'save', 'he', 'balloon', 'slowly', 'twisting', 'gradually', 'settling', 'surface', 'lake', 'flames', 'becoming', 'fiercer', 'black', 'clouds', 'smoke', 'increased', 'size', 'see', 'parachute', 'went', 'ned', 'twisting', 'bag', 'brought', 'view', 'parachute', 'big', 'umbrella', 'shaped', 'bag', 'would', 'enabled', 'man', 'safely', 'drop', 'surface', 'lake', 'without', 'would', 'hit', 'water', 'force', 'would', 'killed', 'surely', 'struck', 'solid', 'earth', 'boys', 'mr', 'swift', 'also', 'saw', 'something', 'else', 'balloon', 'fire', 'side', 'parachute', 'suspended', 'look', 'look', 'shouted', 'tom', 'bringing', 'boat', 'stop', 'thats', 'cannot', 'jump', 'cannot', 'reach', 'parachute', 'time', 'balloon', 'settled', 'low', 'actions', 'man', 'could', 'plainly', 'seen', 'great', 'agony', 'fear', 'well', 'great', 'pain', 'terrific', 'heat', 'head', 'evident', 'shifted', 'trapeze', 'bar', 'hanging', 'one', 'hand', 'bring', 'body', 'little', 'farther', 'blazing', 'end', 'bag', 'one', 'arm', 'tired', 'would', 'hang', 'balloon', 'would', 'come', 'quickly', 'would', 'get', 'within', 'short', 'distance', 'water', 'man', 'could', 'safely', 'make', 'drop', 'immense', 'canvas', 'bag', 'settling', 'slowly', 'still', 'buoyant', 'considerable', 'time', 'must', 'elapse', 'would', 'near', 'enough', 'water', 'make', 'safe', 'unfortunate', 'man', 'let', 'go', 'trapeze', 'oh', 'could', 'something', 'cried', 'tom', 'remain', 'helpless', 'watch', 'burn', 'death', 'awful', 'three', 'boat', 'continued', 'gaze', 'upward', 'could', 'see', 'man', 'making', 'frantic', 'efforts', 'reach', 'parachute', 'time', 'time', 'little', 'current', 'air', 'blew', 'flames', 'smoke', 'one', 'side', 'thought', 'chance', 'trapeze', 'bar', 'pulled', 'edged', 'along', 'endeavor', 'grasp', 'ring', 'parachute', 'almost', 'hold', 'also', 'cord', 'ran', 'knife', 'blade', 'cord', 'pulled', 'would', 'sever', 'rope', 'bound', 'balloon', 'would', 'comparatively', 'safe', 'might', 'drop', 'lake', 'grasp', 'ring', 'cord', 'smoke', 'came', 'swirling', 'hungry', 'flames', 'seemed', 'put', 'fiery', 'tongues', 'devour', 'slide', 'back', 'hung', 'hands', 'thought', 'saved', 'whispered', 'tom', 'even', 'whisper', 'sounded', 'loud', 'silence', 'several', 'men', 'came', 'running', 'along', 'shore', 'lake', 'saw', 'occupants', 'arrow', 'cried', 'out', 'save', 'him', 'go', 'rescue', 'do', 'asked', 'ned', 'quietly', 'two', 'friends', 'trouble', 'answer', 'men', 'shore', 'probably', 'know', 'saying', 'motor', 'boat', 'drifted', 'spot', 'unfortunate', 'balloonist', 'word', 'father', 'young', 'inventor', 'started', 'engine', 'steered', 'craft', 'back', 'directly', 'blazing', 'bag', 'drop', 'perhaps', 'may', 'able', 'pick', 'said', 'mr', 'swift', 'wish', 'could', 'save', 'cry', 'ned', 'startled', 'tom', 'father', 'eyes', 'momentarily', 'directed', 'away', 'burning', 'bag', 'high', 'air', 'turned', 'toward', 'balloon', 'falling', 'apart', 'exclaimed', 'ned', 'indeed', 'seem', 'pieces', 'burning', 'canvas', 'blazing', 'smoking', 'falling', 'shower', 'part', 'bag', 'already', 'consumed', 'fiery', 'particles', 'fairly', 'raining', 'man', 'still', 'wits', 'though', 'perilous', 'position', 'enough', 'make', 'one', 'lose', 'mind', 'swung', 'side', 'side', 'bar', 'shifting', 'skillfully', 'hands', 'dodging', 'larger', 'particles', 'blazing', 'canvas', 'small', 'sparks', 'fell', 'clothing', 'beat', 'one', 'hand', 'clung', 'trapeze', 'scarcely', 'wind', 'mans', 'plight', 'might', 'bearable', 'current', 'air', 'would', 'carried', 'smoke', 'fire', 'one', 'side', 'smoke', 'flames', 'went', 'straight', 'save', 'draught', 'created', 'heat', 'would', 'swirl', 'black', 'clouds', 'performer', 'hiding', 'sight', 'second', 'two', 'breeze', 'would', 'carried', 'sparks', 'away', 'instead', 'letting', 'fall', 'nearer', 'nearer', 'surface', 'lake', 'sank', 'balloon', 'time', 'crowd', 'bank', 'increased', 'excited', 'opinions', 'best', 'trouble', 'little', 'could', 'done', 'man', 'could', 'hold', 'got', 'near', 'enough', 'water', 'let', 'go', 'might', 'yet', 'saved', 'would', 'time', 'present', 'rate', 'balloon', 'falling', 'performer', 'realized', 'fire', 'getting', 'hotter', 'made', 'another', 'desperate', 'attempt', 'reach', 'parachute', 'unavailing', 'drop', 'back', 'hanging', 'slender', 'bar', 'suddenly', 'came', 'puff', 'wind', 'fanning', 'faces', 'motor', 'boat', 'looked', 'intently', 'observe', 'current', 'high', 'balloonist', 'saw', 'big', 'bag', 'sway', 'one', 'side', 'flames', 'broke', 'fiercely', 'caught', 'draught', 'balloon', 'moved', 'slowly', 'lake', 'keep', 'tom', 'urged', 'father', 'may', 'able', 'save', 'lad', 'increased', 'speed', 'engine', 'ned', 'wheel', 'gave', 'little', 'twist', 'suddenness', 'startling', 'blazing', 'canvas', 'airship', 'began', 'settle', 'swiftly', 'toward', 'water', 'lost', 'much', 'buoyancy', 'jump', 'hes', 'near', 'enough', 'water', 'cried', 'tom', 'new', 'danger', 'arose', 'true', 'balloon', 'rapidly', 'approaching', 'surface', 'lake', 'seconds', 'would', 'within', 'short', 'distance', 'leap', 'would', 'fatal', 'burning', 'bag', 'coming', 'straight', 'scarcely', 'would', 'man', 'water', 'ere', 'fiery', 'canvas', 'mass', 'would', 'top', 'event', 'would', 'either', 'burned', 'death', 'held', 'drowning', 'must', 'quickly', 'follow', 'wind', 'enough', 'carry', 'balloon', 'beyond', 'jumped', 'could', 'safely', 'cried', 'ned', 'tom', 'said', 'nothing', 'measuring', 'eye', 'distance', 'balloon', 'yet', 'go', 'also', 'distance', 'away', 'motor', 'boat', 'would', 'probably', 'land', 'exclaimed', 'young', 'inventor', 'how', 'asked', 'father', 'answer', 'tom', 'caught', 'newspaper', 'purchased', 'hotel', 'morning', 'rolling', 'quickly', 'cone', 'formed', 'rough', 'megaphone', 'put', 'smaller', 'end', 'mouth', 'pointing', 'larger', 'opening', 'balloonist', 'called', 'out', 'drop', 'lake', 'pick', 'bag', 'falls', 'jump', 'let', 'go', 'balloonist', 'heard', 'understood', 'ned', 'mr', 'swift', 'toms', 'quick', 'wit', 'found', 'way', 'save', 'man', 'faster', 'faster', 'blazing', 'bag', 'settled', 'toward', 'surface', 'water', 'merely', 'mushroom', 'shaped', 'piece', 'burning', 'smoking', 'canvas', 'yet', 'supporting', 'man', 'almost', 'parachute', 'would', 'done', 'one', 'look', 'upward', 'burning', 'mass', 'glance', 'downward', 'lake', 'aeronaut', 'let', 'go', 'hold', 'like', 'shot', 'came', 'holding', 'body', 'rigid', 'straight', 'stick', 'knew', 'fall', 'water', 'balloonist', 'tom', 'swift', 'ready', 'sooner', 'lad', 'called', 'directions', 'megaphone', 'young', 'inventor', 'speeded', 'engine', 'top', 'notch', 'steer', 'pick', 'tom', 'cried', 'ned', 'wheel', 'pass', 'curve', 'soon', 'grab', 'put', 'wheel', 'get', 'balloon', 'risky', 'thing', 'hero', 'planned', 'made', 'loop', 'boats', 'painter', 'hurrying', 'bow', 'leaned', 'far', 'could', 'holding', 'rope', 'readiness', 'idea', 'balloonist', 'grab', 'strands', 'pulled', 'danger', 'speedy', 'motor', 'boat', 'blazing', 'canvas', 'would', 'cover', 'extent', 'water', 'man', 'could', 'swum', 'danger', 'zone', 'time', 'shot', 'balloonist', 'slowly', 'settled', 'collapsed', 'bag', 'yet', 'slowly', 'time', 'spare', 'needed', 'seconds', 'drop', 'performer', 'burn', 'smother', 'water', 'splashed', 'man', 'disappearing', 'sight', 'stick', 'dropped', 'point', 'first', 'ned', 'alert', 'steered', 'boat', 'side', 'mans', 'face', 'concluded', 'aeronaut', 'would', 'strike', 'direction', 'came', 'arrow', 'directly', 'blazing', 'balloon', 'cries', 'fear', 'watchers', 'shore', 'urged', 'upon', 'tom', 'companions', 'danger', 'position', 'take', 'risk', 'rescue', 'man', 'cried', 'mr', 'swift', 'watch', 'leaning', 'side', 'boat', 'tom', 'ned', 'saw', 'instant', 'ned', 'shifted', 'wheel', 'young', 'inventor', 'bent', 'holding', 'rope', 'man', 'grasp', 'saw', 'struck', 'toward', 'arrow', 'need', 'go', 'far', 'instant', 'speeding', 'motor', 'boat', 'shot', 'past', 'grabbed', 'rope', 'tom', 'aided', 'mr', 'swift', 'began', 'lift', 'water', 'quick', 'one', 'side', 'ned', 'yelled', 'tom', 'heat', 'descending', 'mass', 'burning', 'canvas', 'struck', 'like', 'furnace', 'blast', 'ned', 'needed', 'urging', 'swirl', 'screw', 'arrow', 'shot', 'way', 'carrying', 'aeronaut', 'moment', 'later', 'burning', 'balloon', 'left', 'settled', 'lake', 'hissing', 'angrily', 'fire', 'quenched', 'water', 'completely', 'covering', 'spot', 'seconds', 'man', 'swimming', 'saved', 'nick', 'time', 'chapter', 'xxiii', 'plans', 'airship', 'slow', 'ned', 'cried', 'tom', 'arrow', 'shooting', 'swiftly', 'water', 'young', 'inventor', 'found', 'impossible', 'pull', 'balloonist', 'ned', 'hurried', 'back', 'motor', 'boats', 'way', 'checked', 'easy', 'matter', 'pull', 'dripping', 'almost', 'exhausted', 'man', 'craft', 'much', 'hurt', 'asked', 'mr', 'swift', 'anxiously', 'tom', 'much', 'breath', 'exertion', 'ask', 'questions', 'matter', 'man', 'almost', 'bad', 'plight', 'breathing', 'heavily', 'one', 'run', 'long', 'race', 'guess', 'right', 'panted', 'burned', 'little', 'hands', 'close', 'call', 'boat', 'swung', 'around', 'headed', 'shore', 'quite', 'throng', 'persons', 'cheered', 'saw', 'plucky', 'rescue', 'afraid', 'cannot', 'save', 'balloon', 'gasped', 'tom', 'looked', 'place', 'canvas', 'still', 'floating', 'burning', 'matter', 'worth', 'much', 'thats', 'last', 'time', 'ever', 'go', 'hot', 'air', 'balloon', 'said', 'man', 'energy', 'exhibited', 'done', 'em', 'lesson', 'hereafter', 'aeroplane', 'gas', 'balloon', 'oblige', 'fair', 'committee', 'man', 'spoke', 'short', 'crisp', 'sentences', 'though', 'much', 'hurry', 'waste', 'words', 'let', 'sink', 'went', 'good', 'glad', 'see', 'last', 'almost', 'spoke', 'final', 'hiss', 'cloud', 'steam', 'mingled', 'black', 'smoke', 'remains', 'big', 'bag', 'sunk', 'beneath', 'surface', 'lake', 'must', 'get', 'ashore', 'doctor', 'said', 'mr', 'swift', 'must', 'badly', 'burned', 'much', 'hands', 'burning', 'pieces', 'canvas', 'fell', 'em', 'little', 'oil', 'put', 'would', 'right', 'fix', 'better', 'put', 'tom', 'vaseline', 'good', 'thing', 'pass', 'man', 'though', 'spoke', 'shortly', 'seemed', 'grateful', 'offer', 'names', 'sharp', 'went', 'john', 'sharp', 'place', 'particular', 'travel', 'professional', 'balloonist', 'ha', 'thats', 'stuff', 'last', 'reference', 'bottle', 'vaseline', 'tom', 'produced', 'mr', 'sharp', 'spread', 'backs', 'hands', 'went', 'on', 'thats', 'better', 'much', 'obliged', 'cannot', 'begin', 'thank', 'saved', 'life', 'thought', 'would', 'must', 'mind', 'manner', 'way', 'talk', 'quick', 'balloonin', 'time', 'grateful', 'might', 'people', 'be', 'tom', 'told', 'names', 'mr', 'swift', 'asked', 'aeronaut', 'sure', 'need', 'services', 'physician', 'doctor', 'answered', 'balloonist', 'lots', 'tight', 'places', 'worst', 'squeeze', 'put', 'ashore', 'guess', 'manage', 'wet', 'objected', 'tom', 'go', 'need', 'clothes', 'man', 'wore', 'suit', 'tights', 'spangles', 'oh', 'used', 'went', 'performer', 'frequently', 'fall', 'water', 'always', 'carry', 'little', 'money', 'get', 'back', 'place', 'started', 'way', 'i', 'opposite', 'daleton', 'answered', 'tom', 'go', 'from', 'pratonia', 'big', 'fair', 'one', 'features', 'fifteen', 'miles', 'away', 'commented', 'mr', 'swift', 'hardly', 'get', 'back', 'night', 'must', 'go', 'there', 'left', 'clothes', 'also', 'valuable', 'gas', 'balloon', 'hot', 'air', 'ones', 'guess', 'would', 'better', 'go', 'back', 'aeronaut', 'continued', 'speak', 'quick', 'jerky', 'sentences', 'would', 'glad', 'come', 'us', 'mr', 'sharp', 'went', 'inventor', 'far', 'shopton', 'would', 'like', 'remain', 'night', 'sure', 'would', 'make', 'comfortable', 'proceed', 'pratonia', 'morning', 'thanks', 'might', 'bad', 'idea', 'said', 'mr', 'sharp', 'obliged', 'got', 'go', 'collect', 'money', 'though', 'suppose', 'wo', 'give', 'not', 'demanded', 'ned', 'drop', 'parachute', 'could', 'fire', 'one', 'reason', 'could', 'reach', 'parachute', 'could', 'guess', 'would', 'safe', 'parachute', 'probably', 'burned', 'done', 'hot', 'air', 'balloons', 'though', 'guess', 'said', 'boys', 'much', 'interested', 'somewhat', 'odd', 'performer', 'part', 'seemed', 'take', 'quite', 'notion', 'tom', 'told', 'several', 'things', 'invented', 'well', 'remarked', 'mr', 'swift', 'boat', 'moving', 'slowly', 'lake', 'go', 'ashore', 'doctor', 'mr', 'sharp', 'suppose', 'put', 'speed', 'get', 'home', 'anxious', 'robbery', 'occurred', 'related', 'facts', 'case', 'speed', 'exclaimed', 'mr', 'sharp', 'wish', 'could', 'help', 'catch', 'scoundrels', 'afraid', 'cannot', 'hands', 'sore', 'looked', 'burns', 'told', 'made', 'ascension', 'pratonia', 'fair', 'grounds', 'high', 'air', 'discovered', 'balloon', 'fire', 'described', 'sensations', 'told', 'thought', 'time', 'surely', 'come', 'sparks', 'hot', 'air', 'used', 'inflate', 'probably', 'caused', 'blaze', 'said', 'made', 'number', 'trips', 'concluded', 'hot', 'air', 'gas', 'bags', 'worst', 'ever', 'got', 'nerves', 'minutes', 'added', 'coolly', 'think', 'would', 'agreed', 'tom', 'speeded', 'motor', 'sent', 'arrow', 'homeward', 'way', 'boys', 'mr', 'swift', 'much', 'interested', 'experiences', 'balloonist', 'asked', 'many', 'questions', 'answered', 'modestly', 'several', 'hours', 'passed', 'late', 'afternoon', 'party', 'approached', 'shopton', 'exclaimed', 'mr', 'swift', 'relief', 'tones', 'see', 'robbed', 'get', 'police', 'scoundrels', 'boat', 'nearing', 'dock', 'mr', 'sharp', 'silent', 'time', 'suddenly', 'turned', 'tom', 'asked', 'ever', 'invent', 'airship', 'replied', 'lad', 'somewhat', 'surprised', 'never', 'went', 'balloonist', 'invented', 'part', 'stuck', 'details', 'maybe', 'finish', 'day', 'it', 'maybe', 'assented', 'tom', 'occupied', 'making', 'good', 'landing', 'interested', 'airships', 'never', 'thought', 'could', 'build', 'one', 'easiest', 'thing', 'world', 'went', 'mr', 'sharp', 'everyday', 'matter', 'get', 'busy', 'soon', 'clear', 'robbery', 'talked', 'though', 'friend', 'family', 'time', 'genial', 'taking', 'manner', 'little', 'later', 'mr', 'swift', 'excitedly', 'questioning', 'garret', 'jackson', 'concerning', 'robbery', 'making', 'examination', 'electrical', 'shop', 'discover', 'missing', 'taken', 'parts', 'gyroscope', 'exclaimed', 'valuable', 'tools', 'papers', 'well', 'unfinished', 'work', 'difficult', 'replace', 'much', 'loss', 'asked', 'mr', 'sharp', 'business', 'like', 'air', 'well', 'large', 'regards', 'money', 'answered', 'inventor', 'took', 'things', 'never', 'replace', 'miss', 'much', 'cannot', 'get', 'back', 'get', 'back', 'snapped', 'balloonist', 'police', 'called', 'telephone', 'facts', 'given', 'well', 'description', 'stolen', 'things', 'promised', 'could', 'light', 'past', 'experiences', 'tom', 'father', 'think', 'would', 'much', 'little', 'could', 'done', 'evening', 'ned', 'newton', 'went', 'home', 'mr', 'swift', 'insisted', 'calling', 'physician', 'look', 'mr', 'sharps', 'burns', 'balloonist', 'given', 'room', 'next', 'toms', 'swift', 'household', 'settled', 'well', 'remarked', 'tom', 'father', 'got', 'ready', 'bed', 'sure', 'exciting', 'day', 'loss', 'serious', 'one', 'added', 'inventor', 'somewhat', 'sadly', 'worry', 'dad', 'begged', 'son', 'best', 'recover', 'things', 'several', 'days', 'passed', 'clew', 'thieves', 'ones', 'stolen', 'turbine', 'model', 'little', 'doubt', 'seemed', 'covered', 'tracks', 'well', 'police', 'loss', 'though', 'tom', 'mr', 'sharp', 'cruised', 'lake', 'could', 'get', 'trace', 'men', 'balloonist', 'sent', 'pratonia', 'clothing', 'baggage', 'installed', 'swift', 'home', 'invited', 'stay', 'week', 'two', 'one', 'night', 'looking', 'papers', 'taken', 'trunk', 'balloonist', 'came', 'tom', 'making', 'drawing', 'new', 'machine', 'planning', 'said', 'like', 'see', 'idea', 'airship', 'different', 'dirigible', 'balloon', 'aeroplane', 'front', 'rear', 'steer', 'balance', 'big', 'winds', 'would', 'winner', 'one', 'thing', 'maybe', 'help', 'maybe', 'agreed', 'tom', 'interested', 'ought', 'able', 'something', 'look', 'names', 'swift', 'sharp', 'quick', 'penetrating', 'good', 'firm', 'build', 'airships', 'laughed', 'genially', 'shall', 'it', 'willing', 'agreed', 'tom', 'balloonist', 'spread', 'plans', 'table', 'young', 'inventor', 'soon', 'deep', 'discussion', 'chapter', 'xxiv', 'mystery', 'solved', 'several', 'days', 'young', 'inventor', 'new', 'friend', 'lived', 'atmosphere', 'airships', 'talked', 'morning', 'night', 'even', 'mr', 'swift', 'much', 'exercised', 'loss', 'took', 'part', 'discussions', 'meanwhile', 'efforts', 'ceased', 'locate', 'robbers', 'recover', 'stolen', 'goods', 'far', 'without', 'success', 'one', 'afternoon', 'two', 'weeks', 'thrilling', 'rescue', 'john', 'sharp', 'tom', 'said', 'balloonist', 'would', 'like', 'come', 'ride', 'motor', 'boat', 'maybe', 'help', 'us', 'solve', 'puzzle', 'airship', 'take', 'trip', 'across', 'opposite', 'shore', 'good', 'idea', 'commented', 'mr', 'sharp', 'fine', 'day', 'sail', 'come', 'blow', 'cobwebs', 'brains', 'mr', 'swift', 'declined', 'invitation', 'accompany', 'said', 'would', 'stay', 'home', 'try', 'straighten', 'affairs', 'somewhat', 'muddled', 'robbery', 'blue', 'waters', 'lake', 'carlopa', 'shot', 'arrow', 'making', 'moderate', 'speed', 'tom', 'hurry', 'knew', 'engine', 'would', 'last', 'longer', 'forced', 'frequently', 'glided', 'along', 'crossed', 'lake', 'proceeding', 'opposite', 'shore', 'turned', 'little', 'bay', 'rounded', 'point', 'land', 'mr', 'sharp', 'exclaimed', 'look', 'tom', 'theres', 'rowboat', 'ahead', 'oh', 'pass', 'well', 'one', 'side', 'answered', 'young', 'inventor', 'looking', 'craft', 'noting', 'four', 'men', 'one', 'occupants', 'caught', 'glimpse', 'arrow', 'sooner', 'done', 'spoke', 'companions', 'turned', 'stare', 'tom', 'first', 'lad', 'could', 'scarcely', 'believe', 'eyes', 'looked', 'intently', 'uttered', 'cry', 'who', 'inquired', 'mr', 'sharp', 'men', 'thieves', 'must', 'catch', 'tom', 'spoken', 'loudly', 'even', 'though', 'men', 'rowboat', 'hear', 'said', 'would', 'realized', 'without', 'pursued', 'mistaking', 'attitude', 'hero', 'two', 'thieves', 'oars', 'one', 'accord', 'increased', 'speed', 'boat', 'swung', 'sharply', 'headed', 'shore', 'seemed', 'come', 'short', 'time', 'previous', 'craft', 'far', 'lake', 'cried', 'tom', 'see', 'game', 'want', 'get', 'woods', 'better', 'chance', 'escape', 'great', 'luck', 'coming', 'upon', 'way', 'work', 'moment', 'speed', 'engine', 'head', 'arrow', 'rowboat', 'men', 'pulling', 'frantically', 'chance', 'get', 'shore', 'cried', 'mr', 'sharp', 'head', 'good', 'advice', 'tom', 'followed', 'men', 'among', 'lad', 'could', 'recognize', 'happy', 'harry', 'anson', 'morse', 'excited', 'two', 'stood', 'though', 'jump', 'overboard', 'companions', 'called', 'stop', 'gun', 'shoot', 'intimidate', 'murmured', 'balloonist', 'maybe', 'would', 'stop', 'heres', 'one', 'answered', 'tom', 'pointing', 'seat', 'locker', 'kept', 'shotgun', 'mr', 'duncan', 'given', 'moment', 'mr', 'sharp', 'surrender', 'cried', 'pointing', 'weapon', 'men', 'small', 'boat', 'shoot', 'fire', 'us', 'give', 'cried', 'happy', 'harry', 'two', 'oars', 'ceased', 'pulling', 'take', 'chances', 'urged', 'mr', 'sharp', 'low', 'voice', 'keep', 'shore', 'cover', 'tom', 'steering', 'auxiliary', 'side', 'wheel', 'near', 'motor', 'soon', 'arrow', 'cut', 'retreat', 'men', 'could', 'land', 'row', 'across', 'lake', 'meant', 'speedy', 'capture', 'well', 'want', 'us', 'growled', 'morse', 'right', 'got', 'interfere', 'us', 'fashion', 'best', 'right', 'answered', 'tom', 'find', 'landed', 'jail', 'cannot', 'arrest', 'us', 'sneered', 'happy', 'harry', 'officer', 'warrant', 'tom', 'thought', 'chagrin', 'showed', 'face', 'happy', 'harry', 'quick', 'see', 'would', 'better', 'let', 'us', 'go', 'threatened', 'arrested', 'bothering', 'us', 'right', 'stop', 'us', 'tom', 'swift', 'maybe', 'exclaimed', 'john', 'sharp', 'suddenly', 'you', 'demanded', 'featherton', 'alias', 'simpson', 'man', 'run', 'automobile', 'carried', 'tom', 'away', 'special', 'deputy', 'sheriff', 'county', 'answered', 'balloonist', 'simply', 'heres', 'badge', 'throwing', 'back', 'coat', 'displayed', 'see', 'got', 'appointment', 'order', 'authority', 'crowds', 'gather', 'watch', 'go', 'explained', 'tom', 'plainly', 'showed', 'astonishment', 'found', 'useful', 'able', 'threaten', 'arrest', 'case', 'threaten', 'prisoners', 'went', 'men', 'boat', 'handled', 'shotgun', 'knew', 'use', 'take', 'custody', 'complaint', 'mr', 'swift', 'robbery', 'go', 'quietly', 'going', 'make', 'fuss', 'mr', 'sharp', 'shut', 'jaw', 'grimly', 'well', 'seeing', 'drop', 'us', 'guess', 'say', 'admitted', 'happy', 'harry', 'alias', 'jim', 'burke', 'cannot', 'prove', 'anything', 'us', 'mr', 'swifts', 'property', 'well', 'know', 'retorted', 'tom', 'quickly', 'restraining', 'influence', 'gun', 'men', 'made', 'resistance', 'mr', 'sharp', 'covered', 'tom', 'towed', 'boat', 'toward', 'shore', 'young', 'inventor', 'held', 'gun', 'balloonist', 'tied', 'hands', 'feet', 'thieves', 'scientific', 'manner', 'know', 'ropes', 'knots', 'worth', 'putting', 'book', 'guess', 'stay', 'quiet', 'remarked', 'mr', 'sharp', 'surveyed', 'crestfallen', 'criminals', 'remain', 'guard', 'tom', 'go', 'notify', 'nearest', 'constable', 'take', 'jail', 'bagged', 'whole', 'lot', 'neatly', 'could', 'desired', 'get', 'us', 'exclaimed', 'happy', 'harry', 'savage', 'anger', 'tones', 'keep', 'quiet', 'urged', 'morse', 'keep', 'quiet', 'shame', 'take', 'medicine', 'trimmer', 'tod', 'boreck', 'goes', 'free', 'ought', 'us', 'would', 'hes', 'trying', 'get', 'away', 'sparkler', 'keep', 'quiet', 'urged', 'morse', 'tom', 'attention', 'caught', 'word', 'sparkler', 'associated', 'occasion', 'heard', 'men', 'use', 'felt', 'track', 'solving', 'mystery', 'connected', 'boat', 'looked', 'men', 'four', 'involved', 'former', 'theft', 'appleson', 'featherton', 'morse', 'burke', 'five', 'them', 'recalled', 'man', 'caught', 'tampering', 'boat', 'man', 'tried', 'bid', 'arrow', 'auction', 'he', 'boreck', 'get', 'resumed', 'happy', 'harry', 'going', 'spoil', 'game', 'say', 'kid', 'went', 'tom', 'look', 'front', 'part', 'boat', 'gasoline', 'tank', 'tom', 'felt', 'heart', 'beating', 'fast', 'last', 'felt', 'would', 'solve', 'puzzle', 'opened', 'forward', 'compartment', 'disappointment', 'seemed', 'usual', 'morse', 'others', 'making', 'vain', 'effort', 'silence', 'happy', 'harry', 'see', 'anything', 'said', 'tom', 'hidden', 'one', 'blocks', 'wood', 'use', 'brace', 'continued', 'man', 'one', 'boreck', 'know', 'pulled', 'two', 'three', 'fooled', 'time', 'must', 'shifted', 'kid', 'way', 'boat', 'answered', 'young', 'inventor', 'recollecting', 'taken', 'braces', 'inserted', 'new', 'ones', 'painted', 'interior', 'compartment', 'braces', 'anyhow', 'sparkler', 'big', 'diamond', 'hollow', 'place', 'wood', 'kid', 'exclaimed', 'happy', 'harry', 'blurting', 'words', 'going', 'let', 'tod', 'boreck', 'get', 'away', 'stay', 'jail', 'take', 'braces', 'moved', 'look', 'suggested', 'mr', 'sharp', 'tom', 'remove', 'two', 'farthest', 'back', 'others', 'one', 'time', 'another', 'changed', 'taken', 'away', 'thief', 'one', 'blocks', 'seem', 'anything', 'unusual', 'sight', 'tom', 'could', 'repress', 'cry', 'one', 'seemed', 'hole', 'bored', 'plugged', 'remembered', 'father', 'noticing', 'occasion', 'overhauling', 'boat', 'sparklers', 'said', 'tramp', 'saw', 'brace', 'boreck', 'several', 'times', 'never', 'pulled', 'right', 'one', 'knife', 'tom', 'dug', 'putty', 'covered', 'round', 'hole', 'block', 'sooner', 'done', 'rolled', 'hand', 'white', 'object', 'something', 'done', 'tissue', 'paper', 'removed', 'wrapper', 'flash', 'sunlight', 'large', 'beautiful', 'diamond', 'revealed', 'mystery', 'solved', 'chapter', 'xxv', 'winning', 'race', 'diamond', 'come', 'from', 'demanded', 'mr', 'sharp', 'quartette', 'criminals', 'thats', 'us', 'know', 'find', 'sneered', 'happy', 'harry', 'care', 'long', 'trimmer', 'boreck', 'get', 'tried', 'us', 'share', 'well', 'guess', 'police', 'make', 'tell', 'went', 'balloonist', 'go', 'constable', 'tom', 'leaving', 'friend', 'guard', 'ugly', 'men', 'time', 'least', 'beyond', 'possibility', 'harm', 'tom', 'hurried', 'woods', 'nearest', 'village', 'found', 'officer', 'gang', 'soon', 'lodged', 'jail', 'diamond', 'turned', 'authorities', 'said', 'would', 'soon', 'locate', 'owner', 'long', 'appeared', 'gem', 'part', 'large', 'jewel', 'robbery', 'taken', 'place', 'time', 'distant', 'city', 'happy', 'harry', 'gang', 'men', 'came', 'called', 'implicated', 'though', 'got', 'small', 'share', 'plunder', 'search', 'made', 'tod', 'boreck', 'captured', 'week', 'companions', 'seeing', 'game', 'men', 'made', 'partial', 'confession', 'telling', 'mr', 'swifts', 'goods', 'secreted', 'inventors', 'valuable', 'tools', 'papers', 'machinery', 'recovered', 'damage', 'done', 'developed', 'diamond', 'theft', 'gang', 'still', 'possession', 'mr', 'hastings', 'boat', 'boreck', 'sometimes', 'called', 'murdock', 'cronies', 'unknown', 'secreted', 'jewel', 'one', 'braces', 'gasoline', 'tank', 'expected', 'get', 'secretly', 'capture', 'gang', 'sale', 'boat', 'prevented', 'tried', 'buy', 'craft', 'take', 'diamond', 'tom', 'overbid', 'boreck', 'found', 'andys', 'bunch', 'keys', 'used', 'one', 'open', 'compartment', 'lock', 'tom', 'surprised', 'man', 'manage', 'remove', 'blocks', 'thinking', 'one', 'diamond', 'fact', 'tom', 'changing', 'painting', 'compartment', 'deceived', 'gang', 'hoped', 'get', 'valuables', 'mr', 'swifts', 'shops', 'certain', 'extent', 'succeeded', 'hanging', 'around', 'several', 'nights', 'following', 'sandport', 'tom', 'eventually', 'proved', 'much', 'even', 'stealing', 'arrow', 'taken', 'aid', 'gang', 'robbing', 'mr', 'swift', 'succeed', 'borecks', 'plan', 'get', 'possession', 'diamond', 'fell', 'thought', 'gang', 'would', 'get', 'long', 'terms', 'prison', 'one', 'night', 'violent', 'storm', 'escaped', 'local', 'jail', 'last', 'seen', 'time', 'days', 'capture', 'tom', 'boathouse', 'making', 'minor', 'repairs', 'motor', 'heard', 'voice', 'calling', 'mistah', 'swift', 'yo', 'about', 'hello', 'rad', 'you', 'inquired', 'recognizing', 'voice', 'colored', 'owner', 'mule', 'boomerang', 'yais', 'sa', 'dats', 'got', 'lettah', 'fo', 'yo', 'passin', 'de', 'post', 'office', 'de', 'clerk', 'asted', 'brung', 'yo', 'case', 'marked', 'hurry', 'said', 'seen', 'yo', 'day', 'thats', 'right', 'busy', 'time', 'go', 'mail', 'tom', 'took', 'letter', 'giving', 'eradicate', 'ten', 'cents', 'trouble', 'ha', 'thats', 'good', 'exclaimed', 'tom', 'read', 'hab', 'one', 'done', 'gone', 'left', 'yo', 'fortune', 'mistah', 'swift', 'asked', 'negro', 'almost', 'good', 'invitation', 'take', 'part', 'motor', 'boat', 'races', 'next', 'week', 'would', 'forgotten', 'must', 'get', 'ready', 'good', 'land', 'dats', 'de', 'risin', 'generation', 'tinks', 'observed', 'eradicate', 'racin', 'goin', 'fast', 'mah', 'ole', 'mule', 'boomerang', 'good', 'enough', 'fo', 'shaking', 'head', 'woeful', 'manner', 'eradicate', 'went', 'way', 'tom', 'told', 'mr', 'sharp', 'father', 'proposed', 'races', 'lanton', 'motor', 'boat', 'club', 'required', 'two', 'persons', 'craft', 'size', 'arrow', 'young', 'inventor', 'arranged', 'balloonist', 'accompany', 'hero', 'spent', 'next', 'days', 'tuning', 'motor', 'getting', 'arrow', 'ready', 'contest', 'races', 'took', 'place', 'side', 'lake', 'carlopa', 'near', 'mr', 'hastings', 'lived', 'one', 'officials', 'club', 'several', 'classes', 'graded', 'according', 'horsepower', 'motors', 'tom', 'found', 'class', 'andy', 'foger', 'heres', 'beat', 'boasted', 'red', 'haired', 'youth', 'exultantly', 'though', 'manner', 'toward', 'tom', 'temperate', 'usual', 'andy', 'learned', 'lesson', 'well', 'beat', 'give', 'credit', 'answered', 'tom', 'first', 'race', 'high', 'powered', 'craft', 'mr', 'hastings', 'new', 'carlopa', 'came', 'trial', 'small', 'boats', 'tom', 'pleased', 'note', 'miss', 'nestor', 'hand', 'tiny', 'dot', 'good', 'luck', 'called', 'adjusting', 'timer', 'turn', 'would', 'come', 'soon', 'remember', 'told', 'spark', 'given', 'lessons', 'win', 'due', 'called', 'brightly', 'win', 'coming', 'ahead', 'several', 'confident', 'lads', 'better', 'boats', 'miss', 'nestor', 'handled', 'dot', 'perfection', 'crossed', 'line', 'boats', 'length', 'ahead', 'nearest', 'competitor', 'fine', 'cried', 'tom', 'came', 'warning', 'gun', 'told', 'get', 'ready', 'trial', 'five', 'mile', 'race', 'several', 'entrants', 'affair', 'handicap', 'one', 'tom', 'reason', 'complain', 'rating', 'allowed', 'crack', 'went', 'starting', 'pistol', 'away', 'went', 'tom', 'one', 'two', 'others', 'allowance', 'little', 'later', 'others', 'started', 'finally', 'last', 'class', 'including', 'andy', 'foger', 'red', 'streak', 'shot', 'ahead', 'soon', 'lead', 'andy', 'sam', 'learned', 'better', 'handle', 'craft', 'tom', 'mr', 'sharp', 'worried', 'stuck', 'grimly', 'race', 'turning', 'stake', 'reached', 'toms', 'motor', 'warmed', 'running', 'well', 'crept', 'andy', 'mile', 'final', 'mark', 'andy', 'tom', 'even', 'terms', 'though', 'red', 'haired', 'lad', 'tried', 'shake', 'rival', 'could', 'andys', 'ignition', 'system', 'failed', 'several', 'times', 'changed', 'batteries', 'magneto', 'back', 'hope', 'getting', 'little', 'speed', 'motor', 'half', 'mile', 'away', 'finish', 'tom', 'fallen', 'behind', 'little', 'crept', 'even', 'terms', 'slowly', 'forged', 'ahead', 'hundred', 'rods', 'stake', 'young', 'inventor', 'knew', 'race', 'clinched', 'minutes', 'later', 'crossing', 'line', 'amid', 'burst', 'cheers', 'arrow', 'beaten', 'several', 'boats', 'class', 'tom', 'proud', 'happy', 'certainly', 'scoot', 'along', 'cried', 'mr', 'sharp', 'thats', 'nothing', 'go', 'build', 'airship', 'eh', 'tom', 'looked', 'flushed', 'face', 'lad', 'indeed', 'agreed', 'young', 'inventor', 'know', 'take', 'part', 'races', 'build', 'however', 'soon', 'solve', 'one', 'difficulty', 'solve', 'told', 'next', 'book', 'series', 'called', 'tom', 'swift', 'airship', 'stirring', 'cruise', 'red', 'cloud', 'remarkable', 'adventures', 'wonderful', 'craft', 'solved', 'mystery', 'great', 'bank', 'robbery', 'ended', 'contests', 'motor', 'boats', 'little', 'fleet', 'crowded', 'floats', 'docks', 'prizes', 'awarded', 'tom', 'received', 'handsome', 'silver', 'cup', 'miss', 'nestor', 'gold', 'bracelet', 'want', 'contestants', 'winners', 'losers', 'come', 'house', 'lunch', 'invited', 'mr', 'hastings', 'tom', 'balloonist', 'strolled', 'walk', 'handsome', 'house', 'andy', 'foger', 'passed', 'would', 'beaten', 'spark', 'coil', 'gone', 'back', 'said', 'somewhat', 'sneeringly', 'maybe', 'admitted', 'tom', 'caught', 'sight', 'mary', 'nestor', 'may', 'take', 'lunch', 'asked', 'yes', 'said', 'helped', 'win', 'blushed', 'prettily', 'sat', 'tables', 'set', 'lawn', 'tom', 'looked', 'often', 'mary', 'nestor', 'mr', 'sharp', 'said', 'afterward', 'wonder', 'found', 'time', 'eat', 'tom', 'care', 'happy', 'end', 'project', 'gutenberg', 'etext', 'tom', 'swift', 'motor', 'boat'], tags=['SENT_0'])]"
      ]
     },
     "execution_count": 132,
     "metadata": {},
     "output_type": "execute_result"
    }
   ],
   "source": [
    "sen[:1]"
   ]
  },
  {
   "cell_type": "code",
   "execution_count": 124,
   "metadata": {},
   "outputs": [
    {
     "name": "stderr",
     "output_type": "stream",
     "text": [
      "C:\\Users\\vuong.huynh\\Anaconda3\\lib\\site-packages\\gensim\\models\\doc2vec.py:535: UserWarning: The parameter `size` is deprecated, will be removed in 4.0.0, use `vector_size` instead.\n",
      "  warnings.warn(\"The parameter `size` is deprecated, will be removed in 4.0.0, use `vector_size` instead.\")\n"
     ]
    }
   ],
   "source": [
    "modelD2V = Doc2Vec(size=300, window=10, min_count=5, workers=11,alpha=0.025, min_alpha=0.025) # use fixed learning rate) \n",
    "modelD2V.build_vocab(sen)\n",
    "modelD2V.train(sen, total_examples= 500, epochs=10)"
   ]
  },
  {
   "cell_type": "code",
   "execution_count": 137,
   "metadata": {},
   "outputs": [],
   "source": [
    "def vectorize_comments(df,d2v_model):\n",
    "    y = []\n",
    "    comments = []\n",
    "    for i in range(0,df.shape[0]):\n",
    "        label = 'SENT_%s' %i\n",
    "        comments.append(d2v_model.docvecs[label])\n",
    "    df['vectorized_comments'] = comments\n",
    "    \n",
    "    return df\n",
    "\n",
    "DataTrain = vectorize_comments(DataTrain,modelD2V)\n"
   ]
  },
  {
   "cell_type": "code",
   "execution_count": 138,
   "metadata": {},
   "outputs": [
    {
     "data": {
      "text/html": [
       "<div>\n",
       "<style scoped>\n",
       "    .dataframe tbody tr th:only-of-type {\n",
       "        vertical-align: middle;\n",
       "    }\n",
       "\n",
       "    .dataframe tbody tr th {\n",
       "        vertical-align: top;\n",
       "    }\n",
       "\n",
       "    .dataframe thead th {\n",
       "        text-align: right;\n",
       "    }\n",
       "</style>\n",
       "<table border=\"1\" class=\"dataframe\">\n",
       "  <thead>\n",
       "    <tr style=\"text-align: right;\">\n",
       "      <th></th>\n",
       "      <th>Unnamed: 0</th>\n",
       "      <th>TacGia</th>\n",
       "      <th>NoiDung</th>\n",
       "      <th>NoiDung1</th>\n",
       "      <th>NoiDungTokenize</th>\n",
       "      <th>vectorized_comments</th>\n",
       "    </tr>\n",
       "  </thead>\n",
       "  <tbody>\n",
       "    <tr>\n",
       "      <th>0</th>\n",
       "      <td>2</td>\n",
       "      <td>Victor Appleton</td>\n",
       "      <td>august  2000  [etext 2273]   the project gute...</td>\n",
       "      <td>\\r\\naugust, 2000  [etext 2273]\\r\\n\\r\\n\\r\\nthe ...</td>\n",
       "      <td>august 2000 [etext 2273] project gutenberg ete...</td>\n",
       "      <td>[-1.6032224, -1.7793933, -3.52059, 0.6259882, ...</td>\n",
       "    </tr>\n",
       "    <tr>\n",
       "      <th>1</th>\n",
       "      <td>351</td>\n",
       "      <td>Edgar Rice Burroughs</td>\n",
       "      <td>(8 in the tarzan tales by edgar rice burroughs...</td>\n",
       "      <td>(8 in the tarzan tales by edgar rice burroughs...</td>\n",
       "      <td>(8 tarzan tales edgar rice burroughs) copyrigh...</td>\n",
       "      <td>[1.5870595, 0.6775027, -1.6985799, 0.5388862, ...</td>\n",
       "    </tr>\n",
       "    <tr>\n",
       "      <th>2</th>\n",
       "      <td>364</td>\n",
       "      <td>Oscar Wilde</td>\n",
       "      <td>february  2000 [etext 2061]   project gutenbe...</td>\n",
       "      <td>\\r\\nfebruary, 2000 [etext 2061]\\r\\n\\r\\n\\r\\npro...</td>\n",
       "      <td>february 2000 [etext 2061] project gutenbergs ...</td>\n",
       "      <td>[1.5902445, -1.4849741, -1.1324769, 0.43836698...</td>\n",
       "    </tr>\n",
       "    <tr>\n",
       "      <th>3</th>\n",
       "      <td>497</td>\n",
       "      <td>E. Phillips Oppenheim</td>\n",
       "      <td>august  2001  [etext 2767] [date last updated...</td>\n",
       "      <td>\\r\\naugust, 2001  [etext 2767]\\r\\n[date last u...</td>\n",
       "      <td>august 2001 [etext 2767] [date last updated: f...</td>\n",
       "      <td>[-1.2384834, 3.0057123, 3.4141765, -1.490782, ...</td>\n",
       "    </tr>\n",
       "    <tr>\n",
       "      <th>4</th>\n",
       "      <td>523</td>\n",
       "      <td>Sir Walter Scott</td>\n",
       "      <td>april  2001  [etext 2590]   the project guten...</td>\n",
       "      <td>\\r\\napril, 2001  [etext 2590]\\r\\n\\r\\n\\r\\nthe p...</td>\n",
       "      <td>april 2001 [etext 2590] project gutenberg etex...</td>\n",
       "      <td>[-1.9728776, 1.2114428, -0.19501966, -0.951878...</td>\n",
       "    </tr>\n",
       "  </tbody>\n",
       "</table>\n",
       "</div>"
      ],
      "text/plain": [
       "   Unnamed: 0                 TacGia  \\\n",
       "0           2        Victor Appleton   \n",
       "1         351   Edgar Rice Burroughs   \n",
       "2         364            Oscar Wilde   \n",
       "3         497  E. Phillips Oppenheim   \n",
       "4         523       Sir Walter Scott   \n",
       "\n",
       "                                             NoiDung  \\\n",
       "0   august  2000  [etext 2273]   the project gute...   \n",
       "1  (8 in the tarzan tales by edgar rice burroughs...   \n",
       "2   february  2000 [etext 2061]   project gutenbe...   \n",
       "3   august  2001  [etext 2767] [date last updated...   \n",
       "4   april  2001  [etext 2590]   the project guten...   \n",
       "\n",
       "                                            NoiDung1  \\\n",
       "0  \\r\\naugust, 2000  [etext 2273]\\r\\n\\r\\n\\r\\nthe ...   \n",
       "1  (8 in the tarzan tales by edgar rice burroughs...   \n",
       "2  \\r\\nfebruary, 2000 [etext 2061]\\r\\n\\r\\n\\r\\npro...   \n",
       "3  \\r\\naugust, 2001  [etext 2767]\\r\\n[date last u...   \n",
       "4  \\r\\napril, 2001  [etext 2590]\\r\\n\\r\\n\\r\\nthe p...   \n",
       "\n",
       "                                     NoiDungTokenize  \\\n",
       "0  august 2000 [etext 2273] project gutenberg ete...   \n",
       "1  (8 tarzan tales edgar rice burroughs) copyrigh...   \n",
       "2  february 2000 [etext 2061] project gutenbergs ...   \n",
       "3  august 2001 [etext 2767] [date last updated: f...   \n",
       "4  april 2001 [etext 2590] project gutenberg etex...   \n",
       "\n",
       "                                 vectorized_comments  \n",
       "0  [-1.6032224, -1.7793933, -3.52059, 0.6259882, ...  \n",
       "1  [1.5870595, 0.6775027, -1.6985799, 0.5388862, ...  \n",
       "2  [1.5902445, -1.4849741, -1.1324769, 0.43836698...  \n",
       "3  [-1.2384834, 3.0057123, 3.4141765, -1.490782, ...  \n",
       "4  [-1.9728776, 1.2114428, -0.19501966, -0.951878...  "
      ]
     },
     "execution_count": 138,
     "metadata": {},
     "output_type": "execute_result"
    }
   ],
   "source": [
    "DataTrain.head()"
   ]
  },
  {
   "cell_type": "code",
   "execution_count": 142,
   "metadata": {},
   "outputs": [],
   "source": [
    "xD2V = DataTrain[\"vectorized_comments\"].T.tolist()\n",
    "yD2V = DataTrain['TacGia']"
   ]
  },
  {
   "cell_type": "code",
   "execution_count": 144,
   "metadata": {},
   "outputs": [],
   "source": [
    "xtrainDV, xtestDV, ytrainDV, ytestDV = train_test_split(xD2V, yD2V, test_size = 0.2,random_state=100)\n",
    "#xtrainDV.shape, ytrainDV.shape, xtestDV.shape, ytestDV.shape"
   ]
  },
  {
   "cell_type": "markdown",
   "metadata": {},
   "source": [
    "### a. Naive Baye"
   ]
  },
  {
   "cell_type": "code",
   "execution_count": 185,
   "metadata": {},
   "outputs": [],
   "source": [
    "from sklearn.preprocessing import MinMaxScaler\n",
    "scalerDV = MinMaxScaler()\n",
    "scalerDV.fit(xD2V)\n",
    "X_train_scalerDV = scalerDV.transform(xtrainDV)\n",
    "X_test_scalerDV = scalerDV.transform(xtestDV)"
   ]
  },
  {
   "cell_type": "code",
   "execution_count": 186,
   "metadata": {},
   "outputs": [
    {
     "name": "stdout",
     "output_type": "stream",
     "text": [
      "                       precision    recall  f1-score   support\n",
      "\n",
      "            Anonymous       1.00      0.67      0.80         3\n",
      "         David Widger       0.83      1.00      0.91         5\n",
      "E. Phillips Oppenheim       0.80      1.00      0.89         4\n",
      " Edgar Rice Burroughs       0.80      1.00      0.89         4\n",
      " Edward Bulwer Lytton       1.00      1.00      1.00         5\n",
      "    Huguette Bertrand       0.83      1.00      0.91         5\n",
      "        L. Frank Baum       1.00      1.00      1.00         4\n",
      "    Mrs. Humphry Ward       1.00      1.00      1.00         6\n",
      "          Oscar Wilde       0.67      1.00      0.80         2\n",
      "           Paul Heyse       1.00      1.00      1.00         5\n",
      "     Sir Walter Scott       0.71      1.00      0.83         5\n",
      "        Theodor Storm       1.00      1.00      1.00         4\n",
      "     Thomas H. Huxley       1.00      1.00      1.00         3\n",
      "       Upton Sinclair       1.00      0.71      0.83         7\n",
      "      Victor Appleton       0.67      1.00      0.80         2\n",
      "          Victor Hugo       1.00      0.55      0.71        11\n",
      " Walter Horatio Pater       1.00      1.00      1.00         1\n",
      "       Wilkie Collins       1.00      1.00      1.00         5\n",
      "\n",
      "          avg / total       0.93      0.90      0.90        81\n",
      "\n"
     ]
    }
   ],
   "source": [
    "from sklearn.naive_bayes import MultinomialNB\n",
    "MulNB_DV = MultinomialNB()\n",
    "MulNB_DV.fit(X_train_scalerDV,ytrainDV)\n",
    "PreMulNB_DV = MulNB_DV.predict(X_test_scalerDV)\n",
    "from sklearn.metrics import classification_report\n",
    "print(classification_report(ytestDV, prRanDom_DV))"
   ]
  },
  {
   "cell_type": "code",
   "execution_count": 155,
   "metadata": {},
   "outputs": [
    {
     "name": "stdout",
     "output_type": "stream",
     "text": [
      "                       precision    recall  f1-score   support\n",
      "\n",
      "            Anonymous       0.50      1.00      0.67         3\n",
      "         David Widger       0.83      1.00      0.91         5\n",
      "E. Phillips Oppenheim       1.00      1.00      1.00         4\n",
      " Edgar Rice Burroughs       1.00      1.00      1.00         4\n",
      " Edward Bulwer Lytton       1.00      1.00      1.00         5\n",
      "    Huguette Bertrand       1.00      1.00      1.00         5\n",
      "        L. Frank Baum       1.00      1.00      1.00         4\n",
      "    Mrs. Humphry Ward       1.00      1.00      1.00         6\n",
      "          Oscar Wilde       0.67      1.00      0.80         2\n",
      "           Paul Heyse       1.00      1.00      1.00         5\n",
      "     Sir Walter Scott       1.00      1.00      1.00         5\n",
      "        Theodor Storm       1.00      1.00      1.00         4\n",
      "     Thomas H. Huxley       1.00      0.67      0.80         3\n",
      "       Upton Sinclair       1.00      1.00      1.00         7\n",
      "      Victor Appleton       1.00      1.00      1.00         2\n",
      "          Victor Hugo       1.00      0.64      0.78        11\n",
      " Walter Horatio Pater       1.00      1.00      1.00         1\n",
      "       Wilkie Collins       1.00      1.00      1.00         5\n",
      "\n",
      "          avg / total       0.96      0.94      0.94        81\n",
      "\n"
     ]
    }
   ],
   "source": [
    "from sklearn.naive_bayes import GaussianNB\n",
    "gnb_DV = GaussianNB()\n",
    "pr_DV = gnb_DV.fit(xtrainDV,ytrainDV)\n",
    "pr_DV = gnb_DV.predict(xtestDV)\n",
    "print(classification_report(ytestDV, pr_DV))"
   ]
  },
  {
   "cell_type": "markdown",
   "metadata": {},
   "source": [
    "### b. Decision Tree "
   ]
  },
  {
   "cell_type": "code",
   "execution_count": 149,
   "metadata": {},
   "outputs": [
    {
     "name": "stdout",
     "output_type": "stream",
     "text": [
      "                       precision    recall  f1-score   support\n",
      "\n",
      "            Anonymous       1.00      0.67      0.80         3\n",
      "         David Widger       0.83      1.00      0.91         5\n",
      "E. Phillips Oppenheim       0.80      1.00      0.89         4\n",
      " Edgar Rice Burroughs       0.80      1.00      0.89         4\n",
      " Edward Bulwer Lytton       1.00      1.00      1.00         5\n",
      "    Huguette Bertrand       0.83      1.00      0.91         5\n",
      "        L. Frank Baum       1.00      1.00      1.00         4\n",
      "    Mrs. Humphry Ward       1.00      1.00      1.00         6\n",
      "          Oscar Wilde       0.67      1.00      0.80         2\n",
      "           Paul Heyse       1.00      1.00      1.00         5\n",
      "     Sir Walter Scott       0.71      1.00      0.83         5\n",
      "        Theodor Storm       1.00      1.00      1.00         4\n",
      "     Thomas H. Huxley       1.00      1.00      1.00         3\n",
      "       Upton Sinclair       1.00      0.71      0.83         7\n",
      "      Victor Appleton       0.67      1.00      0.80         2\n",
      "          Victor Hugo       1.00      0.55      0.71        11\n",
      " Walter Horatio Pater       1.00      1.00      1.00         1\n",
      "       Wilkie Collins       1.00      1.00      1.00         5\n",
      "\n",
      "          avg / total       0.93      0.90      0.90        81\n",
      "\n"
     ]
    }
   ],
   "source": [
    "from sklearn import tree\n",
    "clf_tree_DV= tree.DecisionTreeClassifier()\n",
    "clf_tree_DV.fit(xtrainDV,ytrainDV)\n",
    "Pre_tree_DV= clf_tree_DV.predict(xtestDV)\n",
    "from sklearn.metrics import classification_report\n",
    "print(classification_report(ytestDV, prRanDom_DV ))"
   ]
  },
  {
   "cell_type": "markdown",
   "metadata": {},
   "source": [
    "### c. Random Forest "
   ]
  },
  {
   "cell_type": "code",
   "execution_count": 145,
   "metadata": {},
   "outputs": [
    {
     "name": "stdout",
     "output_type": "stream",
     "text": [
      "                       precision    recall  f1-score   support\n",
      "\n",
      "            Anonymous       1.00      0.67      0.80         3\n",
      "         David Widger       0.83      1.00      0.91         5\n",
      "E. Phillips Oppenheim       0.80      1.00      0.89         4\n",
      " Edgar Rice Burroughs       0.80      1.00      0.89         4\n",
      " Edward Bulwer Lytton       1.00      1.00      1.00         5\n",
      "    Huguette Bertrand       0.83      1.00      0.91         5\n",
      "        L. Frank Baum       1.00      1.00      1.00         4\n",
      "    Mrs. Humphry Ward       1.00      1.00      1.00         6\n",
      "          Oscar Wilde       0.67      1.00      0.80         2\n",
      "           Paul Heyse       1.00      1.00      1.00         5\n",
      "     Sir Walter Scott       0.71      1.00      0.83         5\n",
      "        Theodor Storm       1.00      1.00      1.00         4\n",
      "     Thomas H. Huxley       1.00      1.00      1.00         3\n",
      "       Upton Sinclair       1.00      0.71      0.83         7\n",
      "      Victor Appleton       0.67      1.00      0.80         2\n",
      "          Victor Hugo       1.00      0.55      0.71        11\n",
      " Walter Horatio Pater       1.00      1.00      1.00         1\n",
      "       Wilkie Collins       1.00      1.00      1.00         5\n",
      "\n",
      "          avg / total       0.93      0.90      0.90        81\n",
      "\n"
     ]
    }
   ],
   "source": [
    "from sklearn.metrics import classification_report\n",
    "from sklearn.ensemble import RandomForestClassifier\n",
    "\n",
    "RanDom_modelDV = RandomForestClassifier(n_estimators=100, random_state=100)\n",
    "\n",
    "RanDom_modelDV.fit(xtrainDV,ytrainDV)\n",
    "prRanDom_DV = RanDom_modelDV.predict(xtestDV)\n",
    "print(classification_report(ytestDV, prRanDom_DV ))"
   ]
  },
  {
   "cell_type": "markdown",
   "metadata": {},
   "source": [
    "### d. Support Vector Machine "
   ]
  },
  {
   "cell_type": "code",
   "execution_count": 156,
   "metadata": {},
   "outputs": [
    {
     "name": "stdout",
     "output_type": "stream",
     "text": [
      "                       precision    recall  f1-score   support\n",
      "\n",
      "            Anonymous       1.00      0.67      0.80         3\n",
      "         David Widger       0.83      1.00      0.91         5\n",
      "E. Phillips Oppenheim       0.80      1.00      0.89         4\n",
      " Edgar Rice Burroughs       0.80      1.00      0.89         4\n",
      " Edward Bulwer Lytton       1.00      1.00      1.00         5\n",
      "    Huguette Bertrand       0.83      1.00      0.91         5\n",
      "        L. Frank Baum       1.00      1.00      1.00         4\n",
      "    Mrs. Humphry Ward       1.00      1.00      1.00         6\n",
      "          Oscar Wilde       0.67      1.00      0.80         2\n",
      "           Paul Heyse       1.00      1.00      1.00         5\n",
      "     Sir Walter Scott       0.71      1.00      0.83         5\n",
      "        Theodor Storm       1.00      1.00      1.00         4\n",
      "     Thomas H. Huxley       1.00      1.00      1.00         3\n",
      "       Upton Sinclair       1.00      0.71      0.83         7\n",
      "      Victor Appleton       0.67      1.00      0.80         2\n",
      "          Victor Hugo       1.00      0.55      0.71        11\n",
      " Walter Horatio Pater       1.00      1.00      1.00         1\n",
      "       Wilkie Collins       1.00      1.00      1.00         5\n",
      "\n",
      "          avg / total       0.93      0.90      0.90        81\n",
      "\n"
     ]
    }
   ],
   "source": [
    "from sklearn.svm import SVC\n",
    "clf_SVM_DV = SVC()\n",
    "clf_SVM_DV.fit(xtrainDV,ytrainDV)\n",
    "Pre_SVM_DV = clf_SVM_DV.predict(xtestDV)\n",
    "print(classification_report(ytestDV, prRanDom_DV ))"
   ]
  },
  {
   "cell_type": "markdown",
   "metadata": {},
   "source": [
    "### e. Convolution Neural Network "
   ]
  },
  {
   "cell_type": "code",
   "execution_count": 157,
   "metadata": {},
   "outputs": [],
   "source": [
    "from sklearn.preprocessing import LabelEncoder\n",
    "lblEncoder_DV=LabelEncoder()\n",
    "y_trainEncoder_DV = lblEncoder_DV.fit_transform(ytrainDV)\n",
    "y_testEncoder_DV=lblEncoder_DV.transform(ytestDV)\n",
    "from keras import utils as np_utils\n",
    "y_trainEC_DV = np_utils.to_categorical(y_trainEncoder_DV,18)\n",
    "y_testEC_DV = np_utils.to_categorical(y_testEncoder_DV,18)"
   ]
  },
  {
   "cell_type": "code",
   "execution_count": 167,
   "metadata": {},
   "outputs": [
    {
     "name": "stdout",
     "output_type": "stream",
     "text": [
      "_________________________________________________________________\n",
      "Layer (type)                 Output Shape              Param #   \n",
      "=================================================================\n",
      "dense_45 (Dense)             (None, 64)                19264     \n",
      "_________________________________________________________________\n",
      "dropout_28 (Dropout)         (None, 64)                0         \n",
      "_________________________________________________________________\n",
      "activation_10 (Activation)   (None, 64)                0         \n",
      "_________________________________________________________________\n",
      "dense_46 (Dense)             (None, 64)                4160      \n",
      "_________________________________________________________________\n",
      "dropout_29 (Dropout)         (None, 64)                0         \n",
      "_________________________________________________________________\n",
      "activation_11 (Activation)   (None, 64)                0         \n",
      "_________________________________________________________________\n",
      "dense_47 (Dense)             (None, 18)                1170      \n",
      "_________________________________________________________________\n",
      "activation_12 (Activation)   (None, 18)                0         \n",
      "=================================================================\n",
      "Total params: 24,594\n",
      "Trainable params: 24,594\n",
      "Non-trainable params: 0\n",
      "_________________________________________________________________\n"
     ]
    }
   ],
   "source": [
    "# build model\n",
    "from keras.models import Sequential\n",
    "from keras.layers import Dense, Dropout, Activation, Conv1D, GlobalMaxPooling1D\n",
    "from keras import metrics\n",
    "\n",
    "modelDV1 = Sequential()\n",
    "modelDV1.add(Dense(64,input_shape=(300,)))\n",
    "modelDV1.add(Dropout(0.2))\n",
    "modelDV1.add(Activation('relu'))\n",
    "modelDV1.add(Dense(64))\n",
    "modelDV1.add(Dropout(0.2))\n",
    "modelDV1.add(Activation('relu'))\n",
    "modelDV1.add(Dense(18))\n",
    "modelDV1.add(Activation('sigmoid'))\n",
    "modelDV1.summary()\n",
    "modelDV1.compile(loss='binary_crossentropy',optimizer='adam',metrics=['acc'])"
   ]
  },
  {
   "cell_type": "code",
   "execution_count": 168,
   "metadata": {},
   "outputs": [],
   "source": [
    "arTr = np.array(xtrainDV)"
   ]
  },
  {
   "cell_type": "code",
   "execution_count": 169,
   "metadata": {},
   "outputs": [],
   "source": [
    "arTe = np.array(xtestDV)"
   ]
  },
  {
   "cell_type": "code",
   "execution_count": 170,
   "metadata": {},
   "outputs": [
    {
     "name": "stdout",
     "output_type": "stream",
     "text": [
      "Train on 320 samples, validate on 81 samples\n",
      "Epoch 1/10\n",
      "320/320 [==============================] - 5s 15ms/step - loss: 0.6674 - acc: 0.6606 - val_loss: 0.4017 - val_acc: 0.8525\n",
      "Epoch 2/10\n",
      "320/320 [==============================] - 0s 240us/step - loss: 0.3729 - acc: 0.8536 - val_loss: 0.2499 - val_acc: 0.9287\n",
      "Epoch 3/10\n",
      "320/320 [==============================] - 0s 184us/step - loss: 0.2618 - acc: 0.9222 - val_loss: 0.2111 - val_acc: 0.9444\n",
      "Epoch 4/10\n",
      "320/320 [==============================] - 0s 209us/step - loss: 0.2306 - acc: 0.9377 - val_loss: 0.1932 - val_acc: 0.9451\n",
      "Epoch 5/10\n",
      "320/320 [==============================] - 0s 153us/step - loss: 0.2101 - acc: 0.9408 - val_loss: 0.1743 - val_acc: 0.9451\n",
      "Epoch 6/10\n",
      "320/320 [==============================] - 0s 143us/step - loss: 0.1806 - acc: 0.9458 - val_loss: 0.1568 - val_acc: 0.9472\n",
      "Epoch 7/10\n",
      "320/320 [==============================] - 0s 153us/step - loss: 0.1601 - acc: 0.9486 - val_loss: 0.1405 - val_acc: 0.9486\n",
      "Epoch 8/10\n",
      "320/320 [==============================] - 0s 150us/step - loss: 0.1457 - acc: 0.9500 - val_loss: 0.1258 - val_acc: 0.9520\n",
      "Epoch 9/10\n",
      "320/320 [==============================] - 0s 150us/step - loss: 0.1376 - acc: 0.9552 - val_loss: 0.1118 - val_acc: 0.9554\n",
      "Epoch 10/10\n",
      "320/320 [==============================] - 0s 171us/step - loss: 0.1226 - acc: 0.9601 - val_loss: 0.1003 - val_acc: 0.9616\n"
     ]
    },
    {
     "data": {
      "text/plain": [
       "<keras.callbacks.History at 0x106f631ecc0>"
      ]
     },
     "execution_count": 170,
     "metadata": {},
     "output_type": "execute_result"
    }
   ],
   "source": [
    "modelDV1.fit(arTr,y_trainEC_DV,batch_size=32,epochs=10,verbose=1,validation_data=(arTe, y_testEC_DV))"
   ]
  },
  {
   "cell_type": "code",
   "execution_count": 180,
   "metadata": {},
   "outputs": [
    {
     "name": "stdout",
     "output_type": "stream",
     "text": [
      "_________________________________________________________________\n",
      "Layer (type)                 Output Shape              Param #   \n",
      "=================================================================\n",
      "dense_64 (Dense)             (None, 512)               154112    \n",
      "_________________________________________________________________\n",
      "dropout_36 (Dropout)         (None, 512)               0         \n",
      "_________________________________________________________________\n",
      "dense_65 (Dense)             (None, 512)               262656    \n",
      "_________________________________________________________________\n",
      "dense_66 (Dense)             (None, 18)                9234      \n",
      "=================================================================\n",
      "Total params: 426,002\n",
      "Trainable params: 426,002\n",
      "Non-trainable params: 0\n",
      "_________________________________________________________________\n"
     ]
    }
   ],
   "source": [
    "from keras import metrics\n",
    "from keras.models import Sequential\n",
    "from keras.layers import Dense, Dropout, Activation, Conv1D, GlobalMaxPooling1D\n",
    "modelDV2 = Sequential()\n",
    "modelDV2.add(Dense(512, activation='relu', input_shape=(300,)))\n",
    "modelDV2.add(Dropout(0.2))\n",
    "modelDV2.add(Dense(512, activation='relu'))\n",
    "#modelWV2.add(Dropout(0.2))\n",
    "modelDV2.add(Dense(18, activation='sigmoid'))\n",
    "modelDV2.summary()\n",
    "modelDV2.compile(loss='binary_crossentropy', optimizer='adam',metrics=['acc',metrics.binary_accuracy])"
   ]
  },
  {
   "cell_type": "code",
   "execution_count": 181,
   "metadata": {},
   "outputs": [
    {
     "name": "stdout",
     "output_type": "stream",
     "text": [
      "Train on 320 samples, validate on 81 samples\n",
      "Epoch 1/10\n",
      "320/320 [==============================] - 1s 4ms/step - loss: 0.3605 - acc: 0.8818 - binary_accuracy: 0.8818 - val_loss: 0.2933 - val_acc: 0.9444 - val_binary_accuracy: 0.9444\n",
      "Epoch 2/10\n",
      "320/320 [==============================] - 0s 240us/step - loss: 0.2133 - acc: 0.9444 - binary_accuracy: 0.9444 - val_loss: 0.2511 - val_acc: 0.9431 - val_binary_accuracy: 0.9431\n",
      "Epoch 3/10\n",
      "320/320 [==============================] - 0s 178us/step - loss: 0.1659 - acc: 0.9464 - binary_accuracy: 0.9464 - val_loss: 0.2445 - val_acc: 0.9424 - val_binary_accuracy: 0.9424\n",
      "Epoch 4/10\n",
      "320/320 [==============================] - 0s 190us/step - loss: 0.1344 - acc: 0.9493 - binary_accuracy: 0.9493 - val_loss: 0.2666 - val_acc: 0.9369 - val_binary_accuracy: 0.9369\n",
      "Epoch 5/10\n",
      "320/320 [==============================] - 0s 156us/step - loss: 0.1108 - acc: 0.9561 - binary_accuracy: 0.9561 - val_loss: 0.2799 - val_acc: 0.9355 - val_binary_accuracy: 0.9355\n",
      "Epoch 6/10\n",
      "320/320 [==============================] - 0s 168us/step - loss: 0.0911 - acc: 0.9672 - binary_accuracy: 0.9672 - val_loss: 0.2970 - val_acc: 0.9321 - val_binary_accuracy: 0.9321\n",
      "Epoch 7/10\n",
      "320/320 [==============================] - 0s 209us/step - loss: 0.0789 - acc: 0.9696 - binary_accuracy: 0.9696 - val_loss: 0.3138 - val_acc: 0.9314 - val_binary_accuracy: 0.9314\n",
      "Epoch 8/10\n",
      "320/320 [==============================] - 0s 280us/step - loss: 0.0653 - acc: 0.9781 - binary_accuracy: 0.9781 - val_loss: 0.3381 - val_acc: 0.9300 - val_binary_accuracy: 0.9300\n",
      "Epoch 9/10\n",
      "320/320 [==============================] - 0s 243us/step - loss: 0.0594 - acc: 0.9797 - binary_accuracy: 0.9797 - val_loss: 0.3517 - val_acc: 0.9300 - val_binary_accuracy: 0.9300\n",
      "Epoch 10/10\n",
      "320/320 [==============================] - 0s 231us/step - loss: 0.0544 - acc: 0.9809 - binary_accuracy: 0.9809 - val_loss: 0.3683 - val_acc: 0.9280 - val_binary_accuracy: 0.9280\n"
     ]
    },
    {
     "data": {
      "text/plain": [
       "<keras.callbacks.History at 0x1070de840b8>"
      ]
     },
     "execution_count": 181,
     "metadata": {},
     "output_type": "execute_result"
    }
   ],
   "source": [
    "modelDV2.fit(arTr,y_trainEC_WV,batch_size=32,epochs=10,verbose=1,validation_data=(arTe, y_testEC_WV))"
   ]
  },
  {
   "cell_type": "code",
   "execution_count": 187,
   "metadata": {},
   "outputs": [
    {
     "name": "stdout",
     "output_type": "stream",
     "text": [
      "_________________________________________________________________\n",
      "Layer (type)                 Output Shape              Param #   \n",
      "=================================================================\n",
      "dense_70 (Dense)             (None, 512)               154112    \n",
      "_________________________________________________________________\n",
      "dropout_39 (Dropout)         (None, 512)               0         \n",
      "_________________________________________________________________\n",
      "dense_71 (Dense)             (None, 512)               262656    \n",
      "_________________________________________________________________\n",
      "dropout_40 (Dropout)         (None, 512)               0         \n",
      "_________________________________________________________________\n",
      "dense_72 (Dense)             (None, 18)                9234      \n",
      "=================================================================\n",
      "Total params: 426,002\n",
      "Trainable params: 426,002\n",
      "Non-trainable params: 0\n",
      "_________________________________________________________________\n"
     ]
    }
   ],
   "source": [
    "from keras import metrics\n",
    "modelDV4 = Sequential()\n",
    "modelDV4.add(Dense(512, activation='relu', input_shape=(300,)))\n",
    "modelDV4.add(Dropout(0.2))\n",
    "modelDV4.add(Dense(512, activation='relu'))\n",
    "modelDV4.add(Dropout(0.2))\n",
    "modelDV4.add(Dense(18, activation='sigmoid'))\n",
    "modelDV4.summary()\n",
    "modelDV4.compile(loss='binary_crossentropy', optimizer='adam',metrics=['acc',metrics.binary_accuracy])"
   ]
  },
  {
   "cell_type": "code",
   "execution_count": 188,
   "metadata": {},
   "outputs": [
    {
     "name": "stdout",
     "output_type": "stream",
     "text": [
      "Train on 320 samples, validate on 81 samples\n",
      "Epoch 1/10\n",
      "320/320 [==============================] - 1s 4ms/step - loss: 0.3542 - acc: 0.8752 - binary_accuracy: 0.8752 - val_loss: 0.2860 - val_acc: 0.9444 - val_binary_accuracy: 0.9444\n",
      "Epoch 2/10\n",
      "320/320 [==============================] - 0s 206us/step - loss: 0.2465 - acc: 0.9444 - binary_accuracy: 0.9444 - val_loss: 0.2280 - val_acc: 0.9444 - val_binary_accuracy: 0.9444\n",
      "Epoch 3/10\n",
      "320/320 [==============================] - 0s 181us/step - loss: 0.2204 - acc: 0.9444 - binary_accuracy: 0.9444 - val_loss: 0.2121 - val_acc: 0.9444 - val_binary_accuracy: 0.9444\n",
      "Epoch 4/10\n",
      "320/320 [==============================] - 0s 184us/step - loss: 0.2148 - acc: 0.9444 - binary_accuracy: 0.9444 - val_loss: 0.2081 - val_acc: 0.9444 - val_binary_accuracy: 0.9444\n",
      "Epoch 5/10\n",
      "320/320 [==============================] - 0s 171us/step - loss: 0.2067 - acc: 0.9444 - binary_accuracy: 0.9444 - val_loss: 0.2054 - val_acc: 0.9444 - val_binary_accuracy: 0.9444\n",
      "Epoch 6/10\n",
      "320/320 [==============================] - 0s 190us/step - loss: 0.1962 - acc: 0.9444 - binary_accuracy: 0.9444 - val_loss: 0.1907 - val_acc: 0.9444 - val_binary_accuracy: 0.9444\n",
      "Epoch 7/10\n",
      "320/320 [==============================] - 0s 184us/step - loss: 0.1905 - acc: 0.9444 - binary_accuracy: 0.9444 - val_loss: 0.1880 - val_acc: 0.9444 - val_binary_accuracy: 0.9444\n",
      "Epoch 8/10\n",
      "320/320 [==============================] - 0s 193us/step - loss: 0.1817 - acc: 0.9444 - binary_accuracy: 0.9444 - val_loss: 0.1738 - val_acc: 0.9444 - val_binary_accuracy: 0.9444\n",
      "Epoch 9/10\n",
      "320/320 [==============================] - 0s 168us/step - loss: 0.1679 - acc: 0.9457 - binary_accuracy: 0.9457 - val_loss: 0.1679 - val_acc: 0.9465 - val_binary_accuracy: 0.9465\n",
      "Epoch 10/10\n",
      "320/320 [==============================] - 0s 181us/step - loss: 0.1560 - acc: 0.9464 - binary_accuracy: 0.9464 - val_loss: 0.1526 - val_acc: 0.9458 - val_binary_accuracy: 0.9458\n"
     ]
    },
    {
     "data": {
      "text/plain": [
       "<keras.callbacks.History at 0x1070f88c748>"
      ]
     },
     "execution_count": 188,
     "metadata": {},
     "output_type": "execute_result"
    }
   ],
   "source": [
    "modelDV4.fit(X_train_scalerDV,y_trainEC_DV,batch_size=32,epochs=10,verbose=1,validation_data=(X_test_scalerDV, y_testEC_DV))"
   ]
  },
  {
   "cell_type": "markdown",
   "metadata": {},
   "source": [
    "# 4. Latent Dirichlet Allocation "
   ]
  },
  {
   "cell_type": "code",
   "execution_count": 94,
   "metadata": {},
   "outputs": [],
   "source": [
    "from sklearn.feature_extraction.text import TfidfVectorizer, CountVectorizer\n",
    "from sklearn.decomposition import LatentDirichletAllocation"
   ]
  },
  {
   "cell_type": "code",
   "execution_count": 95,
   "metadata": {},
   "outputs": [],
   "source": [
    "def display_topics(model, feature_names, no_top_words):\n",
    "    for topic_idx, topic in enumerate(model.components_):\n",
    "        print(\"Topic %d:\" % (topic_idx))\n",
    "        print(\" \".join([feature_names[i] for i in topic.argsort()[:-no_top_words - 1:-1]]))"
   ]
  },
  {
   "cell_type": "code",
   "execution_count": 96,
   "metadata": {},
   "outputs": [],
   "source": [
    "document = DataTrain['NoiDungTokenize']"
   ]
  },
  {
   "cell_type": "code",
   "execution_count": 97,
   "metadata": {},
   "outputs": [],
   "source": [
    "#LDA có thể sử dụng CountVectorizer cho LDA vì đây là mô hình xác suất\n",
    "tf_vectorizer = CountVectorizer(max_df=0.95, min_df=2, max_features=1000, stop_words='english')\n",
    "tf = tf_vectorizer.fit_transform(document)\n",
    "tf_feature_names = tf_vectorizer.get_feature_names()"
   ]
  },
  {
   "cell_type": "code",
   "execution_count": 98,
   "metadata": {},
   "outputs": [
    {
     "name": "stderr",
     "output_type": "stream",
     "text": [
      "C:\\Users\\vuong.huynh\\Anaconda3\\lib\\site-packages\\sklearn\\decomposition\\online_lda.py:294: DeprecationWarning: n_topics has been renamed to n_components in version 0.19 and will be removed in 0.21\n",
      "  DeprecationWarning)\n"
     ]
    }
   ],
   "source": [
    "# Run LDA\n",
    "lda = LatentDirichletAllocation(n_topics=10, max_iter=5, learning_method='online', learning_offset=50.,random_state=0).fit(tf)"
   ]
  },
  {
   "cell_type": "code",
   "execution_count": 99,
   "metadata": {},
   "outputs": [
    {
     "name": "stdout",
     "output_type": "stream",
     "text": [
      "Topic 0:\n",
      "said thou thee thy king man came god great shall\n",
      "Topic 1:\n",
      "la le et les il que qui des en ce\n",
      "Topic 2:\n",
      "mr etext la le et said tom il man les\n",
      "Topic 3:\n",
      "und die der ich sie er den zu das nicht\n",
      "Topic 4:\n",
      "life said man great old world men things little art\n",
      "Topic 5:\n",
      "la et le les que des qui vous du hugo\n",
      "Topic 6:\n",
      "tarzan man laura great little ape saw came girl eyes\n",
      "Topic 7:\n",
      "tom mr ned said man damon going swift asked young\n",
      "Topic 8:\n",
      "said little man mr come asked think eyes room looked\n",
      "Topic 9:\n",
      "said mr man lady little say room mrs house looked\n"
     ]
    }
   ],
   "source": [
    "no_top_words = 10\n",
    "display_topics(lda, tf_feature_names, no_top_words)"
   ]
  },
  {
   "cell_type": "markdown",
   "metadata": {},
   "source": [
    "# 5. Non-Negative Matrix Factorization"
   ]
  },
  {
   "cell_type": "code",
   "execution_count": 100,
   "metadata": {},
   "outputs": [],
   "source": [
    "from sklearn.decomposition import NMF"
   ]
  },
  {
   "cell_type": "code",
   "execution_count": 101,
   "metadata": {},
   "outputs": [],
   "source": [
    "def display_topics(model, feature_names, no_top_words):\n",
    "    for topic_idx, topic in enumerate(model.components_):\n",
    "        print(\"Topic %d:\" % (topic_idx))\n",
    "        print(\" \".join([feature_names[i] for i in topic.argsort()[:-no_top_words - 1:-1]]))"
   ]
  },
  {
   "cell_type": "code",
   "execution_count": 102,
   "metadata": {},
   "outputs": [],
   "source": [
    "document = DataTrain['NoiDungTokenize']"
   ]
  },
  {
   "cell_type": "code",
   "execution_count": 103,
   "metadata": {},
   "outputs": [],
   "source": [
    "# NMF su dung tf-idf\n",
    "tfidf_vectorizer = TfidfVectorizer(max_df=0.95, min_df=2, max_features=1000, stop_words='english')\n",
    "tfidf = tfidf_vectorizer.fit_transform(document)\n",
    "tfidf_feature_names = tfidf_vectorizer.get_feature_names()"
   ]
  },
  {
   "cell_type": "code",
   "execution_count": 104,
   "metadata": {},
   "outputs": [],
   "source": [
    "# Run NMF\n",
    "nmf = NMF(n_components=10, random_state=1, alpha=.1, l1_ratio=.5, init='nndsvd').fit(tfidf)"
   ]
  },
  {
   "cell_type": "code",
   "execution_count": 105,
   "metadata": {},
   "outputs": [
    {
     "name": "stdout",
     "output_type": "stream",
     "text": [
      "Topic 0:\n",
      "said man little come eyes looked room came asked think\n",
      "Topic 1:\n",
      "und der sie ich das zu die er nicht auf\n",
      "Topic 2:\n",
      "le la les dans des et sur en que du\n",
      "Topic 3:\n",
      "tom ned damon mr inventor swift cried going asked big\n",
      "Topic 4:\n",
      "life great world man old things art men little greek\n",
      "Topic 5:\n",
      "thou thy thee said king hath god lord till thine\n",
      "Topic 6:\n",
      "dorothy said magic king asked girl princess replied lion big\n",
      "Topic 7:\n",
      "etext etexts man great nature archive living foundation knowledge science\n",
      "Topic 8:\n",
      "tarzan ape man lion great saw girl tree village came\n",
      "Topic 9:\n",
      "mr mrs lord lady miss sir ebook dear say london\n"
     ]
    }
   ],
   "source": [
    "no_top_words = 10\n",
    "display_topics(nmf, tfidf_feature_names, no_top_words)"
   ]
  },
  {
   "cell_type": "code",
   "execution_count": null,
   "metadata": {},
   "outputs": [],
   "source": []
  }
 ],
 "metadata": {
  "kernelspec": {
   "display_name": "Python 3",
   "language": "python",
   "name": "python3"
  },
  "language_info": {
   "codemirror_mode": {
    "name": "ipython",
    "version": 3
   },
   "file_extension": ".py",
   "mimetype": "text/x-python",
   "name": "python",
   "nbconvert_exporter": "python",
   "pygments_lexer": "ipython3",
   "version": "3.6.4"
  }
 },
 "nbformat": 4,
 "nbformat_minor": 2
}
